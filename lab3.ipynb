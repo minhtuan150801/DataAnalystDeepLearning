{
  "nbformat": 4,
  "nbformat_minor": 0,
  "metadata": {
    "colab": {
      "name": "lab3.ipynb",
      "provenance": [],
      "include_colab_link": true
    },
    "kernelspec": {
      "name": "python3",
      "display_name": "Python 3"
    },
    "language_info": {
      "name": "python"
    }
  },
  "cells": [
    {
      "cell_type": "markdown",
      "metadata": {
        "id": "view-in-github",
        "colab_type": "text"
      },
      "source": [
        "<a href=\"https://colab.research.google.com/github/minhtuan150801/DataAnalystDeepLearning/blob/main/lab3.ipynb\" target=\"_parent\"><img src=\"https://colab.research.google.com/assets/colab-badge.svg\" alt=\"Open In Colab\"/></a>"
      ]
    },
    {
      "cell_type": "markdown",
      "metadata": {
        "id": "88Wa_X2RjtS9"
      },
      "source": [
        "**Vấn đề 1:**\n",
        "\n",
        "Tiến hành tải dữ liệu vào chương trình ứng dụng Python và giải quyết vấn đề ―Missing header in the csv file‖"
      ]
    },
    {
      "cell_type": "code",
      "metadata": {
        "id": "supaE862juTs"
      },
      "source": [
        "import pandas as pd"
      ],
      "execution_count": 49,
      "outputs": []
    },
    {
      "cell_type": "markdown",
      "metadata": {
        "id": "_MtXdt5Zj3BP"
      },
      "source": [
        "\n",
        "Hiển thị và quan sát dữ liệu patient_heart_rate"
      ]
    },
    {
      "cell_type": "code",
      "metadata": {
        "id": "8gUl3udXj4-9"
      },
      "source": [
        "patientheartrate = pd.read_csv('https://raw.githubusercontent.com/huynhhoc/DataAnalystDeepLearning/main/Data/patient_heart_rate.csv')"
      ],
      "execution_count": 50,
      "outputs": []
    },
    {
      "cell_type": "code",
      "metadata": {
        "colab": {
          "base_uri": "https://localhost:8080/",
          "height": 203
        },
        "id": "5AkcQ3hBj_Xk",
        "outputId": "7b6499f1-c127-4195-9b45-0328069c64c3"
      },
      "source": [
        "patientheartrate.head(5)"
      ],
      "execution_count": 51,
      "outputs": [
        {
          "output_type": "execute_result",
          "data": {
            "text/html": [
              "<div>\n",
              "<style scoped>\n",
              "    .dataframe tbody tr th:only-of-type {\n",
              "        vertical-align: middle;\n",
              "    }\n",
              "\n",
              "    .dataframe tbody tr th {\n",
              "        vertical-align: top;\n",
              "    }\n",
              "\n",
              "    .dataframe thead th {\n",
              "        text-align: right;\n",
              "    }\n",
              "</style>\n",
              "<table border=\"1\" class=\"dataframe\">\n",
              "  <thead>\n",
              "    <tr style=\"text-align: right;\">\n",
              "      <th></th>\n",
              "      <th>1</th>\n",
              "      <th>Mickéy Mousé</th>\n",
              "      <th>56</th>\n",
              "      <th>70kgs</th>\n",
              "      <th>72</th>\n",
              "      <th>69</th>\n",
              "      <th>71</th>\n",
              "      <th>-</th>\n",
              "      <th>-.1</th>\n",
              "      <th>-.2</th>\n",
              "    </tr>\n",
              "  </thead>\n",
              "  <tbody>\n",
              "    <tr>\n",
              "      <th>0</th>\n",
              "      <td>2.0</td>\n",
              "      <td>Donald Duck</td>\n",
              "      <td>34.0</td>\n",
              "      <td>154.89lbs</td>\n",
              "      <td>-</td>\n",
              "      <td>-</td>\n",
              "      <td>-</td>\n",
              "      <td>85</td>\n",
              "      <td>84</td>\n",
              "      <td>76</td>\n",
              "    </tr>\n",
              "    <tr>\n",
              "      <th>1</th>\n",
              "      <td>3.0</td>\n",
              "      <td>Mini Mouse</td>\n",
              "      <td>16.0</td>\n",
              "      <td>NaN</td>\n",
              "      <td>-</td>\n",
              "      <td>-</td>\n",
              "      <td>-</td>\n",
              "      <td>65</td>\n",
              "      <td>69</td>\n",
              "      <td>72</td>\n",
              "    </tr>\n",
              "    <tr>\n",
              "      <th>2</th>\n",
              "      <td>4.0</td>\n",
              "      <td>Scrooge McDuck</td>\n",
              "      <td>NaN</td>\n",
              "      <td>78kgs</td>\n",
              "      <td>78</td>\n",
              "      <td>79</td>\n",
              "      <td>72</td>\n",
              "      <td>-</td>\n",
              "      <td>-</td>\n",
              "      <td>-</td>\n",
              "    </tr>\n",
              "    <tr>\n",
              "      <th>3</th>\n",
              "      <td>5.0</td>\n",
              "      <td>Pink Panther</td>\n",
              "      <td>54.0</td>\n",
              "      <td>198.658lbs</td>\n",
              "      <td>-</td>\n",
              "      <td>-</td>\n",
              "      <td>-</td>\n",
              "      <td>69</td>\n",
              "      <td>NaN</td>\n",
              "      <td>75</td>\n",
              "    </tr>\n",
              "    <tr>\n",
              "      <th>4</th>\n",
              "      <td>6.0</td>\n",
              "      <td>Huey McDuck</td>\n",
              "      <td>52.0</td>\n",
              "      <td>189lbs</td>\n",
              "      <td>-</td>\n",
              "      <td>-</td>\n",
              "      <td>-</td>\n",
              "      <td>68</td>\n",
              "      <td>75</td>\n",
              "      <td>72</td>\n",
              "    </tr>\n",
              "  </tbody>\n",
              "</table>\n",
              "</div>"
            ],
            "text/plain": [
              "     1    Mickéy Mousé    56       70kgs  72  69  71   -  -.1 -.2\n",
              "0  2.0     Donald Duck  34.0   154.89lbs   -   -   -  85   84  76\n",
              "1  3.0      Mini Mouse  16.0         NaN   -   -   -  65   69  72\n",
              "2  4.0  Scrooge McDuck   NaN       78kgs  78  79  72   -    -   -\n",
              "3  5.0    Pink Panther  54.0  198.658lbs   -   -   -  69  NaN  75\n",
              "4  6.0     Huey McDuck  52.0      189lbs   -   -   -  68   75  72"
            ]
          },
          "metadata": {},
          "execution_count": 51
        }
      ]
    },
    {
      "cell_type": "markdown",
      "metadata": {
        "id": "YFpIxQ1ckDjd"
      },
      "source": [
        "patientheartrate thiếu phần headers, giả sử ta cần bổ sung headers vào cho dataframe patientheartrate, thông tin các cột như sau: column_names=[\"ID\", \"Name\", \"Age\", \"Weight\", \"m0006\", \"m0612\",\"m1218\", \"f006\", \"f0612\", \"f1218\"]"
      ]
    },
    {
      "cell_type": "code",
      "metadata": {
        "id": "4M967VcTkEht"
      },
      "source": [
        "column_names=[\"ID\", \"Name\", \"Age\", \"Weight\", \"m0006\", \"m0612\",\"m1218\", \"f006\", \"f0612\", \"f1218\"]\n",
        "patientheartrate = pd.read_csv('https://raw.githubusercontent.com/huynhhoc/DataAnalystDeepLearning/main/Data/patient_heart_rate.csv', names = column_names)"
      ],
      "execution_count": 52,
      "outputs": []
    },
    {
      "cell_type": "code",
      "metadata": {
        "colab": {
          "base_uri": "https://localhost:8080/",
          "height": 203
        },
        "id": "xgRK1ybLkI8M",
        "outputId": "b3105fd4-d7d3-476c-fe09-86e7746fd282"
      },
      "source": [
        "patientheartrate.head(5)"
      ],
      "execution_count": 53,
      "outputs": [
        {
          "output_type": "execute_result",
          "data": {
            "text/html": [
              "<div>\n",
              "<style scoped>\n",
              "    .dataframe tbody tr th:only-of-type {\n",
              "        vertical-align: middle;\n",
              "    }\n",
              "\n",
              "    .dataframe tbody tr th {\n",
              "        vertical-align: top;\n",
              "    }\n",
              "\n",
              "    .dataframe thead th {\n",
              "        text-align: right;\n",
              "    }\n",
              "</style>\n",
              "<table border=\"1\" class=\"dataframe\">\n",
              "  <thead>\n",
              "    <tr style=\"text-align: right;\">\n",
              "      <th></th>\n",
              "      <th>ID</th>\n",
              "      <th>Name</th>\n",
              "      <th>Age</th>\n",
              "      <th>Weight</th>\n",
              "      <th>m0006</th>\n",
              "      <th>m0612</th>\n",
              "      <th>m1218</th>\n",
              "      <th>f006</th>\n",
              "      <th>f0612</th>\n",
              "      <th>f1218</th>\n",
              "    </tr>\n",
              "  </thead>\n",
              "  <tbody>\n",
              "    <tr>\n",
              "      <th>0</th>\n",
              "      <td>1.0</td>\n",
              "      <td>Mickéy Mousé</td>\n",
              "      <td>56.0</td>\n",
              "      <td>70kgs</td>\n",
              "      <td>72</td>\n",
              "      <td>69</td>\n",
              "      <td>71</td>\n",
              "      <td>-</td>\n",
              "      <td>-</td>\n",
              "      <td>-</td>\n",
              "    </tr>\n",
              "    <tr>\n",
              "      <th>1</th>\n",
              "      <td>2.0</td>\n",
              "      <td>Donald Duck</td>\n",
              "      <td>34.0</td>\n",
              "      <td>154.89lbs</td>\n",
              "      <td>-</td>\n",
              "      <td>-</td>\n",
              "      <td>-</td>\n",
              "      <td>85</td>\n",
              "      <td>84</td>\n",
              "      <td>76</td>\n",
              "    </tr>\n",
              "    <tr>\n",
              "      <th>2</th>\n",
              "      <td>3.0</td>\n",
              "      <td>Mini Mouse</td>\n",
              "      <td>16.0</td>\n",
              "      <td>NaN</td>\n",
              "      <td>-</td>\n",
              "      <td>-</td>\n",
              "      <td>-</td>\n",
              "      <td>65</td>\n",
              "      <td>69</td>\n",
              "      <td>72</td>\n",
              "    </tr>\n",
              "    <tr>\n",
              "      <th>3</th>\n",
              "      <td>4.0</td>\n",
              "      <td>Scrooge McDuck</td>\n",
              "      <td>NaN</td>\n",
              "      <td>78kgs</td>\n",
              "      <td>78</td>\n",
              "      <td>79</td>\n",
              "      <td>72</td>\n",
              "      <td>-</td>\n",
              "      <td>-</td>\n",
              "      <td>-</td>\n",
              "    </tr>\n",
              "    <tr>\n",
              "      <th>4</th>\n",
              "      <td>5.0</td>\n",
              "      <td>Pink Panther</td>\n",
              "      <td>54.0</td>\n",
              "      <td>198.658lbs</td>\n",
              "      <td>-</td>\n",
              "      <td>-</td>\n",
              "      <td>-</td>\n",
              "      <td>69</td>\n",
              "      <td>NaN</td>\n",
              "      <td>75</td>\n",
              "    </tr>\n",
              "  </tbody>\n",
              "</table>\n",
              "</div>"
            ],
            "text/plain": [
              "    ID            Name   Age      Weight m0006 m0612 m1218 f006 f0612 f1218\n",
              "0  1.0    Mickéy Mousé  56.0       70kgs    72    69    71    -     -     -\n",
              "1  2.0     Donald Duck  34.0   154.89lbs     -     -     -   85    84    76\n",
              "2  3.0      Mini Mouse  16.0         NaN     -     -     -   65    69    72\n",
              "3  4.0  Scrooge McDuck   NaN       78kgs    78    79    72    -     -     -\n",
              "4  5.0    Pink Panther  54.0  198.658lbs     -     -     -   69   NaN    75"
            ]
          },
          "metadata": {},
          "execution_count": 53
        }
      ]
    },
    {
      "cell_type": "markdown",
      "metadata": {
        "id": "0Kj6dI9OkLpy"
      },
      "source": [
        "\n",
        "**Vấn đề 2:**\n",
        "\n",
        "Xử lý vấn đề một cột lưu hỗn hợp nhiều dữ liệu, ở đây là cột ―Name‖ chứa bao gồm ―Firstname‖ và ―Lastname‖, giải pháp là ta sẽ tách ra làm 2 cột dựa vào giá trị khoảng trắng"
      ]
    },
    {
      "cell_type": "code",
      "metadata": {
        "id": "wKGPYkaLkM7G"
      },
      "source": [
        "patientheartrate[['Firstname', 'Lastname']]=patientheartrate['Name'].str.split(expand = True)"
      ],
      "execution_count": 54,
      "outputs": []
    },
    {
      "cell_type": "code",
      "metadata": {
        "colab": {
          "base_uri": "https://localhost:8080/",
          "height": 203
        },
        "id": "caWXzk_fkO8b",
        "outputId": "21f8bb2e-7b55-4a85-d6e8-0f6cca8f6bae"
      },
      "source": [
        "patientheartrate.head(5)"
      ],
      "execution_count": 55,
      "outputs": [
        {
          "output_type": "execute_result",
          "data": {
            "text/html": [
              "<div>\n",
              "<style scoped>\n",
              "    .dataframe tbody tr th:only-of-type {\n",
              "        vertical-align: middle;\n",
              "    }\n",
              "\n",
              "    .dataframe tbody tr th {\n",
              "        vertical-align: top;\n",
              "    }\n",
              "\n",
              "    .dataframe thead th {\n",
              "        text-align: right;\n",
              "    }\n",
              "</style>\n",
              "<table border=\"1\" class=\"dataframe\">\n",
              "  <thead>\n",
              "    <tr style=\"text-align: right;\">\n",
              "      <th></th>\n",
              "      <th>ID</th>\n",
              "      <th>Name</th>\n",
              "      <th>Age</th>\n",
              "      <th>Weight</th>\n",
              "      <th>m0006</th>\n",
              "      <th>m0612</th>\n",
              "      <th>m1218</th>\n",
              "      <th>f006</th>\n",
              "      <th>f0612</th>\n",
              "      <th>f1218</th>\n",
              "      <th>Firstname</th>\n",
              "      <th>Lastname</th>\n",
              "    </tr>\n",
              "  </thead>\n",
              "  <tbody>\n",
              "    <tr>\n",
              "      <th>0</th>\n",
              "      <td>1.0</td>\n",
              "      <td>Mickéy Mousé</td>\n",
              "      <td>56.0</td>\n",
              "      <td>70kgs</td>\n",
              "      <td>72</td>\n",
              "      <td>69</td>\n",
              "      <td>71</td>\n",
              "      <td>-</td>\n",
              "      <td>-</td>\n",
              "      <td>-</td>\n",
              "      <td>Mickéy</td>\n",
              "      <td>Mousé</td>\n",
              "    </tr>\n",
              "    <tr>\n",
              "      <th>1</th>\n",
              "      <td>2.0</td>\n",
              "      <td>Donald Duck</td>\n",
              "      <td>34.0</td>\n",
              "      <td>154.89lbs</td>\n",
              "      <td>-</td>\n",
              "      <td>-</td>\n",
              "      <td>-</td>\n",
              "      <td>85</td>\n",
              "      <td>84</td>\n",
              "      <td>76</td>\n",
              "      <td>Donald</td>\n",
              "      <td>Duck</td>\n",
              "    </tr>\n",
              "    <tr>\n",
              "      <th>2</th>\n",
              "      <td>3.0</td>\n",
              "      <td>Mini Mouse</td>\n",
              "      <td>16.0</td>\n",
              "      <td>NaN</td>\n",
              "      <td>-</td>\n",
              "      <td>-</td>\n",
              "      <td>-</td>\n",
              "      <td>65</td>\n",
              "      <td>69</td>\n",
              "      <td>72</td>\n",
              "      <td>Mini</td>\n",
              "      <td>Mouse</td>\n",
              "    </tr>\n",
              "    <tr>\n",
              "      <th>3</th>\n",
              "      <td>4.0</td>\n",
              "      <td>Scrooge McDuck</td>\n",
              "      <td>NaN</td>\n",
              "      <td>78kgs</td>\n",
              "      <td>78</td>\n",
              "      <td>79</td>\n",
              "      <td>72</td>\n",
              "      <td>-</td>\n",
              "      <td>-</td>\n",
              "      <td>-</td>\n",
              "      <td>Scrooge</td>\n",
              "      <td>McDuck</td>\n",
              "    </tr>\n",
              "    <tr>\n",
              "      <th>4</th>\n",
              "      <td>5.0</td>\n",
              "      <td>Pink Panther</td>\n",
              "      <td>54.0</td>\n",
              "      <td>198.658lbs</td>\n",
              "      <td>-</td>\n",
              "      <td>-</td>\n",
              "      <td>-</td>\n",
              "      <td>69</td>\n",
              "      <td>NaN</td>\n",
              "      <td>75</td>\n",
              "      <td>Pink</td>\n",
              "      <td>Panther</td>\n",
              "    </tr>\n",
              "  </tbody>\n",
              "</table>\n",
              "</div>"
            ],
            "text/plain": [
              "    ID            Name   Age      Weight  ... f0612 f1218 Firstname Lastname\n",
              "0  1.0    Mickéy Mousé  56.0       70kgs  ...     -     -    Mickéy    Mousé\n",
              "1  2.0     Donald Duck  34.0   154.89lbs  ...    84    76    Donald     Duck\n",
              "2  3.0      Mini Mouse  16.0         NaN  ...    69    72      Mini    Mouse\n",
              "3  4.0  Scrooge McDuck   NaN       78kgs  ...     -     -   Scrooge   McDuck\n",
              "4  5.0    Pink Panther  54.0  198.658lbs  ...   NaN    75      Pink  Panther\n",
              "\n",
              "[5 rows x 12 columns]"
            ]
          },
          "metadata": {},
          "execution_count": 55
        }
      ]
    },
    {
      "cell_type": "markdown",
      "metadata": {
        "id": "gcg20lukkRht"
      },
      "source": [
        "#Xoá cột Name\n",
        "patientheartrate = patientheartrate.drop('Name',axis=1)"
      ]
    },
    {
      "cell_type": "code",
      "metadata": {
        "colab": {
          "base_uri": "https://localhost:8080/",
          "height": 573
        },
        "id": "JX_T6RjVkSLN",
        "outputId": "02db5458-160c-4b5b-8378-8d9eb981fcd2"
      },
      "source": [
        "patientheartrate"
      ],
      "execution_count": 56,
      "outputs": [
        {
          "output_type": "execute_result",
          "data": {
            "text/html": [
              "<div>\n",
              "<style scoped>\n",
              "    .dataframe tbody tr th:only-of-type {\n",
              "        vertical-align: middle;\n",
              "    }\n",
              "\n",
              "    .dataframe tbody tr th {\n",
              "        vertical-align: top;\n",
              "    }\n",
              "\n",
              "    .dataframe thead th {\n",
              "        text-align: right;\n",
              "    }\n",
              "</style>\n",
              "<table border=\"1\" class=\"dataframe\">\n",
              "  <thead>\n",
              "    <tr style=\"text-align: right;\">\n",
              "      <th></th>\n",
              "      <th>ID</th>\n",
              "      <th>Name</th>\n",
              "      <th>Age</th>\n",
              "      <th>Weight</th>\n",
              "      <th>m0006</th>\n",
              "      <th>m0612</th>\n",
              "      <th>m1218</th>\n",
              "      <th>f006</th>\n",
              "      <th>f0612</th>\n",
              "      <th>f1218</th>\n",
              "      <th>Firstname</th>\n",
              "      <th>Lastname</th>\n",
              "    </tr>\n",
              "  </thead>\n",
              "  <tbody>\n",
              "    <tr>\n",
              "      <th>0</th>\n",
              "      <td>1.0</td>\n",
              "      <td>Mickéy Mousé</td>\n",
              "      <td>56.0</td>\n",
              "      <td>70kgs</td>\n",
              "      <td>72</td>\n",
              "      <td>69</td>\n",
              "      <td>71</td>\n",
              "      <td>-</td>\n",
              "      <td>-</td>\n",
              "      <td>-</td>\n",
              "      <td>Mickéy</td>\n",
              "      <td>Mousé</td>\n",
              "    </tr>\n",
              "    <tr>\n",
              "      <th>1</th>\n",
              "      <td>2.0</td>\n",
              "      <td>Donald Duck</td>\n",
              "      <td>34.0</td>\n",
              "      <td>154.89lbs</td>\n",
              "      <td>-</td>\n",
              "      <td>-</td>\n",
              "      <td>-</td>\n",
              "      <td>85</td>\n",
              "      <td>84</td>\n",
              "      <td>76</td>\n",
              "      <td>Donald</td>\n",
              "      <td>Duck</td>\n",
              "    </tr>\n",
              "    <tr>\n",
              "      <th>2</th>\n",
              "      <td>3.0</td>\n",
              "      <td>Mini Mouse</td>\n",
              "      <td>16.0</td>\n",
              "      <td>NaN</td>\n",
              "      <td>-</td>\n",
              "      <td>-</td>\n",
              "      <td>-</td>\n",
              "      <td>65</td>\n",
              "      <td>69</td>\n",
              "      <td>72</td>\n",
              "      <td>Mini</td>\n",
              "      <td>Mouse</td>\n",
              "    </tr>\n",
              "    <tr>\n",
              "      <th>3</th>\n",
              "      <td>4.0</td>\n",
              "      <td>Scrooge McDuck</td>\n",
              "      <td>NaN</td>\n",
              "      <td>78kgs</td>\n",
              "      <td>78</td>\n",
              "      <td>79</td>\n",
              "      <td>72</td>\n",
              "      <td>-</td>\n",
              "      <td>-</td>\n",
              "      <td>-</td>\n",
              "      <td>Scrooge</td>\n",
              "      <td>McDuck</td>\n",
              "    </tr>\n",
              "    <tr>\n",
              "      <th>4</th>\n",
              "      <td>5.0</td>\n",
              "      <td>Pink Panther</td>\n",
              "      <td>54.0</td>\n",
              "      <td>198.658lbs</td>\n",
              "      <td>-</td>\n",
              "      <td>-</td>\n",
              "      <td>-</td>\n",
              "      <td>69</td>\n",
              "      <td>NaN</td>\n",
              "      <td>75</td>\n",
              "      <td>Pink</td>\n",
              "      <td>Panther</td>\n",
              "    </tr>\n",
              "    <tr>\n",
              "      <th>5</th>\n",
              "      <td>6.0</td>\n",
              "      <td>Huey McDuck</td>\n",
              "      <td>52.0</td>\n",
              "      <td>189lbs</td>\n",
              "      <td>-</td>\n",
              "      <td>-</td>\n",
              "      <td>-</td>\n",
              "      <td>68</td>\n",
              "      <td>75</td>\n",
              "      <td>72</td>\n",
              "      <td>Huey</td>\n",
              "      <td>McDuck</td>\n",
              "    </tr>\n",
              "    <tr>\n",
              "      <th>6</th>\n",
              "      <td>7.0</td>\n",
              "      <td>Dewey McDuck</td>\n",
              "      <td>19.0</td>\n",
              "      <td>56kgs</td>\n",
              "      <td>-</td>\n",
              "      <td>-</td>\n",
              "      <td>-</td>\n",
              "      <td>71</td>\n",
              "      <td>78</td>\n",
              "      <td>75</td>\n",
              "      <td>Dewey</td>\n",
              "      <td>McDuck</td>\n",
              "    </tr>\n",
              "    <tr>\n",
              "      <th>7</th>\n",
              "      <td>8.0</td>\n",
              "      <td>Scööpy Doo</td>\n",
              "      <td>32.0</td>\n",
              "      <td>78kgs</td>\n",
              "      <td>78</td>\n",
              "      <td>76</td>\n",
              "      <td>75</td>\n",
              "      <td>-</td>\n",
              "      <td>-</td>\n",
              "      <td>-</td>\n",
              "      <td>Scööpy</td>\n",
              "      <td>Doo</td>\n",
              "    </tr>\n",
              "    <tr>\n",
              "      <th>8</th>\n",
              "      <td>NaN</td>\n",
              "      <td>NaN</td>\n",
              "      <td>NaN</td>\n",
              "      <td>NaN</td>\n",
              "      <td>NaN</td>\n",
              "      <td>NaN</td>\n",
              "      <td>NaN</td>\n",
              "      <td>NaN</td>\n",
              "      <td>NaN</td>\n",
              "      <td>NaN</td>\n",
              "      <td>NaN</td>\n",
              "      <td>NaN</td>\n",
              "    </tr>\n",
              "    <tr>\n",
              "      <th>9</th>\n",
              "      <td>NaN</td>\n",
              "      <td>NaN</td>\n",
              "      <td>NaN</td>\n",
              "      <td>NaN</td>\n",
              "      <td>NaN</td>\n",
              "      <td>NaN</td>\n",
              "      <td>NaN</td>\n",
              "      <td>NaN</td>\n",
              "      <td>NaN</td>\n",
              "      <td>NaN</td>\n",
              "      <td>NaN</td>\n",
              "      <td>NaN</td>\n",
              "    </tr>\n",
              "    <tr>\n",
              "      <th>10</th>\n",
              "      <td>9.0</td>\n",
              "      <td>Huey McDuck</td>\n",
              "      <td>52.0</td>\n",
              "      <td>189lbs</td>\n",
              "      <td>-</td>\n",
              "      <td>-</td>\n",
              "      <td>-</td>\n",
              "      <td>68</td>\n",
              "      <td>75</td>\n",
              "      <td>72</td>\n",
              "      <td>Huey</td>\n",
              "      <td>McDuck</td>\n",
              "    </tr>\n",
              "    <tr>\n",
              "      <th>11</th>\n",
              "      <td>10.0</td>\n",
              "      <td>Louie McDuck</td>\n",
              "      <td>12.0</td>\n",
              "      <td>45kgs</td>\n",
              "      <td>-</td>\n",
              "      <td>-</td>\n",
              "      <td>-</td>\n",
              "      <td>92</td>\n",
              "      <td>95</td>\n",
              "      <td>87</td>\n",
              "      <td>Louie</td>\n",
              "      <td>McDuck</td>\n",
              "    </tr>\n",
              "    <tr>\n",
              "      <th>12</th>\n",
              "      <td>11.0</td>\n",
              "      <td>Henry Nam</td>\n",
              "      <td>NaN</td>\n",
              "      <td>60kgs</td>\n",
              "      <td>78</td>\n",
              "      <td>75</td>\n",
              "      <td>72</td>\n",
              "      <td>-</td>\n",
              "      <td>-</td>\n",
              "      <td>-</td>\n",
              "      <td>Henry</td>\n",
              "      <td>Nam</td>\n",
              "    </tr>\n",
              "    <tr>\n",
              "      <th>13</th>\n",
              "      <td>12.0</td>\n",
              "      <td>Michel Long</td>\n",
              "      <td>34.0</td>\n",
              "      <td>NaN</td>\n",
              "      <td>65</td>\n",
              "      <td>67</td>\n",
              "      <td>55</td>\n",
              "      <td>-</td>\n",
              "      <td>-</td>\n",
              "      <td>-</td>\n",
              "      <td>Michel</td>\n",
              "      <td>Long</td>\n",
              "    </tr>\n",
              "    <tr>\n",
              "      <th>14</th>\n",
              "      <td>13.0</td>\n",
              "      <td>Tana Ricky</td>\n",
              "      <td>NaN</td>\n",
              "      <td>NaN</td>\n",
              "      <td>-</td>\n",
              "      <td>-</td>\n",
              "      <td>-</td>\n",
              "      <td>68</td>\n",
              "      <td>72</td>\n",
              "      <td>70</td>\n",
              "      <td>Tana</td>\n",
              "      <td>Ricky</td>\n",
              "    </tr>\n",
              "    <tr>\n",
              "      <th>15</th>\n",
              "      <td>14.0</td>\n",
              "      <td>UniLever</td>\n",
              "      <td>NaN</td>\n",
              "      <td>NaN</td>\n",
              "      <td>NaN</td>\n",
              "      <td>NaN</td>\n",
              "      <td>NaN</td>\n",
              "      <td>NaN</td>\n",
              "      <td>NaN</td>\n",
              "      <td>NaN</td>\n",
              "      <td>UniLever</td>\n",
              "      <td>None</td>\n",
              "    </tr>\n",
              "    <tr>\n",
              "      <th>16</th>\n",
              "      <td>15.0</td>\n",
              "      <td>NaN</td>\n",
              "      <td>52.0</td>\n",
              "      <td>180lbs</td>\n",
              "      <td>-</td>\n",
              "      <td>-</td>\n",
              "      <td>-</td>\n",
              "      <td>68</td>\n",
              "      <td>75</td>\n",
              "      <td>72</td>\n",
              "      <td>NaN</td>\n",
              "      <td>NaN</td>\n",
              "    </tr>\n",
              "  </tbody>\n",
              "</table>\n",
              "</div>"
            ],
            "text/plain": [
              "      ID            Name   Age      Weight  ... f0612 f1218 Firstname Lastname\n",
              "0    1.0    Mickéy Mousé  56.0       70kgs  ...     -     -    Mickéy    Mousé\n",
              "1    2.0     Donald Duck  34.0   154.89lbs  ...    84    76    Donald     Duck\n",
              "2    3.0      Mini Mouse  16.0         NaN  ...    69    72      Mini    Mouse\n",
              "3    4.0  Scrooge McDuck   NaN       78kgs  ...     -     -   Scrooge   McDuck\n",
              "4    5.0    Pink Panther  54.0  198.658lbs  ...   NaN    75      Pink  Panther\n",
              "5    6.0     Huey McDuck  52.0      189lbs  ...    75    72      Huey   McDuck\n",
              "6    7.0    Dewey McDuck  19.0       56kgs  ...    78    75     Dewey   McDuck\n",
              "7    8.0      Scööpy Doo  32.0       78kgs  ...     -     -    Scööpy      Doo\n",
              "8    NaN             NaN   NaN         NaN  ...   NaN   NaN       NaN      NaN\n",
              "9    NaN             NaN   NaN         NaN  ...   NaN   NaN       NaN      NaN\n",
              "10   9.0     Huey McDuck  52.0      189lbs  ...    75    72      Huey   McDuck\n",
              "11  10.0    Louie McDuck  12.0       45kgs  ...    95    87     Louie   McDuck\n",
              "12  11.0       Henry Nam   NaN       60kgs  ...     -     -     Henry      Nam\n",
              "13  12.0     Michel Long  34.0         NaN  ...     -     -    Michel     Long\n",
              "14  13.0      Tana Ricky   NaN         NaN  ...    72    70      Tana    Ricky\n",
              "15  14.0        UniLever   NaN         NaN  ...   NaN   NaN  UniLever     None\n",
              "16  15.0             NaN  52.0      180lbs  ...    75    72       NaN      NaN\n",
              "\n",
              "[17 rows x 12 columns]"
            ]
          },
          "metadata": {},
          "execution_count": 56
        }
      ]
    },
    {
      "cell_type": "markdown",
      "metadata": {
        "id": "V0vkDh08lp0k"
      },
      "source": [
        "**Vấn đề 3**\n",
        "\n",
        "Quan sát dữ liệu trên cột Weight ta thấy có hai đơn vị đo lường được sử dụng gồm kg và pound (lbs). Phần này sẽ chuyển đơn vị đo lường từ lbs về kg theo quy tắc chuyển đổi sau: (1 lbs sẽ bằng 0.453592kg (1/2.205 kg)"
      ]
    },
    {
      "cell_type": "code",
      "metadata": {
        "colab": {
          "base_uri": "https://localhost:8080/"
        },
        "id": "O8mCsor7ka7c",
        "outputId": "40b0cfe1-c8bf-4d8a-85e5-537b95bdd265"
      },
      "source": [
        "weight=patientheartrate['Weight']\n",
        "for i in range(len(weight)):\n",
        "  x = str(weight[i])\n",
        "  if \"lbs\" in x[-3:]:\n",
        "    #remove the lbs from the value\n",
        "    x = x[:-3:]\n",
        "    float_x = float(x)\n",
        "    y = int(float_x/2.205)\n",
        "    y = str(y)+\"kgs\"\n",
        "    weight[i] = y"
      ],
      "execution_count": 57,
      "outputs": [
        {
          "output_type": "stream",
          "name": "stderr",
          "text": [
            "/usr/local/lib/python3.7/dist-packages/ipykernel_launcher.py:10: SettingWithCopyWarning: \n",
            "A value is trying to be set on a copy of a slice from a DataFrame\n",
            "\n",
            "See the caveats in the documentation: https://pandas.pydata.org/pandas-docs/stable/user_guide/indexing.html#returning-a-view-versus-a-copy\n",
            "  # Remove the CWD from sys.path while we load stuff.\n"
          ]
        }
      ]
    },
    {
      "cell_type": "code",
      "metadata": {
        "colab": {
          "base_uri": "https://localhost:8080/",
          "height": 203
        },
        "id": "k5RPJrOwlBH9",
        "outputId": "4c555ea4-8c0f-449b-d73d-6eb0301f112e"
      },
      "source": [
        "patientheartrate.head(5)"
      ],
      "execution_count": 58,
      "outputs": [
        {
          "output_type": "execute_result",
          "data": {
            "text/html": [
              "<div>\n",
              "<style scoped>\n",
              "    .dataframe tbody tr th:only-of-type {\n",
              "        vertical-align: middle;\n",
              "    }\n",
              "\n",
              "    .dataframe tbody tr th {\n",
              "        vertical-align: top;\n",
              "    }\n",
              "\n",
              "    .dataframe thead th {\n",
              "        text-align: right;\n",
              "    }\n",
              "</style>\n",
              "<table border=\"1\" class=\"dataframe\">\n",
              "  <thead>\n",
              "    <tr style=\"text-align: right;\">\n",
              "      <th></th>\n",
              "      <th>ID</th>\n",
              "      <th>Name</th>\n",
              "      <th>Age</th>\n",
              "      <th>Weight</th>\n",
              "      <th>m0006</th>\n",
              "      <th>m0612</th>\n",
              "      <th>m1218</th>\n",
              "      <th>f006</th>\n",
              "      <th>f0612</th>\n",
              "      <th>f1218</th>\n",
              "      <th>Firstname</th>\n",
              "      <th>Lastname</th>\n",
              "    </tr>\n",
              "  </thead>\n",
              "  <tbody>\n",
              "    <tr>\n",
              "      <th>0</th>\n",
              "      <td>1.0</td>\n",
              "      <td>Mickéy Mousé</td>\n",
              "      <td>56.0</td>\n",
              "      <td>70kgs</td>\n",
              "      <td>72</td>\n",
              "      <td>69</td>\n",
              "      <td>71</td>\n",
              "      <td>-</td>\n",
              "      <td>-</td>\n",
              "      <td>-</td>\n",
              "      <td>Mickéy</td>\n",
              "      <td>Mousé</td>\n",
              "    </tr>\n",
              "    <tr>\n",
              "      <th>1</th>\n",
              "      <td>2.0</td>\n",
              "      <td>Donald Duck</td>\n",
              "      <td>34.0</td>\n",
              "      <td>70kgs</td>\n",
              "      <td>-</td>\n",
              "      <td>-</td>\n",
              "      <td>-</td>\n",
              "      <td>85</td>\n",
              "      <td>84</td>\n",
              "      <td>76</td>\n",
              "      <td>Donald</td>\n",
              "      <td>Duck</td>\n",
              "    </tr>\n",
              "    <tr>\n",
              "      <th>2</th>\n",
              "      <td>3.0</td>\n",
              "      <td>Mini Mouse</td>\n",
              "      <td>16.0</td>\n",
              "      <td>NaN</td>\n",
              "      <td>-</td>\n",
              "      <td>-</td>\n",
              "      <td>-</td>\n",
              "      <td>65</td>\n",
              "      <td>69</td>\n",
              "      <td>72</td>\n",
              "      <td>Mini</td>\n",
              "      <td>Mouse</td>\n",
              "    </tr>\n",
              "    <tr>\n",
              "      <th>3</th>\n",
              "      <td>4.0</td>\n",
              "      <td>Scrooge McDuck</td>\n",
              "      <td>NaN</td>\n",
              "      <td>78kgs</td>\n",
              "      <td>78</td>\n",
              "      <td>79</td>\n",
              "      <td>72</td>\n",
              "      <td>-</td>\n",
              "      <td>-</td>\n",
              "      <td>-</td>\n",
              "      <td>Scrooge</td>\n",
              "      <td>McDuck</td>\n",
              "    </tr>\n",
              "    <tr>\n",
              "      <th>4</th>\n",
              "      <td>5.0</td>\n",
              "      <td>Pink Panther</td>\n",
              "      <td>54.0</td>\n",
              "      <td>90kgs</td>\n",
              "      <td>-</td>\n",
              "      <td>-</td>\n",
              "      <td>-</td>\n",
              "      <td>69</td>\n",
              "      <td>NaN</td>\n",
              "      <td>75</td>\n",
              "      <td>Pink</td>\n",
              "      <td>Panther</td>\n",
              "    </tr>\n",
              "  </tbody>\n",
              "</table>\n",
              "</div>"
            ],
            "text/plain": [
              "    ID            Name   Age Weight m0006  ... f006 f0612 f1218 Firstname Lastname\n",
              "0  1.0    Mickéy Mousé  56.0  70kgs    72  ...    -     -     -    Mickéy    Mousé\n",
              "1  2.0     Donald Duck  34.0  70kgs     -  ...   85    84    76    Donald     Duck\n",
              "2  3.0      Mini Mouse  16.0    NaN     -  ...   65    69    72      Mini    Mouse\n",
              "3  4.0  Scrooge McDuck   NaN  78kgs    78  ...    -     -     -   Scrooge   McDuck\n",
              "4  5.0    Pink Panther  54.0  90kgs     -  ...   69   NaN    75      Pink  Panther\n",
              "\n",
              "[5 rows x 12 columns]"
            ]
          },
          "metadata": {},
          "execution_count": 58
        }
      ]
    },
    {
      "cell_type": "markdown",
      "metadata": {
        "id": "6-htQdz9lDtF"
      },
      "source": [
        "**Vấn đề 4:**\n",
        "\n",
        "Khảo sát dữ liệu thiếu và xóa dòng dữ liệu rỗng"
      ]
    },
    {
      "cell_type": "code",
      "metadata": {
        "colab": {
          "base_uri": "https://localhost:8080/",
          "height": 427
        },
        "id": "7dBMkQvKlFHc",
        "outputId": "abd1d68a-d045-4382-f125-345f7e3324fd"
      },
      "source": [
        "import seaborn as sns\n",
        "%matplotlib inline\n",
        "%config InlineBackend.figure_format = 'svg'\n",
        "sns.heatmap(patientheartrate.isna(), \n",
        "            yticklabels=False, \n",
        "            cbar=True, \n",
        "            cmap='viridis')"
      ],
      "execution_count": 59,
      "outputs": [
        {
          "output_type": "execute_result",
          "data": {
            "text/plain": [
              "<matplotlib.axes._subplots.AxesSubplot at 0x7f74ace13690>"
            ]
          },
          "metadata": {},
          "execution_count": 59
        },
        {
          "output_type": "display_data",
          "data": {
            "text/plain": [
              "<Figure size 432x288 with 2 Axes>"
            ],
            "image/svg+xml": "<?xml version=\"1.0\" encoding=\"utf-8\" standalone=\"no\"?>\n<!DOCTYPE svg PUBLIC \"-//W3C//DTD SVG 1.1//EN\"\n  \"http://www.w3.org/Graphics/SVG/1.1/DTD/svg11.dtd\">\n<!-- Created with matplotlib (https://matplotlib.org/) -->\n<svg height=\"292.043906pt\" version=\"1.1\" viewBox=\"0 0 332.755125 292.043906\" width=\"332.755125pt\" xmlns=\"http://www.w3.org/2000/svg\" xmlns:xlink=\"http://www.w3.org/1999/xlink\">\n <defs>\n  <style type=\"text/css\">\n*{stroke-linecap:butt;stroke-linejoin:round;}\n  </style>\n </defs>\n <g id=\"figure_1\">\n  <g id=\"patch_1\">\n   <path d=\"M 0 292.043906 \nL 332.755125 292.043906 \nL 332.755125 0 \nL 0 0 \nz\n\" style=\"fill:none;\"/>\n  </g>\n  <g id=\"axes_1\">\n   <g id=\"patch_2\">\n    <path d=\"M 7.2 228.439219 \nL 275.04 228.439219 \nL 275.04 10.999219 \nL 7.2 10.999219 \nz\n\" style=\"fill:#ffffff;\"/>\n   </g>\n   <g id=\"QuadMesh_1\">\n    <path clip-path=\"url(#p78ffced676)\" d=\"M 7.2 10.999219 \nL 29.52 10.999219 \nL 29.52 23.789807 \nL 7.2 23.789807 \nL 7.2 10.999219 \n\" style=\"fill:#440154;\"/>\n    <path clip-path=\"url(#p78ffced676)\" d=\"M 29.52 10.999219 \nL 51.84 10.999219 \nL 51.84 23.789807 \nL 29.52 23.789807 \nL 29.52 10.999219 \n\" style=\"fill:#440154;\"/>\n    <path clip-path=\"url(#p78ffced676)\" d=\"M 51.84 10.999219 \nL 74.16 10.999219 \nL 74.16 23.789807 \nL 51.84 23.789807 \nL 51.84 10.999219 \n\" style=\"fill:#440154;\"/>\n    <path clip-path=\"url(#p78ffced676)\" d=\"M 74.16 10.999219 \nL 96.48 10.999219 \nL 96.48 23.789807 \nL 74.16 23.789807 \nL 74.16 10.999219 \n\" style=\"fill:#440154;\"/>\n    <path clip-path=\"url(#p78ffced676)\" d=\"M 96.48 10.999219 \nL 118.8 10.999219 \nL 118.8 23.789807 \nL 96.48 23.789807 \nL 96.48 10.999219 \n\" style=\"fill:#440154;\"/>\n    <path clip-path=\"url(#p78ffced676)\" d=\"M 118.8 10.999219 \nL 141.12 10.999219 \nL 141.12 23.789807 \nL 118.8 23.789807 \nL 118.8 10.999219 \n\" style=\"fill:#440154;\"/>\n    <path clip-path=\"url(#p78ffced676)\" d=\"M 141.12 10.999219 \nL 163.44 10.999219 \nL 163.44 23.789807 \nL 141.12 23.789807 \nL 141.12 10.999219 \n\" style=\"fill:#440154;\"/>\n    <path clip-path=\"url(#p78ffced676)\" d=\"M 163.44 10.999219 \nL 185.76 10.999219 \nL 185.76 23.789807 \nL 163.44 23.789807 \nL 163.44 10.999219 \n\" style=\"fill:#440154;\"/>\n    <path clip-path=\"url(#p78ffced676)\" d=\"M 185.76 10.999219 \nL 208.08 10.999219 \nL 208.08 23.789807 \nL 185.76 23.789807 \nL 185.76 10.999219 \n\" style=\"fill:#440154;\"/>\n    <path clip-path=\"url(#p78ffced676)\" d=\"M 208.08 10.999219 \nL 230.4 10.999219 \nL 230.4 23.789807 \nL 208.08 23.789807 \nL 208.08 10.999219 \n\" style=\"fill:#440154;\"/>\n    <path clip-path=\"url(#p78ffced676)\" d=\"M 230.4 10.999219 \nL 252.72 10.999219 \nL 252.72 23.789807 \nL 230.4 23.789807 \nL 230.4 10.999219 \n\" style=\"fill:#440154;\"/>\n    <path clip-path=\"url(#p78ffced676)\" d=\"M 252.72 10.999219 \nL 275.04 10.999219 \nL 275.04 23.789807 \nL 252.72 23.789807 \nL 252.72 10.999219 \n\" style=\"fill:#440154;\"/>\n    <path clip-path=\"url(#p78ffced676)\" d=\"M 7.2 23.789807 \nL 29.52 23.789807 \nL 29.52 36.580395 \nL 7.2 36.580395 \nL 7.2 23.789807 \n\" style=\"fill:#440154;\"/>\n    <path clip-path=\"url(#p78ffced676)\" d=\"M 29.52 23.789807 \nL 51.84 23.789807 \nL 51.84 36.580395 \nL 29.52 36.580395 \nL 29.52 23.789807 \n\" style=\"fill:#440154;\"/>\n    <path clip-path=\"url(#p78ffced676)\" d=\"M 51.84 23.789807 \nL 74.16 23.789807 \nL 74.16 36.580395 \nL 51.84 36.580395 \nL 51.84 23.789807 \n\" style=\"fill:#440154;\"/>\n    <path clip-path=\"url(#p78ffced676)\" d=\"M 74.16 23.789807 \nL 96.48 23.789807 \nL 96.48 36.580395 \nL 74.16 36.580395 \nL 74.16 23.789807 \n\" style=\"fill:#440154;\"/>\n    <path clip-path=\"url(#p78ffced676)\" d=\"M 96.48 23.789807 \nL 118.8 23.789807 \nL 118.8 36.580395 \nL 96.48 36.580395 \nL 96.48 23.789807 \n\" style=\"fill:#440154;\"/>\n    <path clip-path=\"url(#p78ffced676)\" d=\"M 118.8 23.789807 \nL 141.12 23.789807 \nL 141.12 36.580395 \nL 118.8 36.580395 \nL 118.8 23.789807 \n\" style=\"fill:#440154;\"/>\n    <path clip-path=\"url(#p78ffced676)\" d=\"M 141.12 23.789807 \nL 163.44 23.789807 \nL 163.44 36.580395 \nL 141.12 36.580395 \nL 141.12 23.789807 \n\" style=\"fill:#440154;\"/>\n    <path clip-path=\"url(#p78ffced676)\" d=\"M 163.44 23.789807 \nL 185.76 23.789807 \nL 185.76 36.580395 \nL 163.44 36.580395 \nL 163.44 23.789807 \n\" style=\"fill:#440154;\"/>\n    <path clip-path=\"url(#p78ffced676)\" d=\"M 185.76 23.789807 \nL 208.08 23.789807 \nL 208.08 36.580395 \nL 185.76 36.580395 \nL 185.76 23.789807 \n\" style=\"fill:#440154;\"/>\n    <path clip-path=\"url(#p78ffced676)\" d=\"M 208.08 23.789807 \nL 230.4 23.789807 \nL 230.4 36.580395 \nL 208.08 36.580395 \nL 208.08 23.789807 \n\" style=\"fill:#440154;\"/>\n    <path clip-path=\"url(#p78ffced676)\" d=\"M 230.4 23.789807 \nL 252.72 23.789807 \nL 252.72 36.580395 \nL 230.4 36.580395 \nL 230.4 23.789807 \n\" style=\"fill:#440154;\"/>\n    <path clip-path=\"url(#p78ffced676)\" d=\"M 252.72 23.789807 \nL 275.04 23.789807 \nL 275.04 36.580395 \nL 252.72 36.580395 \nL 252.72 23.789807 \n\" style=\"fill:#440154;\"/>\n    <path clip-path=\"url(#p78ffced676)\" d=\"M 7.2 36.580395 \nL 29.52 36.580395 \nL 29.52 49.370983 \nL 7.2 49.370983 \nL 7.2 36.580395 \n\" style=\"fill:#440154;\"/>\n    <path clip-path=\"url(#p78ffced676)\" d=\"M 29.52 36.580395 \nL 51.84 36.580395 \nL 51.84 49.370983 \nL 29.52 49.370983 \nL 29.52 36.580395 \n\" style=\"fill:#440154;\"/>\n    <path clip-path=\"url(#p78ffced676)\" d=\"M 51.84 36.580395 \nL 74.16 36.580395 \nL 74.16 49.370983 \nL 51.84 49.370983 \nL 51.84 36.580395 \n\" style=\"fill:#440154;\"/>\n    <path clip-path=\"url(#p78ffced676)\" d=\"M 74.16 36.580395 \nL 96.48 36.580395 \nL 96.48 49.370983 \nL 74.16 49.370983 \nL 74.16 36.580395 \n\" style=\"fill:#fde725;\"/>\n    <path clip-path=\"url(#p78ffced676)\" d=\"M 96.48 36.580395 \nL 118.8 36.580395 \nL 118.8 49.370983 \nL 96.48 49.370983 \nL 96.48 36.580395 \n\" style=\"fill:#440154;\"/>\n    <path clip-path=\"url(#p78ffced676)\" d=\"M 118.8 36.580395 \nL 141.12 36.580395 \nL 141.12 49.370983 \nL 118.8 49.370983 \nL 118.8 36.580395 \n\" style=\"fill:#440154;\"/>\n    <path clip-path=\"url(#p78ffced676)\" d=\"M 141.12 36.580395 \nL 163.44 36.580395 \nL 163.44 49.370983 \nL 141.12 49.370983 \nL 141.12 36.580395 \n\" style=\"fill:#440154;\"/>\n    <path clip-path=\"url(#p78ffced676)\" d=\"M 163.44 36.580395 \nL 185.76 36.580395 \nL 185.76 49.370983 \nL 163.44 49.370983 \nL 163.44 36.580395 \n\" style=\"fill:#440154;\"/>\n    <path clip-path=\"url(#p78ffced676)\" d=\"M 185.76 36.580395 \nL 208.08 36.580395 \nL 208.08 49.370983 \nL 185.76 49.370983 \nL 185.76 36.580395 \n\" style=\"fill:#440154;\"/>\n    <path clip-path=\"url(#p78ffced676)\" d=\"M 208.08 36.580395 \nL 230.4 36.580395 \nL 230.4 49.370983 \nL 208.08 49.370983 \nL 208.08 36.580395 \n\" style=\"fill:#440154;\"/>\n    <path clip-path=\"url(#p78ffced676)\" d=\"M 230.4 36.580395 \nL 252.72 36.580395 \nL 252.72 49.370983 \nL 230.4 49.370983 \nL 230.4 36.580395 \n\" style=\"fill:#440154;\"/>\n    <path clip-path=\"url(#p78ffced676)\" d=\"M 252.72 36.580395 \nL 275.04 36.580395 \nL 275.04 49.370983 \nL 252.72 49.370983 \nL 252.72 36.580395 \n\" style=\"fill:#440154;\"/>\n    <path clip-path=\"url(#p78ffced676)\" d=\"M 7.2 49.370983 \nL 29.52 49.370983 \nL 29.52 62.161572 \nL 7.2 62.161572 \nL 7.2 49.370983 \n\" style=\"fill:#440154;\"/>\n    <path clip-path=\"url(#p78ffced676)\" d=\"M 29.52 49.370983 \nL 51.84 49.370983 \nL 51.84 62.161572 \nL 29.52 62.161572 \nL 29.52 49.370983 \n\" style=\"fill:#440154;\"/>\n    <path clip-path=\"url(#p78ffced676)\" d=\"M 51.84 49.370983 \nL 74.16 49.370983 \nL 74.16 62.161572 \nL 51.84 62.161572 \nL 51.84 49.370983 \n\" style=\"fill:#fde725;\"/>\n    <path clip-path=\"url(#p78ffced676)\" d=\"M 74.16 49.370983 \nL 96.48 49.370983 \nL 96.48 62.161572 \nL 74.16 62.161572 \nL 74.16 49.370983 \n\" style=\"fill:#440154;\"/>\n    <path clip-path=\"url(#p78ffced676)\" d=\"M 96.48 49.370983 \nL 118.8 49.370983 \nL 118.8 62.161572 \nL 96.48 62.161572 \nL 96.48 49.370983 \n\" style=\"fill:#440154;\"/>\n    <path clip-path=\"url(#p78ffced676)\" d=\"M 118.8 49.370983 \nL 141.12 49.370983 \nL 141.12 62.161572 \nL 118.8 62.161572 \nL 118.8 49.370983 \n\" style=\"fill:#440154;\"/>\n    <path clip-path=\"url(#p78ffced676)\" d=\"M 141.12 49.370983 \nL 163.44 49.370983 \nL 163.44 62.161572 \nL 141.12 62.161572 \nL 141.12 49.370983 \n\" style=\"fill:#440154;\"/>\n    <path clip-path=\"url(#p78ffced676)\" d=\"M 163.44 49.370983 \nL 185.76 49.370983 \nL 185.76 62.161572 \nL 163.44 62.161572 \nL 163.44 49.370983 \n\" style=\"fill:#440154;\"/>\n    <path clip-path=\"url(#p78ffced676)\" d=\"M 185.76 49.370983 \nL 208.08 49.370983 \nL 208.08 62.161572 \nL 185.76 62.161572 \nL 185.76 49.370983 \n\" style=\"fill:#440154;\"/>\n    <path clip-path=\"url(#p78ffced676)\" d=\"M 208.08 49.370983 \nL 230.4 49.370983 \nL 230.4 62.161572 \nL 208.08 62.161572 \nL 208.08 49.370983 \n\" style=\"fill:#440154;\"/>\n    <path clip-path=\"url(#p78ffced676)\" d=\"M 230.4 49.370983 \nL 252.72 49.370983 \nL 252.72 62.161572 \nL 230.4 62.161572 \nL 230.4 49.370983 \n\" style=\"fill:#440154;\"/>\n    <path clip-path=\"url(#p78ffced676)\" d=\"M 252.72 49.370983 \nL 275.04 49.370983 \nL 275.04 62.161572 \nL 252.72 62.161572 \nL 252.72 49.370983 \n\" style=\"fill:#440154;\"/>\n    <path clip-path=\"url(#p78ffced676)\" d=\"M 7.2 62.161572 \nL 29.52 62.161572 \nL 29.52 74.95216 \nL 7.2 74.95216 \nL 7.2 62.161572 \n\" style=\"fill:#440154;\"/>\n    <path clip-path=\"url(#p78ffced676)\" d=\"M 29.52 62.161572 \nL 51.84 62.161572 \nL 51.84 74.95216 \nL 29.52 74.95216 \nL 29.52 62.161572 \n\" style=\"fill:#440154;\"/>\n    <path clip-path=\"url(#p78ffced676)\" d=\"M 51.84 62.161572 \nL 74.16 62.161572 \nL 74.16 74.95216 \nL 51.84 74.95216 \nL 51.84 62.161572 \n\" style=\"fill:#440154;\"/>\n    <path clip-path=\"url(#p78ffced676)\" d=\"M 74.16 62.161572 \nL 96.48 62.161572 \nL 96.48 74.95216 \nL 74.16 74.95216 \nL 74.16 62.161572 \n\" style=\"fill:#440154;\"/>\n    <path clip-path=\"url(#p78ffced676)\" d=\"M 96.48 62.161572 \nL 118.8 62.161572 \nL 118.8 74.95216 \nL 96.48 74.95216 \nL 96.48 62.161572 \n\" style=\"fill:#440154;\"/>\n    <path clip-path=\"url(#p78ffced676)\" d=\"M 118.8 62.161572 \nL 141.12 62.161572 \nL 141.12 74.95216 \nL 118.8 74.95216 \nL 118.8 62.161572 \n\" style=\"fill:#440154;\"/>\n    <path clip-path=\"url(#p78ffced676)\" d=\"M 141.12 62.161572 \nL 163.44 62.161572 \nL 163.44 74.95216 \nL 141.12 74.95216 \nL 141.12 62.161572 \n\" style=\"fill:#440154;\"/>\n    <path clip-path=\"url(#p78ffced676)\" d=\"M 163.44 62.161572 \nL 185.76 62.161572 \nL 185.76 74.95216 \nL 163.44 74.95216 \nL 163.44 62.161572 \n\" style=\"fill:#440154;\"/>\n    <path clip-path=\"url(#p78ffced676)\" d=\"M 185.76 62.161572 \nL 208.08 62.161572 \nL 208.08 74.95216 \nL 185.76 74.95216 \nL 185.76 62.161572 \n\" style=\"fill:#fde725;\"/>\n    <path clip-path=\"url(#p78ffced676)\" d=\"M 208.08 62.161572 \nL 230.4 62.161572 \nL 230.4 74.95216 \nL 208.08 74.95216 \nL 208.08 62.161572 \n\" style=\"fill:#440154;\"/>\n    <path clip-path=\"url(#p78ffced676)\" d=\"M 230.4 62.161572 \nL 252.72 62.161572 \nL 252.72 74.95216 \nL 230.4 74.95216 \nL 230.4 62.161572 \n\" style=\"fill:#440154;\"/>\n    <path clip-path=\"url(#p78ffced676)\" d=\"M 252.72 62.161572 \nL 275.04 62.161572 \nL 275.04 74.95216 \nL 252.72 74.95216 \nL 252.72 62.161572 \n\" style=\"fill:#440154;\"/>\n    <path clip-path=\"url(#p78ffced676)\" d=\"M 7.2 74.95216 \nL 29.52 74.95216 \nL 29.52 87.742748 \nL 7.2 87.742748 \nL 7.2 74.95216 \n\" style=\"fill:#440154;\"/>\n    <path clip-path=\"url(#p78ffced676)\" d=\"M 29.52 74.95216 \nL 51.84 74.95216 \nL 51.84 87.742748 \nL 29.52 87.742748 \nL 29.52 74.95216 \n\" style=\"fill:#440154;\"/>\n    <path clip-path=\"url(#p78ffced676)\" d=\"M 51.84 74.95216 \nL 74.16 74.95216 \nL 74.16 87.742748 \nL 51.84 87.742748 \nL 51.84 74.95216 \n\" style=\"fill:#440154;\"/>\n    <path clip-path=\"url(#p78ffced676)\" d=\"M 74.16 74.95216 \nL 96.48 74.95216 \nL 96.48 87.742748 \nL 74.16 87.742748 \nL 74.16 74.95216 \n\" style=\"fill:#440154;\"/>\n    <path clip-path=\"url(#p78ffced676)\" d=\"M 96.48 74.95216 \nL 118.8 74.95216 \nL 118.8 87.742748 \nL 96.48 87.742748 \nL 96.48 74.95216 \n\" style=\"fill:#440154;\"/>\n    <path clip-path=\"url(#p78ffced676)\" d=\"M 118.8 74.95216 \nL 141.12 74.95216 \nL 141.12 87.742748 \nL 118.8 87.742748 \nL 118.8 74.95216 \n\" style=\"fill:#440154;\"/>\n    <path clip-path=\"url(#p78ffced676)\" d=\"M 141.12 74.95216 \nL 163.44 74.95216 \nL 163.44 87.742748 \nL 141.12 87.742748 \nL 141.12 74.95216 \n\" style=\"fill:#440154;\"/>\n    <path clip-path=\"url(#p78ffced676)\" d=\"M 163.44 74.95216 \nL 185.76 74.95216 \nL 185.76 87.742748 \nL 163.44 87.742748 \nL 163.44 74.95216 \n\" style=\"fill:#440154;\"/>\n    <path clip-path=\"url(#p78ffced676)\" d=\"M 185.76 74.95216 \nL 208.08 74.95216 \nL 208.08 87.742748 \nL 185.76 87.742748 \nL 185.76 74.95216 \n\" style=\"fill:#440154;\"/>\n    <path clip-path=\"url(#p78ffced676)\" d=\"M 208.08 74.95216 \nL 230.4 74.95216 \nL 230.4 87.742748 \nL 208.08 87.742748 \nL 208.08 74.95216 \n\" style=\"fill:#440154;\"/>\n    <path clip-path=\"url(#p78ffced676)\" d=\"M 230.4 74.95216 \nL 252.72 74.95216 \nL 252.72 87.742748 \nL 230.4 87.742748 \nL 230.4 74.95216 \n\" style=\"fill:#440154;\"/>\n    <path clip-path=\"url(#p78ffced676)\" d=\"M 252.72 74.95216 \nL 275.04 74.95216 \nL 275.04 87.742748 \nL 252.72 87.742748 \nL 252.72 74.95216 \n\" style=\"fill:#440154;\"/>\n    <path clip-path=\"url(#p78ffced676)\" d=\"M 7.2 87.742748 \nL 29.52 87.742748 \nL 29.52 100.533336 \nL 7.2 100.533336 \nL 7.2 87.742748 \n\" style=\"fill:#440154;\"/>\n    <path clip-path=\"url(#p78ffced676)\" d=\"M 29.52 87.742748 \nL 51.84 87.742748 \nL 51.84 100.533336 \nL 29.52 100.533336 \nL 29.52 87.742748 \n\" style=\"fill:#440154;\"/>\n    <path clip-path=\"url(#p78ffced676)\" d=\"M 51.84 87.742748 \nL 74.16 87.742748 \nL 74.16 100.533336 \nL 51.84 100.533336 \nL 51.84 87.742748 \n\" style=\"fill:#440154;\"/>\n    <path clip-path=\"url(#p78ffced676)\" d=\"M 74.16 87.742748 \nL 96.48 87.742748 \nL 96.48 100.533336 \nL 74.16 100.533336 \nL 74.16 87.742748 \n\" style=\"fill:#440154;\"/>\n    <path clip-path=\"url(#p78ffced676)\" d=\"M 96.48 87.742748 \nL 118.8 87.742748 \nL 118.8 100.533336 \nL 96.48 100.533336 \nL 96.48 87.742748 \n\" style=\"fill:#440154;\"/>\n    <path clip-path=\"url(#p78ffced676)\" d=\"M 118.8 87.742748 \nL 141.12 87.742748 \nL 141.12 100.533336 \nL 118.8 100.533336 \nL 118.8 87.742748 \n\" style=\"fill:#440154;\"/>\n    <path clip-path=\"url(#p78ffced676)\" d=\"M 141.12 87.742748 \nL 163.44 87.742748 \nL 163.44 100.533336 \nL 141.12 100.533336 \nL 141.12 87.742748 \n\" style=\"fill:#440154;\"/>\n    <path clip-path=\"url(#p78ffced676)\" d=\"M 163.44 87.742748 \nL 185.76 87.742748 \nL 185.76 100.533336 \nL 163.44 100.533336 \nL 163.44 87.742748 \n\" style=\"fill:#440154;\"/>\n    <path clip-path=\"url(#p78ffced676)\" d=\"M 185.76 87.742748 \nL 208.08 87.742748 \nL 208.08 100.533336 \nL 185.76 100.533336 \nL 185.76 87.742748 \n\" style=\"fill:#440154;\"/>\n    <path clip-path=\"url(#p78ffced676)\" d=\"M 208.08 87.742748 \nL 230.4 87.742748 \nL 230.4 100.533336 \nL 208.08 100.533336 \nL 208.08 87.742748 \n\" style=\"fill:#440154;\"/>\n    <path clip-path=\"url(#p78ffced676)\" d=\"M 230.4 87.742748 \nL 252.72 87.742748 \nL 252.72 100.533336 \nL 230.4 100.533336 \nL 230.4 87.742748 \n\" style=\"fill:#440154;\"/>\n    <path clip-path=\"url(#p78ffced676)\" d=\"M 252.72 87.742748 \nL 275.04 87.742748 \nL 275.04 100.533336 \nL 252.72 100.533336 \nL 252.72 87.742748 \n\" style=\"fill:#440154;\"/>\n    <path clip-path=\"url(#p78ffced676)\" d=\"M 7.2 100.533336 \nL 29.52 100.533336 \nL 29.52 113.323925 \nL 7.2 113.323925 \nL 7.2 100.533336 \n\" style=\"fill:#440154;\"/>\n    <path clip-path=\"url(#p78ffced676)\" d=\"M 29.52 100.533336 \nL 51.84 100.533336 \nL 51.84 113.323925 \nL 29.52 113.323925 \nL 29.52 100.533336 \n\" style=\"fill:#440154;\"/>\n    <path clip-path=\"url(#p78ffced676)\" d=\"M 51.84 100.533336 \nL 74.16 100.533336 \nL 74.16 113.323925 \nL 51.84 113.323925 \nL 51.84 100.533336 \n\" style=\"fill:#440154;\"/>\n    <path clip-path=\"url(#p78ffced676)\" d=\"M 74.16 100.533336 \nL 96.48 100.533336 \nL 96.48 113.323925 \nL 74.16 113.323925 \nL 74.16 100.533336 \n\" style=\"fill:#440154;\"/>\n    <path clip-path=\"url(#p78ffced676)\" d=\"M 96.48 100.533336 \nL 118.8 100.533336 \nL 118.8 113.323925 \nL 96.48 113.323925 \nL 96.48 100.533336 \n\" style=\"fill:#440154;\"/>\n    <path clip-path=\"url(#p78ffced676)\" d=\"M 118.8 100.533336 \nL 141.12 100.533336 \nL 141.12 113.323925 \nL 118.8 113.323925 \nL 118.8 100.533336 \n\" style=\"fill:#440154;\"/>\n    <path clip-path=\"url(#p78ffced676)\" d=\"M 141.12 100.533336 \nL 163.44 100.533336 \nL 163.44 113.323925 \nL 141.12 113.323925 \nL 141.12 100.533336 \n\" style=\"fill:#440154;\"/>\n    <path clip-path=\"url(#p78ffced676)\" d=\"M 163.44 100.533336 \nL 185.76 100.533336 \nL 185.76 113.323925 \nL 163.44 113.323925 \nL 163.44 100.533336 \n\" style=\"fill:#440154;\"/>\n    <path clip-path=\"url(#p78ffced676)\" d=\"M 185.76 100.533336 \nL 208.08 100.533336 \nL 208.08 113.323925 \nL 185.76 113.323925 \nL 185.76 100.533336 \n\" style=\"fill:#440154;\"/>\n    <path clip-path=\"url(#p78ffced676)\" d=\"M 208.08 100.533336 \nL 230.4 100.533336 \nL 230.4 113.323925 \nL 208.08 113.323925 \nL 208.08 100.533336 \n\" style=\"fill:#440154;\"/>\n    <path clip-path=\"url(#p78ffced676)\" d=\"M 230.4 100.533336 \nL 252.72 100.533336 \nL 252.72 113.323925 \nL 230.4 113.323925 \nL 230.4 100.533336 \n\" style=\"fill:#440154;\"/>\n    <path clip-path=\"url(#p78ffced676)\" d=\"M 252.72 100.533336 \nL 275.04 100.533336 \nL 275.04 113.323925 \nL 252.72 113.323925 \nL 252.72 100.533336 \n\" style=\"fill:#440154;\"/>\n    <path clip-path=\"url(#p78ffced676)\" d=\"M 7.2 113.323925 \nL 29.52 113.323925 \nL 29.52 126.114513 \nL 7.2 126.114513 \nL 7.2 113.323925 \n\" style=\"fill:#fde725;\"/>\n    <path clip-path=\"url(#p78ffced676)\" d=\"M 29.52 113.323925 \nL 51.84 113.323925 \nL 51.84 126.114513 \nL 29.52 126.114513 \nL 29.52 113.323925 \n\" style=\"fill:#fde725;\"/>\n    <path clip-path=\"url(#p78ffced676)\" d=\"M 51.84 113.323925 \nL 74.16 113.323925 \nL 74.16 126.114513 \nL 51.84 126.114513 \nL 51.84 113.323925 \n\" style=\"fill:#fde725;\"/>\n    <path clip-path=\"url(#p78ffced676)\" d=\"M 74.16 113.323925 \nL 96.48 113.323925 \nL 96.48 126.114513 \nL 74.16 126.114513 \nL 74.16 113.323925 \n\" style=\"fill:#fde725;\"/>\n    <path clip-path=\"url(#p78ffced676)\" d=\"M 96.48 113.323925 \nL 118.8 113.323925 \nL 118.8 126.114513 \nL 96.48 126.114513 \nL 96.48 113.323925 \n\" style=\"fill:#fde725;\"/>\n    <path clip-path=\"url(#p78ffced676)\" d=\"M 118.8 113.323925 \nL 141.12 113.323925 \nL 141.12 126.114513 \nL 118.8 126.114513 \nL 118.8 113.323925 \n\" style=\"fill:#fde725;\"/>\n    <path clip-path=\"url(#p78ffced676)\" d=\"M 141.12 113.323925 \nL 163.44 113.323925 \nL 163.44 126.114513 \nL 141.12 126.114513 \nL 141.12 113.323925 \n\" style=\"fill:#fde725;\"/>\n    <path clip-path=\"url(#p78ffced676)\" d=\"M 163.44 113.323925 \nL 185.76 113.323925 \nL 185.76 126.114513 \nL 163.44 126.114513 \nL 163.44 113.323925 \n\" style=\"fill:#fde725;\"/>\n    <path clip-path=\"url(#p78ffced676)\" d=\"M 185.76 113.323925 \nL 208.08 113.323925 \nL 208.08 126.114513 \nL 185.76 126.114513 \nL 185.76 113.323925 \n\" style=\"fill:#fde725;\"/>\n    <path clip-path=\"url(#p78ffced676)\" d=\"M 208.08 113.323925 \nL 230.4 113.323925 \nL 230.4 126.114513 \nL 208.08 126.114513 \nL 208.08 113.323925 \n\" style=\"fill:#fde725;\"/>\n    <path clip-path=\"url(#p78ffced676)\" d=\"M 230.4 113.323925 \nL 252.72 113.323925 \nL 252.72 126.114513 \nL 230.4 126.114513 \nL 230.4 113.323925 \n\" style=\"fill:#fde725;\"/>\n    <path clip-path=\"url(#p78ffced676)\" d=\"M 252.72 113.323925 \nL 275.04 113.323925 \nL 275.04 126.114513 \nL 252.72 126.114513 \nL 252.72 113.323925 \n\" style=\"fill:#fde725;\"/>\n    <path clip-path=\"url(#p78ffced676)\" d=\"M 7.2 126.114513 \nL 29.52 126.114513 \nL 29.52 138.905101 \nL 7.2 138.905101 \nL 7.2 126.114513 \n\" style=\"fill:#fde725;\"/>\n    <path clip-path=\"url(#p78ffced676)\" d=\"M 29.52 126.114513 \nL 51.84 126.114513 \nL 51.84 138.905101 \nL 29.52 138.905101 \nL 29.52 126.114513 \n\" style=\"fill:#fde725;\"/>\n    <path clip-path=\"url(#p78ffced676)\" d=\"M 51.84 126.114513 \nL 74.16 126.114513 \nL 74.16 138.905101 \nL 51.84 138.905101 \nL 51.84 126.114513 \n\" style=\"fill:#fde725;\"/>\n    <path clip-path=\"url(#p78ffced676)\" d=\"M 74.16 126.114513 \nL 96.48 126.114513 \nL 96.48 138.905101 \nL 74.16 138.905101 \nL 74.16 126.114513 \n\" style=\"fill:#fde725;\"/>\n    <path clip-path=\"url(#p78ffced676)\" d=\"M 96.48 126.114513 \nL 118.8 126.114513 \nL 118.8 138.905101 \nL 96.48 138.905101 \nL 96.48 126.114513 \n\" style=\"fill:#fde725;\"/>\n    <path clip-path=\"url(#p78ffced676)\" d=\"M 118.8 126.114513 \nL 141.12 126.114513 \nL 141.12 138.905101 \nL 118.8 138.905101 \nL 118.8 126.114513 \n\" style=\"fill:#fde725;\"/>\n    <path clip-path=\"url(#p78ffced676)\" d=\"M 141.12 126.114513 \nL 163.44 126.114513 \nL 163.44 138.905101 \nL 141.12 138.905101 \nL 141.12 126.114513 \n\" style=\"fill:#fde725;\"/>\n    <path clip-path=\"url(#p78ffced676)\" d=\"M 163.44 126.114513 \nL 185.76 126.114513 \nL 185.76 138.905101 \nL 163.44 138.905101 \nL 163.44 126.114513 \n\" style=\"fill:#fde725;\"/>\n    <path clip-path=\"url(#p78ffced676)\" d=\"M 185.76 126.114513 \nL 208.08 126.114513 \nL 208.08 138.905101 \nL 185.76 138.905101 \nL 185.76 126.114513 \n\" style=\"fill:#fde725;\"/>\n    <path clip-path=\"url(#p78ffced676)\" d=\"M 208.08 126.114513 \nL 230.4 126.114513 \nL 230.4 138.905101 \nL 208.08 138.905101 \nL 208.08 126.114513 \n\" style=\"fill:#fde725;\"/>\n    <path clip-path=\"url(#p78ffced676)\" d=\"M 230.4 126.114513 \nL 252.72 126.114513 \nL 252.72 138.905101 \nL 230.4 138.905101 \nL 230.4 126.114513 \n\" style=\"fill:#fde725;\"/>\n    <path clip-path=\"url(#p78ffced676)\" d=\"M 252.72 126.114513 \nL 275.04 126.114513 \nL 275.04 138.905101 \nL 252.72 138.905101 \nL 252.72 126.114513 \n\" style=\"fill:#fde725;\"/>\n    <path clip-path=\"url(#p78ffced676)\" d=\"M 7.2 138.905101 \nL 29.52 138.905101 \nL 29.52 151.695689 \nL 7.2 151.695689 \nL 7.2 138.905101 \n\" style=\"fill:#440154;\"/>\n    <path clip-path=\"url(#p78ffced676)\" d=\"M 29.52 138.905101 \nL 51.84 138.905101 \nL 51.84 151.695689 \nL 29.52 151.695689 \nL 29.52 138.905101 \n\" style=\"fill:#440154;\"/>\n    <path clip-path=\"url(#p78ffced676)\" d=\"M 51.84 138.905101 \nL 74.16 138.905101 \nL 74.16 151.695689 \nL 51.84 151.695689 \nL 51.84 138.905101 \n\" style=\"fill:#440154;\"/>\n    <path clip-path=\"url(#p78ffced676)\" d=\"M 74.16 138.905101 \nL 96.48 138.905101 \nL 96.48 151.695689 \nL 74.16 151.695689 \nL 74.16 138.905101 \n\" style=\"fill:#440154;\"/>\n    <path clip-path=\"url(#p78ffced676)\" d=\"M 96.48 138.905101 \nL 118.8 138.905101 \nL 118.8 151.695689 \nL 96.48 151.695689 \nL 96.48 138.905101 \n\" style=\"fill:#440154;\"/>\n    <path clip-path=\"url(#p78ffced676)\" d=\"M 118.8 138.905101 \nL 141.12 138.905101 \nL 141.12 151.695689 \nL 118.8 151.695689 \nL 118.8 138.905101 \n\" style=\"fill:#440154;\"/>\n    <path clip-path=\"url(#p78ffced676)\" d=\"M 141.12 138.905101 \nL 163.44 138.905101 \nL 163.44 151.695689 \nL 141.12 151.695689 \nL 141.12 138.905101 \n\" style=\"fill:#440154;\"/>\n    <path clip-path=\"url(#p78ffced676)\" d=\"M 163.44 138.905101 \nL 185.76 138.905101 \nL 185.76 151.695689 \nL 163.44 151.695689 \nL 163.44 138.905101 \n\" style=\"fill:#440154;\"/>\n    <path clip-path=\"url(#p78ffced676)\" d=\"M 185.76 138.905101 \nL 208.08 138.905101 \nL 208.08 151.695689 \nL 185.76 151.695689 \nL 185.76 138.905101 \n\" style=\"fill:#440154;\"/>\n    <path clip-path=\"url(#p78ffced676)\" d=\"M 208.08 138.905101 \nL 230.4 138.905101 \nL 230.4 151.695689 \nL 208.08 151.695689 \nL 208.08 138.905101 \n\" style=\"fill:#440154;\"/>\n    <path clip-path=\"url(#p78ffced676)\" d=\"M 230.4 138.905101 \nL 252.72 138.905101 \nL 252.72 151.695689 \nL 230.4 151.695689 \nL 230.4 138.905101 \n\" style=\"fill:#440154;\"/>\n    <path clip-path=\"url(#p78ffced676)\" d=\"M 252.72 138.905101 \nL 275.04 138.905101 \nL 275.04 151.695689 \nL 252.72 151.695689 \nL 252.72 138.905101 \n\" style=\"fill:#440154;\"/>\n    <path clip-path=\"url(#p78ffced676)\" d=\"M 7.2 151.695689 \nL 29.52 151.695689 \nL 29.52 164.486278 \nL 7.2 164.486278 \nL 7.2 151.695689 \n\" style=\"fill:#440154;\"/>\n    <path clip-path=\"url(#p78ffced676)\" d=\"M 29.52 151.695689 \nL 51.84 151.695689 \nL 51.84 164.486278 \nL 29.52 164.486278 \nL 29.52 151.695689 \n\" style=\"fill:#440154;\"/>\n    <path clip-path=\"url(#p78ffced676)\" d=\"M 51.84 151.695689 \nL 74.16 151.695689 \nL 74.16 164.486278 \nL 51.84 164.486278 \nL 51.84 151.695689 \n\" style=\"fill:#440154;\"/>\n    <path clip-path=\"url(#p78ffced676)\" d=\"M 74.16 151.695689 \nL 96.48 151.695689 \nL 96.48 164.486278 \nL 74.16 164.486278 \nL 74.16 151.695689 \n\" style=\"fill:#440154;\"/>\n    <path clip-path=\"url(#p78ffced676)\" d=\"M 96.48 151.695689 \nL 118.8 151.695689 \nL 118.8 164.486278 \nL 96.48 164.486278 \nL 96.48 151.695689 \n\" style=\"fill:#440154;\"/>\n    <path clip-path=\"url(#p78ffced676)\" d=\"M 118.8 151.695689 \nL 141.12 151.695689 \nL 141.12 164.486278 \nL 118.8 164.486278 \nL 118.8 151.695689 \n\" style=\"fill:#440154;\"/>\n    <path clip-path=\"url(#p78ffced676)\" d=\"M 141.12 151.695689 \nL 163.44 151.695689 \nL 163.44 164.486278 \nL 141.12 164.486278 \nL 141.12 151.695689 \n\" style=\"fill:#440154;\"/>\n    <path clip-path=\"url(#p78ffced676)\" d=\"M 163.44 151.695689 \nL 185.76 151.695689 \nL 185.76 164.486278 \nL 163.44 164.486278 \nL 163.44 151.695689 \n\" style=\"fill:#440154;\"/>\n    <path clip-path=\"url(#p78ffced676)\" d=\"M 185.76 151.695689 \nL 208.08 151.695689 \nL 208.08 164.486278 \nL 185.76 164.486278 \nL 185.76 151.695689 \n\" style=\"fill:#440154;\"/>\n    <path clip-path=\"url(#p78ffced676)\" d=\"M 208.08 151.695689 \nL 230.4 151.695689 \nL 230.4 164.486278 \nL 208.08 164.486278 \nL 208.08 151.695689 \n\" style=\"fill:#440154;\"/>\n    <path clip-path=\"url(#p78ffced676)\" d=\"M 230.4 151.695689 \nL 252.72 151.695689 \nL 252.72 164.486278 \nL 230.4 164.486278 \nL 230.4 151.695689 \n\" style=\"fill:#440154;\"/>\n    <path clip-path=\"url(#p78ffced676)\" d=\"M 252.72 151.695689 \nL 275.04 151.695689 \nL 275.04 164.486278 \nL 252.72 164.486278 \nL 252.72 151.695689 \n\" style=\"fill:#440154;\"/>\n    <path clip-path=\"url(#p78ffced676)\" d=\"M 7.2 164.486278 \nL 29.52 164.486278 \nL 29.52 177.276866 \nL 7.2 177.276866 \nL 7.2 164.486278 \n\" style=\"fill:#440154;\"/>\n    <path clip-path=\"url(#p78ffced676)\" d=\"M 29.52 164.486278 \nL 51.84 164.486278 \nL 51.84 177.276866 \nL 29.52 177.276866 \nL 29.52 164.486278 \n\" style=\"fill:#440154;\"/>\n    <path clip-path=\"url(#p78ffced676)\" d=\"M 51.84 164.486278 \nL 74.16 164.486278 \nL 74.16 177.276866 \nL 51.84 177.276866 \nL 51.84 164.486278 \n\" style=\"fill:#fde725;\"/>\n    <path clip-path=\"url(#p78ffced676)\" d=\"M 74.16 164.486278 \nL 96.48 164.486278 \nL 96.48 177.276866 \nL 74.16 177.276866 \nL 74.16 164.486278 \n\" style=\"fill:#440154;\"/>\n    <path clip-path=\"url(#p78ffced676)\" d=\"M 96.48 164.486278 \nL 118.8 164.486278 \nL 118.8 177.276866 \nL 96.48 177.276866 \nL 96.48 164.486278 \n\" style=\"fill:#440154;\"/>\n    <path clip-path=\"url(#p78ffced676)\" d=\"M 118.8 164.486278 \nL 141.12 164.486278 \nL 141.12 177.276866 \nL 118.8 177.276866 \nL 118.8 164.486278 \n\" style=\"fill:#440154;\"/>\n    <path clip-path=\"url(#p78ffced676)\" d=\"M 141.12 164.486278 \nL 163.44 164.486278 \nL 163.44 177.276866 \nL 141.12 177.276866 \nL 141.12 164.486278 \n\" style=\"fill:#440154;\"/>\n    <path clip-path=\"url(#p78ffced676)\" d=\"M 163.44 164.486278 \nL 185.76 164.486278 \nL 185.76 177.276866 \nL 163.44 177.276866 \nL 163.44 164.486278 \n\" style=\"fill:#440154;\"/>\n    <path clip-path=\"url(#p78ffced676)\" d=\"M 185.76 164.486278 \nL 208.08 164.486278 \nL 208.08 177.276866 \nL 185.76 177.276866 \nL 185.76 164.486278 \n\" style=\"fill:#440154;\"/>\n    <path clip-path=\"url(#p78ffced676)\" d=\"M 208.08 164.486278 \nL 230.4 164.486278 \nL 230.4 177.276866 \nL 208.08 177.276866 \nL 208.08 164.486278 \n\" style=\"fill:#440154;\"/>\n    <path clip-path=\"url(#p78ffced676)\" d=\"M 230.4 164.486278 \nL 252.72 164.486278 \nL 252.72 177.276866 \nL 230.4 177.276866 \nL 230.4 164.486278 \n\" style=\"fill:#440154;\"/>\n    <path clip-path=\"url(#p78ffced676)\" d=\"M 252.72 164.486278 \nL 275.04 164.486278 \nL 275.04 177.276866 \nL 252.72 177.276866 \nL 252.72 164.486278 \n\" style=\"fill:#440154;\"/>\n    <path clip-path=\"url(#p78ffced676)\" d=\"M 7.2 177.276866 \nL 29.52 177.276866 \nL 29.52 190.067454 \nL 7.2 190.067454 \nL 7.2 177.276866 \n\" style=\"fill:#440154;\"/>\n    <path clip-path=\"url(#p78ffced676)\" d=\"M 29.52 177.276866 \nL 51.84 177.276866 \nL 51.84 190.067454 \nL 29.52 190.067454 \nL 29.52 177.276866 \n\" style=\"fill:#440154;\"/>\n    <path clip-path=\"url(#p78ffced676)\" d=\"M 51.84 177.276866 \nL 74.16 177.276866 \nL 74.16 190.067454 \nL 51.84 190.067454 \nL 51.84 177.276866 \n\" style=\"fill:#440154;\"/>\n    <path clip-path=\"url(#p78ffced676)\" d=\"M 74.16 177.276866 \nL 96.48 177.276866 \nL 96.48 190.067454 \nL 74.16 190.067454 \nL 74.16 177.276866 \n\" style=\"fill:#fde725;\"/>\n    <path clip-path=\"url(#p78ffced676)\" d=\"M 96.48 177.276866 \nL 118.8 177.276866 \nL 118.8 190.067454 \nL 96.48 190.067454 \nL 96.48 177.276866 \n\" style=\"fill:#440154;\"/>\n    <path clip-path=\"url(#p78ffced676)\" d=\"M 118.8 177.276866 \nL 141.12 177.276866 \nL 141.12 190.067454 \nL 118.8 190.067454 \nL 118.8 177.276866 \n\" style=\"fill:#440154;\"/>\n    <path clip-path=\"url(#p78ffced676)\" d=\"M 141.12 177.276866 \nL 163.44 177.276866 \nL 163.44 190.067454 \nL 141.12 190.067454 \nL 141.12 177.276866 \n\" style=\"fill:#440154;\"/>\n    <path clip-path=\"url(#p78ffced676)\" d=\"M 163.44 177.276866 \nL 185.76 177.276866 \nL 185.76 190.067454 \nL 163.44 190.067454 \nL 163.44 177.276866 \n\" style=\"fill:#440154;\"/>\n    <path clip-path=\"url(#p78ffced676)\" d=\"M 185.76 177.276866 \nL 208.08 177.276866 \nL 208.08 190.067454 \nL 185.76 190.067454 \nL 185.76 177.276866 \n\" style=\"fill:#440154;\"/>\n    <path clip-path=\"url(#p78ffced676)\" d=\"M 208.08 177.276866 \nL 230.4 177.276866 \nL 230.4 190.067454 \nL 208.08 190.067454 \nL 208.08 177.276866 \n\" style=\"fill:#440154;\"/>\n    <path clip-path=\"url(#p78ffced676)\" d=\"M 230.4 177.276866 \nL 252.72 177.276866 \nL 252.72 190.067454 \nL 230.4 190.067454 \nL 230.4 177.276866 \n\" style=\"fill:#440154;\"/>\n    <path clip-path=\"url(#p78ffced676)\" d=\"M 252.72 177.276866 \nL 275.04 177.276866 \nL 275.04 190.067454 \nL 252.72 190.067454 \nL 252.72 177.276866 \n\" style=\"fill:#440154;\"/>\n    <path clip-path=\"url(#p78ffced676)\" d=\"M 7.2 190.067454 \nL 29.52 190.067454 \nL 29.52 202.858042 \nL 7.2 202.858042 \nL 7.2 190.067454 \n\" style=\"fill:#440154;\"/>\n    <path clip-path=\"url(#p78ffced676)\" d=\"M 29.52 190.067454 \nL 51.84 190.067454 \nL 51.84 202.858042 \nL 29.52 202.858042 \nL 29.52 190.067454 \n\" style=\"fill:#440154;\"/>\n    <path clip-path=\"url(#p78ffced676)\" d=\"M 51.84 190.067454 \nL 74.16 190.067454 \nL 74.16 202.858042 \nL 51.84 202.858042 \nL 51.84 190.067454 \n\" style=\"fill:#fde725;\"/>\n    <path clip-path=\"url(#p78ffced676)\" d=\"M 74.16 190.067454 \nL 96.48 190.067454 \nL 96.48 202.858042 \nL 74.16 202.858042 \nL 74.16 190.067454 \n\" style=\"fill:#fde725;\"/>\n    <path clip-path=\"url(#p78ffced676)\" d=\"M 96.48 190.067454 \nL 118.8 190.067454 \nL 118.8 202.858042 \nL 96.48 202.858042 \nL 96.48 190.067454 \n\" style=\"fill:#440154;\"/>\n    <path clip-path=\"url(#p78ffced676)\" d=\"M 118.8 190.067454 \nL 141.12 190.067454 \nL 141.12 202.858042 \nL 118.8 202.858042 \nL 118.8 190.067454 \n\" style=\"fill:#440154;\"/>\n    <path clip-path=\"url(#p78ffced676)\" d=\"M 141.12 190.067454 \nL 163.44 190.067454 \nL 163.44 202.858042 \nL 141.12 202.858042 \nL 141.12 190.067454 \n\" style=\"fill:#440154;\"/>\n    <path clip-path=\"url(#p78ffced676)\" d=\"M 163.44 190.067454 \nL 185.76 190.067454 \nL 185.76 202.858042 \nL 163.44 202.858042 \nL 163.44 190.067454 \n\" style=\"fill:#440154;\"/>\n    <path clip-path=\"url(#p78ffced676)\" d=\"M 185.76 190.067454 \nL 208.08 190.067454 \nL 208.08 202.858042 \nL 185.76 202.858042 \nL 185.76 190.067454 \n\" style=\"fill:#440154;\"/>\n    <path clip-path=\"url(#p78ffced676)\" d=\"M 208.08 190.067454 \nL 230.4 190.067454 \nL 230.4 202.858042 \nL 208.08 202.858042 \nL 208.08 190.067454 \n\" style=\"fill:#440154;\"/>\n    <path clip-path=\"url(#p78ffced676)\" d=\"M 230.4 190.067454 \nL 252.72 190.067454 \nL 252.72 202.858042 \nL 230.4 202.858042 \nL 230.4 190.067454 \n\" style=\"fill:#440154;\"/>\n    <path clip-path=\"url(#p78ffced676)\" d=\"M 252.72 190.067454 \nL 275.04 190.067454 \nL 275.04 202.858042 \nL 252.72 202.858042 \nL 252.72 190.067454 \n\" style=\"fill:#440154;\"/>\n    <path clip-path=\"url(#p78ffced676)\" d=\"M 7.2 202.858042 \nL 29.52 202.858042 \nL 29.52 215.648631 \nL 7.2 215.648631 \nL 7.2 202.858042 \n\" style=\"fill:#440154;\"/>\n    <path clip-path=\"url(#p78ffced676)\" d=\"M 29.52 202.858042 \nL 51.84 202.858042 \nL 51.84 215.648631 \nL 29.52 215.648631 \nL 29.52 202.858042 \n\" style=\"fill:#440154;\"/>\n    <path clip-path=\"url(#p78ffced676)\" d=\"M 51.84 202.858042 \nL 74.16 202.858042 \nL 74.16 215.648631 \nL 51.84 215.648631 \nL 51.84 202.858042 \n\" style=\"fill:#fde725;\"/>\n    <path clip-path=\"url(#p78ffced676)\" d=\"M 74.16 202.858042 \nL 96.48 202.858042 \nL 96.48 215.648631 \nL 74.16 215.648631 \nL 74.16 202.858042 \n\" style=\"fill:#fde725;\"/>\n    <path clip-path=\"url(#p78ffced676)\" d=\"M 96.48 202.858042 \nL 118.8 202.858042 \nL 118.8 215.648631 \nL 96.48 215.648631 \nL 96.48 202.858042 \n\" style=\"fill:#fde725;\"/>\n    <path clip-path=\"url(#p78ffced676)\" d=\"M 118.8 202.858042 \nL 141.12 202.858042 \nL 141.12 215.648631 \nL 118.8 215.648631 \nL 118.8 202.858042 \n\" style=\"fill:#fde725;\"/>\n    <path clip-path=\"url(#p78ffced676)\" d=\"M 141.12 202.858042 \nL 163.44 202.858042 \nL 163.44 215.648631 \nL 141.12 215.648631 \nL 141.12 202.858042 \n\" style=\"fill:#fde725;\"/>\n    <path clip-path=\"url(#p78ffced676)\" d=\"M 163.44 202.858042 \nL 185.76 202.858042 \nL 185.76 215.648631 \nL 163.44 215.648631 \nL 163.44 202.858042 \n\" style=\"fill:#fde725;\"/>\n    <path clip-path=\"url(#p78ffced676)\" d=\"M 185.76 202.858042 \nL 208.08 202.858042 \nL 208.08 215.648631 \nL 185.76 215.648631 \nL 185.76 202.858042 \n\" style=\"fill:#fde725;\"/>\n    <path clip-path=\"url(#p78ffced676)\" d=\"M 208.08 202.858042 \nL 230.4 202.858042 \nL 230.4 215.648631 \nL 208.08 215.648631 \nL 208.08 202.858042 \n\" style=\"fill:#fde725;\"/>\n    <path clip-path=\"url(#p78ffced676)\" d=\"M 230.4 202.858042 \nL 252.72 202.858042 \nL 252.72 215.648631 \nL 230.4 215.648631 \nL 230.4 202.858042 \n\" style=\"fill:#440154;\"/>\n    <path clip-path=\"url(#p78ffced676)\" d=\"M 252.72 202.858042 \nL 275.04 202.858042 \nL 275.04 215.648631 \nL 252.72 215.648631 \nL 252.72 202.858042 \n\" style=\"fill:#fde725;\"/>\n    <path clip-path=\"url(#p78ffced676)\" d=\"M 7.2 215.648631 \nL 29.52 215.648631 \nL 29.52 228.439219 \nL 7.2 228.439219 \nL 7.2 215.648631 \n\" style=\"fill:#440154;\"/>\n    <path clip-path=\"url(#p78ffced676)\" d=\"M 29.52 215.648631 \nL 51.84 215.648631 \nL 51.84 228.439219 \nL 29.52 228.439219 \nL 29.52 215.648631 \n\" style=\"fill:#fde725;\"/>\n    <path clip-path=\"url(#p78ffced676)\" d=\"M 51.84 215.648631 \nL 74.16 215.648631 \nL 74.16 228.439219 \nL 51.84 228.439219 \nL 51.84 215.648631 \n\" style=\"fill:#440154;\"/>\n    <path clip-path=\"url(#p78ffced676)\" d=\"M 74.16 215.648631 \nL 96.48 215.648631 \nL 96.48 228.439219 \nL 74.16 228.439219 \nL 74.16 215.648631 \n\" style=\"fill:#440154;\"/>\n    <path clip-path=\"url(#p78ffced676)\" d=\"M 96.48 215.648631 \nL 118.8 215.648631 \nL 118.8 228.439219 \nL 96.48 228.439219 \nL 96.48 215.648631 \n\" style=\"fill:#440154;\"/>\n    <path clip-path=\"url(#p78ffced676)\" d=\"M 118.8 215.648631 \nL 141.12 215.648631 \nL 141.12 228.439219 \nL 118.8 228.439219 \nL 118.8 215.648631 \n\" style=\"fill:#440154;\"/>\n    <path clip-path=\"url(#p78ffced676)\" d=\"M 141.12 215.648631 \nL 163.44 215.648631 \nL 163.44 228.439219 \nL 141.12 228.439219 \nL 141.12 215.648631 \n\" style=\"fill:#440154;\"/>\n    <path clip-path=\"url(#p78ffced676)\" d=\"M 163.44 215.648631 \nL 185.76 215.648631 \nL 185.76 228.439219 \nL 163.44 228.439219 \nL 163.44 215.648631 \n\" style=\"fill:#440154;\"/>\n    <path clip-path=\"url(#p78ffced676)\" d=\"M 185.76 215.648631 \nL 208.08 215.648631 \nL 208.08 228.439219 \nL 185.76 228.439219 \nL 185.76 215.648631 \n\" style=\"fill:#440154;\"/>\n    <path clip-path=\"url(#p78ffced676)\" d=\"M 208.08 215.648631 \nL 230.4 215.648631 \nL 230.4 228.439219 \nL 208.08 228.439219 \nL 208.08 215.648631 \n\" style=\"fill:#440154;\"/>\n    <path clip-path=\"url(#p78ffced676)\" d=\"M 230.4 215.648631 \nL 252.72 215.648631 \nL 252.72 228.439219 \nL 230.4 228.439219 \nL 230.4 215.648631 \n\" style=\"fill:#fde725;\"/>\n    <path clip-path=\"url(#p78ffced676)\" d=\"M 252.72 215.648631 \nL 275.04 215.648631 \nL 275.04 228.439219 \nL 252.72 228.439219 \nL 252.72 215.648631 \n\" style=\"fill:#fde725;\"/>\n   </g>\n   <g id=\"matplotlib.axis_1\">\n    <g id=\"xtick_1\">\n     <g id=\"line2d_1\">\n      <defs>\n       <path d=\"M 0 0 \nL 0 3.5 \n\" id=\"m916e42169b\" style=\"stroke:#000000;stroke-width:0.8;\"/>\n      </defs>\n      <g>\n       <use style=\"stroke:#000000;stroke-width:0.8;\" x=\"18.36\" xlink:href=\"#m916e42169b\" y=\"228.439219\"/>\n      </g>\n     </g>\n     <g id=\"text_1\">\n      <!-- ID -->\n      <defs>\n       <path d=\"M 9.8125 72.90625 \nL 19.671875 72.90625 \nL 19.671875 0 \nL 9.8125 0 \nz\n\" id=\"DejaVuSans-73\"/>\n       <path d=\"M 19.671875 64.796875 \nL 19.671875 8.109375 \nL 31.59375 8.109375 \nQ 46.6875 8.109375 53.6875 14.9375 \nQ 60.6875 21.78125 60.6875 36.53125 \nQ 60.6875 51.171875 53.6875 57.984375 \nQ 46.6875 64.796875 31.59375 64.796875 \nz\nM 9.8125 72.90625 \nL 30.078125 72.90625 \nQ 51.265625 72.90625 61.171875 64.09375 \nQ 71.09375 55.28125 71.09375 36.53125 \nQ 71.09375 17.671875 61.125 8.828125 \nQ 51.171875 0 30.078125 0 \nL 9.8125 0 \nz\n\" id=\"DejaVuSans-68\"/>\n      </defs>\n      <g transform=\"translate(21.119375 246.089219)rotate(-90)scale(0.1 -0.1)\">\n       <use xlink:href=\"#DejaVuSans-73\"/>\n       <use x=\"29.492188\" xlink:href=\"#DejaVuSans-68\"/>\n      </g>\n     </g>\n    </g>\n    <g id=\"xtick_2\">\n     <g id=\"line2d_2\">\n      <g>\n       <use style=\"stroke:#000000;stroke-width:0.8;\" x=\"40.68\" xlink:href=\"#m916e42169b\" y=\"228.439219\"/>\n      </g>\n     </g>\n     <g id=\"text_2\">\n      <!-- Name -->\n      <defs>\n       <path d=\"M 9.8125 72.90625 \nL 23.09375 72.90625 \nL 55.421875 11.921875 \nL 55.421875 72.90625 \nL 64.984375 72.90625 \nL 64.984375 0 \nL 51.703125 0 \nL 19.390625 60.984375 \nL 19.390625 0 \nL 9.8125 0 \nz\n\" id=\"DejaVuSans-78\"/>\n       <path d=\"M 34.28125 27.484375 \nQ 23.390625 27.484375 19.1875 25 \nQ 14.984375 22.515625 14.984375 16.5 \nQ 14.984375 11.71875 18.140625 8.90625 \nQ 21.296875 6.109375 26.703125 6.109375 \nQ 34.1875 6.109375 38.703125 11.40625 \nQ 43.21875 16.703125 43.21875 25.484375 \nL 43.21875 27.484375 \nz\nM 52.203125 31.203125 \nL 52.203125 0 \nL 43.21875 0 \nL 43.21875 8.296875 \nQ 40.140625 3.328125 35.546875 0.953125 \nQ 30.953125 -1.421875 24.3125 -1.421875 \nQ 15.921875 -1.421875 10.953125 3.296875 \nQ 6 8.015625 6 15.921875 \nQ 6 25.140625 12.171875 29.828125 \nQ 18.359375 34.515625 30.609375 34.515625 \nL 43.21875 34.515625 \nL 43.21875 35.40625 \nQ 43.21875 41.609375 39.140625 45 \nQ 35.0625 48.390625 27.6875 48.390625 \nQ 23 48.390625 18.546875 47.265625 \nQ 14.109375 46.140625 10.015625 43.890625 \nL 10.015625 52.203125 \nQ 14.9375 54.109375 19.578125 55.046875 \nQ 24.21875 56 28.609375 56 \nQ 40.484375 56 46.34375 49.84375 \nQ 52.203125 43.703125 52.203125 31.203125 \nz\n\" id=\"DejaVuSans-97\"/>\n       <path d=\"M 52 44.1875 \nQ 55.375 50.25 60.0625 53.125 \nQ 64.75 56 71.09375 56 \nQ 79.640625 56 84.28125 50.015625 \nQ 88.921875 44.046875 88.921875 33.015625 \nL 88.921875 0 \nL 79.890625 0 \nL 79.890625 32.71875 \nQ 79.890625 40.578125 77.09375 44.375 \nQ 74.3125 48.1875 68.609375 48.1875 \nQ 61.625 48.1875 57.5625 43.546875 \nQ 53.515625 38.921875 53.515625 30.90625 \nL 53.515625 0 \nL 44.484375 0 \nL 44.484375 32.71875 \nQ 44.484375 40.625 41.703125 44.40625 \nQ 38.921875 48.1875 33.109375 48.1875 \nQ 26.21875 48.1875 22.15625 43.53125 \nQ 18.109375 38.875 18.109375 30.90625 \nL 18.109375 0 \nL 9.078125 0 \nL 9.078125 54.6875 \nL 18.109375 54.6875 \nL 18.109375 46.1875 \nQ 21.1875 51.21875 25.484375 53.609375 \nQ 29.78125 56 35.6875 56 \nQ 41.65625 56 45.828125 52.96875 \nQ 50 49.953125 52 44.1875 \nz\n\" id=\"DejaVuSans-109\"/>\n       <path d=\"M 56.203125 29.59375 \nL 56.203125 25.203125 \nL 14.890625 25.203125 \nQ 15.484375 15.921875 20.484375 11.0625 \nQ 25.484375 6.203125 34.421875 6.203125 \nQ 39.59375 6.203125 44.453125 7.46875 \nQ 49.3125 8.734375 54.109375 11.28125 \nL 54.109375 2.78125 \nQ 49.265625 0.734375 44.1875 -0.34375 \nQ 39.109375 -1.421875 33.890625 -1.421875 \nQ 20.796875 -1.421875 13.15625 6.1875 \nQ 5.515625 13.8125 5.515625 26.8125 \nQ 5.515625 40.234375 12.765625 48.109375 \nQ 20.015625 56 32.328125 56 \nQ 43.359375 56 49.78125 48.890625 \nQ 56.203125 41.796875 56.203125 29.59375 \nz\nM 47.21875 32.234375 \nQ 47.125 39.59375 43.09375 43.984375 \nQ 39.0625 48.390625 32.421875 48.390625 \nQ 24.90625 48.390625 20.390625 44.140625 \nQ 15.875 39.890625 15.1875 32.171875 \nz\n\" id=\"DejaVuSans-101\"/>\n      </defs>\n      <g transform=\"translate(43.439375 264.942344)rotate(-90)scale(0.1 -0.1)\">\n       <use xlink:href=\"#DejaVuSans-78\"/>\n       <use x=\"74.804688\" xlink:href=\"#DejaVuSans-97\"/>\n       <use x=\"136.083984\" xlink:href=\"#DejaVuSans-109\"/>\n       <use x=\"233.496094\" xlink:href=\"#DejaVuSans-101\"/>\n      </g>\n     </g>\n    </g>\n    <g id=\"xtick_3\">\n     <g id=\"line2d_3\">\n      <g>\n       <use style=\"stroke:#000000;stroke-width:0.8;\" x=\"63\" xlink:href=\"#m916e42169b\" y=\"228.439219\"/>\n      </g>\n     </g>\n     <g id=\"text_3\">\n      <!-- Age -->\n      <defs>\n       <path d=\"M 34.1875 63.1875 \nL 20.796875 26.90625 \nL 47.609375 26.90625 \nz\nM 28.609375 72.90625 \nL 39.796875 72.90625 \nL 67.578125 0 \nL 57.328125 0 \nL 50.6875 18.703125 \nL 17.828125 18.703125 \nL 11.1875 0 \nL 0.78125 0 \nz\n\" id=\"DejaVuSans-65\"/>\n       <path d=\"M 45.40625 27.984375 \nQ 45.40625 37.75 41.375 43.109375 \nQ 37.359375 48.484375 30.078125 48.484375 \nQ 22.859375 48.484375 18.828125 43.109375 \nQ 14.796875 37.75 14.796875 27.984375 \nQ 14.796875 18.265625 18.828125 12.890625 \nQ 22.859375 7.515625 30.078125 7.515625 \nQ 37.359375 7.515625 41.375 12.890625 \nQ 45.40625 18.265625 45.40625 27.984375 \nz\nM 54.390625 6.78125 \nQ 54.390625 -7.171875 48.1875 -13.984375 \nQ 42 -20.796875 29.203125 -20.796875 \nQ 24.46875 -20.796875 20.265625 -20.09375 \nQ 16.0625 -19.390625 12.109375 -17.921875 \nL 12.109375 -9.1875 \nQ 16.0625 -11.328125 19.921875 -12.34375 \nQ 23.78125 -13.375 27.78125 -13.375 \nQ 36.625 -13.375 41.015625 -8.765625 \nQ 45.40625 -4.15625 45.40625 5.171875 \nL 45.40625 9.625 \nQ 42.625 4.78125 38.28125 2.390625 \nQ 33.9375 0 27.875 0 \nQ 17.828125 0 11.671875 7.65625 \nQ 5.515625 15.328125 5.515625 27.984375 \nQ 5.515625 40.671875 11.671875 48.328125 \nQ 17.828125 56 27.875 56 \nQ 33.9375 56 38.28125 53.609375 \nQ 42.625 51.21875 45.40625 46.390625 \nL 45.40625 54.6875 \nL 54.390625 54.6875 \nz\n\" id=\"DejaVuSans-103\"/>\n      </defs>\n      <g transform=\"translate(65.759375 254.781406)rotate(-90)scale(0.1 -0.1)\">\n       <use xlink:href=\"#DejaVuSans-65\"/>\n       <use x=\"68.408203\" xlink:href=\"#DejaVuSans-103\"/>\n       <use x=\"131.884766\" xlink:href=\"#DejaVuSans-101\"/>\n      </g>\n     </g>\n    </g>\n    <g id=\"xtick_4\">\n     <g id=\"line2d_4\">\n      <g>\n       <use style=\"stroke:#000000;stroke-width:0.8;\" x=\"85.32\" xlink:href=\"#m916e42169b\" y=\"228.439219\"/>\n      </g>\n     </g>\n     <g id=\"text_4\">\n      <!-- Weight -->\n      <defs>\n       <path d=\"M 3.328125 72.90625 \nL 13.28125 72.90625 \nL 28.609375 11.28125 \nL 43.890625 72.90625 \nL 54.984375 72.90625 \nL 70.3125 11.28125 \nL 85.59375 72.90625 \nL 95.609375 72.90625 \nL 77.296875 0 \nL 64.890625 0 \nL 49.515625 63.28125 \nL 33.984375 0 \nL 21.578125 0 \nz\n\" id=\"DejaVuSans-87\"/>\n       <path d=\"M 9.421875 54.6875 \nL 18.40625 54.6875 \nL 18.40625 0 \nL 9.421875 0 \nz\nM 9.421875 75.984375 \nL 18.40625 75.984375 \nL 18.40625 64.59375 \nL 9.421875 64.59375 \nz\n\" id=\"DejaVuSans-105\"/>\n       <path d=\"M 54.890625 33.015625 \nL 54.890625 0 \nL 45.90625 0 \nL 45.90625 32.71875 \nQ 45.90625 40.484375 42.875 44.328125 \nQ 39.84375 48.1875 33.796875 48.1875 \nQ 26.515625 48.1875 22.3125 43.546875 \nQ 18.109375 38.921875 18.109375 30.90625 \nL 18.109375 0 \nL 9.078125 0 \nL 9.078125 75.984375 \nL 18.109375 75.984375 \nL 18.109375 46.1875 \nQ 21.34375 51.125 25.703125 53.5625 \nQ 30.078125 56 35.796875 56 \nQ 45.21875 56 50.046875 50.171875 \nQ 54.890625 44.34375 54.890625 33.015625 \nz\n\" id=\"DejaVuSans-104\"/>\n       <path d=\"M 18.3125 70.21875 \nL 18.3125 54.6875 \nL 36.8125 54.6875 \nL 36.8125 47.703125 \nL 18.3125 47.703125 \nL 18.3125 18.015625 \nQ 18.3125 11.328125 20.140625 9.421875 \nQ 21.96875 7.515625 27.59375 7.515625 \nL 36.8125 7.515625 \nL 36.8125 0 \nL 27.59375 0 \nQ 17.1875 0 13.234375 3.875 \nQ 9.28125 7.765625 9.28125 18.015625 \nL 9.28125 47.703125 \nL 2.6875 47.703125 \nL 2.6875 54.6875 \nL 9.28125 54.6875 \nL 9.28125 70.21875 \nz\n\" id=\"DejaVuSans-116\"/>\n      </defs>\n      <g transform=\"translate(88.079375 270.276719)rotate(-90)scale(0.1 -0.1)\">\n       <use xlink:href=\"#DejaVuSans-87\"/>\n       <use x=\"93.001953\" xlink:href=\"#DejaVuSans-101\"/>\n       <use x=\"154.525391\" xlink:href=\"#DejaVuSans-105\"/>\n       <use x=\"182.308594\" xlink:href=\"#DejaVuSans-103\"/>\n       <use x=\"245.785156\" xlink:href=\"#DejaVuSans-104\"/>\n       <use x=\"309.164062\" xlink:href=\"#DejaVuSans-116\"/>\n      </g>\n     </g>\n    </g>\n    <g id=\"xtick_5\">\n     <g id=\"line2d_5\">\n      <g>\n       <use style=\"stroke:#000000;stroke-width:0.8;\" x=\"107.64\" xlink:href=\"#m916e42169b\" y=\"228.439219\"/>\n      </g>\n     </g>\n     <g id=\"text_5\">\n      <!-- m0006 -->\n      <defs>\n       <path d=\"M 31.78125 66.40625 \nQ 24.171875 66.40625 20.328125 58.90625 \nQ 16.5 51.421875 16.5 36.375 \nQ 16.5 21.390625 20.328125 13.890625 \nQ 24.171875 6.390625 31.78125 6.390625 \nQ 39.453125 6.390625 43.28125 13.890625 \nQ 47.125 21.390625 47.125 36.375 \nQ 47.125 51.421875 43.28125 58.90625 \nQ 39.453125 66.40625 31.78125 66.40625 \nz\nM 31.78125 74.21875 \nQ 44.046875 74.21875 50.515625 64.515625 \nQ 56.984375 54.828125 56.984375 36.375 \nQ 56.984375 17.96875 50.515625 8.265625 \nQ 44.046875 -1.421875 31.78125 -1.421875 \nQ 19.53125 -1.421875 13.0625 8.265625 \nQ 6.59375 17.96875 6.59375 36.375 \nQ 6.59375 54.828125 13.0625 64.515625 \nQ 19.53125 74.21875 31.78125 74.21875 \nz\n\" id=\"DejaVuSans-48\"/>\n       <path d=\"M 33.015625 40.375 \nQ 26.375 40.375 22.484375 35.828125 \nQ 18.609375 31.296875 18.609375 23.390625 \nQ 18.609375 15.53125 22.484375 10.953125 \nQ 26.375 6.390625 33.015625 6.390625 \nQ 39.65625 6.390625 43.53125 10.953125 \nQ 47.40625 15.53125 47.40625 23.390625 \nQ 47.40625 31.296875 43.53125 35.828125 \nQ 39.65625 40.375 33.015625 40.375 \nz\nM 52.59375 71.296875 \nL 52.59375 62.3125 \nQ 48.875 64.0625 45.09375 64.984375 \nQ 41.3125 65.921875 37.59375 65.921875 \nQ 27.828125 65.921875 22.671875 59.328125 \nQ 17.53125 52.734375 16.796875 39.40625 \nQ 19.671875 43.65625 24.015625 45.921875 \nQ 28.375 48.1875 33.59375 48.1875 \nQ 44.578125 48.1875 50.953125 41.515625 \nQ 57.328125 34.859375 57.328125 23.390625 \nQ 57.328125 12.15625 50.6875 5.359375 \nQ 44.046875 -1.421875 33.015625 -1.421875 \nQ 20.359375 -1.421875 13.671875 8.265625 \nQ 6.984375 17.96875 6.984375 36.375 \nQ 6.984375 53.65625 15.1875 63.9375 \nQ 23.390625 74.21875 37.203125 74.21875 \nQ 40.921875 74.21875 44.703125 73.484375 \nQ 48.484375 72.75 52.59375 71.296875 \nz\n\" id=\"DejaVuSans-54\"/>\n      </defs>\n      <g transform=\"translate(110.399375 270.629844)rotate(-90)scale(0.1 -0.1)\">\n       <use xlink:href=\"#DejaVuSans-109\"/>\n       <use x=\"97.412109\" xlink:href=\"#DejaVuSans-48\"/>\n       <use x=\"161.035156\" xlink:href=\"#DejaVuSans-48\"/>\n       <use x=\"224.658203\" xlink:href=\"#DejaVuSans-48\"/>\n       <use x=\"288.28125\" xlink:href=\"#DejaVuSans-54\"/>\n      </g>\n     </g>\n    </g>\n    <g id=\"xtick_6\">\n     <g id=\"line2d_6\">\n      <g>\n       <use style=\"stroke:#000000;stroke-width:0.8;\" x=\"129.96\" xlink:href=\"#m916e42169b\" y=\"228.439219\"/>\n      </g>\n     </g>\n     <g id=\"text_6\">\n      <!-- m0612 -->\n      <defs>\n       <path d=\"M 12.40625 8.296875 \nL 28.515625 8.296875 \nL 28.515625 63.921875 \nL 10.984375 60.40625 \nL 10.984375 69.390625 \nL 28.421875 72.90625 \nL 38.28125 72.90625 \nL 38.28125 8.296875 \nL 54.390625 8.296875 \nL 54.390625 0 \nL 12.40625 0 \nz\n\" id=\"DejaVuSans-49\"/>\n       <path d=\"M 19.1875 8.296875 \nL 53.609375 8.296875 \nL 53.609375 0 \nL 7.328125 0 \nL 7.328125 8.296875 \nQ 12.9375 14.109375 22.625 23.890625 \nQ 32.328125 33.6875 34.8125 36.53125 \nQ 39.546875 41.84375 41.421875 45.53125 \nQ 43.3125 49.21875 43.3125 52.78125 \nQ 43.3125 58.59375 39.234375 62.25 \nQ 35.15625 65.921875 28.609375 65.921875 \nQ 23.96875 65.921875 18.8125 64.3125 \nQ 13.671875 62.703125 7.8125 59.421875 \nL 7.8125 69.390625 \nQ 13.765625 71.78125 18.9375 73 \nQ 24.125 74.21875 28.421875 74.21875 \nQ 39.75 74.21875 46.484375 68.546875 \nQ 53.21875 62.890625 53.21875 53.421875 \nQ 53.21875 48.921875 51.53125 44.890625 \nQ 49.859375 40.875 45.40625 35.40625 \nQ 44.1875 33.984375 37.640625 27.21875 \nQ 31.109375 20.453125 19.1875 8.296875 \nz\n\" id=\"DejaVuSans-50\"/>\n      </defs>\n      <g transform=\"translate(132.719375 270.629844)rotate(-90)scale(0.1 -0.1)\">\n       <use xlink:href=\"#DejaVuSans-109\"/>\n       <use x=\"97.412109\" xlink:href=\"#DejaVuSans-48\"/>\n       <use x=\"161.035156\" xlink:href=\"#DejaVuSans-54\"/>\n       <use x=\"224.658203\" xlink:href=\"#DejaVuSans-49\"/>\n       <use x=\"288.28125\" xlink:href=\"#DejaVuSans-50\"/>\n      </g>\n     </g>\n    </g>\n    <g id=\"xtick_7\">\n     <g id=\"line2d_7\">\n      <g>\n       <use style=\"stroke:#000000;stroke-width:0.8;\" x=\"152.28\" xlink:href=\"#m916e42169b\" y=\"228.439219\"/>\n      </g>\n     </g>\n     <g id=\"text_7\">\n      <!-- m1218 -->\n      <defs>\n       <path d=\"M 31.78125 34.625 \nQ 24.75 34.625 20.71875 30.859375 \nQ 16.703125 27.09375 16.703125 20.515625 \nQ 16.703125 13.921875 20.71875 10.15625 \nQ 24.75 6.390625 31.78125 6.390625 \nQ 38.8125 6.390625 42.859375 10.171875 \nQ 46.921875 13.96875 46.921875 20.515625 \nQ 46.921875 27.09375 42.890625 30.859375 \nQ 38.875 34.625 31.78125 34.625 \nz\nM 21.921875 38.8125 \nQ 15.578125 40.375 12.03125 44.71875 \nQ 8.5 49.078125 8.5 55.328125 \nQ 8.5 64.0625 14.71875 69.140625 \nQ 20.953125 74.21875 31.78125 74.21875 \nQ 42.671875 74.21875 48.875 69.140625 \nQ 55.078125 64.0625 55.078125 55.328125 \nQ 55.078125 49.078125 51.53125 44.71875 \nQ 48 40.375 41.703125 38.8125 \nQ 48.828125 37.15625 52.796875 32.3125 \nQ 56.78125 27.484375 56.78125 20.515625 \nQ 56.78125 9.90625 50.3125 4.234375 \nQ 43.84375 -1.421875 31.78125 -1.421875 \nQ 19.734375 -1.421875 13.25 4.234375 \nQ 6.78125 9.90625 6.78125 20.515625 \nQ 6.78125 27.484375 10.78125 32.3125 \nQ 14.796875 37.15625 21.921875 38.8125 \nz\nM 18.3125 54.390625 \nQ 18.3125 48.734375 21.84375 45.5625 \nQ 25.390625 42.390625 31.78125 42.390625 \nQ 38.140625 42.390625 41.71875 45.5625 \nQ 45.3125 48.734375 45.3125 54.390625 \nQ 45.3125 60.0625 41.71875 63.234375 \nQ 38.140625 66.40625 31.78125 66.40625 \nQ 25.390625 66.40625 21.84375 63.234375 \nQ 18.3125 60.0625 18.3125 54.390625 \nz\n\" id=\"DejaVuSans-56\"/>\n      </defs>\n      <g transform=\"translate(155.039375 270.629844)rotate(-90)scale(0.1 -0.1)\">\n       <use xlink:href=\"#DejaVuSans-109\"/>\n       <use x=\"97.412109\" xlink:href=\"#DejaVuSans-49\"/>\n       <use x=\"161.035156\" xlink:href=\"#DejaVuSans-50\"/>\n       <use x=\"224.658203\" xlink:href=\"#DejaVuSans-49\"/>\n       <use x=\"288.28125\" xlink:href=\"#DejaVuSans-56\"/>\n      </g>\n     </g>\n    </g>\n    <g id=\"xtick_8\">\n     <g id=\"line2d_8\">\n      <g>\n       <use style=\"stroke:#000000;stroke-width:0.8;\" x=\"174.6\" xlink:href=\"#m916e42169b\" y=\"228.439219\"/>\n      </g>\n     </g>\n     <g id=\"text_8\">\n      <!-- f006 -->\n      <defs>\n       <path d=\"M 37.109375 75.984375 \nL 37.109375 68.5 \nL 28.515625 68.5 \nQ 23.6875 68.5 21.796875 66.546875 \nQ 19.921875 64.59375 19.921875 59.515625 \nL 19.921875 54.6875 \nL 34.71875 54.6875 \nL 34.71875 47.703125 \nL 19.921875 47.703125 \nL 19.921875 0 \nL 10.890625 0 \nL 10.890625 47.703125 \nL 2.296875 47.703125 \nL 2.296875 54.6875 \nL 10.890625 54.6875 \nL 10.890625 58.5 \nQ 10.890625 67.625 15.140625 71.796875 \nQ 19.390625 75.984375 28.609375 75.984375 \nz\n\" id=\"DejaVuSans-102\"/>\n      </defs>\n      <g transform=\"translate(177.359375 258.047031)rotate(-90)scale(0.1 -0.1)\">\n       <use xlink:href=\"#DejaVuSans-102\"/>\n       <use x=\"35.205078\" xlink:href=\"#DejaVuSans-48\"/>\n       <use x=\"98.828125\" xlink:href=\"#DejaVuSans-48\"/>\n       <use x=\"162.451172\" xlink:href=\"#DejaVuSans-54\"/>\n      </g>\n     </g>\n    </g>\n    <g id=\"xtick_9\">\n     <g id=\"line2d_9\">\n      <g>\n       <use style=\"stroke:#000000;stroke-width:0.8;\" x=\"196.92\" xlink:href=\"#m916e42169b\" y=\"228.439219\"/>\n      </g>\n     </g>\n     <g id=\"text_9\">\n      <!-- f0612 -->\n      <g transform=\"translate(199.679375 264.409531)rotate(-90)scale(0.1 -0.1)\">\n       <use xlink:href=\"#DejaVuSans-102\"/>\n       <use x=\"35.205078\" xlink:href=\"#DejaVuSans-48\"/>\n       <use x=\"98.828125\" xlink:href=\"#DejaVuSans-54\"/>\n       <use x=\"162.451172\" xlink:href=\"#DejaVuSans-49\"/>\n       <use x=\"226.074219\" xlink:href=\"#DejaVuSans-50\"/>\n      </g>\n     </g>\n    </g>\n    <g id=\"xtick_10\">\n     <g id=\"line2d_10\">\n      <g>\n       <use style=\"stroke:#000000;stroke-width:0.8;\" x=\"219.24\" xlink:href=\"#m916e42169b\" y=\"228.439219\"/>\n      </g>\n     </g>\n     <g id=\"text_10\">\n      <!-- f1218 -->\n      <g transform=\"translate(221.999375 264.409531)rotate(-90)scale(0.1 -0.1)\">\n       <use xlink:href=\"#DejaVuSans-102\"/>\n       <use x=\"35.205078\" xlink:href=\"#DejaVuSans-49\"/>\n       <use x=\"98.828125\" xlink:href=\"#DejaVuSans-50\"/>\n       <use x=\"162.451172\" xlink:href=\"#DejaVuSans-49\"/>\n       <use x=\"226.074219\" xlink:href=\"#DejaVuSans-56\"/>\n      </g>\n     </g>\n    </g>\n    <g id=\"xtick_11\">\n     <g id=\"line2d_11\">\n      <g>\n       <use style=\"stroke:#000000;stroke-width:0.8;\" x=\"241.56\" xlink:href=\"#m916e42169b\" y=\"228.439219\"/>\n      </g>\n     </g>\n     <g id=\"text_11\">\n      <!-- Firstname -->\n      <defs>\n       <path d=\"M 9.8125 72.90625 \nL 51.703125 72.90625 \nL 51.703125 64.59375 \nL 19.671875 64.59375 \nL 19.671875 43.109375 \nL 48.578125 43.109375 \nL 48.578125 34.8125 \nL 19.671875 34.8125 \nL 19.671875 0 \nL 9.8125 0 \nz\n\" id=\"DejaVuSans-70\"/>\n       <path d=\"M 41.109375 46.296875 \nQ 39.59375 47.171875 37.8125 47.578125 \nQ 36.03125 48 33.890625 48 \nQ 26.265625 48 22.1875 43.046875 \nQ 18.109375 38.09375 18.109375 28.8125 \nL 18.109375 0 \nL 9.078125 0 \nL 9.078125 54.6875 \nL 18.109375 54.6875 \nL 18.109375 46.1875 \nQ 20.953125 51.171875 25.484375 53.578125 \nQ 30.03125 56 36.53125 56 \nQ 37.453125 56 38.578125 55.875 \nQ 39.703125 55.765625 41.0625 55.515625 \nz\n\" id=\"DejaVuSans-114\"/>\n       <path d=\"M 44.28125 53.078125 \nL 44.28125 44.578125 \nQ 40.484375 46.53125 36.375 47.5 \nQ 32.28125 48.484375 27.875 48.484375 \nQ 21.1875 48.484375 17.84375 46.4375 \nQ 14.5 44.390625 14.5 40.28125 \nQ 14.5 37.15625 16.890625 35.375 \nQ 19.28125 33.59375 26.515625 31.984375 \nL 29.59375 31.296875 \nQ 39.15625 29.25 43.1875 25.515625 \nQ 47.21875 21.78125 47.21875 15.09375 \nQ 47.21875 7.46875 41.1875 3.015625 \nQ 35.15625 -1.421875 24.609375 -1.421875 \nQ 20.21875 -1.421875 15.453125 -0.5625 \nQ 10.6875 0.296875 5.421875 2 \nL 5.421875 11.28125 \nQ 10.40625 8.6875 15.234375 7.390625 \nQ 20.0625 6.109375 24.8125 6.109375 \nQ 31.15625 6.109375 34.5625 8.28125 \nQ 37.984375 10.453125 37.984375 14.40625 \nQ 37.984375 18.0625 35.515625 20.015625 \nQ 33.0625 21.96875 24.703125 23.78125 \nL 21.578125 24.515625 \nQ 13.234375 26.265625 9.515625 29.90625 \nQ 5.8125 33.546875 5.8125 39.890625 \nQ 5.8125 47.609375 11.28125 51.796875 \nQ 16.75 56 26.8125 56 \nQ 31.78125 56 36.171875 55.265625 \nQ 40.578125 54.546875 44.28125 53.078125 \nz\n\" id=\"DejaVuSans-115\"/>\n       <path d=\"M 54.890625 33.015625 \nL 54.890625 0 \nL 45.90625 0 \nL 45.90625 32.71875 \nQ 45.90625 40.484375 42.875 44.328125 \nQ 39.84375 48.1875 33.796875 48.1875 \nQ 26.515625 48.1875 22.3125 43.546875 \nQ 18.109375 38.921875 18.109375 30.90625 \nL 18.109375 0 \nL 9.078125 0 \nL 9.078125 54.6875 \nL 18.109375 54.6875 \nL 18.109375 46.1875 \nQ 21.34375 51.125 25.703125 53.5625 \nQ 30.078125 56 35.796875 56 \nQ 45.21875 56 50.046875 50.171875 \nQ 54.890625 44.34375 54.890625 33.015625 \nz\n\" id=\"DejaVuSans-110\"/>\n      </defs>\n      <g transform=\"translate(244.319375 284.843906)rotate(-90)scale(0.1 -0.1)\">\n       <use xlink:href=\"#DejaVuSans-70\"/>\n       <use x=\"50.269531\" xlink:href=\"#DejaVuSans-105\"/>\n       <use x=\"78.052734\" xlink:href=\"#DejaVuSans-114\"/>\n       <use x=\"119.166016\" xlink:href=\"#DejaVuSans-115\"/>\n       <use x=\"171.265625\" xlink:href=\"#DejaVuSans-116\"/>\n       <use x=\"210.474609\" xlink:href=\"#DejaVuSans-110\"/>\n       <use x=\"273.853516\" xlink:href=\"#DejaVuSans-97\"/>\n       <use x=\"335.132812\" xlink:href=\"#DejaVuSans-109\"/>\n       <use x=\"432.544922\" xlink:href=\"#DejaVuSans-101\"/>\n      </g>\n     </g>\n    </g>\n    <g id=\"xtick_12\">\n     <g id=\"line2d_12\">\n      <g>\n       <use style=\"stroke:#000000;stroke-width:0.8;\" x=\"263.88\" xlink:href=\"#m916e42169b\" y=\"228.439219\"/>\n      </g>\n     </g>\n     <g id=\"text_12\">\n      <!-- Lastname -->\n      <defs>\n       <path d=\"M 9.8125 72.90625 \nL 19.671875 72.90625 \nL 19.671875 8.296875 \nL 55.171875 8.296875 \nL 55.171875 0 \nL 9.8125 0 \nz\n\" id=\"DejaVuSans-76\"/>\n      </defs>\n      <g transform=\"translate(266.639375 284.628281)rotate(-90)scale(0.1 -0.1)\">\n       <use xlink:href=\"#DejaVuSans-76\"/>\n       <use x=\"55.712891\" xlink:href=\"#DejaVuSans-97\"/>\n       <use x=\"116.992188\" xlink:href=\"#DejaVuSans-115\"/>\n       <use x=\"169.091797\" xlink:href=\"#DejaVuSans-116\"/>\n       <use x=\"208.300781\" xlink:href=\"#DejaVuSans-110\"/>\n       <use x=\"271.679688\" xlink:href=\"#DejaVuSans-97\"/>\n       <use x=\"332.958984\" xlink:href=\"#DejaVuSans-109\"/>\n       <use x=\"430.371094\" xlink:href=\"#DejaVuSans-101\"/>\n      </g>\n     </g>\n    </g>\n   </g>\n   <g id=\"matplotlib.axis_2\"/>\n  </g>\n  <g id=\"axes_2\">\n   <g id=\"patch_3\">\n    <path clip-path=\"url(#pfef85e89ff)\" d=\"M 291.78 228.439219 \nL 291.78 227.589844 \nL 291.78 11.848594 \nL 291.78 10.999219 \nL 302.652 10.999219 \nL 302.652 11.848594 \nL 302.652 227.589844 \nL 302.652 228.439219 \nz\n\" style=\"fill:#ffffff;stroke:#ffffff;stroke-linejoin:miter;stroke-width:0.01;\"/>\n   </g>\n   <image height=\"217\" id=\"imagea3d0a51066\" transform=\"scale(1 -1)translate(0 -217)\" width=\"11\" x=\"292\" xlink:href=\"data:image/png;base64,\niVBORw0KGgoAAAANSUhEUgAAAAsAAADZCAYAAAD2WsoCAAAABHNCSVQICAgIfAhkiAAAAV5JREFUaIHd2tFthEAMhOFdG66y1JD+C0lyaWG/h5HM8WyNZn57DQL2V32/1+F17dqntetau86Ldzcomw0o3gWeSXnFAm7hnEMXpJGzkaMxJOAMGu+eEZA8G7rj2nUtWTJBG0Eaohz0nFJeokzDb5zJRoyGKRsNUR5CQ+Z5SlMIHQWccrqheAq6YMDYkrF2i/Knt3uK5/NafN54Ygc/v93PowG6zwwYnefz8402ZqyCKTSC7QbPQXSVsjGEBjwiJWmslQsYUxYaxlk8U0CygQGl+NwFB0zR6PqbYKNiNErOYMdmIxhQintDu0l5SrG0+5LhH+KZlK/6nWCjZOo62G6g0UYjNUhIA2zcW2Yjt2RoP4syBpQRjc1GSwepKa/9A8qxptCI0vATulto5M4gocOAsV0XDJi6Ab1WbNfRSbGAx7WofJsyfG6Qt3tXy4eMEhs3vM9SG6BMnlt+BBIb/6Y/gWhq+41lAAAAAElFTkSuQmCC\" y=\"-11\"/>\n   <g id=\"matplotlib.axis_3\"/>\n   <g id=\"matplotlib.axis_4\">\n    <g id=\"ytick_1\">\n     <g id=\"line2d_13\">\n      <defs>\n       <path d=\"M 0 0 \nL 3.5 0 \n\" id=\"mb8258e98c7\" style=\"stroke:#000000;stroke-width:0.8;\"/>\n      </defs>\n      <g>\n       <use style=\"stroke:#000000;stroke-width:0.8;\" x=\"302.652\" xlink:href=\"#mb8258e98c7\" y=\"228.439219\"/>\n      </g>\n     </g>\n     <g id=\"text_13\">\n      <!-- 0.0 -->\n      <defs>\n       <path d=\"M 10.6875 12.40625 \nL 21 12.40625 \nL 21 0 \nL 10.6875 0 \nz\n\" id=\"DejaVuSans-46\"/>\n      </defs>\n      <g transform=\"translate(309.652 232.238438)scale(0.1 -0.1)\">\n       <use xlink:href=\"#DejaVuSans-48\"/>\n       <use x=\"63.623047\" xlink:href=\"#DejaVuSans-46\"/>\n       <use x=\"95.410156\" xlink:href=\"#DejaVuSans-48\"/>\n      </g>\n     </g>\n    </g>\n    <g id=\"ytick_2\">\n     <g id=\"line2d_14\">\n      <g>\n       <use style=\"stroke:#000000;stroke-width:0.8;\" x=\"302.652\" xlink:href=\"#mb8258e98c7\" y=\"184.951219\"/>\n      </g>\n     </g>\n     <g id=\"text_14\">\n      <!-- 0.2 -->\n      <g transform=\"translate(309.652 188.750437)scale(0.1 -0.1)\">\n       <use xlink:href=\"#DejaVuSans-48\"/>\n       <use x=\"63.623047\" xlink:href=\"#DejaVuSans-46\"/>\n       <use x=\"95.410156\" xlink:href=\"#DejaVuSans-50\"/>\n      </g>\n     </g>\n    </g>\n    <g id=\"ytick_3\">\n     <g id=\"line2d_15\">\n      <g>\n       <use style=\"stroke:#000000;stroke-width:0.8;\" x=\"302.652\" xlink:href=\"#mb8258e98c7\" y=\"141.463219\"/>\n      </g>\n     </g>\n     <g id=\"text_15\">\n      <!-- 0.4 -->\n      <defs>\n       <path d=\"M 37.796875 64.3125 \nL 12.890625 25.390625 \nL 37.796875 25.390625 \nz\nM 35.203125 72.90625 \nL 47.609375 72.90625 \nL 47.609375 25.390625 \nL 58.015625 25.390625 \nL 58.015625 17.1875 \nL 47.609375 17.1875 \nL 47.609375 0 \nL 37.796875 0 \nL 37.796875 17.1875 \nL 4.890625 17.1875 \nL 4.890625 26.703125 \nz\n\" id=\"DejaVuSans-52\"/>\n      </defs>\n      <g transform=\"translate(309.652 145.262438)scale(0.1 -0.1)\">\n       <use xlink:href=\"#DejaVuSans-48\"/>\n       <use x=\"63.623047\" xlink:href=\"#DejaVuSans-46\"/>\n       <use x=\"95.410156\" xlink:href=\"#DejaVuSans-52\"/>\n      </g>\n     </g>\n    </g>\n    <g id=\"ytick_4\">\n     <g id=\"line2d_16\">\n      <g>\n       <use style=\"stroke:#000000;stroke-width:0.8;\" x=\"302.652\" xlink:href=\"#mb8258e98c7\" y=\"97.975219\"/>\n      </g>\n     </g>\n     <g id=\"text_16\">\n      <!-- 0.6 -->\n      <g transform=\"translate(309.652 101.774437)scale(0.1 -0.1)\">\n       <use xlink:href=\"#DejaVuSans-48\"/>\n       <use x=\"63.623047\" xlink:href=\"#DejaVuSans-46\"/>\n       <use x=\"95.410156\" xlink:href=\"#DejaVuSans-54\"/>\n      </g>\n     </g>\n    </g>\n    <g id=\"ytick_5\">\n     <g id=\"line2d_17\">\n      <g>\n       <use style=\"stroke:#000000;stroke-width:0.8;\" x=\"302.652\" xlink:href=\"#mb8258e98c7\" y=\"54.487219\"/>\n      </g>\n     </g>\n     <g id=\"text_17\">\n      <!-- 0.8 -->\n      <g transform=\"translate(309.652 58.286438)scale(0.1 -0.1)\">\n       <use xlink:href=\"#DejaVuSans-48\"/>\n       <use x=\"63.623047\" xlink:href=\"#DejaVuSans-46\"/>\n       <use x=\"95.410156\" xlink:href=\"#DejaVuSans-56\"/>\n      </g>\n     </g>\n    </g>\n    <g id=\"ytick_6\">\n     <g id=\"line2d_18\">\n      <g>\n       <use style=\"stroke:#000000;stroke-width:0.8;\" x=\"302.652\" xlink:href=\"#mb8258e98c7\" y=\"10.999219\"/>\n      </g>\n     </g>\n     <g id=\"text_18\">\n      <!-- 1.0 -->\n      <g transform=\"translate(309.652 14.798438)scale(0.1 -0.1)\">\n       <use xlink:href=\"#DejaVuSans-49\"/>\n       <use x=\"63.623047\" xlink:href=\"#DejaVuSans-46\"/>\n       <use x=\"95.410156\" xlink:href=\"#DejaVuSans-48\"/>\n      </g>\n     </g>\n    </g>\n   </g>\n   <g id=\"patch_4\">\n    <path d=\"M 291.78 228.439219 \nL 291.78 227.589844 \nL 291.78 11.848594 \nL 291.78 10.999219 \nL 302.652 10.999219 \nL 302.652 11.848594 \nL 302.652 227.589844 \nL 302.652 228.439219 \nz\n\" style=\"fill:none;\"/>\n   </g>\n  </g>\n </g>\n <defs>\n  <clipPath id=\"p78ffced676\">\n   <rect height=\"217.44\" width=\"267.84\" x=\"7.2\" y=\"10.999219\"/>\n  </clipPath>\n  <clipPath id=\"pfef85e89ff\">\n   <rect height=\"217.44\" width=\"10.872\" x=\"291.78\" y=\"10.999219\"/>\n  </clipPath>\n </defs>\n</svg>\n"
          },
          "metadata": {
            "needs_background": "light"
          }
        }
      ]
    },
    {
      "cell_type": "code",
      "metadata": {
        "id": "ZGpJt4aklII8"
      },
      "source": [
        "patientheartrate.dropna(how=\"all\", inplace = True)"
      ],
      "execution_count": 60,
      "outputs": []
    },
    {
      "cell_type": "code",
      "metadata": {
        "colab": {
          "base_uri": "https://localhost:8080/",
          "height": 427
        },
        "id": "a1zqANZLlIoT",
        "outputId": "f7d99f1c-07a7-4613-9166-85325b1e81e3"
      },
      "source": [
        "\n",
        "import seaborn as sns\n",
        "%matplotlib inline\n",
        "%config InlineBackend.figure_format = 'svg'\n",
        "sns.heatmap(patientheartrate.isna(), \n",
        "            yticklabels=False, \n",
        "            cbar=True, \n",
        "            cmap='viridis')"
      ],
      "execution_count": 61,
      "outputs": [
        {
          "output_type": "execute_result",
          "data": {
            "text/plain": [
              "<matplotlib.axes._subplots.AxesSubplot at 0x7f74acd4b690>"
            ]
          },
          "metadata": {},
          "execution_count": 61
        },
        {
          "output_type": "display_data",
          "data": {
            "text/plain": [
              "<Figure size 432x288 with 2 Axes>"
            ],
            "image/svg+xml": "<?xml version=\"1.0\" encoding=\"utf-8\" standalone=\"no\"?>\n<!DOCTYPE svg PUBLIC \"-//W3C//DTD SVG 1.1//EN\"\n  \"http://www.w3.org/Graphics/SVG/1.1/DTD/svg11.dtd\">\n<!-- Created with matplotlib (https://matplotlib.org/) -->\n<svg height=\"292.043906pt\" version=\"1.1\" viewBox=\"0 0 332.755125 292.043906\" width=\"332.755125pt\" xmlns=\"http://www.w3.org/2000/svg\" xmlns:xlink=\"http://www.w3.org/1999/xlink\">\n <defs>\n  <style type=\"text/css\">\n*{stroke-linecap:butt;stroke-linejoin:round;}\n  </style>\n </defs>\n <g id=\"figure_1\">\n  <g id=\"patch_1\">\n   <path d=\"M 0 292.043906 \nL 332.755125 292.043906 \nL 332.755125 0 \nL 0 0 \nz\n\" style=\"fill:none;\"/>\n  </g>\n  <g id=\"axes_1\">\n   <g id=\"patch_2\">\n    <path d=\"M 7.2 228.439219 \nL 275.04 228.439219 \nL 275.04 10.999219 \nL 7.2 10.999219 \nz\n\" style=\"fill:#ffffff;\"/>\n   </g>\n   <g id=\"QuadMesh_1\">\n    <path clip-path=\"url(#p95c24bdcc5)\" d=\"M 7.2 10.999219 \nL 29.52 10.999219 \nL 29.52 25.495219 \nL 7.2 25.495219 \nL 7.2 10.999219 \n\" style=\"fill:#440154;\"/>\n    <path clip-path=\"url(#p95c24bdcc5)\" d=\"M 29.52 10.999219 \nL 51.84 10.999219 \nL 51.84 25.495219 \nL 29.52 25.495219 \nL 29.52 10.999219 \n\" style=\"fill:#440154;\"/>\n    <path clip-path=\"url(#p95c24bdcc5)\" d=\"M 51.84 10.999219 \nL 74.16 10.999219 \nL 74.16 25.495219 \nL 51.84 25.495219 \nL 51.84 10.999219 \n\" style=\"fill:#440154;\"/>\n    <path clip-path=\"url(#p95c24bdcc5)\" d=\"M 74.16 10.999219 \nL 96.48 10.999219 \nL 96.48 25.495219 \nL 74.16 25.495219 \nL 74.16 10.999219 \n\" style=\"fill:#440154;\"/>\n    <path clip-path=\"url(#p95c24bdcc5)\" d=\"M 96.48 10.999219 \nL 118.8 10.999219 \nL 118.8 25.495219 \nL 96.48 25.495219 \nL 96.48 10.999219 \n\" style=\"fill:#440154;\"/>\n    <path clip-path=\"url(#p95c24bdcc5)\" d=\"M 118.8 10.999219 \nL 141.12 10.999219 \nL 141.12 25.495219 \nL 118.8 25.495219 \nL 118.8 10.999219 \n\" style=\"fill:#440154;\"/>\n    <path clip-path=\"url(#p95c24bdcc5)\" d=\"M 141.12 10.999219 \nL 163.44 10.999219 \nL 163.44 25.495219 \nL 141.12 25.495219 \nL 141.12 10.999219 \n\" style=\"fill:#440154;\"/>\n    <path clip-path=\"url(#p95c24bdcc5)\" d=\"M 163.44 10.999219 \nL 185.76 10.999219 \nL 185.76 25.495219 \nL 163.44 25.495219 \nL 163.44 10.999219 \n\" style=\"fill:#440154;\"/>\n    <path clip-path=\"url(#p95c24bdcc5)\" d=\"M 185.76 10.999219 \nL 208.08 10.999219 \nL 208.08 25.495219 \nL 185.76 25.495219 \nL 185.76 10.999219 \n\" style=\"fill:#440154;\"/>\n    <path clip-path=\"url(#p95c24bdcc5)\" d=\"M 208.08 10.999219 \nL 230.4 10.999219 \nL 230.4 25.495219 \nL 208.08 25.495219 \nL 208.08 10.999219 \n\" style=\"fill:#440154;\"/>\n    <path clip-path=\"url(#p95c24bdcc5)\" d=\"M 230.4 10.999219 \nL 252.72 10.999219 \nL 252.72 25.495219 \nL 230.4 25.495219 \nL 230.4 10.999219 \n\" style=\"fill:#440154;\"/>\n    <path clip-path=\"url(#p95c24bdcc5)\" d=\"M 252.72 10.999219 \nL 275.04 10.999219 \nL 275.04 25.495219 \nL 252.72 25.495219 \nL 252.72 10.999219 \n\" style=\"fill:#440154;\"/>\n    <path clip-path=\"url(#p95c24bdcc5)\" d=\"M 7.2 25.495219 \nL 29.52 25.495219 \nL 29.52 39.991219 \nL 7.2 39.991219 \nL 7.2 25.495219 \n\" style=\"fill:#440154;\"/>\n    <path clip-path=\"url(#p95c24bdcc5)\" d=\"M 29.52 25.495219 \nL 51.84 25.495219 \nL 51.84 39.991219 \nL 29.52 39.991219 \nL 29.52 25.495219 \n\" style=\"fill:#440154;\"/>\n    <path clip-path=\"url(#p95c24bdcc5)\" d=\"M 51.84 25.495219 \nL 74.16 25.495219 \nL 74.16 39.991219 \nL 51.84 39.991219 \nL 51.84 25.495219 \n\" style=\"fill:#440154;\"/>\n    <path clip-path=\"url(#p95c24bdcc5)\" d=\"M 74.16 25.495219 \nL 96.48 25.495219 \nL 96.48 39.991219 \nL 74.16 39.991219 \nL 74.16 25.495219 \n\" style=\"fill:#440154;\"/>\n    <path clip-path=\"url(#p95c24bdcc5)\" d=\"M 96.48 25.495219 \nL 118.8 25.495219 \nL 118.8 39.991219 \nL 96.48 39.991219 \nL 96.48 25.495219 \n\" style=\"fill:#440154;\"/>\n    <path clip-path=\"url(#p95c24bdcc5)\" d=\"M 118.8 25.495219 \nL 141.12 25.495219 \nL 141.12 39.991219 \nL 118.8 39.991219 \nL 118.8 25.495219 \n\" style=\"fill:#440154;\"/>\n    <path clip-path=\"url(#p95c24bdcc5)\" d=\"M 141.12 25.495219 \nL 163.44 25.495219 \nL 163.44 39.991219 \nL 141.12 39.991219 \nL 141.12 25.495219 \n\" style=\"fill:#440154;\"/>\n    <path clip-path=\"url(#p95c24bdcc5)\" d=\"M 163.44 25.495219 \nL 185.76 25.495219 \nL 185.76 39.991219 \nL 163.44 39.991219 \nL 163.44 25.495219 \n\" style=\"fill:#440154;\"/>\n    <path clip-path=\"url(#p95c24bdcc5)\" d=\"M 185.76 25.495219 \nL 208.08 25.495219 \nL 208.08 39.991219 \nL 185.76 39.991219 \nL 185.76 25.495219 \n\" style=\"fill:#440154;\"/>\n    <path clip-path=\"url(#p95c24bdcc5)\" d=\"M 208.08 25.495219 \nL 230.4 25.495219 \nL 230.4 39.991219 \nL 208.08 39.991219 \nL 208.08 25.495219 \n\" style=\"fill:#440154;\"/>\n    <path clip-path=\"url(#p95c24bdcc5)\" d=\"M 230.4 25.495219 \nL 252.72 25.495219 \nL 252.72 39.991219 \nL 230.4 39.991219 \nL 230.4 25.495219 \n\" style=\"fill:#440154;\"/>\n    <path clip-path=\"url(#p95c24bdcc5)\" d=\"M 252.72 25.495219 \nL 275.04 25.495219 \nL 275.04 39.991219 \nL 252.72 39.991219 \nL 252.72 25.495219 \n\" style=\"fill:#440154;\"/>\n    <path clip-path=\"url(#p95c24bdcc5)\" d=\"M 7.2 39.991219 \nL 29.52 39.991219 \nL 29.52 54.487219 \nL 7.2 54.487219 \nL 7.2 39.991219 \n\" style=\"fill:#440154;\"/>\n    <path clip-path=\"url(#p95c24bdcc5)\" d=\"M 29.52 39.991219 \nL 51.84 39.991219 \nL 51.84 54.487219 \nL 29.52 54.487219 \nL 29.52 39.991219 \n\" style=\"fill:#440154;\"/>\n    <path clip-path=\"url(#p95c24bdcc5)\" d=\"M 51.84 39.991219 \nL 74.16 39.991219 \nL 74.16 54.487219 \nL 51.84 54.487219 \nL 51.84 39.991219 \n\" style=\"fill:#440154;\"/>\n    <path clip-path=\"url(#p95c24bdcc5)\" d=\"M 74.16 39.991219 \nL 96.48 39.991219 \nL 96.48 54.487219 \nL 74.16 54.487219 \nL 74.16 39.991219 \n\" style=\"fill:#fde725;\"/>\n    <path clip-path=\"url(#p95c24bdcc5)\" d=\"M 96.48 39.991219 \nL 118.8 39.991219 \nL 118.8 54.487219 \nL 96.48 54.487219 \nL 96.48 39.991219 \n\" style=\"fill:#440154;\"/>\n    <path clip-path=\"url(#p95c24bdcc5)\" d=\"M 118.8 39.991219 \nL 141.12 39.991219 \nL 141.12 54.487219 \nL 118.8 54.487219 \nL 118.8 39.991219 \n\" style=\"fill:#440154;\"/>\n    <path clip-path=\"url(#p95c24bdcc5)\" d=\"M 141.12 39.991219 \nL 163.44 39.991219 \nL 163.44 54.487219 \nL 141.12 54.487219 \nL 141.12 39.991219 \n\" style=\"fill:#440154;\"/>\n    <path clip-path=\"url(#p95c24bdcc5)\" d=\"M 163.44 39.991219 \nL 185.76 39.991219 \nL 185.76 54.487219 \nL 163.44 54.487219 \nL 163.44 39.991219 \n\" style=\"fill:#440154;\"/>\n    <path clip-path=\"url(#p95c24bdcc5)\" d=\"M 185.76 39.991219 \nL 208.08 39.991219 \nL 208.08 54.487219 \nL 185.76 54.487219 \nL 185.76 39.991219 \n\" style=\"fill:#440154;\"/>\n    <path clip-path=\"url(#p95c24bdcc5)\" d=\"M 208.08 39.991219 \nL 230.4 39.991219 \nL 230.4 54.487219 \nL 208.08 54.487219 \nL 208.08 39.991219 \n\" style=\"fill:#440154;\"/>\n    <path clip-path=\"url(#p95c24bdcc5)\" d=\"M 230.4 39.991219 \nL 252.72 39.991219 \nL 252.72 54.487219 \nL 230.4 54.487219 \nL 230.4 39.991219 \n\" style=\"fill:#440154;\"/>\n    <path clip-path=\"url(#p95c24bdcc5)\" d=\"M 252.72 39.991219 \nL 275.04 39.991219 \nL 275.04 54.487219 \nL 252.72 54.487219 \nL 252.72 39.991219 \n\" style=\"fill:#440154;\"/>\n    <path clip-path=\"url(#p95c24bdcc5)\" d=\"M 7.2 54.487219 \nL 29.52 54.487219 \nL 29.52 68.983219 \nL 7.2 68.983219 \nL 7.2 54.487219 \n\" style=\"fill:#440154;\"/>\n    <path clip-path=\"url(#p95c24bdcc5)\" d=\"M 29.52 54.487219 \nL 51.84 54.487219 \nL 51.84 68.983219 \nL 29.52 68.983219 \nL 29.52 54.487219 \n\" style=\"fill:#440154;\"/>\n    <path clip-path=\"url(#p95c24bdcc5)\" d=\"M 51.84 54.487219 \nL 74.16 54.487219 \nL 74.16 68.983219 \nL 51.84 68.983219 \nL 51.84 54.487219 \n\" style=\"fill:#fde725;\"/>\n    <path clip-path=\"url(#p95c24bdcc5)\" d=\"M 74.16 54.487219 \nL 96.48 54.487219 \nL 96.48 68.983219 \nL 74.16 68.983219 \nL 74.16 54.487219 \n\" style=\"fill:#440154;\"/>\n    <path clip-path=\"url(#p95c24bdcc5)\" d=\"M 96.48 54.487219 \nL 118.8 54.487219 \nL 118.8 68.983219 \nL 96.48 68.983219 \nL 96.48 54.487219 \n\" style=\"fill:#440154;\"/>\n    <path clip-path=\"url(#p95c24bdcc5)\" d=\"M 118.8 54.487219 \nL 141.12 54.487219 \nL 141.12 68.983219 \nL 118.8 68.983219 \nL 118.8 54.487219 \n\" style=\"fill:#440154;\"/>\n    <path clip-path=\"url(#p95c24bdcc5)\" d=\"M 141.12 54.487219 \nL 163.44 54.487219 \nL 163.44 68.983219 \nL 141.12 68.983219 \nL 141.12 54.487219 \n\" style=\"fill:#440154;\"/>\n    <path clip-path=\"url(#p95c24bdcc5)\" d=\"M 163.44 54.487219 \nL 185.76 54.487219 \nL 185.76 68.983219 \nL 163.44 68.983219 \nL 163.44 54.487219 \n\" style=\"fill:#440154;\"/>\n    <path clip-path=\"url(#p95c24bdcc5)\" d=\"M 185.76 54.487219 \nL 208.08 54.487219 \nL 208.08 68.983219 \nL 185.76 68.983219 \nL 185.76 54.487219 \n\" style=\"fill:#440154;\"/>\n    <path clip-path=\"url(#p95c24bdcc5)\" d=\"M 208.08 54.487219 \nL 230.4 54.487219 \nL 230.4 68.983219 \nL 208.08 68.983219 \nL 208.08 54.487219 \n\" style=\"fill:#440154;\"/>\n    <path clip-path=\"url(#p95c24bdcc5)\" d=\"M 230.4 54.487219 \nL 252.72 54.487219 \nL 252.72 68.983219 \nL 230.4 68.983219 \nL 230.4 54.487219 \n\" style=\"fill:#440154;\"/>\n    <path clip-path=\"url(#p95c24bdcc5)\" d=\"M 252.72 54.487219 \nL 275.04 54.487219 \nL 275.04 68.983219 \nL 252.72 68.983219 \nL 252.72 54.487219 \n\" style=\"fill:#440154;\"/>\n    <path clip-path=\"url(#p95c24bdcc5)\" d=\"M 7.2 68.983219 \nL 29.52 68.983219 \nL 29.52 83.479219 \nL 7.2 83.479219 \nL 7.2 68.983219 \n\" style=\"fill:#440154;\"/>\n    <path clip-path=\"url(#p95c24bdcc5)\" d=\"M 29.52 68.983219 \nL 51.84 68.983219 \nL 51.84 83.479219 \nL 29.52 83.479219 \nL 29.52 68.983219 \n\" style=\"fill:#440154;\"/>\n    <path clip-path=\"url(#p95c24bdcc5)\" d=\"M 51.84 68.983219 \nL 74.16 68.983219 \nL 74.16 83.479219 \nL 51.84 83.479219 \nL 51.84 68.983219 \n\" style=\"fill:#440154;\"/>\n    <path clip-path=\"url(#p95c24bdcc5)\" d=\"M 74.16 68.983219 \nL 96.48 68.983219 \nL 96.48 83.479219 \nL 74.16 83.479219 \nL 74.16 68.983219 \n\" style=\"fill:#440154;\"/>\n    <path clip-path=\"url(#p95c24bdcc5)\" d=\"M 96.48 68.983219 \nL 118.8 68.983219 \nL 118.8 83.479219 \nL 96.48 83.479219 \nL 96.48 68.983219 \n\" style=\"fill:#440154;\"/>\n    <path clip-path=\"url(#p95c24bdcc5)\" d=\"M 118.8 68.983219 \nL 141.12 68.983219 \nL 141.12 83.479219 \nL 118.8 83.479219 \nL 118.8 68.983219 \n\" style=\"fill:#440154;\"/>\n    <path clip-path=\"url(#p95c24bdcc5)\" d=\"M 141.12 68.983219 \nL 163.44 68.983219 \nL 163.44 83.479219 \nL 141.12 83.479219 \nL 141.12 68.983219 \n\" style=\"fill:#440154;\"/>\n    <path clip-path=\"url(#p95c24bdcc5)\" d=\"M 163.44 68.983219 \nL 185.76 68.983219 \nL 185.76 83.479219 \nL 163.44 83.479219 \nL 163.44 68.983219 \n\" style=\"fill:#440154;\"/>\n    <path clip-path=\"url(#p95c24bdcc5)\" d=\"M 185.76 68.983219 \nL 208.08 68.983219 \nL 208.08 83.479219 \nL 185.76 83.479219 \nL 185.76 68.983219 \n\" style=\"fill:#fde725;\"/>\n    <path clip-path=\"url(#p95c24bdcc5)\" d=\"M 208.08 68.983219 \nL 230.4 68.983219 \nL 230.4 83.479219 \nL 208.08 83.479219 \nL 208.08 68.983219 \n\" style=\"fill:#440154;\"/>\n    <path clip-path=\"url(#p95c24bdcc5)\" d=\"M 230.4 68.983219 \nL 252.72 68.983219 \nL 252.72 83.479219 \nL 230.4 83.479219 \nL 230.4 68.983219 \n\" style=\"fill:#440154;\"/>\n    <path clip-path=\"url(#p95c24bdcc5)\" d=\"M 252.72 68.983219 \nL 275.04 68.983219 \nL 275.04 83.479219 \nL 252.72 83.479219 \nL 252.72 68.983219 \n\" style=\"fill:#440154;\"/>\n    <path clip-path=\"url(#p95c24bdcc5)\" d=\"M 7.2 83.479219 \nL 29.52 83.479219 \nL 29.52 97.975219 \nL 7.2 97.975219 \nL 7.2 83.479219 \n\" style=\"fill:#440154;\"/>\n    <path clip-path=\"url(#p95c24bdcc5)\" d=\"M 29.52 83.479219 \nL 51.84 83.479219 \nL 51.84 97.975219 \nL 29.52 97.975219 \nL 29.52 83.479219 \n\" style=\"fill:#440154;\"/>\n    <path clip-path=\"url(#p95c24bdcc5)\" d=\"M 51.84 83.479219 \nL 74.16 83.479219 \nL 74.16 97.975219 \nL 51.84 97.975219 \nL 51.84 83.479219 \n\" style=\"fill:#440154;\"/>\n    <path clip-path=\"url(#p95c24bdcc5)\" d=\"M 74.16 83.479219 \nL 96.48 83.479219 \nL 96.48 97.975219 \nL 74.16 97.975219 \nL 74.16 83.479219 \n\" style=\"fill:#440154;\"/>\n    <path clip-path=\"url(#p95c24bdcc5)\" d=\"M 96.48 83.479219 \nL 118.8 83.479219 \nL 118.8 97.975219 \nL 96.48 97.975219 \nL 96.48 83.479219 \n\" style=\"fill:#440154;\"/>\n    <path clip-path=\"url(#p95c24bdcc5)\" d=\"M 118.8 83.479219 \nL 141.12 83.479219 \nL 141.12 97.975219 \nL 118.8 97.975219 \nL 118.8 83.479219 \n\" style=\"fill:#440154;\"/>\n    <path clip-path=\"url(#p95c24bdcc5)\" d=\"M 141.12 83.479219 \nL 163.44 83.479219 \nL 163.44 97.975219 \nL 141.12 97.975219 \nL 141.12 83.479219 \n\" style=\"fill:#440154;\"/>\n    <path clip-path=\"url(#p95c24bdcc5)\" d=\"M 163.44 83.479219 \nL 185.76 83.479219 \nL 185.76 97.975219 \nL 163.44 97.975219 \nL 163.44 83.479219 \n\" style=\"fill:#440154;\"/>\n    <path clip-path=\"url(#p95c24bdcc5)\" d=\"M 185.76 83.479219 \nL 208.08 83.479219 \nL 208.08 97.975219 \nL 185.76 97.975219 \nL 185.76 83.479219 \n\" style=\"fill:#440154;\"/>\n    <path clip-path=\"url(#p95c24bdcc5)\" d=\"M 208.08 83.479219 \nL 230.4 83.479219 \nL 230.4 97.975219 \nL 208.08 97.975219 \nL 208.08 83.479219 \n\" style=\"fill:#440154;\"/>\n    <path clip-path=\"url(#p95c24bdcc5)\" d=\"M 230.4 83.479219 \nL 252.72 83.479219 \nL 252.72 97.975219 \nL 230.4 97.975219 \nL 230.4 83.479219 \n\" style=\"fill:#440154;\"/>\n    <path clip-path=\"url(#p95c24bdcc5)\" d=\"M 252.72 83.479219 \nL 275.04 83.479219 \nL 275.04 97.975219 \nL 252.72 97.975219 \nL 252.72 83.479219 \n\" style=\"fill:#440154;\"/>\n    <path clip-path=\"url(#p95c24bdcc5)\" d=\"M 7.2 97.975219 \nL 29.52 97.975219 \nL 29.52 112.471219 \nL 7.2 112.471219 \nL 7.2 97.975219 \n\" style=\"fill:#440154;\"/>\n    <path clip-path=\"url(#p95c24bdcc5)\" d=\"M 29.52 97.975219 \nL 51.84 97.975219 \nL 51.84 112.471219 \nL 29.52 112.471219 \nL 29.52 97.975219 \n\" style=\"fill:#440154;\"/>\n    <path clip-path=\"url(#p95c24bdcc5)\" d=\"M 51.84 97.975219 \nL 74.16 97.975219 \nL 74.16 112.471219 \nL 51.84 112.471219 \nL 51.84 97.975219 \n\" style=\"fill:#440154;\"/>\n    <path clip-path=\"url(#p95c24bdcc5)\" d=\"M 74.16 97.975219 \nL 96.48 97.975219 \nL 96.48 112.471219 \nL 74.16 112.471219 \nL 74.16 97.975219 \n\" style=\"fill:#440154;\"/>\n    <path clip-path=\"url(#p95c24bdcc5)\" d=\"M 96.48 97.975219 \nL 118.8 97.975219 \nL 118.8 112.471219 \nL 96.48 112.471219 \nL 96.48 97.975219 \n\" style=\"fill:#440154;\"/>\n    <path clip-path=\"url(#p95c24bdcc5)\" d=\"M 118.8 97.975219 \nL 141.12 97.975219 \nL 141.12 112.471219 \nL 118.8 112.471219 \nL 118.8 97.975219 \n\" style=\"fill:#440154;\"/>\n    <path clip-path=\"url(#p95c24bdcc5)\" d=\"M 141.12 97.975219 \nL 163.44 97.975219 \nL 163.44 112.471219 \nL 141.12 112.471219 \nL 141.12 97.975219 \n\" style=\"fill:#440154;\"/>\n    <path clip-path=\"url(#p95c24bdcc5)\" d=\"M 163.44 97.975219 \nL 185.76 97.975219 \nL 185.76 112.471219 \nL 163.44 112.471219 \nL 163.44 97.975219 \n\" style=\"fill:#440154;\"/>\n    <path clip-path=\"url(#p95c24bdcc5)\" d=\"M 185.76 97.975219 \nL 208.08 97.975219 \nL 208.08 112.471219 \nL 185.76 112.471219 \nL 185.76 97.975219 \n\" style=\"fill:#440154;\"/>\n    <path clip-path=\"url(#p95c24bdcc5)\" d=\"M 208.08 97.975219 \nL 230.4 97.975219 \nL 230.4 112.471219 \nL 208.08 112.471219 \nL 208.08 97.975219 \n\" style=\"fill:#440154;\"/>\n    <path clip-path=\"url(#p95c24bdcc5)\" d=\"M 230.4 97.975219 \nL 252.72 97.975219 \nL 252.72 112.471219 \nL 230.4 112.471219 \nL 230.4 97.975219 \n\" style=\"fill:#440154;\"/>\n    <path clip-path=\"url(#p95c24bdcc5)\" d=\"M 252.72 97.975219 \nL 275.04 97.975219 \nL 275.04 112.471219 \nL 252.72 112.471219 \nL 252.72 97.975219 \n\" style=\"fill:#440154;\"/>\n    <path clip-path=\"url(#p95c24bdcc5)\" d=\"M 7.2 112.471219 \nL 29.52 112.471219 \nL 29.52 126.967219 \nL 7.2 126.967219 \nL 7.2 112.471219 \n\" style=\"fill:#440154;\"/>\n    <path clip-path=\"url(#p95c24bdcc5)\" d=\"M 29.52 112.471219 \nL 51.84 112.471219 \nL 51.84 126.967219 \nL 29.52 126.967219 \nL 29.52 112.471219 \n\" style=\"fill:#440154;\"/>\n    <path clip-path=\"url(#p95c24bdcc5)\" d=\"M 51.84 112.471219 \nL 74.16 112.471219 \nL 74.16 126.967219 \nL 51.84 126.967219 \nL 51.84 112.471219 \n\" style=\"fill:#440154;\"/>\n    <path clip-path=\"url(#p95c24bdcc5)\" d=\"M 74.16 112.471219 \nL 96.48 112.471219 \nL 96.48 126.967219 \nL 74.16 126.967219 \nL 74.16 112.471219 \n\" style=\"fill:#440154;\"/>\n    <path clip-path=\"url(#p95c24bdcc5)\" d=\"M 96.48 112.471219 \nL 118.8 112.471219 \nL 118.8 126.967219 \nL 96.48 126.967219 \nL 96.48 112.471219 \n\" style=\"fill:#440154;\"/>\n    <path clip-path=\"url(#p95c24bdcc5)\" d=\"M 118.8 112.471219 \nL 141.12 112.471219 \nL 141.12 126.967219 \nL 118.8 126.967219 \nL 118.8 112.471219 \n\" style=\"fill:#440154;\"/>\n    <path clip-path=\"url(#p95c24bdcc5)\" d=\"M 141.12 112.471219 \nL 163.44 112.471219 \nL 163.44 126.967219 \nL 141.12 126.967219 \nL 141.12 112.471219 \n\" style=\"fill:#440154;\"/>\n    <path clip-path=\"url(#p95c24bdcc5)\" d=\"M 163.44 112.471219 \nL 185.76 112.471219 \nL 185.76 126.967219 \nL 163.44 126.967219 \nL 163.44 112.471219 \n\" style=\"fill:#440154;\"/>\n    <path clip-path=\"url(#p95c24bdcc5)\" d=\"M 185.76 112.471219 \nL 208.08 112.471219 \nL 208.08 126.967219 \nL 185.76 126.967219 \nL 185.76 112.471219 \n\" style=\"fill:#440154;\"/>\n    <path clip-path=\"url(#p95c24bdcc5)\" d=\"M 208.08 112.471219 \nL 230.4 112.471219 \nL 230.4 126.967219 \nL 208.08 126.967219 \nL 208.08 112.471219 \n\" style=\"fill:#440154;\"/>\n    <path clip-path=\"url(#p95c24bdcc5)\" d=\"M 230.4 112.471219 \nL 252.72 112.471219 \nL 252.72 126.967219 \nL 230.4 126.967219 \nL 230.4 112.471219 \n\" style=\"fill:#440154;\"/>\n    <path clip-path=\"url(#p95c24bdcc5)\" d=\"M 252.72 112.471219 \nL 275.04 112.471219 \nL 275.04 126.967219 \nL 252.72 126.967219 \nL 252.72 112.471219 \n\" style=\"fill:#440154;\"/>\n    <path clip-path=\"url(#p95c24bdcc5)\" d=\"M 7.2 126.967219 \nL 29.52 126.967219 \nL 29.52 141.463219 \nL 7.2 141.463219 \nL 7.2 126.967219 \n\" style=\"fill:#440154;\"/>\n    <path clip-path=\"url(#p95c24bdcc5)\" d=\"M 29.52 126.967219 \nL 51.84 126.967219 \nL 51.84 141.463219 \nL 29.52 141.463219 \nL 29.52 126.967219 \n\" style=\"fill:#440154;\"/>\n    <path clip-path=\"url(#p95c24bdcc5)\" d=\"M 51.84 126.967219 \nL 74.16 126.967219 \nL 74.16 141.463219 \nL 51.84 141.463219 \nL 51.84 126.967219 \n\" style=\"fill:#440154;\"/>\n    <path clip-path=\"url(#p95c24bdcc5)\" d=\"M 74.16 126.967219 \nL 96.48 126.967219 \nL 96.48 141.463219 \nL 74.16 141.463219 \nL 74.16 126.967219 \n\" style=\"fill:#440154;\"/>\n    <path clip-path=\"url(#p95c24bdcc5)\" d=\"M 96.48 126.967219 \nL 118.8 126.967219 \nL 118.8 141.463219 \nL 96.48 141.463219 \nL 96.48 126.967219 \n\" style=\"fill:#440154;\"/>\n    <path clip-path=\"url(#p95c24bdcc5)\" d=\"M 118.8 126.967219 \nL 141.12 126.967219 \nL 141.12 141.463219 \nL 118.8 141.463219 \nL 118.8 126.967219 \n\" style=\"fill:#440154;\"/>\n    <path clip-path=\"url(#p95c24bdcc5)\" d=\"M 141.12 126.967219 \nL 163.44 126.967219 \nL 163.44 141.463219 \nL 141.12 141.463219 \nL 141.12 126.967219 \n\" style=\"fill:#440154;\"/>\n    <path clip-path=\"url(#p95c24bdcc5)\" d=\"M 163.44 126.967219 \nL 185.76 126.967219 \nL 185.76 141.463219 \nL 163.44 141.463219 \nL 163.44 126.967219 \n\" style=\"fill:#440154;\"/>\n    <path clip-path=\"url(#p95c24bdcc5)\" d=\"M 185.76 126.967219 \nL 208.08 126.967219 \nL 208.08 141.463219 \nL 185.76 141.463219 \nL 185.76 126.967219 \n\" style=\"fill:#440154;\"/>\n    <path clip-path=\"url(#p95c24bdcc5)\" d=\"M 208.08 126.967219 \nL 230.4 126.967219 \nL 230.4 141.463219 \nL 208.08 141.463219 \nL 208.08 126.967219 \n\" style=\"fill:#440154;\"/>\n    <path clip-path=\"url(#p95c24bdcc5)\" d=\"M 230.4 126.967219 \nL 252.72 126.967219 \nL 252.72 141.463219 \nL 230.4 141.463219 \nL 230.4 126.967219 \n\" style=\"fill:#440154;\"/>\n    <path clip-path=\"url(#p95c24bdcc5)\" d=\"M 252.72 126.967219 \nL 275.04 126.967219 \nL 275.04 141.463219 \nL 252.72 141.463219 \nL 252.72 126.967219 \n\" style=\"fill:#440154;\"/>\n    <path clip-path=\"url(#p95c24bdcc5)\" d=\"M 7.2 141.463219 \nL 29.52 141.463219 \nL 29.52 155.959219 \nL 7.2 155.959219 \nL 7.2 141.463219 \n\" style=\"fill:#440154;\"/>\n    <path clip-path=\"url(#p95c24bdcc5)\" d=\"M 29.52 141.463219 \nL 51.84 141.463219 \nL 51.84 155.959219 \nL 29.52 155.959219 \nL 29.52 141.463219 \n\" style=\"fill:#440154;\"/>\n    <path clip-path=\"url(#p95c24bdcc5)\" d=\"M 51.84 141.463219 \nL 74.16 141.463219 \nL 74.16 155.959219 \nL 51.84 155.959219 \nL 51.84 141.463219 \n\" style=\"fill:#440154;\"/>\n    <path clip-path=\"url(#p95c24bdcc5)\" d=\"M 74.16 141.463219 \nL 96.48 141.463219 \nL 96.48 155.959219 \nL 74.16 155.959219 \nL 74.16 141.463219 \n\" style=\"fill:#440154;\"/>\n    <path clip-path=\"url(#p95c24bdcc5)\" d=\"M 96.48 141.463219 \nL 118.8 141.463219 \nL 118.8 155.959219 \nL 96.48 155.959219 \nL 96.48 141.463219 \n\" style=\"fill:#440154;\"/>\n    <path clip-path=\"url(#p95c24bdcc5)\" d=\"M 118.8 141.463219 \nL 141.12 141.463219 \nL 141.12 155.959219 \nL 118.8 155.959219 \nL 118.8 141.463219 \n\" style=\"fill:#440154;\"/>\n    <path clip-path=\"url(#p95c24bdcc5)\" d=\"M 141.12 141.463219 \nL 163.44 141.463219 \nL 163.44 155.959219 \nL 141.12 155.959219 \nL 141.12 141.463219 \n\" style=\"fill:#440154;\"/>\n    <path clip-path=\"url(#p95c24bdcc5)\" d=\"M 163.44 141.463219 \nL 185.76 141.463219 \nL 185.76 155.959219 \nL 163.44 155.959219 \nL 163.44 141.463219 \n\" style=\"fill:#440154;\"/>\n    <path clip-path=\"url(#p95c24bdcc5)\" d=\"M 185.76 141.463219 \nL 208.08 141.463219 \nL 208.08 155.959219 \nL 185.76 155.959219 \nL 185.76 141.463219 \n\" style=\"fill:#440154;\"/>\n    <path clip-path=\"url(#p95c24bdcc5)\" d=\"M 208.08 141.463219 \nL 230.4 141.463219 \nL 230.4 155.959219 \nL 208.08 155.959219 \nL 208.08 141.463219 \n\" style=\"fill:#440154;\"/>\n    <path clip-path=\"url(#p95c24bdcc5)\" d=\"M 230.4 141.463219 \nL 252.72 141.463219 \nL 252.72 155.959219 \nL 230.4 155.959219 \nL 230.4 141.463219 \n\" style=\"fill:#440154;\"/>\n    <path clip-path=\"url(#p95c24bdcc5)\" d=\"M 252.72 141.463219 \nL 275.04 141.463219 \nL 275.04 155.959219 \nL 252.72 155.959219 \nL 252.72 141.463219 \n\" style=\"fill:#440154;\"/>\n    <path clip-path=\"url(#p95c24bdcc5)\" d=\"M 7.2 155.959219 \nL 29.52 155.959219 \nL 29.52 170.455219 \nL 7.2 170.455219 \nL 7.2 155.959219 \n\" style=\"fill:#440154;\"/>\n    <path clip-path=\"url(#p95c24bdcc5)\" d=\"M 29.52 155.959219 \nL 51.84 155.959219 \nL 51.84 170.455219 \nL 29.52 170.455219 \nL 29.52 155.959219 \n\" style=\"fill:#440154;\"/>\n    <path clip-path=\"url(#p95c24bdcc5)\" d=\"M 51.84 155.959219 \nL 74.16 155.959219 \nL 74.16 170.455219 \nL 51.84 170.455219 \nL 51.84 155.959219 \n\" style=\"fill:#fde725;\"/>\n    <path clip-path=\"url(#p95c24bdcc5)\" d=\"M 74.16 155.959219 \nL 96.48 155.959219 \nL 96.48 170.455219 \nL 74.16 170.455219 \nL 74.16 155.959219 \n\" style=\"fill:#440154;\"/>\n    <path clip-path=\"url(#p95c24bdcc5)\" d=\"M 96.48 155.959219 \nL 118.8 155.959219 \nL 118.8 170.455219 \nL 96.48 170.455219 \nL 96.48 155.959219 \n\" style=\"fill:#440154;\"/>\n    <path clip-path=\"url(#p95c24bdcc5)\" d=\"M 118.8 155.959219 \nL 141.12 155.959219 \nL 141.12 170.455219 \nL 118.8 170.455219 \nL 118.8 155.959219 \n\" style=\"fill:#440154;\"/>\n    <path clip-path=\"url(#p95c24bdcc5)\" d=\"M 141.12 155.959219 \nL 163.44 155.959219 \nL 163.44 170.455219 \nL 141.12 170.455219 \nL 141.12 155.959219 \n\" style=\"fill:#440154;\"/>\n    <path clip-path=\"url(#p95c24bdcc5)\" d=\"M 163.44 155.959219 \nL 185.76 155.959219 \nL 185.76 170.455219 \nL 163.44 170.455219 \nL 163.44 155.959219 \n\" style=\"fill:#440154;\"/>\n    <path clip-path=\"url(#p95c24bdcc5)\" d=\"M 185.76 155.959219 \nL 208.08 155.959219 \nL 208.08 170.455219 \nL 185.76 170.455219 \nL 185.76 155.959219 \n\" style=\"fill:#440154;\"/>\n    <path clip-path=\"url(#p95c24bdcc5)\" d=\"M 208.08 155.959219 \nL 230.4 155.959219 \nL 230.4 170.455219 \nL 208.08 170.455219 \nL 208.08 155.959219 \n\" style=\"fill:#440154;\"/>\n    <path clip-path=\"url(#p95c24bdcc5)\" d=\"M 230.4 155.959219 \nL 252.72 155.959219 \nL 252.72 170.455219 \nL 230.4 170.455219 \nL 230.4 155.959219 \n\" style=\"fill:#440154;\"/>\n    <path clip-path=\"url(#p95c24bdcc5)\" d=\"M 252.72 155.959219 \nL 275.04 155.959219 \nL 275.04 170.455219 \nL 252.72 170.455219 \nL 252.72 155.959219 \n\" style=\"fill:#440154;\"/>\n    <path clip-path=\"url(#p95c24bdcc5)\" d=\"M 7.2 170.455219 \nL 29.52 170.455219 \nL 29.52 184.951219 \nL 7.2 184.951219 \nL 7.2 170.455219 \n\" style=\"fill:#440154;\"/>\n    <path clip-path=\"url(#p95c24bdcc5)\" d=\"M 29.52 170.455219 \nL 51.84 170.455219 \nL 51.84 184.951219 \nL 29.52 184.951219 \nL 29.52 170.455219 \n\" style=\"fill:#440154;\"/>\n    <path clip-path=\"url(#p95c24bdcc5)\" d=\"M 51.84 170.455219 \nL 74.16 170.455219 \nL 74.16 184.951219 \nL 51.84 184.951219 \nL 51.84 170.455219 \n\" style=\"fill:#440154;\"/>\n    <path clip-path=\"url(#p95c24bdcc5)\" d=\"M 74.16 170.455219 \nL 96.48 170.455219 \nL 96.48 184.951219 \nL 74.16 184.951219 \nL 74.16 170.455219 \n\" style=\"fill:#fde725;\"/>\n    <path clip-path=\"url(#p95c24bdcc5)\" d=\"M 96.48 170.455219 \nL 118.8 170.455219 \nL 118.8 184.951219 \nL 96.48 184.951219 \nL 96.48 170.455219 \n\" style=\"fill:#440154;\"/>\n    <path clip-path=\"url(#p95c24bdcc5)\" d=\"M 118.8 170.455219 \nL 141.12 170.455219 \nL 141.12 184.951219 \nL 118.8 184.951219 \nL 118.8 170.455219 \n\" style=\"fill:#440154;\"/>\n    <path clip-path=\"url(#p95c24bdcc5)\" d=\"M 141.12 170.455219 \nL 163.44 170.455219 \nL 163.44 184.951219 \nL 141.12 184.951219 \nL 141.12 170.455219 \n\" style=\"fill:#440154;\"/>\n    <path clip-path=\"url(#p95c24bdcc5)\" d=\"M 163.44 170.455219 \nL 185.76 170.455219 \nL 185.76 184.951219 \nL 163.44 184.951219 \nL 163.44 170.455219 \n\" style=\"fill:#440154;\"/>\n    <path clip-path=\"url(#p95c24bdcc5)\" d=\"M 185.76 170.455219 \nL 208.08 170.455219 \nL 208.08 184.951219 \nL 185.76 184.951219 \nL 185.76 170.455219 \n\" style=\"fill:#440154;\"/>\n    <path clip-path=\"url(#p95c24bdcc5)\" d=\"M 208.08 170.455219 \nL 230.4 170.455219 \nL 230.4 184.951219 \nL 208.08 184.951219 \nL 208.08 170.455219 \n\" style=\"fill:#440154;\"/>\n    <path clip-path=\"url(#p95c24bdcc5)\" d=\"M 230.4 170.455219 \nL 252.72 170.455219 \nL 252.72 184.951219 \nL 230.4 184.951219 \nL 230.4 170.455219 \n\" style=\"fill:#440154;\"/>\n    <path clip-path=\"url(#p95c24bdcc5)\" d=\"M 252.72 170.455219 \nL 275.04 170.455219 \nL 275.04 184.951219 \nL 252.72 184.951219 \nL 252.72 170.455219 \n\" style=\"fill:#440154;\"/>\n    <path clip-path=\"url(#p95c24bdcc5)\" d=\"M 7.2 184.951219 \nL 29.52 184.951219 \nL 29.52 199.447219 \nL 7.2 199.447219 \nL 7.2 184.951219 \n\" style=\"fill:#440154;\"/>\n    <path clip-path=\"url(#p95c24bdcc5)\" d=\"M 29.52 184.951219 \nL 51.84 184.951219 \nL 51.84 199.447219 \nL 29.52 199.447219 \nL 29.52 184.951219 \n\" style=\"fill:#440154;\"/>\n    <path clip-path=\"url(#p95c24bdcc5)\" d=\"M 51.84 184.951219 \nL 74.16 184.951219 \nL 74.16 199.447219 \nL 51.84 199.447219 \nL 51.84 184.951219 \n\" style=\"fill:#fde725;\"/>\n    <path clip-path=\"url(#p95c24bdcc5)\" d=\"M 74.16 184.951219 \nL 96.48 184.951219 \nL 96.48 199.447219 \nL 74.16 199.447219 \nL 74.16 184.951219 \n\" style=\"fill:#fde725;\"/>\n    <path clip-path=\"url(#p95c24bdcc5)\" d=\"M 96.48 184.951219 \nL 118.8 184.951219 \nL 118.8 199.447219 \nL 96.48 199.447219 \nL 96.48 184.951219 \n\" style=\"fill:#440154;\"/>\n    <path clip-path=\"url(#p95c24bdcc5)\" d=\"M 118.8 184.951219 \nL 141.12 184.951219 \nL 141.12 199.447219 \nL 118.8 199.447219 \nL 118.8 184.951219 \n\" style=\"fill:#440154;\"/>\n    <path clip-path=\"url(#p95c24bdcc5)\" d=\"M 141.12 184.951219 \nL 163.44 184.951219 \nL 163.44 199.447219 \nL 141.12 199.447219 \nL 141.12 184.951219 \n\" style=\"fill:#440154;\"/>\n    <path clip-path=\"url(#p95c24bdcc5)\" d=\"M 163.44 184.951219 \nL 185.76 184.951219 \nL 185.76 199.447219 \nL 163.44 199.447219 \nL 163.44 184.951219 \n\" style=\"fill:#440154;\"/>\n    <path clip-path=\"url(#p95c24bdcc5)\" d=\"M 185.76 184.951219 \nL 208.08 184.951219 \nL 208.08 199.447219 \nL 185.76 199.447219 \nL 185.76 184.951219 \n\" style=\"fill:#440154;\"/>\n    <path clip-path=\"url(#p95c24bdcc5)\" d=\"M 208.08 184.951219 \nL 230.4 184.951219 \nL 230.4 199.447219 \nL 208.08 199.447219 \nL 208.08 184.951219 \n\" style=\"fill:#440154;\"/>\n    <path clip-path=\"url(#p95c24bdcc5)\" d=\"M 230.4 184.951219 \nL 252.72 184.951219 \nL 252.72 199.447219 \nL 230.4 199.447219 \nL 230.4 184.951219 \n\" style=\"fill:#440154;\"/>\n    <path clip-path=\"url(#p95c24bdcc5)\" d=\"M 252.72 184.951219 \nL 275.04 184.951219 \nL 275.04 199.447219 \nL 252.72 199.447219 \nL 252.72 184.951219 \n\" style=\"fill:#440154;\"/>\n    <path clip-path=\"url(#p95c24bdcc5)\" d=\"M 7.2 199.447219 \nL 29.52 199.447219 \nL 29.52 213.943219 \nL 7.2 213.943219 \nL 7.2 199.447219 \n\" style=\"fill:#440154;\"/>\n    <path clip-path=\"url(#p95c24bdcc5)\" d=\"M 29.52 199.447219 \nL 51.84 199.447219 \nL 51.84 213.943219 \nL 29.52 213.943219 \nL 29.52 199.447219 \n\" style=\"fill:#440154;\"/>\n    <path clip-path=\"url(#p95c24bdcc5)\" d=\"M 51.84 199.447219 \nL 74.16 199.447219 \nL 74.16 213.943219 \nL 51.84 213.943219 \nL 51.84 199.447219 \n\" style=\"fill:#fde725;\"/>\n    <path clip-path=\"url(#p95c24bdcc5)\" d=\"M 74.16 199.447219 \nL 96.48 199.447219 \nL 96.48 213.943219 \nL 74.16 213.943219 \nL 74.16 199.447219 \n\" style=\"fill:#fde725;\"/>\n    <path clip-path=\"url(#p95c24bdcc5)\" d=\"M 96.48 199.447219 \nL 118.8 199.447219 \nL 118.8 213.943219 \nL 96.48 213.943219 \nL 96.48 199.447219 \n\" style=\"fill:#fde725;\"/>\n    <path clip-path=\"url(#p95c24bdcc5)\" d=\"M 118.8 199.447219 \nL 141.12 199.447219 \nL 141.12 213.943219 \nL 118.8 213.943219 \nL 118.8 199.447219 \n\" style=\"fill:#fde725;\"/>\n    <path clip-path=\"url(#p95c24bdcc5)\" d=\"M 141.12 199.447219 \nL 163.44 199.447219 \nL 163.44 213.943219 \nL 141.12 213.943219 \nL 141.12 199.447219 \n\" style=\"fill:#fde725;\"/>\n    <path clip-path=\"url(#p95c24bdcc5)\" d=\"M 163.44 199.447219 \nL 185.76 199.447219 \nL 185.76 213.943219 \nL 163.44 213.943219 \nL 163.44 199.447219 \n\" style=\"fill:#fde725;\"/>\n    <path clip-path=\"url(#p95c24bdcc5)\" d=\"M 185.76 199.447219 \nL 208.08 199.447219 \nL 208.08 213.943219 \nL 185.76 213.943219 \nL 185.76 199.447219 \n\" style=\"fill:#fde725;\"/>\n    <path clip-path=\"url(#p95c24bdcc5)\" d=\"M 208.08 199.447219 \nL 230.4 199.447219 \nL 230.4 213.943219 \nL 208.08 213.943219 \nL 208.08 199.447219 \n\" style=\"fill:#fde725;\"/>\n    <path clip-path=\"url(#p95c24bdcc5)\" d=\"M 230.4 199.447219 \nL 252.72 199.447219 \nL 252.72 213.943219 \nL 230.4 213.943219 \nL 230.4 199.447219 \n\" style=\"fill:#440154;\"/>\n    <path clip-path=\"url(#p95c24bdcc5)\" d=\"M 252.72 199.447219 \nL 275.04 199.447219 \nL 275.04 213.943219 \nL 252.72 213.943219 \nL 252.72 199.447219 \n\" style=\"fill:#fde725;\"/>\n    <path clip-path=\"url(#p95c24bdcc5)\" d=\"M 7.2 213.943219 \nL 29.52 213.943219 \nL 29.52 228.439219 \nL 7.2 228.439219 \nL 7.2 213.943219 \n\" style=\"fill:#440154;\"/>\n    <path clip-path=\"url(#p95c24bdcc5)\" d=\"M 29.52 213.943219 \nL 51.84 213.943219 \nL 51.84 228.439219 \nL 29.52 228.439219 \nL 29.52 213.943219 \n\" style=\"fill:#fde725;\"/>\n    <path clip-path=\"url(#p95c24bdcc5)\" d=\"M 51.84 213.943219 \nL 74.16 213.943219 \nL 74.16 228.439219 \nL 51.84 228.439219 \nL 51.84 213.943219 \n\" style=\"fill:#440154;\"/>\n    <path clip-path=\"url(#p95c24bdcc5)\" d=\"M 74.16 213.943219 \nL 96.48 213.943219 \nL 96.48 228.439219 \nL 74.16 228.439219 \nL 74.16 213.943219 \n\" style=\"fill:#440154;\"/>\n    <path clip-path=\"url(#p95c24bdcc5)\" d=\"M 96.48 213.943219 \nL 118.8 213.943219 \nL 118.8 228.439219 \nL 96.48 228.439219 \nL 96.48 213.943219 \n\" style=\"fill:#440154;\"/>\n    <path clip-path=\"url(#p95c24bdcc5)\" d=\"M 118.8 213.943219 \nL 141.12 213.943219 \nL 141.12 228.439219 \nL 118.8 228.439219 \nL 118.8 213.943219 \n\" style=\"fill:#440154;\"/>\n    <path clip-path=\"url(#p95c24bdcc5)\" d=\"M 141.12 213.943219 \nL 163.44 213.943219 \nL 163.44 228.439219 \nL 141.12 228.439219 \nL 141.12 213.943219 \n\" style=\"fill:#440154;\"/>\n    <path clip-path=\"url(#p95c24bdcc5)\" d=\"M 163.44 213.943219 \nL 185.76 213.943219 \nL 185.76 228.439219 \nL 163.44 228.439219 \nL 163.44 213.943219 \n\" style=\"fill:#440154;\"/>\n    <path clip-path=\"url(#p95c24bdcc5)\" d=\"M 185.76 213.943219 \nL 208.08 213.943219 \nL 208.08 228.439219 \nL 185.76 228.439219 \nL 185.76 213.943219 \n\" style=\"fill:#440154;\"/>\n    <path clip-path=\"url(#p95c24bdcc5)\" d=\"M 208.08 213.943219 \nL 230.4 213.943219 \nL 230.4 228.439219 \nL 208.08 228.439219 \nL 208.08 213.943219 \n\" style=\"fill:#440154;\"/>\n    <path clip-path=\"url(#p95c24bdcc5)\" d=\"M 230.4 213.943219 \nL 252.72 213.943219 \nL 252.72 228.439219 \nL 230.4 228.439219 \nL 230.4 213.943219 \n\" style=\"fill:#fde725;\"/>\n    <path clip-path=\"url(#p95c24bdcc5)\" d=\"M 252.72 213.943219 \nL 275.04 213.943219 \nL 275.04 228.439219 \nL 252.72 228.439219 \nL 252.72 213.943219 \n\" style=\"fill:#fde725;\"/>\n   </g>\n   <g id=\"matplotlib.axis_1\">\n    <g id=\"xtick_1\">\n     <g id=\"line2d_1\">\n      <defs>\n       <path d=\"M 0 0 \nL 0 3.5 \n\" id=\"me3467501a8\" style=\"stroke:#000000;stroke-width:0.8;\"/>\n      </defs>\n      <g>\n       <use style=\"stroke:#000000;stroke-width:0.8;\" x=\"18.36\" xlink:href=\"#me3467501a8\" y=\"228.439219\"/>\n      </g>\n     </g>\n     <g id=\"text_1\">\n      <!-- ID -->\n      <defs>\n       <path d=\"M 9.8125 72.90625 \nL 19.671875 72.90625 \nL 19.671875 0 \nL 9.8125 0 \nz\n\" id=\"DejaVuSans-73\"/>\n       <path d=\"M 19.671875 64.796875 \nL 19.671875 8.109375 \nL 31.59375 8.109375 \nQ 46.6875 8.109375 53.6875 14.9375 \nQ 60.6875 21.78125 60.6875 36.53125 \nQ 60.6875 51.171875 53.6875 57.984375 \nQ 46.6875 64.796875 31.59375 64.796875 \nz\nM 9.8125 72.90625 \nL 30.078125 72.90625 \nQ 51.265625 72.90625 61.171875 64.09375 \nQ 71.09375 55.28125 71.09375 36.53125 \nQ 71.09375 17.671875 61.125 8.828125 \nQ 51.171875 0 30.078125 0 \nL 9.8125 0 \nz\n\" id=\"DejaVuSans-68\"/>\n      </defs>\n      <g transform=\"translate(21.119375 246.089219)rotate(-90)scale(0.1 -0.1)\">\n       <use xlink:href=\"#DejaVuSans-73\"/>\n       <use x=\"29.492188\" xlink:href=\"#DejaVuSans-68\"/>\n      </g>\n     </g>\n    </g>\n    <g id=\"xtick_2\">\n     <g id=\"line2d_2\">\n      <g>\n       <use style=\"stroke:#000000;stroke-width:0.8;\" x=\"40.68\" xlink:href=\"#me3467501a8\" y=\"228.439219\"/>\n      </g>\n     </g>\n     <g id=\"text_2\">\n      <!-- Name -->\n      <defs>\n       <path d=\"M 9.8125 72.90625 \nL 23.09375 72.90625 \nL 55.421875 11.921875 \nL 55.421875 72.90625 \nL 64.984375 72.90625 \nL 64.984375 0 \nL 51.703125 0 \nL 19.390625 60.984375 \nL 19.390625 0 \nL 9.8125 0 \nz\n\" id=\"DejaVuSans-78\"/>\n       <path d=\"M 34.28125 27.484375 \nQ 23.390625 27.484375 19.1875 25 \nQ 14.984375 22.515625 14.984375 16.5 \nQ 14.984375 11.71875 18.140625 8.90625 \nQ 21.296875 6.109375 26.703125 6.109375 \nQ 34.1875 6.109375 38.703125 11.40625 \nQ 43.21875 16.703125 43.21875 25.484375 \nL 43.21875 27.484375 \nz\nM 52.203125 31.203125 \nL 52.203125 0 \nL 43.21875 0 \nL 43.21875 8.296875 \nQ 40.140625 3.328125 35.546875 0.953125 \nQ 30.953125 -1.421875 24.3125 -1.421875 \nQ 15.921875 -1.421875 10.953125 3.296875 \nQ 6 8.015625 6 15.921875 \nQ 6 25.140625 12.171875 29.828125 \nQ 18.359375 34.515625 30.609375 34.515625 \nL 43.21875 34.515625 \nL 43.21875 35.40625 \nQ 43.21875 41.609375 39.140625 45 \nQ 35.0625 48.390625 27.6875 48.390625 \nQ 23 48.390625 18.546875 47.265625 \nQ 14.109375 46.140625 10.015625 43.890625 \nL 10.015625 52.203125 \nQ 14.9375 54.109375 19.578125 55.046875 \nQ 24.21875 56 28.609375 56 \nQ 40.484375 56 46.34375 49.84375 \nQ 52.203125 43.703125 52.203125 31.203125 \nz\n\" id=\"DejaVuSans-97\"/>\n       <path d=\"M 52 44.1875 \nQ 55.375 50.25 60.0625 53.125 \nQ 64.75 56 71.09375 56 \nQ 79.640625 56 84.28125 50.015625 \nQ 88.921875 44.046875 88.921875 33.015625 \nL 88.921875 0 \nL 79.890625 0 \nL 79.890625 32.71875 \nQ 79.890625 40.578125 77.09375 44.375 \nQ 74.3125 48.1875 68.609375 48.1875 \nQ 61.625 48.1875 57.5625 43.546875 \nQ 53.515625 38.921875 53.515625 30.90625 \nL 53.515625 0 \nL 44.484375 0 \nL 44.484375 32.71875 \nQ 44.484375 40.625 41.703125 44.40625 \nQ 38.921875 48.1875 33.109375 48.1875 \nQ 26.21875 48.1875 22.15625 43.53125 \nQ 18.109375 38.875 18.109375 30.90625 \nL 18.109375 0 \nL 9.078125 0 \nL 9.078125 54.6875 \nL 18.109375 54.6875 \nL 18.109375 46.1875 \nQ 21.1875 51.21875 25.484375 53.609375 \nQ 29.78125 56 35.6875 56 \nQ 41.65625 56 45.828125 52.96875 \nQ 50 49.953125 52 44.1875 \nz\n\" id=\"DejaVuSans-109\"/>\n       <path d=\"M 56.203125 29.59375 \nL 56.203125 25.203125 \nL 14.890625 25.203125 \nQ 15.484375 15.921875 20.484375 11.0625 \nQ 25.484375 6.203125 34.421875 6.203125 \nQ 39.59375 6.203125 44.453125 7.46875 \nQ 49.3125 8.734375 54.109375 11.28125 \nL 54.109375 2.78125 \nQ 49.265625 0.734375 44.1875 -0.34375 \nQ 39.109375 -1.421875 33.890625 -1.421875 \nQ 20.796875 -1.421875 13.15625 6.1875 \nQ 5.515625 13.8125 5.515625 26.8125 \nQ 5.515625 40.234375 12.765625 48.109375 \nQ 20.015625 56 32.328125 56 \nQ 43.359375 56 49.78125 48.890625 \nQ 56.203125 41.796875 56.203125 29.59375 \nz\nM 47.21875 32.234375 \nQ 47.125 39.59375 43.09375 43.984375 \nQ 39.0625 48.390625 32.421875 48.390625 \nQ 24.90625 48.390625 20.390625 44.140625 \nQ 15.875 39.890625 15.1875 32.171875 \nz\n\" id=\"DejaVuSans-101\"/>\n      </defs>\n      <g transform=\"translate(43.439375 264.942344)rotate(-90)scale(0.1 -0.1)\">\n       <use xlink:href=\"#DejaVuSans-78\"/>\n       <use x=\"74.804688\" xlink:href=\"#DejaVuSans-97\"/>\n       <use x=\"136.083984\" xlink:href=\"#DejaVuSans-109\"/>\n       <use x=\"233.496094\" xlink:href=\"#DejaVuSans-101\"/>\n      </g>\n     </g>\n    </g>\n    <g id=\"xtick_3\">\n     <g id=\"line2d_3\">\n      <g>\n       <use style=\"stroke:#000000;stroke-width:0.8;\" x=\"63\" xlink:href=\"#me3467501a8\" y=\"228.439219\"/>\n      </g>\n     </g>\n     <g id=\"text_3\">\n      <!-- Age -->\n      <defs>\n       <path d=\"M 34.1875 63.1875 \nL 20.796875 26.90625 \nL 47.609375 26.90625 \nz\nM 28.609375 72.90625 \nL 39.796875 72.90625 \nL 67.578125 0 \nL 57.328125 0 \nL 50.6875 18.703125 \nL 17.828125 18.703125 \nL 11.1875 0 \nL 0.78125 0 \nz\n\" id=\"DejaVuSans-65\"/>\n       <path d=\"M 45.40625 27.984375 \nQ 45.40625 37.75 41.375 43.109375 \nQ 37.359375 48.484375 30.078125 48.484375 \nQ 22.859375 48.484375 18.828125 43.109375 \nQ 14.796875 37.75 14.796875 27.984375 \nQ 14.796875 18.265625 18.828125 12.890625 \nQ 22.859375 7.515625 30.078125 7.515625 \nQ 37.359375 7.515625 41.375 12.890625 \nQ 45.40625 18.265625 45.40625 27.984375 \nz\nM 54.390625 6.78125 \nQ 54.390625 -7.171875 48.1875 -13.984375 \nQ 42 -20.796875 29.203125 -20.796875 \nQ 24.46875 -20.796875 20.265625 -20.09375 \nQ 16.0625 -19.390625 12.109375 -17.921875 \nL 12.109375 -9.1875 \nQ 16.0625 -11.328125 19.921875 -12.34375 \nQ 23.78125 -13.375 27.78125 -13.375 \nQ 36.625 -13.375 41.015625 -8.765625 \nQ 45.40625 -4.15625 45.40625 5.171875 \nL 45.40625 9.625 \nQ 42.625 4.78125 38.28125 2.390625 \nQ 33.9375 0 27.875 0 \nQ 17.828125 0 11.671875 7.65625 \nQ 5.515625 15.328125 5.515625 27.984375 \nQ 5.515625 40.671875 11.671875 48.328125 \nQ 17.828125 56 27.875 56 \nQ 33.9375 56 38.28125 53.609375 \nQ 42.625 51.21875 45.40625 46.390625 \nL 45.40625 54.6875 \nL 54.390625 54.6875 \nz\n\" id=\"DejaVuSans-103\"/>\n      </defs>\n      <g transform=\"translate(65.759375 254.781406)rotate(-90)scale(0.1 -0.1)\">\n       <use xlink:href=\"#DejaVuSans-65\"/>\n       <use x=\"68.408203\" xlink:href=\"#DejaVuSans-103\"/>\n       <use x=\"131.884766\" xlink:href=\"#DejaVuSans-101\"/>\n      </g>\n     </g>\n    </g>\n    <g id=\"xtick_4\">\n     <g id=\"line2d_4\">\n      <g>\n       <use style=\"stroke:#000000;stroke-width:0.8;\" x=\"85.32\" xlink:href=\"#me3467501a8\" y=\"228.439219\"/>\n      </g>\n     </g>\n     <g id=\"text_4\">\n      <!-- Weight -->\n      <defs>\n       <path d=\"M 3.328125 72.90625 \nL 13.28125 72.90625 \nL 28.609375 11.28125 \nL 43.890625 72.90625 \nL 54.984375 72.90625 \nL 70.3125 11.28125 \nL 85.59375 72.90625 \nL 95.609375 72.90625 \nL 77.296875 0 \nL 64.890625 0 \nL 49.515625 63.28125 \nL 33.984375 0 \nL 21.578125 0 \nz\n\" id=\"DejaVuSans-87\"/>\n       <path d=\"M 9.421875 54.6875 \nL 18.40625 54.6875 \nL 18.40625 0 \nL 9.421875 0 \nz\nM 9.421875 75.984375 \nL 18.40625 75.984375 \nL 18.40625 64.59375 \nL 9.421875 64.59375 \nz\n\" id=\"DejaVuSans-105\"/>\n       <path d=\"M 54.890625 33.015625 \nL 54.890625 0 \nL 45.90625 0 \nL 45.90625 32.71875 \nQ 45.90625 40.484375 42.875 44.328125 \nQ 39.84375 48.1875 33.796875 48.1875 \nQ 26.515625 48.1875 22.3125 43.546875 \nQ 18.109375 38.921875 18.109375 30.90625 \nL 18.109375 0 \nL 9.078125 0 \nL 9.078125 75.984375 \nL 18.109375 75.984375 \nL 18.109375 46.1875 \nQ 21.34375 51.125 25.703125 53.5625 \nQ 30.078125 56 35.796875 56 \nQ 45.21875 56 50.046875 50.171875 \nQ 54.890625 44.34375 54.890625 33.015625 \nz\n\" id=\"DejaVuSans-104\"/>\n       <path d=\"M 18.3125 70.21875 \nL 18.3125 54.6875 \nL 36.8125 54.6875 \nL 36.8125 47.703125 \nL 18.3125 47.703125 \nL 18.3125 18.015625 \nQ 18.3125 11.328125 20.140625 9.421875 \nQ 21.96875 7.515625 27.59375 7.515625 \nL 36.8125 7.515625 \nL 36.8125 0 \nL 27.59375 0 \nQ 17.1875 0 13.234375 3.875 \nQ 9.28125 7.765625 9.28125 18.015625 \nL 9.28125 47.703125 \nL 2.6875 47.703125 \nL 2.6875 54.6875 \nL 9.28125 54.6875 \nL 9.28125 70.21875 \nz\n\" id=\"DejaVuSans-116\"/>\n      </defs>\n      <g transform=\"translate(88.079375 270.276719)rotate(-90)scale(0.1 -0.1)\">\n       <use xlink:href=\"#DejaVuSans-87\"/>\n       <use x=\"93.001953\" xlink:href=\"#DejaVuSans-101\"/>\n       <use x=\"154.525391\" xlink:href=\"#DejaVuSans-105\"/>\n       <use x=\"182.308594\" xlink:href=\"#DejaVuSans-103\"/>\n       <use x=\"245.785156\" xlink:href=\"#DejaVuSans-104\"/>\n       <use x=\"309.164062\" xlink:href=\"#DejaVuSans-116\"/>\n      </g>\n     </g>\n    </g>\n    <g id=\"xtick_5\">\n     <g id=\"line2d_5\">\n      <g>\n       <use style=\"stroke:#000000;stroke-width:0.8;\" x=\"107.64\" xlink:href=\"#me3467501a8\" y=\"228.439219\"/>\n      </g>\n     </g>\n     <g id=\"text_5\">\n      <!-- m0006 -->\n      <defs>\n       <path d=\"M 31.78125 66.40625 \nQ 24.171875 66.40625 20.328125 58.90625 \nQ 16.5 51.421875 16.5 36.375 \nQ 16.5 21.390625 20.328125 13.890625 \nQ 24.171875 6.390625 31.78125 6.390625 \nQ 39.453125 6.390625 43.28125 13.890625 \nQ 47.125 21.390625 47.125 36.375 \nQ 47.125 51.421875 43.28125 58.90625 \nQ 39.453125 66.40625 31.78125 66.40625 \nz\nM 31.78125 74.21875 \nQ 44.046875 74.21875 50.515625 64.515625 \nQ 56.984375 54.828125 56.984375 36.375 \nQ 56.984375 17.96875 50.515625 8.265625 \nQ 44.046875 -1.421875 31.78125 -1.421875 \nQ 19.53125 -1.421875 13.0625 8.265625 \nQ 6.59375 17.96875 6.59375 36.375 \nQ 6.59375 54.828125 13.0625 64.515625 \nQ 19.53125 74.21875 31.78125 74.21875 \nz\n\" id=\"DejaVuSans-48\"/>\n       <path d=\"M 33.015625 40.375 \nQ 26.375 40.375 22.484375 35.828125 \nQ 18.609375 31.296875 18.609375 23.390625 \nQ 18.609375 15.53125 22.484375 10.953125 \nQ 26.375 6.390625 33.015625 6.390625 \nQ 39.65625 6.390625 43.53125 10.953125 \nQ 47.40625 15.53125 47.40625 23.390625 \nQ 47.40625 31.296875 43.53125 35.828125 \nQ 39.65625 40.375 33.015625 40.375 \nz\nM 52.59375 71.296875 \nL 52.59375 62.3125 \nQ 48.875 64.0625 45.09375 64.984375 \nQ 41.3125 65.921875 37.59375 65.921875 \nQ 27.828125 65.921875 22.671875 59.328125 \nQ 17.53125 52.734375 16.796875 39.40625 \nQ 19.671875 43.65625 24.015625 45.921875 \nQ 28.375 48.1875 33.59375 48.1875 \nQ 44.578125 48.1875 50.953125 41.515625 \nQ 57.328125 34.859375 57.328125 23.390625 \nQ 57.328125 12.15625 50.6875 5.359375 \nQ 44.046875 -1.421875 33.015625 -1.421875 \nQ 20.359375 -1.421875 13.671875 8.265625 \nQ 6.984375 17.96875 6.984375 36.375 \nQ 6.984375 53.65625 15.1875 63.9375 \nQ 23.390625 74.21875 37.203125 74.21875 \nQ 40.921875 74.21875 44.703125 73.484375 \nQ 48.484375 72.75 52.59375 71.296875 \nz\n\" id=\"DejaVuSans-54\"/>\n      </defs>\n      <g transform=\"translate(110.399375 270.629844)rotate(-90)scale(0.1 -0.1)\">\n       <use xlink:href=\"#DejaVuSans-109\"/>\n       <use x=\"97.412109\" xlink:href=\"#DejaVuSans-48\"/>\n       <use x=\"161.035156\" xlink:href=\"#DejaVuSans-48\"/>\n       <use x=\"224.658203\" xlink:href=\"#DejaVuSans-48\"/>\n       <use x=\"288.28125\" xlink:href=\"#DejaVuSans-54\"/>\n      </g>\n     </g>\n    </g>\n    <g id=\"xtick_6\">\n     <g id=\"line2d_6\">\n      <g>\n       <use style=\"stroke:#000000;stroke-width:0.8;\" x=\"129.96\" xlink:href=\"#me3467501a8\" y=\"228.439219\"/>\n      </g>\n     </g>\n     <g id=\"text_6\">\n      <!-- m0612 -->\n      <defs>\n       <path d=\"M 12.40625 8.296875 \nL 28.515625 8.296875 \nL 28.515625 63.921875 \nL 10.984375 60.40625 \nL 10.984375 69.390625 \nL 28.421875 72.90625 \nL 38.28125 72.90625 \nL 38.28125 8.296875 \nL 54.390625 8.296875 \nL 54.390625 0 \nL 12.40625 0 \nz\n\" id=\"DejaVuSans-49\"/>\n       <path d=\"M 19.1875 8.296875 \nL 53.609375 8.296875 \nL 53.609375 0 \nL 7.328125 0 \nL 7.328125 8.296875 \nQ 12.9375 14.109375 22.625 23.890625 \nQ 32.328125 33.6875 34.8125 36.53125 \nQ 39.546875 41.84375 41.421875 45.53125 \nQ 43.3125 49.21875 43.3125 52.78125 \nQ 43.3125 58.59375 39.234375 62.25 \nQ 35.15625 65.921875 28.609375 65.921875 \nQ 23.96875 65.921875 18.8125 64.3125 \nQ 13.671875 62.703125 7.8125 59.421875 \nL 7.8125 69.390625 \nQ 13.765625 71.78125 18.9375 73 \nQ 24.125 74.21875 28.421875 74.21875 \nQ 39.75 74.21875 46.484375 68.546875 \nQ 53.21875 62.890625 53.21875 53.421875 \nQ 53.21875 48.921875 51.53125 44.890625 \nQ 49.859375 40.875 45.40625 35.40625 \nQ 44.1875 33.984375 37.640625 27.21875 \nQ 31.109375 20.453125 19.1875 8.296875 \nz\n\" id=\"DejaVuSans-50\"/>\n      </defs>\n      <g transform=\"translate(132.719375 270.629844)rotate(-90)scale(0.1 -0.1)\">\n       <use xlink:href=\"#DejaVuSans-109\"/>\n       <use x=\"97.412109\" xlink:href=\"#DejaVuSans-48\"/>\n       <use x=\"161.035156\" xlink:href=\"#DejaVuSans-54\"/>\n       <use x=\"224.658203\" xlink:href=\"#DejaVuSans-49\"/>\n       <use x=\"288.28125\" xlink:href=\"#DejaVuSans-50\"/>\n      </g>\n     </g>\n    </g>\n    <g id=\"xtick_7\">\n     <g id=\"line2d_7\">\n      <g>\n       <use style=\"stroke:#000000;stroke-width:0.8;\" x=\"152.28\" xlink:href=\"#me3467501a8\" y=\"228.439219\"/>\n      </g>\n     </g>\n     <g id=\"text_7\">\n      <!-- m1218 -->\n      <defs>\n       <path d=\"M 31.78125 34.625 \nQ 24.75 34.625 20.71875 30.859375 \nQ 16.703125 27.09375 16.703125 20.515625 \nQ 16.703125 13.921875 20.71875 10.15625 \nQ 24.75 6.390625 31.78125 6.390625 \nQ 38.8125 6.390625 42.859375 10.171875 \nQ 46.921875 13.96875 46.921875 20.515625 \nQ 46.921875 27.09375 42.890625 30.859375 \nQ 38.875 34.625 31.78125 34.625 \nz\nM 21.921875 38.8125 \nQ 15.578125 40.375 12.03125 44.71875 \nQ 8.5 49.078125 8.5 55.328125 \nQ 8.5 64.0625 14.71875 69.140625 \nQ 20.953125 74.21875 31.78125 74.21875 \nQ 42.671875 74.21875 48.875 69.140625 \nQ 55.078125 64.0625 55.078125 55.328125 \nQ 55.078125 49.078125 51.53125 44.71875 \nQ 48 40.375 41.703125 38.8125 \nQ 48.828125 37.15625 52.796875 32.3125 \nQ 56.78125 27.484375 56.78125 20.515625 \nQ 56.78125 9.90625 50.3125 4.234375 \nQ 43.84375 -1.421875 31.78125 -1.421875 \nQ 19.734375 -1.421875 13.25 4.234375 \nQ 6.78125 9.90625 6.78125 20.515625 \nQ 6.78125 27.484375 10.78125 32.3125 \nQ 14.796875 37.15625 21.921875 38.8125 \nz\nM 18.3125 54.390625 \nQ 18.3125 48.734375 21.84375 45.5625 \nQ 25.390625 42.390625 31.78125 42.390625 \nQ 38.140625 42.390625 41.71875 45.5625 \nQ 45.3125 48.734375 45.3125 54.390625 \nQ 45.3125 60.0625 41.71875 63.234375 \nQ 38.140625 66.40625 31.78125 66.40625 \nQ 25.390625 66.40625 21.84375 63.234375 \nQ 18.3125 60.0625 18.3125 54.390625 \nz\n\" id=\"DejaVuSans-56\"/>\n      </defs>\n      <g transform=\"translate(155.039375 270.629844)rotate(-90)scale(0.1 -0.1)\">\n       <use xlink:href=\"#DejaVuSans-109\"/>\n       <use x=\"97.412109\" xlink:href=\"#DejaVuSans-49\"/>\n       <use x=\"161.035156\" xlink:href=\"#DejaVuSans-50\"/>\n       <use x=\"224.658203\" xlink:href=\"#DejaVuSans-49\"/>\n       <use x=\"288.28125\" xlink:href=\"#DejaVuSans-56\"/>\n      </g>\n     </g>\n    </g>\n    <g id=\"xtick_8\">\n     <g id=\"line2d_8\">\n      <g>\n       <use style=\"stroke:#000000;stroke-width:0.8;\" x=\"174.6\" xlink:href=\"#me3467501a8\" y=\"228.439219\"/>\n      </g>\n     </g>\n     <g id=\"text_8\">\n      <!-- f006 -->\n      <defs>\n       <path d=\"M 37.109375 75.984375 \nL 37.109375 68.5 \nL 28.515625 68.5 \nQ 23.6875 68.5 21.796875 66.546875 \nQ 19.921875 64.59375 19.921875 59.515625 \nL 19.921875 54.6875 \nL 34.71875 54.6875 \nL 34.71875 47.703125 \nL 19.921875 47.703125 \nL 19.921875 0 \nL 10.890625 0 \nL 10.890625 47.703125 \nL 2.296875 47.703125 \nL 2.296875 54.6875 \nL 10.890625 54.6875 \nL 10.890625 58.5 \nQ 10.890625 67.625 15.140625 71.796875 \nQ 19.390625 75.984375 28.609375 75.984375 \nz\n\" id=\"DejaVuSans-102\"/>\n      </defs>\n      <g transform=\"translate(177.359375 258.047031)rotate(-90)scale(0.1 -0.1)\">\n       <use xlink:href=\"#DejaVuSans-102\"/>\n       <use x=\"35.205078\" xlink:href=\"#DejaVuSans-48\"/>\n       <use x=\"98.828125\" xlink:href=\"#DejaVuSans-48\"/>\n       <use x=\"162.451172\" xlink:href=\"#DejaVuSans-54\"/>\n      </g>\n     </g>\n    </g>\n    <g id=\"xtick_9\">\n     <g id=\"line2d_9\">\n      <g>\n       <use style=\"stroke:#000000;stroke-width:0.8;\" x=\"196.92\" xlink:href=\"#me3467501a8\" y=\"228.439219\"/>\n      </g>\n     </g>\n     <g id=\"text_9\">\n      <!-- f0612 -->\n      <g transform=\"translate(199.679375 264.409531)rotate(-90)scale(0.1 -0.1)\">\n       <use xlink:href=\"#DejaVuSans-102\"/>\n       <use x=\"35.205078\" xlink:href=\"#DejaVuSans-48\"/>\n       <use x=\"98.828125\" xlink:href=\"#DejaVuSans-54\"/>\n       <use x=\"162.451172\" xlink:href=\"#DejaVuSans-49\"/>\n       <use x=\"226.074219\" xlink:href=\"#DejaVuSans-50\"/>\n      </g>\n     </g>\n    </g>\n    <g id=\"xtick_10\">\n     <g id=\"line2d_10\">\n      <g>\n       <use style=\"stroke:#000000;stroke-width:0.8;\" x=\"219.24\" xlink:href=\"#me3467501a8\" y=\"228.439219\"/>\n      </g>\n     </g>\n     <g id=\"text_10\">\n      <!-- f1218 -->\n      <g transform=\"translate(221.999375 264.409531)rotate(-90)scale(0.1 -0.1)\">\n       <use xlink:href=\"#DejaVuSans-102\"/>\n       <use x=\"35.205078\" xlink:href=\"#DejaVuSans-49\"/>\n       <use x=\"98.828125\" xlink:href=\"#DejaVuSans-50\"/>\n       <use x=\"162.451172\" xlink:href=\"#DejaVuSans-49\"/>\n       <use x=\"226.074219\" xlink:href=\"#DejaVuSans-56\"/>\n      </g>\n     </g>\n    </g>\n    <g id=\"xtick_11\">\n     <g id=\"line2d_11\">\n      <g>\n       <use style=\"stroke:#000000;stroke-width:0.8;\" x=\"241.56\" xlink:href=\"#me3467501a8\" y=\"228.439219\"/>\n      </g>\n     </g>\n     <g id=\"text_11\">\n      <!-- Firstname -->\n      <defs>\n       <path d=\"M 9.8125 72.90625 \nL 51.703125 72.90625 \nL 51.703125 64.59375 \nL 19.671875 64.59375 \nL 19.671875 43.109375 \nL 48.578125 43.109375 \nL 48.578125 34.8125 \nL 19.671875 34.8125 \nL 19.671875 0 \nL 9.8125 0 \nz\n\" id=\"DejaVuSans-70\"/>\n       <path d=\"M 41.109375 46.296875 \nQ 39.59375 47.171875 37.8125 47.578125 \nQ 36.03125 48 33.890625 48 \nQ 26.265625 48 22.1875 43.046875 \nQ 18.109375 38.09375 18.109375 28.8125 \nL 18.109375 0 \nL 9.078125 0 \nL 9.078125 54.6875 \nL 18.109375 54.6875 \nL 18.109375 46.1875 \nQ 20.953125 51.171875 25.484375 53.578125 \nQ 30.03125 56 36.53125 56 \nQ 37.453125 56 38.578125 55.875 \nQ 39.703125 55.765625 41.0625 55.515625 \nz\n\" id=\"DejaVuSans-114\"/>\n       <path d=\"M 44.28125 53.078125 \nL 44.28125 44.578125 \nQ 40.484375 46.53125 36.375 47.5 \nQ 32.28125 48.484375 27.875 48.484375 \nQ 21.1875 48.484375 17.84375 46.4375 \nQ 14.5 44.390625 14.5 40.28125 \nQ 14.5 37.15625 16.890625 35.375 \nQ 19.28125 33.59375 26.515625 31.984375 \nL 29.59375 31.296875 \nQ 39.15625 29.25 43.1875 25.515625 \nQ 47.21875 21.78125 47.21875 15.09375 \nQ 47.21875 7.46875 41.1875 3.015625 \nQ 35.15625 -1.421875 24.609375 -1.421875 \nQ 20.21875 -1.421875 15.453125 -0.5625 \nQ 10.6875 0.296875 5.421875 2 \nL 5.421875 11.28125 \nQ 10.40625 8.6875 15.234375 7.390625 \nQ 20.0625 6.109375 24.8125 6.109375 \nQ 31.15625 6.109375 34.5625 8.28125 \nQ 37.984375 10.453125 37.984375 14.40625 \nQ 37.984375 18.0625 35.515625 20.015625 \nQ 33.0625 21.96875 24.703125 23.78125 \nL 21.578125 24.515625 \nQ 13.234375 26.265625 9.515625 29.90625 \nQ 5.8125 33.546875 5.8125 39.890625 \nQ 5.8125 47.609375 11.28125 51.796875 \nQ 16.75 56 26.8125 56 \nQ 31.78125 56 36.171875 55.265625 \nQ 40.578125 54.546875 44.28125 53.078125 \nz\n\" id=\"DejaVuSans-115\"/>\n       <path d=\"M 54.890625 33.015625 \nL 54.890625 0 \nL 45.90625 0 \nL 45.90625 32.71875 \nQ 45.90625 40.484375 42.875 44.328125 \nQ 39.84375 48.1875 33.796875 48.1875 \nQ 26.515625 48.1875 22.3125 43.546875 \nQ 18.109375 38.921875 18.109375 30.90625 \nL 18.109375 0 \nL 9.078125 0 \nL 9.078125 54.6875 \nL 18.109375 54.6875 \nL 18.109375 46.1875 \nQ 21.34375 51.125 25.703125 53.5625 \nQ 30.078125 56 35.796875 56 \nQ 45.21875 56 50.046875 50.171875 \nQ 54.890625 44.34375 54.890625 33.015625 \nz\n\" id=\"DejaVuSans-110\"/>\n      </defs>\n      <g transform=\"translate(244.319375 284.843906)rotate(-90)scale(0.1 -0.1)\">\n       <use xlink:href=\"#DejaVuSans-70\"/>\n       <use x=\"50.269531\" xlink:href=\"#DejaVuSans-105\"/>\n       <use x=\"78.052734\" xlink:href=\"#DejaVuSans-114\"/>\n       <use x=\"119.166016\" xlink:href=\"#DejaVuSans-115\"/>\n       <use x=\"171.265625\" xlink:href=\"#DejaVuSans-116\"/>\n       <use x=\"210.474609\" xlink:href=\"#DejaVuSans-110\"/>\n       <use x=\"273.853516\" xlink:href=\"#DejaVuSans-97\"/>\n       <use x=\"335.132812\" xlink:href=\"#DejaVuSans-109\"/>\n       <use x=\"432.544922\" xlink:href=\"#DejaVuSans-101\"/>\n      </g>\n     </g>\n    </g>\n    <g id=\"xtick_12\">\n     <g id=\"line2d_12\">\n      <g>\n       <use style=\"stroke:#000000;stroke-width:0.8;\" x=\"263.88\" xlink:href=\"#me3467501a8\" y=\"228.439219\"/>\n      </g>\n     </g>\n     <g id=\"text_12\">\n      <!-- Lastname -->\n      <defs>\n       <path d=\"M 9.8125 72.90625 \nL 19.671875 72.90625 \nL 19.671875 8.296875 \nL 55.171875 8.296875 \nL 55.171875 0 \nL 9.8125 0 \nz\n\" id=\"DejaVuSans-76\"/>\n      </defs>\n      <g transform=\"translate(266.639375 284.628281)rotate(-90)scale(0.1 -0.1)\">\n       <use xlink:href=\"#DejaVuSans-76\"/>\n       <use x=\"55.712891\" xlink:href=\"#DejaVuSans-97\"/>\n       <use x=\"116.992188\" xlink:href=\"#DejaVuSans-115\"/>\n       <use x=\"169.091797\" xlink:href=\"#DejaVuSans-116\"/>\n       <use x=\"208.300781\" xlink:href=\"#DejaVuSans-110\"/>\n       <use x=\"271.679688\" xlink:href=\"#DejaVuSans-97\"/>\n       <use x=\"332.958984\" xlink:href=\"#DejaVuSans-109\"/>\n       <use x=\"430.371094\" xlink:href=\"#DejaVuSans-101\"/>\n      </g>\n     </g>\n    </g>\n   </g>\n   <g id=\"matplotlib.axis_2\"/>\n  </g>\n  <g id=\"axes_2\">\n   <g id=\"patch_3\">\n    <path clip-path=\"url(#p2f0003ba19)\" d=\"M 291.78 228.439219 \nL 291.78 227.589844 \nL 291.78 11.848594 \nL 291.78 10.999219 \nL 302.652 10.999219 \nL 302.652 11.848594 \nL 302.652 227.589844 \nL 302.652 228.439219 \nz\n\" style=\"fill:#ffffff;stroke:#ffffff;stroke-linejoin:miter;stroke-width:0.01;\"/>\n   </g>\n   <image height=\"217\" id=\"imagee1c9289eb7\" transform=\"scale(1 -1)translate(0 -217)\" width=\"11\" x=\"292\" xlink:href=\"data:image/png;base64,\niVBORw0KGgoAAAANSUhEUgAAAAsAAADZCAYAAAD2WsoCAAAABHNCSVQICAgIfAhkiAAAAV5JREFUaIHd2tFthEAMhOFdG66y1JD+C0lyaWG/h5HM8WyNZn57DQL2V32/1+F17dqntetau86Ldzcomw0o3gWeSXnFAm7hnEMXpJGzkaMxJOAMGu+eEZA8G7rj2nUtWTJBG0Eaohz0nFJeokzDb5zJRoyGKRsNUR5CQ+Z5SlMIHQWccrqheAq6YMDYkrF2i/Knt3uK5/NafN54Ygc/v93PowG6zwwYnefz8402ZqyCKTSC7QbPQXSVsjGEBjwiJWmslQsYUxYaxlk8U0CygQGl+NwFB0zR6PqbYKNiNErOYMdmIxhQintDu0l5SrG0+5LhH+KZlK/6nWCjZOo62G6g0UYjNUhIA2zcW2Yjt2RoP4syBpQRjc1GSwepKa/9A8qxptCI0vATulto5M4gocOAsV0XDJi6Ab1WbNfRSbGAx7WofJsyfG6Qt3tXy4eMEhs3vM9SG6BMnlt+BBIb/6Y/gWhq+41lAAAAAElFTkSuQmCC\" y=\"-11\"/>\n   <g id=\"matplotlib.axis_3\"/>\n   <g id=\"matplotlib.axis_4\">\n    <g id=\"ytick_1\">\n     <g id=\"line2d_13\">\n      <defs>\n       <path d=\"M 0 0 \nL 3.5 0 \n\" id=\"mc91c23afaf\" style=\"stroke:#000000;stroke-width:0.8;\"/>\n      </defs>\n      <g>\n       <use style=\"stroke:#000000;stroke-width:0.8;\" x=\"302.652\" xlink:href=\"#mc91c23afaf\" y=\"228.439219\"/>\n      </g>\n     </g>\n     <g id=\"text_13\">\n      <!-- 0.0 -->\n      <defs>\n       <path d=\"M 10.6875 12.40625 \nL 21 12.40625 \nL 21 0 \nL 10.6875 0 \nz\n\" id=\"DejaVuSans-46\"/>\n      </defs>\n      <g transform=\"translate(309.652 232.238438)scale(0.1 -0.1)\">\n       <use xlink:href=\"#DejaVuSans-48\"/>\n       <use x=\"63.623047\" xlink:href=\"#DejaVuSans-46\"/>\n       <use x=\"95.410156\" xlink:href=\"#DejaVuSans-48\"/>\n      </g>\n     </g>\n    </g>\n    <g id=\"ytick_2\">\n     <g id=\"line2d_14\">\n      <g>\n       <use style=\"stroke:#000000;stroke-width:0.8;\" x=\"302.652\" xlink:href=\"#mc91c23afaf\" y=\"184.951219\"/>\n      </g>\n     </g>\n     <g id=\"text_14\">\n      <!-- 0.2 -->\n      <g transform=\"translate(309.652 188.750437)scale(0.1 -0.1)\">\n       <use xlink:href=\"#DejaVuSans-48\"/>\n       <use x=\"63.623047\" xlink:href=\"#DejaVuSans-46\"/>\n       <use x=\"95.410156\" xlink:href=\"#DejaVuSans-50\"/>\n      </g>\n     </g>\n    </g>\n    <g id=\"ytick_3\">\n     <g id=\"line2d_15\">\n      <g>\n       <use style=\"stroke:#000000;stroke-width:0.8;\" x=\"302.652\" xlink:href=\"#mc91c23afaf\" y=\"141.463219\"/>\n      </g>\n     </g>\n     <g id=\"text_15\">\n      <!-- 0.4 -->\n      <defs>\n       <path d=\"M 37.796875 64.3125 \nL 12.890625 25.390625 \nL 37.796875 25.390625 \nz\nM 35.203125 72.90625 \nL 47.609375 72.90625 \nL 47.609375 25.390625 \nL 58.015625 25.390625 \nL 58.015625 17.1875 \nL 47.609375 17.1875 \nL 47.609375 0 \nL 37.796875 0 \nL 37.796875 17.1875 \nL 4.890625 17.1875 \nL 4.890625 26.703125 \nz\n\" id=\"DejaVuSans-52\"/>\n      </defs>\n      <g transform=\"translate(309.652 145.262438)scale(0.1 -0.1)\">\n       <use xlink:href=\"#DejaVuSans-48\"/>\n       <use x=\"63.623047\" xlink:href=\"#DejaVuSans-46\"/>\n       <use x=\"95.410156\" xlink:href=\"#DejaVuSans-52\"/>\n      </g>\n     </g>\n    </g>\n    <g id=\"ytick_4\">\n     <g id=\"line2d_16\">\n      <g>\n       <use style=\"stroke:#000000;stroke-width:0.8;\" x=\"302.652\" xlink:href=\"#mc91c23afaf\" y=\"97.975219\"/>\n      </g>\n     </g>\n     <g id=\"text_16\">\n      <!-- 0.6 -->\n      <g transform=\"translate(309.652 101.774437)scale(0.1 -0.1)\">\n       <use xlink:href=\"#DejaVuSans-48\"/>\n       <use x=\"63.623047\" xlink:href=\"#DejaVuSans-46\"/>\n       <use x=\"95.410156\" xlink:href=\"#DejaVuSans-54\"/>\n      </g>\n     </g>\n    </g>\n    <g id=\"ytick_5\">\n     <g id=\"line2d_17\">\n      <g>\n       <use style=\"stroke:#000000;stroke-width:0.8;\" x=\"302.652\" xlink:href=\"#mc91c23afaf\" y=\"54.487219\"/>\n      </g>\n     </g>\n     <g id=\"text_17\">\n      <!-- 0.8 -->\n      <g transform=\"translate(309.652 58.286438)scale(0.1 -0.1)\">\n       <use xlink:href=\"#DejaVuSans-48\"/>\n       <use x=\"63.623047\" xlink:href=\"#DejaVuSans-46\"/>\n       <use x=\"95.410156\" xlink:href=\"#DejaVuSans-56\"/>\n      </g>\n     </g>\n    </g>\n    <g id=\"ytick_6\">\n     <g id=\"line2d_18\">\n      <g>\n       <use style=\"stroke:#000000;stroke-width:0.8;\" x=\"302.652\" xlink:href=\"#mc91c23afaf\" y=\"10.999219\"/>\n      </g>\n     </g>\n     <g id=\"text_18\">\n      <!-- 1.0 -->\n      <g transform=\"translate(309.652 14.798438)scale(0.1 -0.1)\">\n       <use xlink:href=\"#DejaVuSans-49\"/>\n       <use x=\"63.623047\" xlink:href=\"#DejaVuSans-46\"/>\n       <use x=\"95.410156\" xlink:href=\"#DejaVuSans-48\"/>\n      </g>\n     </g>\n    </g>\n   </g>\n   <g id=\"patch_4\">\n    <path d=\"M 291.78 228.439219 \nL 291.78 227.589844 \nL 291.78 11.848594 \nL 291.78 10.999219 \nL 302.652 10.999219 \nL 302.652 11.848594 \nL 302.652 227.589844 \nL 302.652 228.439219 \nz\n\" style=\"fill:none;\"/>\n   </g>\n  </g>\n </g>\n <defs>\n  <clipPath id=\"p95c24bdcc5\">\n   <rect height=\"217.44\" width=\"267.84\" x=\"7.2\" y=\"10.999219\"/>\n  </clipPath>\n  <clipPath id=\"p2f0003ba19\">\n   <rect height=\"217.44\" width=\"10.872\" x=\"291.78\" y=\"10.999219\"/>\n  </clipPath>\n </defs>\n</svg>\n"
          },
          "metadata": {
            "needs_background": "light"
          }
        }
      ]
    },
    {
      "cell_type": "markdown",
      "metadata": {
        "id": "meuZ4tsPlMRE"
      },
      "source": [
        "\n",
        "**Vấn đề 5:**\n",
        "\n",
        "Có nhiều dòng dữ liệu bị trùng lắp thông tin hoàn toàn[fullname, lastname, age, weight,....], giải pháp đưa ra là chỉ giữ lại một dòng dữ liệu, tuy nhiên giải pháp phải dựa trên nghiệp vụ của tập dữ liệu và quan sát của người xử lý."
      ]
    },
    {
      "cell_type": "code",
      "metadata": {
        "id": "2xSGm99rlNCM"
      },
      "source": [
        "patientheartrate = patientheartrate.drop_duplicates(subset=['Firstname','Lastname', 'Age', 'Weight'])"
      ],
      "execution_count": 62,
      "outputs": []
    },
    {
      "cell_type": "code",
      "metadata": {
        "id": "2YT04DM7lO3U"
      },
      "source": [
        "patientheartrate = patientheartrate.drop_duplicates(subset=['Firstname','Lastname', 'Age', 'Weight'])"
      ],
      "execution_count": 63,
      "outputs": []
    },
    {
      "cell_type": "markdown",
      "metadata": {
        "id": "CB0MKVOVlPNj"
      },
      "source": [
        "**Vấn đề 6:**\n",
        "\n",
        "Xuất hiện dữ liệu bị ảnh hưởng bởi lỗi non-ASCII, không định dạng ASCII. Giải pháp: Tùy vào nghiệp vụ ta có thể: xóa dữ liệu tại đó, thay thế bằng dữ liệu khác hoặc thay bằng việc đánh dấu bằng một kí tự khác (ví dụ: ‗warning‘) Tham khảo: https://stackoverflow.com/questions/5008422/how-to-remove-high-ascii-characters-from-string-like-in-java"
      ]
    },
    {
      "cell_type": "code",
      "metadata": {
        "id": "7cTmh1pSlSBM"
      },
      "source": [
        "patientheartrate.Firstname.replace({r'[^\\x00-\\x7F]+':''}, regex=True,inplace=True)"
      ],
      "execution_count": 64,
      "outputs": []
    },
    {
      "cell_type": "code",
      "metadata": {
        "colab": {
          "base_uri": "https://localhost:8080/",
          "height": 203
        },
        "id": "FBMP03lZlTPT",
        "outputId": "efb6af83-07d2-4088-d366-60c675848a9a"
      },
      "source": [
        "patientheartrate.head(5)"
      ],
      "execution_count": 65,
      "outputs": [
        {
          "output_type": "execute_result",
          "data": {
            "text/html": [
              "<div>\n",
              "<style scoped>\n",
              "    .dataframe tbody tr th:only-of-type {\n",
              "        vertical-align: middle;\n",
              "    }\n",
              "\n",
              "    .dataframe tbody tr th {\n",
              "        vertical-align: top;\n",
              "    }\n",
              "\n",
              "    .dataframe thead th {\n",
              "        text-align: right;\n",
              "    }\n",
              "</style>\n",
              "<table border=\"1\" class=\"dataframe\">\n",
              "  <thead>\n",
              "    <tr style=\"text-align: right;\">\n",
              "      <th></th>\n",
              "      <th>ID</th>\n",
              "      <th>Name</th>\n",
              "      <th>Age</th>\n",
              "      <th>Weight</th>\n",
              "      <th>m0006</th>\n",
              "      <th>m0612</th>\n",
              "      <th>m1218</th>\n",
              "      <th>f006</th>\n",
              "      <th>f0612</th>\n",
              "      <th>f1218</th>\n",
              "      <th>Firstname</th>\n",
              "      <th>Lastname</th>\n",
              "    </tr>\n",
              "  </thead>\n",
              "  <tbody>\n",
              "    <tr>\n",
              "      <th>0</th>\n",
              "      <td>1.0</td>\n",
              "      <td>Mickéy Mousé</td>\n",
              "      <td>56.0</td>\n",
              "      <td>70kgs</td>\n",
              "      <td>72</td>\n",
              "      <td>69</td>\n",
              "      <td>71</td>\n",
              "      <td>-</td>\n",
              "      <td>-</td>\n",
              "      <td>-</td>\n",
              "      <td>Micky</td>\n",
              "      <td>Mousé</td>\n",
              "    </tr>\n",
              "    <tr>\n",
              "      <th>1</th>\n",
              "      <td>2.0</td>\n",
              "      <td>Donald Duck</td>\n",
              "      <td>34.0</td>\n",
              "      <td>70kgs</td>\n",
              "      <td>-</td>\n",
              "      <td>-</td>\n",
              "      <td>-</td>\n",
              "      <td>85</td>\n",
              "      <td>84</td>\n",
              "      <td>76</td>\n",
              "      <td>Donald</td>\n",
              "      <td>Duck</td>\n",
              "    </tr>\n",
              "    <tr>\n",
              "      <th>2</th>\n",
              "      <td>3.0</td>\n",
              "      <td>Mini Mouse</td>\n",
              "      <td>16.0</td>\n",
              "      <td>NaN</td>\n",
              "      <td>-</td>\n",
              "      <td>-</td>\n",
              "      <td>-</td>\n",
              "      <td>65</td>\n",
              "      <td>69</td>\n",
              "      <td>72</td>\n",
              "      <td>Mini</td>\n",
              "      <td>Mouse</td>\n",
              "    </tr>\n",
              "    <tr>\n",
              "      <th>3</th>\n",
              "      <td>4.0</td>\n",
              "      <td>Scrooge McDuck</td>\n",
              "      <td>NaN</td>\n",
              "      <td>78kgs</td>\n",
              "      <td>78</td>\n",
              "      <td>79</td>\n",
              "      <td>72</td>\n",
              "      <td>-</td>\n",
              "      <td>-</td>\n",
              "      <td>-</td>\n",
              "      <td>Scrooge</td>\n",
              "      <td>McDuck</td>\n",
              "    </tr>\n",
              "    <tr>\n",
              "      <th>4</th>\n",
              "      <td>5.0</td>\n",
              "      <td>Pink Panther</td>\n",
              "      <td>54.0</td>\n",
              "      <td>90kgs</td>\n",
              "      <td>-</td>\n",
              "      <td>-</td>\n",
              "      <td>-</td>\n",
              "      <td>69</td>\n",
              "      <td>NaN</td>\n",
              "      <td>75</td>\n",
              "      <td>Pink</td>\n",
              "      <td>Panther</td>\n",
              "    </tr>\n",
              "  </tbody>\n",
              "</table>\n",
              "</div>"
            ],
            "text/plain": [
              "    ID            Name   Age Weight m0006  ... f006 f0612 f1218 Firstname Lastname\n",
              "0  1.0    Mickéy Mousé  56.0  70kgs    72  ...    -     -     -     Micky    Mousé\n",
              "1  2.0     Donald Duck  34.0  70kgs     -  ...   85    84    76    Donald     Duck\n",
              "2  3.0      Mini Mouse  16.0    NaN     -  ...   65    69    72      Mini    Mouse\n",
              "3  4.0  Scrooge McDuck   NaN  78kgs    78  ...    -     -     -   Scrooge   McDuck\n",
              "4  5.0    Pink Panther  54.0  90kgs     -  ...   69   NaN    75      Pink  Panther\n",
              "\n",
              "[5 rows x 12 columns]"
            ]
          },
          "metadata": {},
          "execution_count": 65
        }
      ]
    },
    {
      "cell_type": "markdown",
      "metadata": {
        "id": "zi-mrVE9lVvz"
      },
      "source": [
        "***  Vấn đề 7**\n",
        "\n",
        "―Missing values‖, vấn đề này xảy ra tại các cột ―Age‖, ―Weight‖ và ―Heart Rate‖. Thiếu dữ liệu (dữ liệu không đầy đủ) là vấn đề xảy ra nhiều trong các nguồn dữ liệu do nhiều nguyên nhân chủ quan lẫn khách quan.Có một vài giải pháp để xử lý vấn đề này, chủ yếu dựa trên kinh nghiệm và nghiệp vụ về tập dữ liệu đó. Một số giải pháp đưa đề xuất từ chuyên gia như sau:\n",
        "\n",
        "a. Deletion: Remove records with missing values b. Dummy substitution: Replace missing values with a dummy but valid value: e.g.: 0 for numerical values. c. Mean substitution: Replace the missing values with the mean. d. Frequent substitution: Replace the missing values with the most frequent item. e. Improve the data collector: Your business folk will talk to the clients and inform them about why it is worth fixing the problem with the data collector.\n",
        "\n",
        "Yêu cầu: - Thống kê thông tin dữ liệu thiếu trên từng biến Age và Weight - Yêu cầu xử lý dữ liệu thiếu như sau: Nếu dòng nào có Age hoặc Weight có dữ liệu thì phần Age hoặc Weight được tính như bên dưới, nếu thiếu cả 2 thông tin thì xóa dòng\n",
        "\n",
        "Age: Giá trị thay thế là mean của các giá trị trong cột Age\n",
        "Weight: Giá trị thay thế là mean của các giá trị trong cột Weight theo nhóm giới tính\n",
        "\n",
        "Kiểm tra dữ liệu rỗng"
      ]
    },
    {
      "cell_type": "code",
      "metadata": {
        "colab": {
          "base_uri": "https://localhost:8080/",
          "height": 427
        },
        "id": "pJzLFnlclYdy",
        "outputId": "9c954f64-2bcc-4483-f160-8a82152d075e"
      },
      "source": [
        "import seaborn as sns\n",
        "%matplotlib inline\n",
        "%config InlineBackend.figure_format = 'svg'\n",
        "sns.heatmap(patientheartrate.isna(), \n",
        "            yticklabels=False, \n",
        "            cbar=True, \n",
        "            cmap='viridis')"
      ],
      "execution_count": 66,
      "outputs": [
        {
          "output_type": "execute_result",
          "data": {
            "text/plain": [
              "<matplotlib.axes._subplots.AxesSubplot at 0x7f74ab3eac90>"
            ]
          },
          "metadata": {},
          "execution_count": 66
        },
        {
          "output_type": "display_data",
          "data": {
            "text/plain": [
              "<Figure size 432x288 with 2 Axes>"
            ],
            "image/svg+xml": "<?xml version=\"1.0\" encoding=\"utf-8\" standalone=\"no\"?>\n<!DOCTYPE svg PUBLIC \"-//W3C//DTD SVG 1.1//EN\"\n  \"http://www.w3.org/Graphics/SVG/1.1/DTD/svg11.dtd\">\n<!-- Created with matplotlib (https://matplotlib.org/) -->\n<svg height=\"292.043906pt\" version=\"1.1\" viewBox=\"0 0 332.755125 292.043906\" width=\"332.755125pt\" xmlns=\"http://www.w3.org/2000/svg\" xmlns:xlink=\"http://www.w3.org/1999/xlink\">\n <defs>\n  <style type=\"text/css\">\n*{stroke-linecap:butt;stroke-linejoin:round;}\n  </style>\n </defs>\n <g id=\"figure_1\">\n  <g id=\"patch_1\">\n   <path d=\"M 0 292.043906 \nL 332.755125 292.043906 \nL 332.755125 0 \nL 0 0 \nz\n\" style=\"fill:none;\"/>\n  </g>\n  <g id=\"axes_1\">\n   <g id=\"patch_2\">\n    <path d=\"M 7.2 228.439219 \nL 275.04 228.439219 \nL 275.04 10.999219 \nL 7.2 10.999219 \nz\n\" style=\"fill:#ffffff;\"/>\n   </g>\n   <g id=\"QuadMesh_1\">\n    <path clip-path=\"url(#p7d3117fa76)\" d=\"M 7.2 10.999219 \nL 29.52 10.999219 \nL 29.52 26.530647 \nL 7.2 26.530647 \nL 7.2 10.999219 \n\" style=\"fill:#440154;\"/>\n    <path clip-path=\"url(#p7d3117fa76)\" d=\"M 29.52 10.999219 \nL 51.84 10.999219 \nL 51.84 26.530647 \nL 29.52 26.530647 \nL 29.52 10.999219 \n\" style=\"fill:#440154;\"/>\n    <path clip-path=\"url(#p7d3117fa76)\" d=\"M 51.84 10.999219 \nL 74.16 10.999219 \nL 74.16 26.530647 \nL 51.84 26.530647 \nL 51.84 10.999219 \n\" style=\"fill:#440154;\"/>\n    <path clip-path=\"url(#p7d3117fa76)\" d=\"M 74.16 10.999219 \nL 96.48 10.999219 \nL 96.48 26.530647 \nL 74.16 26.530647 \nL 74.16 10.999219 \n\" style=\"fill:#440154;\"/>\n    <path clip-path=\"url(#p7d3117fa76)\" d=\"M 96.48 10.999219 \nL 118.8 10.999219 \nL 118.8 26.530647 \nL 96.48 26.530647 \nL 96.48 10.999219 \n\" style=\"fill:#440154;\"/>\n    <path clip-path=\"url(#p7d3117fa76)\" d=\"M 118.8 10.999219 \nL 141.12 10.999219 \nL 141.12 26.530647 \nL 118.8 26.530647 \nL 118.8 10.999219 \n\" style=\"fill:#440154;\"/>\n    <path clip-path=\"url(#p7d3117fa76)\" d=\"M 141.12 10.999219 \nL 163.44 10.999219 \nL 163.44 26.530647 \nL 141.12 26.530647 \nL 141.12 10.999219 \n\" style=\"fill:#440154;\"/>\n    <path clip-path=\"url(#p7d3117fa76)\" d=\"M 163.44 10.999219 \nL 185.76 10.999219 \nL 185.76 26.530647 \nL 163.44 26.530647 \nL 163.44 10.999219 \n\" style=\"fill:#440154;\"/>\n    <path clip-path=\"url(#p7d3117fa76)\" d=\"M 185.76 10.999219 \nL 208.08 10.999219 \nL 208.08 26.530647 \nL 185.76 26.530647 \nL 185.76 10.999219 \n\" style=\"fill:#440154;\"/>\n    <path clip-path=\"url(#p7d3117fa76)\" d=\"M 208.08 10.999219 \nL 230.4 10.999219 \nL 230.4 26.530647 \nL 208.08 26.530647 \nL 208.08 10.999219 \n\" style=\"fill:#440154;\"/>\n    <path clip-path=\"url(#p7d3117fa76)\" d=\"M 230.4 10.999219 \nL 252.72 10.999219 \nL 252.72 26.530647 \nL 230.4 26.530647 \nL 230.4 10.999219 \n\" style=\"fill:#440154;\"/>\n    <path clip-path=\"url(#p7d3117fa76)\" d=\"M 252.72 10.999219 \nL 275.04 10.999219 \nL 275.04 26.530647 \nL 252.72 26.530647 \nL 252.72 10.999219 \n\" style=\"fill:#440154;\"/>\n    <path clip-path=\"url(#p7d3117fa76)\" d=\"M 7.2 26.530647 \nL 29.52 26.530647 \nL 29.52 42.062076 \nL 7.2 42.062076 \nL 7.2 26.530647 \n\" style=\"fill:#440154;\"/>\n    <path clip-path=\"url(#p7d3117fa76)\" d=\"M 29.52 26.530647 \nL 51.84 26.530647 \nL 51.84 42.062076 \nL 29.52 42.062076 \nL 29.52 26.530647 \n\" style=\"fill:#440154;\"/>\n    <path clip-path=\"url(#p7d3117fa76)\" d=\"M 51.84 26.530647 \nL 74.16 26.530647 \nL 74.16 42.062076 \nL 51.84 42.062076 \nL 51.84 26.530647 \n\" style=\"fill:#440154;\"/>\n    <path clip-path=\"url(#p7d3117fa76)\" d=\"M 74.16 26.530647 \nL 96.48 26.530647 \nL 96.48 42.062076 \nL 74.16 42.062076 \nL 74.16 26.530647 \n\" style=\"fill:#440154;\"/>\n    <path clip-path=\"url(#p7d3117fa76)\" d=\"M 96.48 26.530647 \nL 118.8 26.530647 \nL 118.8 42.062076 \nL 96.48 42.062076 \nL 96.48 26.530647 \n\" style=\"fill:#440154;\"/>\n    <path clip-path=\"url(#p7d3117fa76)\" d=\"M 118.8 26.530647 \nL 141.12 26.530647 \nL 141.12 42.062076 \nL 118.8 42.062076 \nL 118.8 26.530647 \n\" style=\"fill:#440154;\"/>\n    <path clip-path=\"url(#p7d3117fa76)\" d=\"M 141.12 26.530647 \nL 163.44 26.530647 \nL 163.44 42.062076 \nL 141.12 42.062076 \nL 141.12 26.530647 \n\" style=\"fill:#440154;\"/>\n    <path clip-path=\"url(#p7d3117fa76)\" d=\"M 163.44 26.530647 \nL 185.76 26.530647 \nL 185.76 42.062076 \nL 163.44 42.062076 \nL 163.44 26.530647 \n\" style=\"fill:#440154;\"/>\n    <path clip-path=\"url(#p7d3117fa76)\" d=\"M 185.76 26.530647 \nL 208.08 26.530647 \nL 208.08 42.062076 \nL 185.76 42.062076 \nL 185.76 26.530647 \n\" style=\"fill:#440154;\"/>\n    <path clip-path=\"url(#p7d3117fa76)\" d=\"M 208.08 26.530647 \nL 230.4 26.530647 \nL 230.4 42.062076 \nL 208.08 42.062076 \nL 208.08 26.530647 \n\" style=\"fill:#440154;\"/>\n    <path clip-path=\"url(#p7d3117fa76)\" d=\"M 230.4 26.530647 \nL 252.72 26.530647 \nL 252.72 42.062076 \nL 230.4 42.062076 \nL 230.4 26.530647 \n\" style=\"fill:#440154;\"/>\n    <path clip-path=\"url(#p7d3117fa76)\" d=\"M 252.72 26.530647 \nL 275.04 26.530647 \nL 275.04 42.062076 \nL 252.72 42.062076 \nL 252.72 26.530647 \n\" style=\"fill:#440154;\"/>\n    <path clip-path=\"url(#p7d3117fa76)\" d=\"M 7.2 42.062076 \nL 29.52 42.062076 \nL 29.52 57.593504 \nL 7.2 57.593504 \nL 7.2 42.062076 \n\" style=\"fill:#440154;\"/>\n    <path clip-path=\"url(#p7d3117fa76)\" d=\"M 29.52 42.062076 \nL 51.84 42.062076 \nL 51.84 57.593504 \nL 29.52 57.593504 \nL 29.52 42.062076 \n\" style=\"fill:#440154;\"/>\n    <path clip-path=\"url(#p7d3117fa76)\" d=\"M 51.84 42.062076 \nL 74.16 42.062076 \nL 74.16 57.593504 \nL 51.84 57.593504 \nL 51.84 42.062076 \n\" style=\"fill:#440154;\"/>\n    <path clip-path=\"url(#p7d3117fa76)\" d=\"M 74.16 42.062076 \nL 96.48 42.062076 \nL 96.48 57.593504 \nL 74.16 57.593504 \nL 74.16 42.062076 \n\" style=\"fill:#fde725;\"/>\n    <path clip-path=\"url(#p7d3117fa76)\" d=\"M 96.48 42.062076 \nL 118.8 42.062076 \nL 118.8 57.593504 \nL 96.48 57.593504 \nL 96.48 42.062076 \n\" style=\"fill:#440154;\"/>\n    <path clip-path=\"url(#p7d3117fa76)\" d=\"M 118.8 42.062076 \nL 141.12 42.062076 \nL 141.12 57.593504 \nL 118.8 57.593504 \nL 118.8 42.062076 \n\" style=\"fill:#440154;\"/>\n    <path clip-path=\"url(#p7d3117fa76)\" d=\"M 141.12 42.062076 \nL 163.44 42.062076 \nL 163.44 57.593504 \nL 141.12 57.593504 \nL 141.12 42.062076 \n\" style=\"fill:#440154;\"/>\n    <path clip-path=\"url(#p7d3117fa76)\" d=\"M 163.44 42.062076 \nL 185.76 42.062076 \nL 185.76 57.593504 \nL 163.44 57.593504 \nL 163.44 42.062076 \n\" style=\"fill:#440154;\"/>\n    <path clip-path=\"url(#p7d3117fa76)\" d=\"M 185.76 42.062076 \nL 208.08 42.062076 \nL 208.08 57.593504 \nL 185.76 57.593504 \nL 185.76 42.062076 \n\" style=\"fill:#440154;\"/>\n    <path clip-path=\"url(#p7d3117fa76)\" d=\"M 208.08 42.062076 \nL 230.4 42.062076 \nL 230.4 57.593504 \nL 208.08 57.593504 \nL 208.08 42.062076 \n\" style=\"fill:#440154;\"/>\n    <path clip-path=\"url(#p7d3117fa76)\" d=\"M 230.4 42.062076 \nL 252.72 42.062076 \nL 252.72 57.593504 \nL 230.4 57.593504 \nL 230.4 42.062076 \n\" style=\"fill:#440154;\"/>\n    <path clip-path=\"url(#p7d3117fa76)\" d=\"M 252.72 42.062076 \nL 275.04 42.062076 \nL 275.04 57.593504 \nL 252.72 57.593504 \nL 252.72 42.062076 \n\" style=\"fill:#440154;\"/>\n    <path clip-path=\"url(#p7d3117fa76)\" d=\"M 7.2 57.593504 \nL 29.52 57.593504 \nL 29.52 73.124933 \nL 7.2 73.124933 \nL 7.2 57.593504 \n\" style=\"fill:#440154;\"/>\n    <path clip-path=\"url(#p7d3117fa76)\" d=\"M 29.52 57.593504 \nL 51.84 57.593504 \nL 51.84 73.124933 \nL 29.52 73.124933 \nL 29.52 57.593504 \n\" style=\"fill:#440154;\"/>\n    <path clip-path=\"url(#p7d3117fa76)\" d=\"M 51.84 57.593504 \nL 74.16 57.593504 \nL 74.16 73.124933 \nL 51.84 73.124933 \nL 51.84 57.593504 \n\" style=\"fill:#fde725;\"/>\n    <path clip-path=\"url(#p7d3117fa76)\" d=\"M 74.16 57.593504 \nL 96.48 57.593504 \nL 96.48 73.124933 \nL 74.16 73.124933 \nL 74.16 57.593504 \n\" style=\"fill:#440154;\"/>\n    <path clip-path=\"url(#p7d3117fa76)\" d=\"M 96.48 57.593504 \nL 118.8 57.593504 \nL 118.8 73.124933 \nL 96.48 73.124933 \nL 96.48 57.593504 \n\" style=\"fill:#440154;\"/>\n    <path clip-path=\"url(#p7d3117fa76)\" d=\"M 118.8 57.593504 \nL 141.12 57.593504 \nL 141.12 73.124933 \nL 118.8 73.124933 \nL 118.8 57.593504 \n\" style=\"fill:#440154;\"/>\n    <path clip-path=\"url(#p7d3117fa76)\" d=\"M 141.12 57.593504 \nL 163.44 57.593504 \nL 163.44 73.124933 \nL 141.12 73.124933 \nL 141.12 57.593504 \n\" style=\"fill:#440154;\"/>\n    <path clip-path=\"url(#p7d3117fa76)\" d=\"M 163.44 57.593504 \nL 185.76 57.593504 \nL 185.76 73.124933 \nL 163.44 73.124933 \nL 163.44 57.593504 \n\" style=\"fill:#440154;\"/>\n    <path clip-path=\"url(#p7d3117fa76)\" d=\"M 185.76 57.593504 \nL 208.08 57.593504 \nL 208.08 73.124933 \nL 185.76 73.124933 \nL 185.76 57.593504 \n\" style=\"fill:#440154;\"/>\n    <path clip-path=\"url(#p7d3117fa76)\" d=\"M 208.08 57.593504 \nL 230.4 57.593504 \nL 230.4 73.124933 \nL 208.08 73.124933 \nL 208.08 57.593504 \n\" style=\"fill:#440154;\"/>\n    <path clip-path=\"url(#p7d3117fa76)\" d=\"M 230.4 57.593504 \nL 252.72 57.593504 \nL 252.72 73.124933 \nL 230.4 73.124933 \nL 230.4 57.593504 \n\" style=\"fill:#440154;\"/>\n    <path clip-path=\"url(#p7d3117fa76)\" d=\"M 252.72 57.593504 \nL 275.04 57.593504 \nL 275.04 73.124933 \nL 252.72 73.124933 \nL 252.72 57.593504 \n\" style=\"fill:#440154;\"/>\n    <path clip-path=\"url(#p7d3117fa76)\" d=\"M 7.2 73.124933 \nL 29.52 73.124933 \nL 29.52 88.656362 \nL 7.2 88.656362 \nL 7.2 73.124933 \n\" style=\"fill:#440154;\"/>\n    <path clip-path=\"url(#p7d3117fa76)\" d=\"M 29.52 73.124933 \nL 51.84 73.124933 \nL 51.84 88.656362 \nL 29.52 88.656362 \nL 29.52 73.124933 \n\" style=\"fill:#440154;\"/>\n    <path clip-path=\"url(#p7d3117fa76)\" d=\"M 51.84 73.124933 \nL 74.16 73.124933 \nL 74.16 88.656362 \nL 51.84 88.656362 \nL 51.84 73.124933 \n\" style=\"fill:#440154;\"/>\n    <path clip-path=\"url(#p7d3117fa76)\" d=\"M 74.16 73.124933 \nL 96.48 73.124933 \nL 96.48 88.656362 \nL 74.16 88.656362 \nL 74.16 73.124933 \n\" style=\"fill:#440154;\"/>\n    <path clip-path=\"url(#p7d3117fa76)\" d=\"M 96.48 73.124933 \nL 118.8 73.124933 \nL 118.8 88.656362 \nL 96.48 88.656362 \nL 96.48 73.124933 \n\" style=\"fill:#440154;\"/>\n    <path clip-path=\"url(#p7d3117fa76)\" d=\"M 118.8 73.124933 \nL 141.12 73.124933 \nL 141.12 88.656362 \nL 118.8 88.656362 \nL 118.8 73.124933 \n\" style=\"fill:#440154;\"/>\n    <path clip-path=\"url(#p7d3117fa76)\" d=\"M 141.12 73.124933 \nL 163.44 73.124933 \nL 163.44 88.656362 \nL 141.12 88.656362 \nL 141.12 73.124933 \n\" style=\"fill:#440154;\"/>\n    <path clip-path=\"url(#p7d3117fa76)\" d=\"M 163.44 73.124933 \nL 185.76 73.124933 \nL 185.76 88.656362 \nL 163.44 88.656362 \nL 163.44 73.124933 \n\" style=\"fill:#440154;\"/>\n    <path clip-path=\"url(#p7d3117fa76)\" d=\"M 185.76 73.124933 \nL 208.08 73.124933 \nL 208.08 88.656362 \nL 185.76 88.656362 \nL 185.76 73.124933 \n\" style=\"fill:#fde725;\"/>\n    <path clip-path=\"url(#p7d3117fa76)\" d=\"M 208.08 73.124933 \nL 230.4 73.124933 \nL 230.4 88.656362 \nL 208.08 88.656362 \nL 208.08 73.124933 \n\" style=\"fill:#440154;\"/>\n    <path clip-path=\"url(#p7d3117fa76)\" d=\"M 230.4 73.124933 \nL 252.72 73.124933 \nL 252.72 88.656362 \nL 230.4 88.656362 \nL 230.4 73.124933 \n\" style=\"fill:#440154;\"/>\n    <path clip-path=\"url(#p7d3117fa76)\" d=\"M 252.72 73.124933 \nL 275.04 73.124933 \nL 275.04 88.656362 \nL 252.72 88.656362 \nL 252.72 73.124933 \n\" style=\"fill:#440154;\"/>\n    <path clip-path=\"url(#p7d3117fa76)\" d=\"M 7.2 88.656362 \nL 29.52 88.656362 \nL 29.52 104.18779 \nL 7.2 104.18779 \nL 7.2 88.656362 \n\" style=\"fill:#440154;\"/>\n    <path clip-path=\"url(#p7d3117fa76)\" d=\"M 29.52 88.656362 \nL 51.84 88.656362 \nL 51.84 104.18779 \nL 29.52 104.18779 \nL 29.52 88.656362 \n\" style=\"fill:#440154;\"/>\n    <path clip-path=\"url(#p7d3117fa76)\" d=\"M 51.84 88.656362 \nL 74.16 88.656362 \nL 74.16 104.18779 \nL 51.84 104.18779 \nL 51.84 88.656362 \n\" style=\"fill:#440154;\"/>\n    <path clip-path=\"url(#p7d3117fa76)\" d=\"M 74.16 88.656362 \nL 96.48 88.656362 \nL 96.48 104.18779 \nL 74.16 104.18779 \nL 74.16 88.656362 \n\" style=\"fill:#440154;\"/>\n    <path clip-path=\"url(#p7d3117fa76)\" d=\"M 96.48 88.656362 \nL 118.8 88.656362 \nL 118.8 104.18779 \nL 96.48 104.18779 \nL 96.48 88.656362 \n\" style=\"fill:#440154;\"/>\n    <path clip-path=\"url(#p7d3117fa76)\" d=\"M 118.8 88.656362 \nL 141.12 88.656362 \nL 141.12 104.18779 \nL 118.8 104.18779 \nL 118.8 88.656362 \n\" style=\"fill:#440154;\"/>\n    <path clip-path=\"url(#p7d3117fa76)\" d=\"M 141.12 88.656362 \nL 163.44 88.656362 \nL 163.44 104.18779 \nL 141.12 104.18779 \nL 141.12 88.656362 \n\" style=\"fill:#440154;\"/>\n    <path clip-path=\"url(#p7d3117fa76)\" d=\"M 163.44 88.656362 \nL 185.76 88.656362 \nL 185.76 104.18779 \nL 163.44 104.18779 \nL 163.44 88.656362 \n\" style=\"fill:#440154;\"/>\n    <path clip-path=\"url(#p7d3117fa76)\" d=\"M 185.76 88.656362 \nL 208.08 88.656362 \nL 208.08 104.18779 \nL 185.76 104.18779 \nL 185.76 88.656362 \n\" style=\"fill:#440154;\"/>\n    <path clip-path=\"url(#p7d3117fa76)\" d=\"M 208.08 88.656362 \nL 230.4 88.656362 \nL 230.4 104.18779 \nL 208.08 104.18779 \nL 208.08 88.656362 \n\" style=\"fill:#440154;\"/>\n    <path clip-path=\"url(#p7d3117fa76)\" d=\"M 230.4 88.656362 \nL 252.72 88.656362 \nL 252.72 104.18779 \nL 230.4 104.18779 \nL 230.4 88.656362 \n\" style=\"fill:#440154;\"/>\n    <path clip-path=\"url(#p7d3117fa76)\" d=\"M 252.72 88.656362 \nL 275.04 88.656362 \nL 275.04 104.18779 \nL 252.72 104.18779 \nL 252.72 88.656362 \n\" style=\"fill:#440154;\"/>\n    <path clip-path=\"url(#p7d3117fa76)\" d=\"M 7.2 104.18779 \nL 29.52 104.18779 \nL 29.52 119.719219 \nL 7.2 119.719219 \nL 7.2 104.18779 \n\" style=\"fill:#440154;\"/>\n    <path clip-path=\"url(#p7d3117fa76)\" d=\"M 29.52 104.18779 \nL 51.84 104.18779 \nL 51.84 119.719219 \nL 29.52 119.719219 \nL 29.52 104.18779 \n\" style=\"fill:#440154;\"/>\n    <path clip-path=\"url(#p7d3117fa76)\" d=\"M 51.84 104.18779 \nL 74.16 104.18779 \nL 74.16 119.719219 \nL 51.84 119.719219 \nL 51.84 104.18779 \n\" style=\"fill:#440154;\"/>\n    <path clip-path=\"url(#p7d3117fa76)\" d=\"M 74.16 104.18779 \nL 96.48 104.18779 \nL 96.48 119.719219 \nL 74.16 119.719219 \nL 74.16 104.18779 \n\" style=\"fill:#440154;\"/>\n    <path clip-path=\"url(#p7d3117fa76)\" d=\"M 96.48 104.18779 \nL 118.8 104.18779 \nL 118.8 119.719219 \nL 96.48 119.719219 \nL 96.48 104.18779 \n\" style=\"fill:#440154;\"/>\n    <path clip-path=\"url(#p7d3117fa76)\" d=\"M 118.8 104.18779 \nL 141.12 104.18779 \nL 141.12 119.719219 \nL 118.8 119.719219 \nL 118.8 104.18779 \n\" style=\"fill:#440154;\"/>\n    <path clip-path=\"url(#p7d3117fa76)\" d=\"M 141.12 104.18779 \nL 163.44 104.18779 \nL 163.44 119.719219 \nL 141.12 119.719219 \nL 141.12 104.18779 \n\" style=\"fill:#440154;\"/>\n    <path clip-path=\"url(#p7d3117fa76)\" d=\"M 163.44 104.18779 \nL 185.76 104.18779 \nL 185.76 119.719219 \nL 163.44 119.719219 \nL 163.44 104.18779 \n\" style=\"fill:#440154;\"/>\n    <path clip-path=\"url(#p7d3117fa76)\" d=\"M 185.76 104.18779 \nL 208.08 104.18779 \nL 208.08 119.719219 \nL 185.76 119.719219 \nL 185.76 104.18779 \n\" style=\"fill:#440154;\"/>\n    <path clip-path=\"url(#p7d3117fa76)\" d=\"M 208.08 104.18779 \nL 230.4 104.18779 \nL 230.4 119.719219 \nL 208.08 119.719219 \nL 208.08 104.18779 \n\" style=\"fill:#440154;\"/>\n    <path clip-path=\"url(#p7d3117fa76)\" d=\"M 230.4 104.18779 \nL 252.72 104.18779 \nL 252.72 119.719219 \nL 230.4 119.719219 \nL 230.4 104.18779 \n\" style=\"fill:#440154;\"/>\n    <path clip-path=\"url(#p7d3117fa76)\" d=\"M 252.72 104.18779 \nL 275.04 104.18779 \nL 275.04 119.719219 \nL 252.72 119.719219 \nL 252.72 104.18779 \n\" style=\"fill:#440154;\"/>\n    <path clip-path=\"url(#p7d3117fa76)\" d=\"M 7.2 119.719219 \nL 29.52 119.719219 \nL 29.52 135.250647 \nL 7.2 135.250647 \nL 7.2 119.719219 \n\" style=\"fill:#440154;\"/>\n    <path clip-path=\"url(#p7d3117fa76)\" d=\"M 29.52 119.719219 \nL 51.84 119.719219 \nL 51.84 135.250647 \nL 29.52 135.250647 \nL 29.52 119.719219 \n\" style=\"fill:#440154;\"/>\n    <path clip-path=\"url(#p7d3117fa76)\" d=\"M 51.84 119.719219 \nL 74.16 119.719219 \nL 74.16 135.250647 \nL 51.84 135.250647 \nL 51.84 119.719219 \n\" style=\"fill:#440154;\"/>\n    <path clip-path=\"url(#p7d3117fa76)\" d=\"M 74.16 119.719219 \nL 96.48 119.719219 \nL 96.48 135.250647 \nL 74.16 135.250647 \nL 74.16 119.719219 \n\" style=\"fill:#440154;\"/>\n    <path clip-path=\"url(#p7d3117fa76)\" d=\"M 96.48 119.719219 \nL 118.8 119.719219 \nL 118.8 135.250647 \nL 96.48 135.250647 \nL 96.48 119.719219 \n\" style=\"fill:#440154;\"/>\n    <path clip-path=\"url(#p7d3117fa76)\" d=\"M 118.8 119.719219 \nL 141.12 119.719219 \nL 141.12 135.250647 \nL 118.8 135.250647 \nL 118.8 119.719219 \n\" style=\"fill:#440154;\"/>\n    <path clip-path=\"url(#p7d3117fa76)\" d=\"M 141.12 119.719219 \nL 163.44 119.719219 \nL 163.44 135.250647 \nL 141.12 135.250647 \nL 141.12 119.719219 \n\" style=\"fill:#440154;\"/>\n    <path clip-path=\"url(#p7d3117fa76)\" d=\"M 163.44 119.719219 \nL 185.76 119.719219 \nL 185.76 135.250647 \nL 163.44 135.250647 \nL 163.44 119.719219 \n\" style=\"fill:#440154;\"/>\n    <path clip-path=\"url(#p7d3117fa76)\" d=\"M 185.76 119.719219 \nL 208.08 119.719219 \nL 208.08 135.250647 \nL 185.76 135.250647 \nL 185.76 119.719219 \n\" style=\"fill:#440154;\"/>\n    <path clip-path=\"url(#p7d3117fa76)\" d=\"M 208.08 119.719219 \nL 230.4 119.719219 \nL 230.4 135.250647 \nL 208.08 135.250647 \nL 208.08 119.719219 \n\" style=\"fill:#440154;\"/>\n    <path clip-path=\"url(#p7d3117fa76)\" d=\"M 230.4 119.719219 \nL 252.72 119.719219 \nL 252.72 135.250647 \nL 230.4 135.250647 \nL 230.4 119.719219 \n\" style=\"fill:#440154;\"/>\n    <path clip-path=\"url(#p7d3117fa76)\" d=\"M 252.72 119.719219 \nL 275.04 119.719219 \nL 275.04 135.250647 \nL 252.72 135.250647 \nL 252.72 119.719219 \n\" style=\"fill:#440154;\"/>\n    <path clip-path=\"url(#p7d3117fa76)\" d=\"M 7.2 135.250647 \nL 29.52 135.250647 \nL 29.52 150.782076 \nL 7.2 150.782076 \nL 7.2 135.250647 \n\" style=\"fill:#440154;\"/>\n    <path clip-path=\"url(#p7d3117fa76)\" d=\"M 29.52 135.250647 \nL 51.84 135.250647 \nL 51.84 150.782076 \nL 29.52 150.782076 \nL 29.52 135.250647 \n\" style=\"fill:#440154;\"/>\n    <path clip-path=\"url(#p7d3117fa76)\" d=\"M 51.84 135.250647 \nL 74.16 135.250647 \nL 74.16 150.782076 \nL 51.84 150.782076 \nL 51.84 135.250647 \n\" style=\"fill:#440154;\"/>\n    <path clip-path=\"url(#p7d3117fa76)\" d=\"M 74.16 135.250647 \nL 96.48 135.250647 \nL 96.48 150.782076 \nL 74.16 150.782076 \nL 74.16 135.250647 \n\" style=\"fill:#440154;\"/>\n    <path clip-path=\"url(#p7d3117fa76)\" d=\"M 96.48 135.250647 \nL 118.8 135.250647 \nL 118.8 150.782076 \nL 96.48 150.782076 \nL 96.48 135.250647 \n\" style=\"fill:#440154;\"/>\n    <path clip-path=\"url(#p7d3117fa76)\" d=\"M 118.8 135.250647 \nL 141.12 135.250647 \nL 141.12 150.782076 \nL 118.8 150.782076 \nL 118.8 135.250647 \n\" style=\"fill:#440154;\"/>\n    <path clip-path=\"url(#p7d3117fa76)\" d=\"M 141.12 135.250647 \nL 163.44 135.250647 \nL 163.44 150.782076 \nL 141.12 150.782076 \nL 141.12 135.250647 \n\" style=\"fill:#440154;\"/>\n    <path clip-path=\"url(#p7d3117fa76)\" d=\"M 163.44 135.250647 \nL 185.76 135.250647 \nL 185.76 150.782076 \nL 163.44 150.782076 \nL 163.44 135.250647 \n\" style=\"fill:#440154;\"/>\n    <path clip-path=\"url(#p7d3117fa76)\" d=\"M 185.76 135.250647 \nL 208.08 135.250647 \nL 208.08 150.782076 \nL 185.76 150.782076 \nL 185.76 135.250647 \n\" style=\"fill:#440154;\"/>\n    <path clip-path=\"url(#p7d3117fa76)\" d=\"M 208.08 135.250647 \nL 230.4 135.250647 \nL 230.4 150.782076 \nL 208.08 150.782076 \nL 208.08 135.250647 \n\" style=\"fill:#440154;\"/>\n    <path clip-path=\"url(#p7d3117fa76)\" d=\"M 230.4 135.250647 \nL 252.72 135.250647 \nL 252.72 150.782076 \nL 230.4 150.782076 \nL 230.4 135.250647 \n\" style=\"fill:#440154;\"/>\n    <path clip-path=\"url(#p7d3117fa76)\" d=\"M 252.72 135.250647 \nL 275.04 135.250647 \nL 275.04 150.782076 \nL 252.72 150.782076 \nL 252.72 135.250647 \n\" style=\"fill:#440154;\"/>\n    <path clip-path=\"url(#p7d3117fa76)\" d=\"M 7.2 150.782076 \nL 29.52 150.782076 \nL 29.52 166.313504 \nL 7.2 166.313504 \nL 7.2 150.782076 \n\" style=\"fill:#440154;\"/>\n    <path clip-path=\"url(#p7d3117fa76)\" d=\"M 29.52 150.782076 \nL 51.84 150.782076 \nL 51.84 166.313504 \nL 29.52 166.313504 \nL 29.52 150.782076 \n\" style=\"fill:#440154;\"/>\n    <path clip-path=\"url(#p7d3117fa76)\" d=\"M 51.84 150.782076 \nL 74.16 150.782076 \nL 74.16 166.313504 \nL 51.84 166.313504 \nL 51.84 150.782076 \n\" style=\"fill:#fde725;\"/>\n    <path clip-path=\"url(#p7d3117fa76)\" d=\"M 74.16 150.782076 \nL 96.48 150.782076 \nL 96.48 166.313504 \nL 74.16 166.313504 \nL 74.16 150.782076 \n\" style=\"fill:#440154;\"/>\n    <path clip-path=\"url(#p7d3117fa76)\" d=\"M 96.48 150.782076 \nL 118.8 150.782076 \nL 118.8 166.313504 \nL 96.48 166.313504 \nL 96.48 150.782076 \n\" style=\"fill:#440154;\"/>\n    <path clip-path=\"url(#p7d3117fa76)\" d=\"M 118.8 150.782076 \nL 141.12 150.782076 \nL 141.12 166.313504 \nL 118.8 166.313504 \nL 118.8 150.782076 \n\" style=\"fill:#440154;\"/>\n    <path clip-path=\"url(#p7d3117fa76)\" d=\"M 141.12 150.782076 \nL 163.44 150.782076 \nL 163.44 166.313504 \nL 141.12 166.313504 \nL 141.12 150.782076 \n\" style=\"fill:#440154;\"/>\n    <path clip-path=\"url(#p7d3117fa76)\" d=\"M 163.44 150.782076 \nL 185.76 150.782076 \nL 185.76 166.313504 \nL 163.44 166.313504 \nL 163.44 150.782076 \n\" style=\"fill:#440154;\"/>\n    <path clip-path=\"url(#p7d3117fa76)\" d=\"M 185.76 150.782076 \nL 208.08 150.782076 \nL 208.08 166.313504 \nL 185.76 166.313504 \nL 185.76 150.782076 \n\" style=\"fill:#440154;\"/>\n    <path clip-path=\"url(#p7d3117fa76)\" d=\"M 208.08 150.782076 \nL 230.4 150.782076 \nL 230.4 166.313504 \nL 208.08 166.313504 \nL 208.08 150.782076 \n\" style=\"fill:#440154;\"/>\n    <path clip-path=\"url(#p7d3117fa76)\" d=\"M 230.4 150.782076 \nL 252.72 150.782076 \nL 252.72 166.313504 \nL 230.4 166.313504 \nL 230.4 150.782076 \n\" style=\"fill:#440154;\"/>\n    <path clip-path=\"url(#p7d3117fa76)\" d=\"M 252.72 150.782076 \nL 275.04 150.782076 \nL 275.04 166.313504 \nL 252.72 166.313504 \nL 252.72 150.782076 \n\" style=\"fill:#440154;\"/>\n    <path clip-path=\"url(#p7d3117fa76)\" d=\"M 7.2 166.313504 \nL 29.52 166.313504 \nL 29.52 181.844933 \nL 7.2 181.844933 \nL 7.2 166.313504 \n\" style=\"fill:#440154;\"/>\n    <path clip-path=\"url(#p7d3117fa76)\" d=\"M 29.52 166.313504 \nL 51.84 166.313504 \nL 51.84 181.844933 \nL 29.52 181.844933 \nL 29.52 166.313504 \n\" style=\"fill:#440154;\"/>\n    <path clip-path=\"url(#p7d3117fa76)\" d=\"M 51.84 166.313504 \nL 74.16 166.313504 \nL 74.16 181.844933 \nL 51.84 181.844933 \nL 51.84 166.313504 \n\" style=\"fill:#440154;\"/>\n    <path clip-path=\"url(#p7d3117fa76)\" d=\"M 74.16 166.313504 \nL 96.48 166.313504 \nL 96.48 181.844933 \nL 74.16 181.844933 \nL 74.16 166.313504 \n\" style=\"fill:#fde725;\"/>\n    <path clip-path=\"url(#p7d3117fa76)\" d=\"M 96.48 166.313504 \nL 118.8 166.313504 \nL 118.8 181.844933 \nL 96.48 181.844933 \nL 96.48 166.313504 \n\" style=\"fill:#440154;\"/>\n    <path clip-path=\"url(#p7d3117fa76)\" d=\"M 118.8 166.313504 \nL 141.12 166.313504 \nL 141.12 181.844933 \nL 118.8 181.844933 \nL 118.8 166.313504 \n\" style=\"fill:#440154;\"/>\n    <path clip-path=\"url(#p7d3117fa76)\" d=\"M 141.12 166.313504 \nL 163.44 166.313504 \nL 163.44 181.844933 \nL 141.12 181.844933 \nL 141.12 166.313504 \n\" style=\"fill:#440154;\"/>\n    <path clip-path=\"url(#p7d3117fa76)\" d=\"M 163.44 166.313504 \nL 185.76 166.313504 \nL 185.76 181.844933 \nL 163.44 181.844933 \nL 163.44 166.313504 \n\" style=\"fill:#440154;\"/>\n    <path clip-path=\"url(#p7d3117fa76)\" d=\"M 185.76 166.313504 \nL 208.08 166.313504 \nL 208.08 181.844933 \nL 185.76 181.844933 \nL 185.76 166.313504 \n\" style=\"fill:#440154;\"/>\n    <path clip-path=\"url(#p7d3117fa76)\" d=\"M 208.08 166.313504 \nL 230.4 166.313504 \nL 230.4 181.844933 \nL 208.08 181.844933 \nL 208.08 166.313504 \n\" style=\"fill:#440154;\"/>\n    <path clip-path=\"url(#p7d3117fa76)\" d=\"M 230.4 166.313504 \nL 252.72 166.313504 \nL 252.72 181.844933 \nL 230.4 181.844933 \nL 230.4 166.313504 \n\" style=\"fill:#440154;\"/>\n    <path clip-path=\"url(#p7d3117fa76)\" d=\"M 252.72 166.313504 \nL 275.04 166.313504 \nL 275.04 181.844933 \nL 252.72 181.844933 \nL 252.72 166.313504 \n\" style=\"fill:#440154;\"/>\n    <path clip-path=\"url(#p7d3117fa76)\" d=\"M 7.2 181.844933 \nL 29.52 181.844933 \nL 29.52 197.376362 \nL 7.2 197.376362 \nL 7.2 181.844933 \n\" style=\"fill:#440154;\"/>\n    <path clip-path=\"url(#p7d3117fa76)\" d=\"M 29.52 181.844933 \nL 51.84 181.844933 \nL 51.84 197.376362 \nL 29.52 197.376362 \nL 29.52 181.844933 \n\" style=\"fill:#440154;\"/>\n    <path clip-path=\"url(#p7d3117fa76)\" d=\"M 51.84 181.844933 \nL 74.16 181.844933 \nL 74.16 197.376362 \nL 51.84 197.376362 \nL 51.84 181.844933 \n\" style=\"fill:#fde725;\"/>\n    <path clip-path=\"url(#p7d3117fa76)\" d=\"M 74.16 181.844933 \nL 96.48 181.844933 \nL 96.48 197.376362 \nL 74.16 197.376362 \nL 74.16 181.844933 \n\" style=\"fill:#fde725;\"/>\n    <path clip-path=\"url(#p7d3117fa76)\" d=\"M 96.48 181.844933 \nL 118.8 181.844933 \nL 118.8 197.376362 \nL 96.48 197.376362 \nL 96.48 181.844933 \n\" style=\"fill:#440154;\"/>\n    <path clip-path=\"url(#p7d3117fa76)\" d=\"M 118.8 181.844933 \nL 141.12 181.844933 \nL 141.12 197.376362 \nL 118.8 197.376362 \nL 118.8 181.844933 \n\" style=\"fill:#440154;\"/>\n    <path clip-path=\"url(#p7d3117fa76)\" d=\"M 141.12 181.844933 \nL 163.44 181.844933 \nL 163.44 197.376362 \nL 141.12 197.376362 \nL 141.12 181.844933 \n\" style=\"fill:#440154;\"/>\n    <path clip-path=\"url(#p7d3117fa76)\" d=\"M 163.44 181.844933 \nL 185.76 181.844933 \nL 185.76 197.376362 \nL 163.44 197.376362 \nL 163.44 181.844933 \n\" style=\"fill:#440154;\"/>\n    <path clip-path=\"url(#p7d3117fa76)\" d=\"M 185.76 181.844933 \nL 208.08 181.844933 \nL 208.08 197.376362 \nL 185.76 197.376362 \nL 185.76 181.844933 \n\" style=\"fill:#440154;\"/>\n    <path clip-path=\"url(#p7d3117fa76)\" d=\"M 208.08 181.844933 \nL 230.4 181.844933 \nL 230.4 197.376362 \nL 208.08 197.376362 \nL 208.08 181.844933 \n\" style=\"fill:#440154;\"/>\n    <path clip-path=\"url(#p7d3117fa76)\" d=\"M 230.4 181.844933 \nL 252.72 181.844933 \nL 252.72 197.376362 \nL 230.4 197.376362 \nL 230.4 181.844933 \n\" style=\"fill:#440154;\"/>\n    <path clip-path=\"url(#p7d3117fa76)\" d=\"M 252.72 181.844933 \nL 275.04 181.844933 \nL 275.04 197.376362 \nL 252.72 197.376362 \nL 252.72 181.844933 \n\" style=\"fill:#440154;\"/>\n    <path clip-path=\"url(#p7d3117fa76)\" d=\"M 7.2 197.376362 \nL 29.52 197.376362 \nL 29.52 212.90779 \nL 7.2 212.90779 \nL 7.2 197.376362 \n\" style=\"fill:#440154;\"/>\n    <path clip-path=\"url(#p7d3117fa76)\" d=\"M 29.52 197.376362 \nL 51.84 197.376362 \nL 51.84 212.90779 \nL 29.52 212.90779 \nL 29.52 197.376362 \n\" style=\"fill:#440154;\"/>\n    <path clip-path=\"url(#p7d3117fa76)\" d=\"M 51.84 197.376362 \nL 74.16 197.376362 \nL 74.16 212.90779 \nL 51.84 212.90779 \nL 51.84 197.376362 \n\" style=\"fill:#fde725;\"/>\n    <path clip-path=\"url(#p7d3117fa76)\" d=\"M 74.16 197.376362 \nL 96.48 197.376362 \nL 96.48 212.90779 \nL 74.16 212.90779 \nL 74.16 197.376362 \n\" style=\"fill:#fde725;\"/>\n    <path clip-path=\"url(#p7d3117fa76)\" d=\"M 96.48 197.376362 \nL 118.8 197.376362 \nL 118.8 212.90779 \nL 96.48 212.90779 \nL 96.48 197.376362 \n\" style=\"fill:#fde725;\"/>\n    <path clip-path=\"url(#p7d3117fa76)\" d=\"M 118.8 197.376362 \nL 141.12 197.376362 \nL 141.12 212.90779 \nL 118.8 212.90779 \nL 118.8 197.376362 \n\" style=\"fill:#fde725;\"/>\n    <path clip-path=\"url(#p7d3117fa76)\" d=\"M 141.12 197.376362 \nL 163.44 197.376362 \nL 163.44 212.90779 \nL 141.12 212.90779 \nL 141.12 197.376362 \n\" style=\"fill:#fde725;\"/>\n    <path clip-path=\"url(#p7d3117fa76)\" d=\"M 163.44 197.376362 \nL 185.76 197.376362 \nL 185.76 212.90779 \nL 163.44 212.90779 \nL 163.44 197.376362 \n\" style=\"fill:#fde725;\"/>\n    <path clip-path=\"url(#p7d3117fa76)\" d=\"M 185.76 197.376362 \nL 208.08 197.376362 \nL 208.08 212.90779 \nL 185.76 212.90779 \nL 185.76 197.376362 \n\" style=\"fill:#fde725;\"/>\n    <path clip-path=\"url(#p7d3117fa76)\" d=\"M 208.08 197.376362 \nL 230.4 197.376362 \nL 230.4 212.90779 \nL 208.08 212.90779 \nL 208.08 197.376362 \n\" style=\"fill:#fde725;\"/>\n    <path clip-path=\"url(#p7d3117fa76)\" d=\"M 230.4 197.376362 \nL 252.72 197.376362 \nL 252.72 212.90779 \nL 230.4 212.90779 \nL 230.4 197.376362 \n\" style=\"fill:#440154;\"/>\n    <path clip-path=\"url(#p7d3117fa76)\" d=\"M 252.72 197.376362 \nL 275.04 197.376362 \nL 275.04 212.90779 \nL 252.72 212.90779 \nL 252.72 197.376362 \n\" style=\"fill:#fde725;\"/>\n    <path clip-path=\"url(#p7d3117fa76)\" d=\"M 7.2 212.90779 \nL 29.52 212.90779 \nL 29.52 228.439219 \nL 7.2 228.439219 \nL 7.2 212.90779 \n\" style=\"fill:#440154;\"/>\n    <path clip-path=\"url(#p7d3117fa76)\" d=\"M 29.52 212.90779 \nL 51.84 212.90779 \nL 51.84 228.439219 \nL 29.52 228.439219 \nL 29.52 212.90779 \n\" style=\"fill:#fde725;\"/>\n    <path clip-path=\"url(#p7d3117fa76)\" d=\"M 51.84 212.90779 \nL 74.16 212.90779 \nL 74.16 228.439219 \nL 51.84 228.439219 \nL 51.84 212.90779 \n\" style=\"fill:#440154;\"/>\n    <path clip-path=\"url(#p7d3117fa76)\" d=\"M 74.16 212.90779 \nL 96.48 212.90779 \nL 96.48 228.439219 \nL 74.16 228.439219 \nL 74.16 212.90779 \n\" style=\"fill:#440154;\"/>\n    <path clip-path=\"url(#p7d3117fa76)\" d=\"M 96.48 212.90779 \nL 118.8 212.90779 \nL 118.8 228.439219 \nL 96.48 228.439219 \nL 96.48 212.90779 \n\" style=\"fill:#440154;\"/>\n    <path clip-path=\"url(#p7d3117fa76)\" d=\"M 118.8 212.90779 \nL 141.12 212.90779 \nL 141.12 228.439219 \nL 118.8 228.439219 \nL 118.8 212.90779 \n\" style=\"fill:#440154;\"/>\n    <path clip-path=\"url(#p7d3117fa76)\" d=\"M 141.12 212.90779 \nL 163.44 212.90779 \nL 163.44 228.439219 \nL 141.12 228.439219 \nL 141.12 212.90779 \n\" style=\"fill:#440154;\"/>\n    <path clip-path=\"url(#p7d3117fa76)\" d=\"M 163.44 212.90779 \nL 185.76 212.90779 \nL 185.76 228.439219 \nL 163.44 228.439219 \nL 163.44 212.90779 \n\" style=\"fill:#440154;\"/>\n    <path clip-path=\"url(#p7d3117fa76)\" d=\"M 185.76 212.90779 \nL 208.08 212.90779 \nL 208.08 228.439219 \nL 185.76 228.439219 \nL 185.76 212.90779 \n\" style=\"fill:#440154;\"/>\n    <path clip-path=\"url(#p7d3117fa76)\" d=\"M 208.08 212.90779 \nL 230.4 212.90779 \nL 230.4 228.439219 \nL 208.08 228.439219 \nL 208.08 212.90779 \n\" style=\"fill:#440154;\"/>\n    <path clip-path=\"url(#p7d3117fa76)\" d=\"M 230.4 212.90779 \nL 252.72 212.90779 \nL 252.72 228.439219 \nL 230.4 228.439219 \nL 230.4 212.90779 \n\" style=\"fill:#fde725;\"/>\n    <path clip-path=\"url(#p7d3117fa76)\" d=\"M 252.72 212.90779 \nL 275.04 212.90779 \nL 275.04 228.439219 \nL 252.72 228.439219 \nL 252.72 212.90779 \n\" style=\"fill:#fde725;\"/>\n   </g>\n   <g id=\"matplotlib.axis_1\">\n    <g id=\"xtick_1\">\n     <g id=\"line2d_1\">\n      <defs>\n       <path d=\"M 0 0 \nL 0 3.5 \n\" id=\"m4a2bab0d8e\" style=\"stroke:#000000;stroke-width:0.8;\"/>\n      </defs>\n      <g>\n       <use style=\"stroke:#000000;stroke-width:0.8;\" x=\"18.36\" xlink:href=\"#m4a2bab0d8e\" y=\"228.439219\"/>\n      </g>\n     </g>\n     <g id=\"text_1\">\n      <!-- ID -->\n      <defs>\n       <path d=\"M 9.8125 72.90625 \nL 19.671875 72.90625 \nL 19.671875 0 \nL 9.8125 0 \nz\n\" id=\"DejaVuSans-73\"/>\n       <path d=\"M 19.671875 64.796875 \nL 19.671875 8.109375 \nL 31.59375 8.109375 \nQ 46.6875 8.109375 53.6875 14.9375 \nQ 60.6875 21.78125 60.6875 36.53125 \nQ 60.6875 51.171875 53.6875 57.984375 \nQ 46.6875 64.796875 31.59375 64.796875 \nz\nM 9.8125 72.90625 \nL 30.078125 72.90625 \nQ 51.265625 72.90625 61.171875 64.09375 \nQ 71.09375 55.28125 71.09375 36.53125 \nQ 71.09375 17.671875 61.125 8.828125 \nQ 51.171875 0 30.078125 0 \nL 9.8125 0 \nz\n\" id=\"DejaVuSans-68\"/>\n      </defs>\n      <g transform=\"translate(21.119375 246.089219)rotate(-90)scale(0.1 -0.1)\">\n       <use xlink:href=\"#DejaVuSans-73\"/>\n       <use x=\"29.492188\" xlink:href=\"#DejaVuSans-68\"/>\n      </g>\n     </g>\n    </g>\n    <g id=\"xtick_2\">\n     <g id=\"line2d_2\">\n      <g>\n       <use style=\"stroke:#000000;stroke-width:0.8;\" x=\"40.68\" xlink:href=\"#m4a2bab0d8e\" y=\"228.439219\"/>\n      </g>\n     </g>\n     <g id=\"text_2\">\n      <!-- Name -->\n      <defs>\n       <path d=\"M 9.8125 72.90625 \nL 23.09375 72.90625 \nL 55.421875 11.921875 \nL 55.421875 72.90625 \nL 64.984375 72.90625 \nL 64.984375 0 \nL 51.703125 0 \nL 19.390625 60.984375 \nL 19.390625 0 \nL 9.8125 0 \nz\n\" id=\"DejaVuSans-78\"/>\n       <path d=\"M 34.28125 27.484375 \nQ 23.390625 27.484375 19.1875 25 \nQ 14.984375 22.515625 14.984375 16.5 \nQ 14.984375 11.71875 18.140625 8.90625 \nQ 21.296875 6.109375 26.703125 6.109375 \nQ 34.1875 6.109375 38.703125 11.40625 \nQ 43.21875 16.703125 43.21875 25.484375 \nL 43.21875 27.484375 \nz\nM 52.203125 31.203125 \nL 52.203125 0 \nL 43.21875 0 \nL 43.21875 8.296875 \nQ 40.140625 3.328125 35.546875 0.953125 \nQ 30.953125 -1.421875 24.3125 -1.421875 \nQ 15.921875 -1.421875 10.953125 3.296875 \nQ 6 8.015625 6 15.921875 \nQ 6 25.140625 12.171875 29.828125 \nQ 18.359375 34.515625 30.609375 34.515625 \nL 43.21875 34.515625 \nL 43.21875 35.40625 \nQ 43.21875 41.609375 39.140625 45 \nQ 35.0625 48.390625 27.6875 48.390625 \nQ 23 48.390625 18.546875 47.265625 \nQ 14.109375 46.140625 10.015625 43.890625 \nL 10.015625 52.203125 \nQ 14.9375 54.109375 19.578125 55.046875 \nQ 24.21875 56 28.609375 56 \nQ 40.484375 56 46.34375 49.84375 \nQ 52.203125 43.703125 52.203125 31.203125 \nz\n\" id=\"DejaVuSans-97\"/>\n       <path d=\"M 52 44.1875 \nQ 55.375 50.25 60.0625 53.125 \nQ 64.75 56 71.09375 56 \nQ 79.640625 56 84.28125 50.015625 \nQ 88.921875 44.046875 88.921875 33.015625 \nL 88.921875 0 \nL 79.890625 0 \nL 79.890625 32.71875 \nQ 79.890625 40.578125 77.09375 44.375 \nQ 74.3125 48.1875 68.609375 48.1875 \nQ 61.625 48.1875 57.5625 43.546875 \nQ 53.515625 38.921875 53.515625 30.90625 \nL 53.515625 0 \nL 44.484375 0 \nL 44.484375 32.71875 \nQ 44.484375 40.625 41.703125 44.40625 \nQ 38.921875 48.1875 33.109375 48.1875 \nQ 26.21875 48.1875 22.15625 43.53125 \nQ 18.109375 38.875 18.109375 30.90625 \nL 18.109375 0 \nL 9.078125 0 \nL 9.078125 54.6875 \nL 18.109375 54.6875 \nL 18.109375 46.1875 \nQ 21.1875 51.21875 25.484375 53.609375 \nQ 29.78125 56 35.6875 56 \nQ 41.65625 56 45.828125 52.96875 \nQ 50 49.953125 52 44.1875 \nz\n\" id=\"DejaVuSans-109\"/>\n       <path d=\"M 56.203125 29.59375 \nL 56.203125 25.203125 \nL 14.890625 25.203125 \nQ 15.484375 15.921875 20.484375 11.0625 \nQ 25.484375 6.203125 34.421875 6.203125 \nQ 39.59375 6.203125 44.453125 7.46875 \nQ 49.3125 8.734375 54.109375 11.28125 \nL 54.109375 2.78125 \nQ 49.265625 0.734375 44.1875 -0.34375 \nQ 39.109375 -1.421875 33.890625 -1.421875 \nQ 20.796875 -1.421875 13.15625 6.1875 \nQ 5.515625 13.8125 5.515625 26.8125 \nQ 5.515625 40.234375 12.765625 48.109375 \nQ 20.015625 56 32.328125 56 \nQ 43.359375 56 49.78125 48.890625 \nQ 56.203125 41.796875 56.203125 29.59375 \nz\nM 47.21875 32.234375 \nQ 47.125 39.59375 43.09375 43.984375 \nQ 39.0625 48.390625 32.421875 48.390625 \nQ 24.90625 48.390625 20.390625 44.140625 \nQ 15.875 39.890625 15.1875 32.171875 \nz\n\" id=\"DejaVuSans-101\"/>\n      </defs>\n      <g transform=\"translate(43.439375 264.942344)rotate(-90)scale(0.1 -0.1)\">\n       <use xlink:href=\"#DejaVuSans-78\"/>\n       <use x=\"74.804688\" xlink:href=\"#DejaVuSans-97\"/>\n       <use x=\"136.083984\" xlink:href=\"#DejaVuSans-109\"/>\n       <use x=\"233.496094\" xlink:href=\"#DejaVuSans-101\"/>\n      </g>\n     </g>\n    </g>\n    <g id=\"xtick_3\">\n     <g id=\"line2d_3\">\n      <g>\n       <use style=\"stroke:#000000;stroke-width:0.8;\" x=\"63\" xlink:href=\"#m4a2bab0d8e\" y=\"228.439219\"/>\n      </g>\n     </g>\n     <g id=\"text_3\">\n      <!-- Age -->\n      <defs>\n       <path d=\"M 34.1875 63.1875 \nL 20.796875 26.90625 \nL 47.609375 26.90625 \nz\nM 28.609375 72.90625 \nL 39.796875 72.90625 \nL 67.578125 0 \nL 57.328125 0 \nL 50.6875 18.703125 \nL 17.828125 18.703125 \nL 11.1875 0 \nL 0.78125 0 \nz\n\" id=\"DejaVuSans-65\"/>\n       <path d=\"M 45.40625 27.984375 \nQ 45.40625 37.75 41.375 43.109375 \nQ 37.359375 48.484375 30.078125 48.484375 \nQ 22.859375 48.484375 18.828125 43.109375 \nQ 14.796875 37.75 14.796875 27.984375 \nQ 14.796875 18.265625 18.828125 12.890625 \nQ 22.859375 7.515625 30.078125 7.515625 \nQ 37.359375 7.515625 41.375 12.890625 \nQ 45.40625 18.265625 45.40625 27.984375 \nz\nM 54.390625 6.78125 \nQ 54.390625 -7.171875 48.1875 -13.984375 \nQ 42 -20.796875 29.203125 -20.796875 \nQ 24.46875 -20.796875 20.265625 -20.09375 \nQ 16.0625 -19.390625 12.109375 -17.921875 \nL 12.109375 -9.1875 \nQ 16.0625 -11.328125 19.921875 -12.34375 \nQ 23.78125 -13.375 27.78125 -13.375 \nQ 36.625 -13.375 41.015625 -8.765625 \nQ 45.40625 -4.15625 45.40625 5.171875 \nL 45.40625 9.625 \nQ 42.625 4.78125 38.28125 2.390625 \nQ 33.9375 0 27.875 0 \nQ 17.828125 0 11.671875 7.65625 \nQ 5.515625 15.328125 5.515625 27.984375 \nQ 5.515625 40.671875 11.671875 48.328125 \nQ 17.828125 56 27.875 56 \nQ 33.9375 56 38.28125 53.609375 \nQ 42.625 51.21875 45.40625 46.390625 \nL 45.40625 54.6875 \nL 54.390625 54.6875 \nz\n\" id=\"DejaVuSans-103\"/>\n      </defs>\n      <g transform=\"translate(65.759375 254.781406)rotate(-90)scale(0.1 -0.1)\">\n       <use xlink:href=\"#DejaVuSans-65\"/>\n       <use x=\"68.408203\" xlink:href=\"#DejaVuSans-103\"/>\n       <use x=\"131.884766\" xlink:href=\"#DejaVuSans-101\"/>\n      </g>\n     </g>\n    </g>\n    <g id=\"xtick_4\">\n     <g id=\"line2d_4\">\n      <g>\n       <use style=\"stroke:#000000;stroke-width:0.8;\" x=\"85.32\" xlink:href=\"#m4a2bab0d8e\" y=\"228.439219\"/>\n      </g>\n     </g>\n     <g id=\"text_4\">\n      <!-- Weight -->\n      <defs>\n       <path d=\"M 3.328125 72.90625 \nL 13.28125 72.90625 \nL 28.609375 11.28125 \nL 43.890625 72.90625 \nL 54.984375 72.90625 \nL 70.3125 11.28125 \nL 85.59375 72.90625 \nL 95.609375 72.90625 \nL 77.296875 0 \nL 64.890625 0 \nL 49.515625 63.28125 \nL 33.984375 0 \nL 21.578125 0 \nz\n\" id=\"DejaVuSans-87\"/>\n       <path d=\"M 9.421875 54.6875 \nL 18.40625 54.6875 \nL 18.40625 0 \nL 9.421875 0 \nz\nM 9.421875 75.984375 \nL 18.40625 75.984375 \nL 18.40625 64.59375 \nL 9.421875 64.59375 \nz\n\" id=\"DejaVuSans-105\"/>\n       <path d=\"M 54.890625 33.015625 \nL 54.890625 0 \nL 45.90625 0 \nL 45.90625 32.71875 \nQ 45.90625 40.484375 42.875 44.328125 \nQ 39.84375 48.1875 33.796875 48.1875 \nQ 26.515625 48.1875 22.3125 43.546875 \nQ 18.109375 38.921875 18.109375 30.90625 \nL 18.109375 0 \nL 9.078125 0 \nL 9.078125 75.984375 \nL 18.109375 75.984375 \nL 18.109375 46.1875 \nQ 21.34375 51.125 25.703125 53.5625 \nQ 30.078125 56 35.796875 56 \nQ 45.21875 56 50.046875 50.171875 \nQ 54.890625 44.34375 54.890625 33.015625 \nz\n\" id=\"DejaVuSans-104\"/>\n       <path d=\"M 18.3125 70.21875 \nL 18.3125 54.6875 \nL 36.8125 54.6875 \nL 36.8125 47.703125 \nL 18.3125 47.703125 \nL 18.3125 18.015625 \nQ 18.3125 11.328125 20.140625 9.421875 \nQ 21.96875 7.515625 27.59375 7.515625 \nL 36.8125 7.515625 \nL 36.8125 0 \nL 27.59375 0 \nQ 17.1875 0 13.234375 3.875 \nQ 9.28125 7.765625 9.28125 18.015625 \nL 9.28125 47.703125 \nL 2.6875 47.703125 \nL 2.6875 54.6875 \nL 9.28125 54.6875 \nL 9.28125 70.21875 \nz\n\" id=\"DejaVuSans-116\"/>\n      </defs>\n      <g transform=\"translate(88.079375 270.276719)rotate(-90)scale(0.1 -0.1)\">\n       <use xlink:href=\"#DejaVuSans-87\"/>\n       <use x=\"93.001953\" xlink:href=\"#DejaVuSans-101\"/>\n       <use x=\"154.525391\" xlink:href=\"#DejaVuSans-105\"/>\n       <use x=\"182.308594\" xlink:href=\"#DejaVuSans-103\"/>\n       <use x=\"245.785156\" xlink:href=\"#DejaVuSans-104\"/>\n       <use x=\"309.164062\" xlink:href=\"#DejaVuSans-116\"/>\n      </g>\n     </g>\n    </g>\n    <g id=\"xtick_5\">\n     <g id=\"line2d_5\">\n      <g>\n       <use style=\"stroke:#000000;stroke-width:0.8;\" x=\"107.64\" xlink:href=\"#m4a2bab0d8e\" y=\"228.439219\"/>\n      </g>\n     </g>\n     <g id=\"text_5\">\n      <!-- m0006 -->\n      <defs>\n       <path d=\"M 31.78125 66.40625 \nQ 24.171875 66.40625 20.328125 58.90625 \nQ 16.5 51.421875 16.5 36.375 \nQ 16.5 21.390625 20.328125 13.890625 \nQ 24.171875 6.390625 31.78125 6.390625 \nQ 39.453125 6.390625 43.28125 13.890625 \nQ 47.125 21.390625 47.125 36.375 \nQ 47.125 51.421875 43.28125 58.90625 \nQ 39.453125 66.40625 31.78125 66.40625 \nz\nM 31.78125 74.21875 \nQ 44.046875 74.21875 50.515625 64.515625 \nQ 56.984375 54.828125 56.984375 36.375 \nQ 56.984375 17.96875 50.515625 8.265625 \nQ 44.046875 -1.421875 31.78125 -1.421875 \nQ 19.53125 -1.421875 13.0625 8.265625 \nQ 6.59375 17.96875 6.59375 36.375 \nQ 6.59375 54.828125 13.0625 64.515625 \nQ 19.53125 74.21875 31.78125 74.21875 \nz\n\" id=\"DejaVuSans-48\"/>\n       <path d=\"M 33.015625 40.375 \nQ 26.375 40.375 22.484375 35.828125 \nQ 18.609375 31.296875 18.609375 23.390625 \nQ 18.609375 15.53125 22.484375 10.953125 \nQ 26.375 6.390625 33.015625 6.390625 \nQ 39.65625 6.390625 43.53125 10.953125 \nQ 47.40625 15.53125 47.40625 23.390625 \nQ 47.40625 31.296875 43.53125 35.828125 \nQ 39.65625 40.375 33.015625 40.375 \nz\nM 52.59375 71.296875 \nL 52.59375 62.3125 \nQ 48.875 64.0625 45.09375 64.984375 \nQ 41.3125 65.921875 37.59375 65.921875 \nQ 27.828125 65.921875 22.671875 59.328125 \nQ 17.53125 52.734375 16.796875 39.40625 \nQ 19.671875 43.65625 24.015625 45.921875 \nQ 28.375 48.1875 33.59375 48.1875 \nQ 44.578125 48.1875 50.953125 41.515625 \nQ 57.328125 34.859375 57.328125 23.390625 \nQ 57.328125 12.15625 50.6875 5.359375 \nQ 44.046875 -1.421875 33.015625 -1.421875 \nQ 20.359375 -1.421875 13.671875 8.265625 \nQ 6.984375 17.96875 6.984375 36.375 \nQ 6.984375 53.65625 15.1875 63.9375 \nQ 23.390625 74.21875 37.203125 74.21875 \nQ 40.921875 74.21875 44.703125 73.484375 \nQ 48.484375 72.75 52.59375 71.296875 \nz\n\" id=\"DejaVuSans-54\"/>\n      </defs>\n      <g transform=\"translate(110.399375 270.629844)rotate(-90)scale(0.1 -0.1)\">\n       <use xlink:href=\"#DejaVuSans-109\"/>\n       <use x=\"97.412109\" xlink:href=\"#DejaVuSans-48\"/>\n       <use x=\"161.035156\" xlink:href=\"#DejaVuSans-48\"/>\n       <use x=\"224.658203\" xlink:href=\"#DejaVuSans-48\"/>\n       <use x=\"288.28125\" xlink:href=\"#DejaVuSans-54\"/>\n      </g>\n     </g>\n    </g>\n    <g id=\"xtick_6\">\n     <g id=\"line2d_6\">\n      <g>\n       <use style=\"stroke:#000000;stroke-width:0.8;\" x=\"129.96\" xlink:href=\"#m4a2bab0d8e\" y=\"228.439219\"/>\n      </g>\n     </g>\n     <g id=\"text_6\">\n      <!-- m0612 -->\n      <defs>\n       <path d=\"M 12.40625 8.296875 \nL 28.515625 8.296875 \nL 28.515625 63.921875 \nL 10.984375 60.40625 \nL 10.984375 69.390625 \nL 28.421875 72.90625 \nL 38.28125 72.90625 \nL 38.28125 8.296875 \nL 54.390625 8.296875 \nL 54.390625 0 \nL 12.40625 0 \nz\n\" id=\"DejaVuSans-49\"/>\n       <path d=\"M 19.1875 8.296875 \nL 53.609375 8.296875 \nL 53.609375 0 \nL 7.328125 0 \nL 7.328125 8.296875 \nQ 12.9375 14.109375 22.625 23.890625 \nQ 32.328125 33.6875 34.8125 36.53125 \nQ 39.546875 41.84375 41.421875 45.53125 \nQ 43.3125 49.21875 43.3125 52.78125 \nQ 43.3125 58.59375 39.234375 62.25 \nQ 35.15625 65.921875 28.609375 65.921875 \nQ 23.96875 65.921875 18.8125 64.3125 \nQ 13.671875 62.703125 7.8125 59.421875 \nL 7.8125 69.390625 \nQ 13.765625 71.78125 18.9375 73 \nQ 24.125 74.21875 28.421875 74.21875 \nQ 39.75 74.21875 46.484375 68.546875 \nQ 53.21875 62.890625 53.21875 53.421875 \nQ 53.21875 48.921875 51.53125 44.890625 \nQ 49.859375 40.875 45.40625 35.40625 \nQ 44.1875 33.984375 37.640625 27.21875 \nQ 31.109375 20.453125 19.1875 8.296875 \nz\n\" id=\"DejaVuSans-50\"/>\n      </defs>\n      <g transform=\"translate(132.719375 270.629844)rotate(-90)scale(0.1 -0.1)\">\n       <use xlink:href=\"#DejaVuSans-109\"/>\n       <use x=\"97.412109\" xlink:href=\"#DejaVuSans-48\"/>\n       <use x=\"161.035156\" xlink:href=\"#DejaVuSans-54\"/>\n       <use x=\"224.658203\" xlink:href=\"#DejaVuSans-49\"/>\n       <use x=\"288.28125\" xlink:href=\"#DejaVuSans-50\"/>\n      </g>\n     </g>\n    </g>\n    <g id=\"xtick_7\">\n     <g id=\"line2d_7\">\n      <g>\n       <use style=\"stroke:#000000;stroke-width:0.8;\" x=\"152.28\" xlink:href=\"#m4a2bab0d8e\" y=\"228.439219\"/>\n      </g>\n     </g>\n     <g id=\"text_7\">\n      <!-- m1218 -->\n      <defs>\n       <path d=\"M 31.78125 34.625 \nQ 24.75 34.625 20.71875 30.859375 \nQ 16.703125 27.09375 16.703125 20.515625 \nQ 16.703125 13.921875 20.71875 10.15625 \nQ 24.75 6.390625 31.78125 6.390625 \nQ 38.8125 6.390625 42.859375 10.171875 \nQ 46.921875 13.96875 46.921875 20.515625 \nQ 46.921875 27.09375 42.890625 30.859375 \nQ 38.875 34.625 31.78125 34.625 \nz\nM 21.921875 38.8125 \nQ 15.578125 40.375 12.03125 44.71875 \nQ 8.5 49.078125 8.5 55.328125 \nQ 8.5 64.0625 14.71875 69.140625 \nQ 20.953125 74.21875 31.78125 74.21875 \nQ 42.671875 74.21875 48.875 69.140625 \nQ 55.078125 64.0625 55.078125 55.328125 \nQ 55.078125 49.078125 51.53125 44.71875 \nQ 48 40.375 41.703125 38.8125 \nQ 48.828125 37.15625 52.796875 32.3125 \nQ 56.78125 27.484375 56.78125 20.515625 \nQ 56.78125 9.90625 50.3125 4.234375 \nQ 43.84375 -1.421875 31.78125 -1.421875 \nQ 19.734375 -1.421875 13.25 4.234375 \nQ 6.78125 9.90625 6.78125 20.515625 \nQ 6.78125 27.484375 10.78125 32.3125 \nQ 14.796875 37.15625 21.921875 38.8125 \nz\nM 18.3125 54.390625 \nQ 18.3125 48.734375 21.84375 45.5625 \nQ 25.390625 42.390625 31.78125 42.390625 \nQ 38.140625 42.390625 41.71875 45.5625 \nQ 45.3125 48.734375 45.3125 54.390625 \nQ 45.3125 60.0625 41.71875 63.234375 \nQ 38.140625 66.40625 31.78125 66.40625 \nQ 25.390625 66.40625 21.84375 63.234375 \nQ 18.3125 60.0625 18.3125 54.390625 \nz\n\" id=\"DejaVuSans-56\"/>\n      </defs>\n      <g transform=\"translate(155.039375 270.629844)rotate(-90)scale(0.1 -0.1)\">\n       <use xlink:href=\"#DejaVuSans-109\"/>\n       <use x=\"97.412109\" xlink:href=\"#DejaVuSans-49\"/>\n       <use x=\"161.035156\" xlink:href=\"#DejaVuSans-50\"/>\n       <use x=\"224.658203\" xlink:href=\"#DejaVuSans-49\"/>\n       <use x=\"288.28125\" xlink:href=\"#DejaVuSans-56\"/>\n      </g>\n     </g>\n    </g>\n    <g id=\"xtick_8\">\n     <g id=\"line2d_8\">\n      <g>\n       <use style=\"stroke:#000000;stroke-width:0.8;\" x=\"174.6\" xlink:href=\"#m4a2bab0d8e\" y=\"228.439219\"/>\n      </g>\n     </g>\n     <g id=\"text_8\">\n      <!-- f006 -->\n      <defs>\n       <path d=\"M 37.109375 75.984375 \nL 37.109375 68.5 \nL 28.515625 68.5 \nQ 23.6875 68.5 21.796875 66.546875 \nQ 19.921875 64.59375 19.921875 59.515625 \nL 19.921875 54.6875 \nL 34.71875 54.6875 \nL 34.71875 47.703125 \nL 19.921875 47.703125 \nL 19.921875 0 \nL 10.890625 0 \nL 10.890625 47.703125 \nL 2.296875 47.703125 \nL 2.296875 54.6875 \nL 10.890625 54.6875 \nL 10.890625 58.5 \nQ 10.890625 67.625 15.140625 71.796875 \nQ 19.390625 75.984375 28.609375 75.984375 \nz\n\" id=\"DejaVuSans-102\"/>\n      </defs>\n      <g transform=\"translate(177.359375 258.047031)rotate(-90)scale(0.1 -0.1)\">\n       <use xlink:href=\"#DejaVuSans-102\"/>\n       <use x=\"35.205078\" xlink:href=\"#DejaVuSans-48\"/>\n       <use x=\"98.828125\" xlink:href=\"#DejaVuSans-48\"/>\n       <use x=\"162.451172\" xlink:href=\"#DejaVuSans-54\"/>\n      </g>\n     </g>\n    </g>\n    <g id=\"xtick_9\">\n     <g id=\"line2d_9\">\n      <g>\n       <use style=\"stroke:#000000;stroke-width:0.8;\" x=\"196.92\" xlink:href=\"#m4a2bab0d8e\" y=\"228.439219\"/>\n      </g>\n     </g>\n     <g id=\"text_9\">\n      <!-- f0612 -->\n      <g transform=\"translate(199.679375 264.409531)rotate(-90)scale(0.1 -0.1)\">\n       <use xlink:href=\"#DejaVuSans-102\"/>\n       <use x=\"35.205078\" xlink:href=\"#DejaVuSans-48\"/>\n       <use x=\"98.828125\" xlink:href=\"#DejaVuSans-54\"/>\n       <use x=\"162.451172\" xlink:href=\"#DejaVuSans-49\"/>\n       <use x=\"226.074219\" xlink:href=\"#DejaVuSans-50\"/>\n      </g>\n     </g>\n    </g>\n    <g id=\"xtick_10\">\n     <g id=\"line2d_10\">\n      <g>\n       <use style=\"stroke:#000000;stroke-width:0.8;\" x=\"219.24\" xlink:href=\"#m4a2bab0d8e\" y=\"228.439219\"/>\n      </g>\n     </g>\n     <g id=\"text_10\">\n      <!-- f1218 -->\n      <g transform=\"translate(221.999375 264.409531)rotate(-90)scale(0.1 -0.1)\">\n       <use xlink:href=\"#DejaVuSans-102\"/>\n       <use x=\"35.205078\" xlink:href=\"#DejaVuSans-49\"/>\n       <use x=\"98.828125\" xlink:href=\"#DejaVuSans-50\"/>\n       <use x=\"162.451172\" xlink:href=\"#DejaVuSans-49\"/>\n       <use x=\"226.074219\" xlink:href=\"#DejaVuSans-56\"/>\n      </g>\n     </g>\n    </g>\n    <g id=\"xtick_11\">\n     <g id=\"line2d_11\">\n      <g>\n       <use style=\"stroke:#000000;stroke-width:0.8;\" x=\"241.56\" xlink:href=\"#m4a2bab0d8e\" y=\"228.439219\"/>\n      </g>\n     </g>\n     <g id=\"text_11\">\n      <!-- Firstname -->\n      <defs>\n       <path d=\"M 9.8125 72.90625 \nL 51.703125 72.90625 \nL 51.703125 64.59375 \nL 19.671875 64.59375 \nL 19.671875 43.109375 \nL 48.578125 43.109375 \nL 48.578125 34.8125 \nL 19.671875 34.8125 \nL 19.671875 0 \nL 9.8125 0 \nz\n\" id=\"DejaVuSans-70\"/>\n       <path d=\"M 41.109375 46.296875 \nQ 39.59375 47.171875 37.8125 47.578125 \nQ 36.03125 48 33.890625 48 \nQ 26.265625 48 22.1875 43.046875 \nQ 18.109375 38.09375 18.109375 28.8125 \nL 18.109375 0 \nL 9.078125 0 \nL 9.078125 54.6875 \nL 18.109375 54.6875 \nL 18.109375 46.1875 \nQ 20.953125 51.171875 25.484375 53.578125 \nQ 30.03125 56 36.53125 56 \nQ 37.453125 56 38.578125 55.875 \nQ 39.703125 55.765625 41.0625 55.515625 \nz\n\" id=\"DejaVuSans-114\"/>\n       <path d=\"M 44.28125 53.078125 \nL 44.28125 44.578125 \nQ 40.484375 46.53125 36.375 47.5 \nQ 32.28125 48.484375 27.875 48.484375 \nQ 21.1875 48.484375 17.84375 46.4375 \nQ 14.5 44.390625 14.5 40.28125 \nQ 14.5 37.15625 16.890625 35.375 \nQ 19.28125 33.59375 26.515625 31.984375 \nL 29.59375 31.296875 \nQ 39.15625 29.25 43.1875 25.515625 \nQ 47.21875 21.78125 47.21875 15.09375 \nQ 47.21875 7.46875 41.1875 3.015625 \nQ 35.15625 -1.421875 24.609375 -1.421875 \nQ 20.21875 -1.421875 15.453125 -0.5625 \nQ 10.6875 0.296875 5.421875 2 \nL 5.421875 11.28125 \nQ 10.40625 8.6875 15.234375 7.390625 \nQ 20.0625 6.109375 24.8125 6.109375 \nQ 31.15625 6.109375 34.5625 8.28125 \nQ 37.984375 10.453125 37.984375 14.40625 \nQ 37.984375 18.0625 35.515625 20.015625 \nQ 33.0625 21.96875 24.703125 23.78125 \nL 21.578125 24.515625 \nQ 13.234375 26.265625 9.515625 29.90625 \nQ 5.8125 33.546875 5.8125 39.890625 \nQ 5.8125 47.609375 11.28125 51.796875 \nQ 16.75 56 26.8125 56 \nQ 31.78125 56 36.171875 55.265625 \nQ 40.578125 54.546875 44.28125 53.078125 \nz\n\" id=\"DejaVuSans-115\"/>\n       <path d=\"M 54.890625 33.015625 \nL 54.890625 0 \nL 45.90625 0 \nL 45.90625 32.71875 \nQ 45.90625 40.484375 42.875 44.328125 \nQ 39.84375 48.1875 33.796875 48.1875 \nQ 26.515625 48.1875 22.3125 43.546875 \nQ 18.109375 38.921875 18.109375 30.90625 \nL 18.109375 0 \nL 9.078125 0 \nL 9.078125 54.6875 \nL 18.109375 54.6875 \nL 18.109375 46.1875 \nQ 21.34375 51.125 25.703125 53.5625 \nQ 30.078125 56 35.796875 56 \nQ 45.21875 56 50.046875 50.171875 \nQ 54.890625 44.34375 54.890625 33.015625 \nz\n\" id=\"DejaVuSans-110\"/>\n      </defs>\n      <g transform=\"translate(244.319375 284.843906)rotate(-90)scale(0.1 -0.1)\">\n       <use xlink:href=\"#DejaVuSans-70\"/>\n       <use x=\"50.269531\" xlink:href=\"#DejaVuSans-105\"/>\n       <use x=\"78.052734\" xlink:href=\"#DejaVuSans-114\"/>\n       <use x=\"119.166016\" xlink:href=\"#DejaVuSans-115\"/>\n       <use x=\"171.265625\" xlink:href=\"#DejaVuSans-116\"/>\n       <use x=\"210.474609\" xlink:href=\"#DejaVuSans-110\"/>\n       <use x=\"273.853516\" xlink:href=\"#DejaVuSans-97\"/>\n       <use x=\"335.132812\" xlink:href=\"#DejaVuSans-109\"/>\n       <use x=\"432.544922\" xlink:href=\"#DejaVuSans-101\"/>\n      </g>\n     </g>\n    </g>\n    <g id=\"xtick_12\">\n     <g id=\"line2d_12\">\n      <g>\n       <use style=\"stroke:#000000;stroke-width:0.8;\" x=\"263.88\" xlink:href=\"#m4a2bab0d8e\" y=\"228.439219\"/>\n      </g>\n     </g>\n     <g id=\"text_12\">\n      <!-- Lastname -->\n      <defs>\n       <path d=\"M 9.8125 72.90625 \nL 19.671875 72.90625 \nL 19.671875 8.296875 \nL 55.171875 8.296875 \nL 55.171875 0 \nL 9.8125 0 \nz\n\" id=\"DejaVuSans-76\"/>\n      </defs>\n      <g transform=\"translate(266.639375 284.628281)rotate(-90)scale(0.1 -0.1)\">\n       <use xlink:href=\"#DejaVuSans-76\"/>\n       <use x=\"55.712891\" xlink:href=\"#DejaVuSans-97\"/>\n       <use x=\"116.992188\" xlink:href=\"#DejaVuSans-115\"/>\n       <use x=\"169.091797\" xlink:href=\"#DejaVuSans-116\"/>\n       <use x=\"208.300781\" xlink:href=\"#DejaVuSans-110\"/>\n       <use x=\"271.679688\" xlink:href=\"#DejaVuSans-97\"/>\n       <use x=\"332.958984\" xlink:href=\"#DejaVuSans-109\"/>\n       <use x=\"430.371094\" xlink:href=\"#DejaVuSans-101\"/>\n      </g>\n     </g>\n    </g>\n   </g>\n   <g id=\"matplotlib.axis_2\"/>\n  </g>\n  <g id=\"axes_2\">\n   <g id=\"patch_3\">\n    <path clip-path=\"url(#p7d0cbc0973)\" d=\"M 291.78 228.439219 \nL 291.78 227.589844 \nL 291.78 11.848594 \nL 291.78 10.999219 \nL 302.652 10.999219 \nL 302.652 11.848594 \nL 302.652 227.589844 \nL 302.652 228.439219 \nz\n\" style=\"fill:#ffffff;stroke:#ffffff;stroke-linejoin:miter;stroke-width:0.01;\"/>\n   </g>\n   <image height=\"217\" id=\"image35149241ad\" transform=\"scale(1 -1)translate(0 -217)\" width=\"11\" x=\"292\" xlink:href=\"data:image/png;base64,\niVBORw0KGgoAAAANSUhEUgAAAAsAAADZCAYAAAD2WsoCAAAABHNCSVQICAgIfAhkiAAAAV5JREFUaIHd2tFthEAMhOFdG66y1JD+C0lyaWG/h5HM8WyNZn57DQL2V32/1+F17dqntetau86Ldzcomw0o3gWeSXnFAm7hnEMXpJGzkaMxJOAMGu+eEZA8G7rj2nUtWTJBG0Eaohz0nFJeokzDb5zJRoyGKRsNUR5CQ+Z5SlMIHQWccrqheAq6YMDYkrF2i/Knt3uK5/NafN54Ygc/v93PowG6zwwYnefz8402ZqyCKTSC7QbPQXSVsjGEBjwiJWmslQsYUxYaxlk8U0CygQGl+NwFB0zR6PqbYKNiNErOYMdmIxhQintDu0l5SrG0+5LhH+KZlK/6nWCjZOo62G6g0UYjNUhIA2zcW2Yjt2RoP4syBpQRjc1GSwepKa/9A8qxptCI0vATulto5M4gocOAsV0XDJi6Ab1WbNfRSbGAx7WofJsyfG6Qt3tXy4eMEhs3vM9SG6BMnlt+BBIb/6Y/gWhq+41lAAAAAElFTkSuQmCC\" y=\"-11\"/>\n   <g id=\"matplotlib.axis_3\"/>\n   <g id=\"matplotlib.axis_4\">\n    <g id=\"ytick_1\">\n     <g id=\"line2d_13\">\n      <defs>\n       <path d=\"M 0 0 \nL 3.5 0 \n\" id=\"m43b31e0523\" style=\"stroke:#000000;stroke-width:0.8;\"/>\n      </defs>\n      <g>\n       <use style=\"stroke:#000000;stroke-width:0.8;\" x=\"302.652\" xlink:href=\"#m43b31e0523\" y=\"228.439219\"/>\n      </g>\n     </g>\n     <g id=\"text_13\">\n      <!-- 0.0 -->\n      <defs>\n       <path d=\"M 10.6875 12.40625 \nL 21 12.40625 \nL 21 0 \nL 10.6875 0 \nz\n\" id=\"DejaVuSans-46\"/>\n      </defs>\n      <g transform=\"translate(309.652 232.238438)scale(0.1 -0.1)\">\n       <use xlink:href=\"#DejaVuSans-48\"/>\n       <use x=\"63.623047\" xlink:href=\"#DejaVuSans-46\"/>\n       <use x=\"95.410156\" xlink:href=\"#DejaVuSans-48\"/>\n      </g>\n     </g>\n    </g>\n    <g id=\"ytick_2\">\n     <g id=\"line2d_14\">\n      <g>\n       <use style=\"stroke:#000000;stroke-width:0.8;\" x=\"302.652\" xlink:href=\"#m43b31e0523\" y=\"184.951219\"/>\n      </g>\n     </g>\n     <g id=\"text_14\">\n      <!-- 0.2 -->\n      <g transform=\"translate(309.652 188.750437)scale(0.1 -0.1)\">\n       <use xlink:href=\"#DejaVuSans-48\"/>\n       <use x=\"63.623047\" xlink:href=\"#DejaVuSans-46\"/>\n       <use x=\"95.410156\" xlink:href=\"#DejaVuSans-50\"/>\n      </g>\n     </g>\n    </g>\n    <g id=\"ytick_3\">\n     <g id=\"line2d_15\">\n      <g>\n       <use style=\"stroke:#000000;stroke-width:0.8;\" x=\"302.652\" xlink:href=\"#m43b31e0523\" y=\"141.463219\"/>\n      </g>\n     </g>\n     <g id=\"text_15\">\n      <!-- 0.4 -->\n      <defs>\n       <path d=\"M 37.796875 64.3125 \nL 12.890625 25.390625 \nL 37.796875 25.390625 \nz\nM 35.203125 72.90625 \nL 47.609375 72.90625 \nL 47.609375 25.390625 \nL 58.015625 25.390625 \nL 58.015625 17.1875 \nL 47.609375 17.1875 \nL 47.609375 0 \nL 37.796875 0 \nL 37.796875 17.1875 \nL 4.890625 17.1875 \nL 4.890625 26.703125 \nz\n\" id=\"DejaVuSans-52\"/>\n      </defs>\n      <g transform=\"translate(309.652 145.262438)scale(0.1 -0.1)\">\n       <use xlink:href=\"#DejaVuSans-48\"/>\n       <use x=\"63.623047\" xlink:href=\"#DejaVuSans-46\"/>\n       <use x=\"95.410156\" xlink:href=\"#DejaVuSans-52\"/>\n      </g>\n     </g>\n    </g>\n    <g id=\"ytick_4\">\n     <g id=\"line2d_16\">\n      <g>\n       <use style=\"stroke:#000000;stroke-width:0.8;\" x=\"302.652\" xlink:href=\"#m43b31e0523\" y=\"97.975219\"/>\n      </g>\n     </g>\n     <g id=\"text_16\">\n      <!-- 0.6 -->\n      <g transform=\"translate(309.652 101.774437)scale(0.1 -0.1)\">\n       <use xlink:href=\"#DejaVuSans-48\"/>\n       <use x=\"63.623047\" xlink:href=\"#DejaVuSans-46\"/>\n       <use x=\"95.410156\" xlink:href=\"#DejaVuSans-54\"/>\n      </g>\n     </g>\n    </g>\n    <g id=\"ytick_5\">\n     <g id=\"line2d_17\">\n      <g>\n       <use style=\"stroke:#000000;stroke-width:0.8;\" x=\"302.652\" xlink:href=\"#m43b31e0523\" y=\"54.487219\"/>\n      </g>\n     </g>\n     <g id=\"text_17\">\n      <!-- 0.8 -->\n      <g transform=\"translate(309.652 58.286438)scale(0.1 -0.1)\">\n       <use xlink:href=\"#DejaVuSans-48\"/>\n       <use x=\"63.623047\" xlink:href=\"#DejaVuSans-46\"/>\n       <use x=\"95.410156\" xlink:href=\"#DejaVuSans-56\"/>\n      </g>\n     </g>\n    </g>\n    <g id=\"ytick_6\">\n     <g id=\"line2d_18\">\n      <g>\n       <use style=\"stroke:#000000;stroke-width:0.8;\" x=\"302.652\" xlink:href=\"#m43b31e0523\" y=\"10.999219\"/>\n      </g>\n     </g>\n     <g id=\"text_18\">\n      <!-- 1.0 -->\n      <g transform=\"translate(309.652 14.798438)scale(0.1 -0.1)\">\n       <use xlink:href=\"#DejaVuSans-49\"/>\n       <use x=\"63.623047\" xlink:href=\"#DejaVuSans-46\"/>\n       <use x=\"95.410156\" xlink:href=\"#DejaVuSans-48\"/>\n      </g>\n     </g>\n    </g>\n   </g>\n   <g id=\"patch_4\">\n    <path d=\"M 291.78 228.439219 \nL 291.78 227.589844 \nL 291.78 11.848594 \nL 291.78 10.999219 \nL 302.652 10.999219 \nL 302.652 11.848594 \nL 302.652 227.589844 \nL 302.652 228.439219 \nz\n\" style=\"fill:none;\"/>\n   </g>\n  </g>\n </g>\n <defs>\n  <clipPath id=\"p7d3117fa76\">\n   <rect height=\"217.44\" width=\"267.84\" x=\"7.2\" y=\"10.999219\"/>\n  </clipPath>\n  <clipPath id=\"p7d0cbc0973\">\n   <rect height=\"217.44\" width=\"10.872\" x=\"291.78\" y=\"10.999219\"/>\n  </clipPath>\n </defs>\n</svg>\n"
          },
          "metadata": {
            "needs_background": "light"
          }
        }
      ]
    },
    {
      "cell_type": "markdown",
      "metadata": {
        "id": "2wM4yBRQlg1z"
      },
      "source": [
        "Lấy index của các dòng thiếu thông tin Age và Weight"
      ]
    },
    {
      "cell_type": "code",
      "metadata": {
        "colab": {
          "base_uri": "https://localhost:8080/"
        },
        "id": "R1lGzI-Ble0U",
        "outputId": "1b7b4443-2473-42a5-f54b-0e8645cbff21"
      },
      "source": [
        "index_ageweightnull = patientheartrate[patientheartrate['Age'].isna() & patientheartrate['Weight'].isna()].index\n",
        "index_ageweightnull"
      ],
      "execution_count": 67,
      "outputs": [
        {
          "output_type": "execute_result",
          "data": {
            "text/plain": [
              "Int64Index([14, 15], dtype='int64')"
            ]
          },
          "metadata": {},
          "execution_count": 67
        }
      ]
    },
    {
      "cell_type": "code",
      "metadata": {
        "id": "jWwV2hQoliZr"
      },
      "source": [
        "patientheartrate.drop(index_ageweightnull, inplace=True)"
      ],
      "execution_count": 68,
      "outputs": []
    },
    {
      "cell_type": "code",
      "metadata": {
        "colab": {
          "base_uri": "https://localhost:8080/",
          "height": 427
        },
        "id": "lXc9jpohmPWK",
        "outputId": "3bfed438-f969-479a-deb8-87d85e346415"
      },
      "source": [
        "import seaborn as sns\n",
        "%matplotlib inline\n",
        "%config InlineBackend.figure_format = 'svg'\n",
        "sns.heatmap(patientheartrate.isna(), \n",
        "            yticklabels=False, \n",
        "            cbar=True, \n",
        "            cmap='viridis')"
      ],
      "execution_count": 69,
      "outputs": [
        {
          "output_type": "execute_result",
          "data": {
            "text/plain": [
              "<matplotlib.axes._subplots.AxesSubplot at 0x7f74ab39ae90>"
            ]
          },
          "metadata": {},
          "execution_count": 69
        },
        {
          "output_type": "display_data",
          "data": {
            "text/plain": [
              "<Figure size 432x288 with 2 Axes>"
            ],
            "image/svg+xml": "<?xml version=\"1.0\" encoding=\"utf-8\" standalone=\"no\"?>\n<!DOCTYPE svg PUBLIC \"-//W3C//DTD SVG 1.1//EN\"\n  \"http://www.w3.org/Graphics/SVG/1.1/DTD/svg11.dtd\">\n<!-- Created with matplotlib (https://matplotlib.org/) -->\n<svg height=\"292.043906pt\" version=\"1.1\" viewBox=\"0 0 332.755125 292.043906\" width=\"332.755125pt\" xmlns=\"http://www.w3.org/2000/svg\" xmlns:xlink=\"http://www.w3.org/1999/xlink\">\n <defs>\n  <style type=\"text/css\">\n*{stroke-linecap:butt;stroke-linejoin:round;}\n  </style>\n </defs>\n <g id=\"figure_1\">\n  <g id=\"patch_1\">\n   <path d=\"M 0 292.043906 \nL 332.755125 292.043906 \nL 332.755125 0 \nL 0 0 \nz\n\" style=\"fill:none;\"/>\n  </g>\n  <g id=\"axes_1\">\n   <g id=\"patch_2\">\n    <path d=\"M 7.2 228.439219 \nL 275.04 228.439219 \nL 275.04 10.999219 \nL 7.2 10.999219 \nz\n\" style=\"fill:#ffffff;\"/>\n   </g>\n   <g id=\"QuadMesh_1\">\n    <path clip-path=\"url(#p908b3a8fb9)\" d=\"M 7.2 10.999219 \nL 29.52 10.999219 \nL 29.52 29.119219 \nL 7.2 29.119219 \nL 7.2 10.999219 \n\" style=\"fill:#440154;\"/>\n    <path clip-path=\"url(#p908b3a8fb9)\" d=\"M 29.52 10.999219 \nL 51.84 10.999219 \nL 51.84 29.119219 \nL 29.52 29.119219 \nL 29.52 10.999219 \n\" style=\"fill:#440154;\"/>\n    <path clip-path=\"url(#p908b3a8fb9)\" d=\"M 51.84 10.999219 \nL 74.16 10.999219 \nL 74.16 29.119219 \nL 51.84 29.119219 \nL 51.84 10.999219 \n\" style=\"fill:#440154;\"/>\n    <path clip-path=\"url(#p908b3a8fb9)\" d=\"M 74.16 10.999219 \nL 96.48 10.999219 \nL 96.48 29.119219 \nL 74.16 29.119219 \nL 74.16 10.999219 \n\" style=\"fill:#440154;\"/>\n    <path clip-path=\"url(#p908b3a8fb9)\" d=\"M 96.48 10.999219 \nL 118.8 10.999219 \nL 118.8 29.119219 \nL 96.48 29.119219 \nL 96.48 10.999219 \n\" style=\"fill:#440154;\"/>\n    <path clip-path=\"url(#p908b3a8fb9)\" d=\"M 118.8 10.999219 \nL 141.12 10.999219 \nL 141.12 29.119219 \nL 118.8 29.119219 \nL 118.8 10.999219 \n\" style=\"fill:#440154;\"/>\n    <path clip-path=\"url(#p908b3a8fb9)\" d=\"M 141.12 10.999219 \nL 163.44 10.999219 \nL 163.44 29.119219 \nL 141.12 29.119219 \nL 141.12 10.999219 \n\" style=\"fill:#440154;\"/>\n    <path clip-path=\"url(#p908b3a8fb9)\" d=\"M 163.44 10.999219 \nL 185.76 10.999219 \nL 185.76 29.119219 \nL 163.44 29.119219 \nL 163.44 10.999219 \n\" style=\"fill:#440154;\"/>\n    <path clip-path=\"url(#p908b3a8fb9)\" d=\"M 185.76 10.999219 \nL 208.08 10.999219 \nL 208.08 29.119219 \nL 185.76 29.119219 \nL 185.76 10.999219 \n\" style=\"fill:#440154;\"/>\n    <path clip-path=\"url(#p908b3a8fb9)\" d=\"M 208.08 10.999219 \nL 230.4 10.999219 \nL 230.4 29.119219 \nL 208.08 29.119219 \nL 208.08 10.999219 \n\" style=\"fill:#440154;\"/>\n    <path clip-path=\"url(#p908b3a8fb9)\" d=\"M 230.4 10.999219 \nL 252.72 10.999219 \nL 252.72 29.119219 \nL 230.4 29.119219 \nL 230.4 10.999219 \n\" style=\"fill:#440154;\"/>\n    <path clip-path=\"url(#p908b3a8fb9)\" d=\"M 252.72 10.999219 \nL 275.04 10.999219 \nL 275.04 29.119219 \nL 252.72 29.119219 \nL 252.72 10.999219 \n\" style=\"fill:#440154;\"/>\n    <path clip-path=\"url(#p908b3a8fb9)\" d=\"M 7.2 29.119219 \nL 29.52 29.119219 \nL 29.52 47.239219 \nL 7.2 47.239219 \nL 7.2 29.119219 \n\" style=\"fill:#440154;\"/>\n    <path clip-path=\"url(#p908b3a8fb9)\" d=\"M 29.52 29.119219 \nL 51.84 29.119219 \nL 51.84 47.239219 \nL 29.52 47.239219 \nL 29.52 29.119219 \n\" style=\"fill:#440154;\"/>\n    <path clip-path=\"url(#p908b3a8fb9)\" d=\"M 51.84 29.119219 \nL 74.16 29.119219 \nL 74.16 47.239219 \nL 51.84 47.239219 \nL 51.84 29.119219 \n\" style=\"fill:#440154;\"/>\n    <path clip-path=\"url(#p908b3a8fb9)\" d=\"M 74.16 29.119219 \nL 96.48 29.119219 \nL 96.48 47.239219 \nL 74.16 47.239219 \nL 74.16 29.119219 \n\" style=\"fill:#440154;\"/>\n    <path clip-path=\"url(#p908b3a8fb9)\" d=\"M 96.48 29.119219 \nL 118.8 29.119219 \nL 118.8 47.239219 \nL 96.48 47.239219 \nL 96.48 29.119219 \n\" style=\"fill:#440154;\"/>\n    <path clip-path=\"url(#p908b3a8fb9)\" d=\"M 118.8 29.119219 \nL 141.12 29.119219 \nL 141.12 47.239219 \nL 118.8 47.239219 \nL 118.8 29.119219 \n\" style=\"fill:#440154;\"/>\n    <path clip-path=\"url(#p908b3a8fb9)\" d=\"M 141.12 29.119219 \nL 163.44 29.119219 \nL 163.44 47.239219 \nL 141.12 47.239219 \nL 141.12 29.119219 \n\" style=\"fill:#440154;\"/>\n    <path clip-path=\"url(#p908b3a8fb9)\" d=\"M 163.44 29.119219 \nL 185.76 29.119219 \nL 185.76 47.239219 \nL 163.44 47.239219 \nL 163.44 29.119219 \n\" style=\"fill:#440154;\"/>\n    <path clip-path=\"url(#p908b3a8fb9)\" d=\"M 185.76 29.119219 \nL 208.08 29.119219 \nL 208.08 47.239219 \nL 185.76 47.239219 \nL 185.76 29.119219 \n\" style=\"fill:#440154;\"/>\n    <path clip-path=\"url(#p908b3a8fb9)\" d=\"M 208.08 29.119219 \nL 230.4 29.119219 \nL 230.4 47.239219 \nL 208.08 47.239219 \nL 208.08 29.119219 \n\" style=\"fill:#440154;\"/>\n    <path clip-path=\"url(#p908b3a8fb9)\" d=\"M 230.4 29.119219 \nL 252.72 29.119219 \nL 252.72 47.239219 \nL 230.4 47.239219 \nL 230.4 29.119219 \n\" style=\"fill:#440154;\"/>\n    <path clip-path=\"url(#p908b3a8fb9)\" d=\"M 252.72 29.119219 \nL 275.04 29.119219 \nL 275.04 47.239219 \nL 252.72 47.239219 \nL 252.72 29.119219 \n\" style=\"fill:#440154;\"/>\n    <path clip-path=\"url(#p908b3a8fb9)\" d=\"M 7.2 47.239219 \nL 29.52 47.239219 \nL 29.52 65.359219 \nL 7.2 65.359219 \nL 7.2 47.239219 \n\" style=\"fill:#440154;\"/>\n    <path clip-path=\"url(#p908b3a8fb9)\" d=\"M 29.52 47.239219 \nL 51.84 47.239219 \nL 51.84 65.359219 \nL 29.52 65.359219 \nL 29.52 47.239219 \n\" style=\"fill:#440154;\"/>\n    <path clip-path=\"url(#p908b3a8fb9)\" d=\"M 51.84 47.239219 \nL 74.16 47.239219 \nL 74.16 65.359219 \nL 51.84 65.359219 \nL 51.84 47.239219 \n\" style=\"fill:#440154;\"/>\n    <path clip-path=\"url(#p908b3a8fb9)\" d=\"M 74.16 47.239219 \nL 96.48 47.239219 \nL 96.48 65.359219 \nL 74.16 65.359219 \nL 74.16 47.239219 \n\" style=\"fill:#fde725;\"/>\n    <path clip-path=\"url(#p908b3a8fb9)\" d=\"M 96.48 47.239219 \nL 118.8 47.239219 \nL 118.8 65.359219 \nL 96.48 65.359219 \nL 96.48 47.239219 \n\" style=\"fill:#440154;\"/>\n    <path clip-path=\"url(#p908b3a8fb9)\" d=\"M 118.8 47.239219 \nL 141.12 47.239219 \nL 141.12 65.359219 \nL 118.8 65.359219 \nL 118.8 47.239219 \n\" style=\"fill:#440154;\"/>\n    <path clip-path=\"url(#p908b3a8fb9)\" d=\"M 141.12 47.239219 \nL 163.44 47.239219 \nL 163.44 65.359219 \nL 141.12 65.359219 \nL 141.12 47.239219 \n\" style=\"fill:#440154;\"/>\n    <path clip-path=\"url(#p908b3a8fb9)\" d=\"M 163.44 47.239219 \nL 185.76 47.239219 \nL 185.76 65.359219 \nL 163.44 65.359219 \nL 163.44 47.239219 \n\" style=\"fill:#440154;\"/>\n    <path clip-path=\"url(#p908b3a8fb9)\" d=\"M 185.76 47.239219 \nL 208.08 47.239219 \nL 208.08 65.359219 \nL 185.76 65.359219 \nL 185.76 47.239219 \n\" style=\"fill:#440154;\"/>\n    <path clip-path=\"url(#p908b3a8fb9)\" d=\"M 208.08 47.239219 \nL 230.4 47.239219 \nL 230.4 65.359219 \nL 208.08 65.359219 \nL 208.08 47.239219 \n\" style=\"fill:#440154;\"/>\n    <path clip-path=\"url(#p908b3a8fb9)\" d=\"M 230.4 47.239219 \nL 252.72 47.239219 \nL 252.72 65.359219 \nL 230.4 65.359219 \nL 230.4 47.239219 \n\" style=\"fill:#440154;\"/>\n    <path clip-path=\"url(#p908b3a8fb9)\" d=\"M 252.72 47.239219 \nL 275.04 47.239219 \nL 275.04 65.359219 \nL 252.72 65.359219 \nL 252.72 47.239219 \n\" style=\"fill:#440154;\"/>\n    <path clip-path=\"url(#p908b3a8fb9)\" d=\"M 7.2 65.359219 \nL 29.52 65.359219 \nL 29.52 83.479219 \nL 7.2 83.479219 \nL 7.2 65.359219 \n\" style=\"fill:#440154;\"/>\n    <path clip-path=\"url(#p908b3a8fb9)\" d=\"M 29.52 65.359219 \nL 51.84 65.359219 \nL 51.84 83.479219 \nL 29.52 83.479219 \nL 29.52 65.359219 \n\" style=\"fill:#440154;\"/>\n    <path clip-path=\"url(#p908b3a8fb9)\" d=\"M 51.84 65.359219 \nL 74.16 65.359219 \nL 74.16 83.479219 \nL 51.84 83.479219 \nL 51.84 65.359219 \n\" style=\"fill:#fde725;\"/>\n    <path clip-path=\"url(#p908b3a8fb9)\" d=\"M 74.16 65.359219 \nL 96.48 65.359219 \nL 96.48 83.479219 \nL 74.16 83.479219 \nL 74.16 65.359219 \n\" style=\"fill:#440154;\"/>\n    <path clip-path=\"url(#p908b3a8fb9)\" d=\"M 96.48 65.359219 \nL 118.8 65.359219 \nL 118.8 83.479219 \nL 96.48 83.479219 \nL 96.48 65.359219 \n\" style=\"fill:#440154;\"/>\n    <path clip-path=\"url(#p908b3a8fb9)\" d=\"M 118.8 65.359219 \nL 141.12 65.359219 \nL 141.12 83.479219 \nL 118.8 83.479219 \nL 118.8 65.359219 \n\" style=\"fill:#440154;\"/>\n    <path clip-path=\"url(#p908b3a8fb9)\" d=\"M 141.12 65.359219 \nL 163.44 65.359219 \nL 163.44 83.479219 \nL 141.12 83.479219 \nL 141.12 65.359219 \n\" style=\"fill:#440154;\"/>\n    <path clip-path=\"url(#p908b3a8fb9)\" d=\"M 163.44 65.359219 \nL 185.76 65.359219 \nL 185.76 83.479219 \nL 163.44 83.479219 \nL 163.44 65.359219 \n\" style=\"fill:#440154;\"/>\n    <path clip-path=\"url(#p908b3a8fb9)\" d=\"M 185.76 65.359219 \nL 208.08 65.359219 \nL 208.08 83.479219 \nL 185.76 83.479219 \nL 185.76 65.359219 \n\" style=\"fill:#440154;\"/>\n    <path clip-path=\"url(#p908b3a8fb9)\" d=\"M 208.08 65.359219 \nL 230.4 65.359219 \nL 230.4 83.479219 \nL 208.08 83.479219 \nL 208.08 65.359219 \n\" style=\"fill:#440154;\"/>\n    <path clip-path=\"url(#p908b3a8fb9)\" d=\"M 230.4 65.359219 \nL 252.72 65.359219 \nL 252.72 83.479219 \nL 230.4 83.479219 \nL 230.4 65.359219 \n\" style=\"fill:#440154;\"/>\n    <path clip-path=\"url(#p908b3a8fb9)\" d=\"M 252.72 65.359219 \nL 275.04 65.359219 \nL 275.04 83.479219 \nL 252.72 83.479219 \nL 252.72 65.359219 \n\" style=\"fill:#440154;\"/>\n    <path clip-path=\"url(#p908b3a8fb9)\" d=\"M 7.2 83.479219 \nL 29.52 83.479219 \nL 29.52 101.599219 \nL 7.2 101.599219 \nL 7.2 83.479219 \n\" style=\"fill:#440154;\"/>\n    <path clip-path=\"url(#p908b3a8fb9)\" d=\"M 29.52 83.479219 \nL 51.84 83.479219 \nL 51.84 101.599219 \nL 29.52 101.599219 \nL 29.52 83.479219 \n\" style=\"fill:#440154;\"/>\n    <path clip-path=\"url(#p908b3a8fb9)\" d=\"M 51.84 83.479219 \nL 74.16 83.479219 \nL 74.16 101.599219 \nL 51.84 101.599219 \nL 51.84 83.479219 \n\" style=\"fill:#440154;\"/>\n    <path clip-path=\"url(#p908b3a8fb9)\" d=\"M 74.16 83.479219 \nL 96.48 83.479219 \nL 96.48 101.599219 \nL 74.16 101.599219 \nL 74.16 83.479219 \n\" style=\"fill:#440154;\"/>\n    <path clip-path=\"url(#p908b3a8fb9)\" d=\"M 96.48 83.479219 \nL 118.8 83.479219 \nL 118.8 101.599219 \nL 96.48 101.599219 \nL 96.48 83.479219 \n\" style=\"fill:#440154;\"/>\n    <path clip-path=\"url(#p908b3a8fb9)\" d=\"M 118.8 83.479219 \nL 141.12 83.479219 \nL 141.12 101.599219 \nL 118.8 101.599219 \nL 118.8 83.479219 \n\" style=\"fill:#440154;\"/>\n    <path clip-path=\"url(#p908b3a8fb9)\" d=\"M 141.12 83.479219 \nL 163.44 83.479219 \nL 163.44 101.599219 \nL 141.12 101.599219 \nL 141.12 83.479219 \n\" style=\"fill:#440154;\"/>\n    <path clip-path=\"url(#p908b3a8fb9)\" d=\"M 163.44 83.479219 \nL 185.76 83.479219 \nL 185.76 101.599219 \nL 163.44 101.599219 \nL 163.44 83.479219 \n\" style=\"fill:#440154;\"/>\n    <path clip-path=\"url(#p908b3a8fb9)\" d=\"M 185.76 83.479219 \nL 208.08 83.479219 \nL 208.08 101.599219 \nL 185.76 101.599219 \nL 185.76 83.479219 \n\" style=\"fill:#fde725;\"/>\n    <path clip-path=\"url(#p908b3a8fb9)\" d=\"M 208.08 83.479219 \nL 230.4 83.479219 \nL 230.4 101.599219 \nL 208.08 101.599219 \nL 208.08 83.479219 \n\" style=\"fill:#440154;\"/>\n    <path clip-path=\"url(#p908b3a8fb9)\" d=\"M 230.4 83.479219 \nL 252.72 83.479219 \nL 252.72 101.599219 \nL 230.4 101.599219 \nL 230.4 83.479219 \n\" style=\"fill:#440154;\"/>\n    <path clip-path=\"url(#p908b3a8fb9)\" d=\"M 252.72 83.479219 \nL 275.04 83.479219 \nL 275.04 101.599219 \nL 252.72 101.599219 \nL 252.72 83.479219 \n\" style=\"fill:#440154;\"/>\n    <path clip-path=\"url(#p908b3a8fb9)\" d=\"M 7.2 101.599219 \nL 29.52 101.599219 \nL 29.52 119.719219 \nL 7.2 119.719219 \nL 7.2 101.599219 \n\" style=\"fill:#440154;\"/>\n    <path clip-path=\"url(#p908b3a8fb9)\" d=\"M 29.52 101.599219 \nL 51.84 101.599219 \nL 51.84 119.719219 \nL 29.52 119.719219 \nL 29.52 101.599219 \n\" style=\"fill:#440154;\"/>\n    <path clip-path=\"url(#p908b3a8fb9)\" d=\"M 51.84 101.599219 \nL 74.16 101.599219 \nL 74.16 119.719219 \nL 51.84 119.719219 \nL 51.84 101.599219 \n\" style=\"fill:#440154;\"/>\n    <path clip-path=\"url(#p908b3a8fb9)\" d=\"M 74.16 101.599219 \nL 96.48 101.599219 \nL 96.48 119.719219 \nL 74.16 119.719219 \nL 74.16 101.599219 \n\" style=\"fill:#440154;\"/>\n    <path clip-path=\"url(#p908b3a8fb9)\" d=\"M 96.48 101.599219 \nL 118.8 101.599219 \nL 118.8 119.719219 \nL 96.48 119.719219 \nL 96.48 101.599219 \n\" style=\"fill:#440154;\"/>\n    <path clip-path=\"url(#p908b3a8fb9)\" d=\"M 118.8 101.599219 \nL 141.12 101.599219 \nL 141.12 119.719219 \nL 118.8 119.719219 \nL 118.8 101.599219 \n\" style=\"fill:#440154;\"/>\n    <path clip-path=\"url(#p908b3a8fb9)\" d=\"M 141.12 101.599219 \nL 163.44 101.599219 \nL 163.44 119.719219 \nL 141.12 119.719219 \nL 141.12 101.599219 \n\" style=\"fill:#440154;\"/>\n    <path clip-path=\"url(#p908b3a8fb9)\" d=\"M 163.44 101.599219 \nL 185.76 101.599219 \nL 185.76 119.719219 \nL 163.44 119.719219 \nL 163.44 101.599219 \n\" style=\"fill:#440154;\"/>\n    <path clip-path=\"url(#p908b3a8fb9)\" d=\"M 185.76 101.599219 \nL 208.08 101.599219 \nL 208.08 119.719219 \nL 185.76 119.719219 \nL 185.76 101.599219 \n\" style=\"fill:#440154;\"/>\n    <path clip-path=\"url(#p908b3a8fb9)\" d=\"M 208.08 101.599219 \nL 230.4 101.599219 \nL 230.4 119.719219 \nL 208.08 119.719219 \nL 208.08 101.599219 \n\" style=\"fill:#440154;\"/>\n    <path clip-path=\"url(#p908b3a8fb9)\" d=\"M 230.4 101.599219 \nL 252.72 101.599219 \nL 252.72 119.719219 \nL 230.4 119.719219 \nL 230.4 101.599219 \n\" style=\"fill:#440154;\"/>\n    <path clip-path=\"url(#p908b3a8fb9)\" d=\"M 252.72 101.599219 \nL 275.04 101.599219 \nL 275.04 119.719219 \nL 252.72 119.719219 \nL 252.72 101.599219 \n\" style=\"fill:#440154;\"/>\n    <path clip-path=\"url(#p908b3a8fb9)\" d=\"M 7.2 119.719219 \nL 29.52 119.719219 \nL 29.52 137.839219 \nL 7.2 137.839219 \nL 7.2 119.719219 \n\" style=\"fill:#440154;\"/>\n    <path clip-path=\"url(#p908b3a8fb9)\" d=\"M 29.52 119.719219 \nL 51.84 119.719219 \nL 51.84 137.839219 \nL 29.52 137.839219 \nL 29.52 119.719219 \n\" style=\"fill:#440154;\"/>\n    <path clip-path=\"url(#p908b3a8fb9)\" d=\"M 51.84 119.719219 \nL 74.16 119.719219 \nL 74.16 137.839219 \nL 51.84 137.839219 \nL 51.84 119.719219 \n\" style=\"fill:#440154;\"/>\n    <path clip-path=\"url(#p908b3a8fb9)\" d=\"M 74.16 119.719219 \nL 96.48 119.719219 \nL 96.48 137.839219 \nL 74.16 137.839219 \nL 74.16 119.719219 \n\" style=\"fill:#440154;\"/>\n    <path clip-path=\"url(#p908b3a8fb9)\" d=\"M 96.48 119.719219 \nL 118.8 119.719219 \nL 118.8 137.839219 \nL 96.48 137.839219 \nL 96.48 119.719219 \n\" style=\"fill:#440154;\"/>\n    <path clip-path=\"url(#p908b3a8fb9)\" d=\"M 118.8 119.719219 \nL 141.12 119.719219 \nL 141.12 137.839219 \nL 118.8 137.839219 \nL 118.8 119.719219 \n\" style=\"fill:#440154;\"/>\n    <path clip-path=\"url(#p908b3a8fb9)\" d=\"M 141.12 119.719219 \nL 163.44 119.719219 \nL 163.44 137.839219 \nL 141.12 137.839219 \nL 141.12 119.719219 \n\" style=\"fill:#440154;\"/>\n    <path clip-path=\"url(#p908b3a8fb9)\" d=\"M 163.44 119.719219 \nL 185.76 119.719219 \nL 185.76 137.839219 \nL 163.44 137.839219 \nL 163.44 119.719219 \n\" style=\"fill:#440154;\"/>\n    <path clip-path=\"url(#p908b3a8fb9)\" d=\"M 185.76 119.719219 \nL 208.08 119.719219 \nL 208.08 137.839219 \nL 185.76 137.839219 \nL 185.76 119.719219 \n\" style=\"fill:#440154;\"/>\n    <path clip-path=\"url(#p908b3a8fb9)\" d=\"M 208.08 119.719219 \nL 230.4 119.719219 \nL 230.4 137.839219 \nL 208.08 137.839219 \nL 208.08 119.719219 \n\" style=\"fill:#440154;\"/>\n    <path clip-path=\"url(#p908b3a8fb9)\" d=\"M 230.4 119.719219 \nL 252.72 119.719219 \nL 252.72 137.839219 \nL 230.4 137.839219 \nL 230.4 119.719219 \n\" style=\"fill:#440154;\"/>\n    <path clip-path=\"url(#p908b3a8fb9)\" d=\"M 252.72 119.719219 \nL 275.04 119.719219 \nL 275.04 137.839219 \nL 252.72 137.839219 \nL 252.72 119.719219 \n\" style=\"fill:#440154;\"/>\n    <path clip-path=\"url(#p908b3a8fb9)\" d=\"M 7.2 137.839219 \nL 29.52 137.839219 \nL 29.52 155.959219 \nL 7.2 155.959219 \nL 7.2 137.839219 \n\" style=\"fill:#440154;\"/>\n    <path clip-path=\"url(#p908b3a8fb9)\" d=\"M 29.52 137.839219 \nL 51.84 137.839219 \nL 51.84 155.959219 \nL 29.52 155.959219 \nL 29.52 137.839219 \n\" style=\"fill:#440154;\"/>\n    <path clip-path=\"url(#p908b3a8fb9)\" d=\"M 51.84 137.839219 \nL 74.16 137.839219 \nL 74.16 155.959219 \nL 51.84 155.959219 \nL 51.84 137.839219 \n\" style=\"fill:#440154;\"/>\n    <path clip-path=\"url(#p908b3a8fb9)\" d=\"M 74.16 137.839219 \nL 96.48 137.839219 \nL 96.48 155.959219 \nL 74.16 155.959219 \nL 74.16 137.839219 \n\" style=\"fill:#440154;\"/>\n    <path clip-path=\"url(#p908b3a8fb9)\" d=\"M 96.48 137.839219 \nL 118.8 137.839219 \nL 118.8 155.959219 \nL 96.48 155.959219 \nL 96.48 137.839219 \n\" style=\"fill:#440154;\"/>\n    <path clip-path=\"url(#p908b3a8fb9)\" d=\"M 118.8 137.839219 \nL 141.12 137.839219 \nL 141.12 155.959219 \nL 118.8 155.959219 \nL 118.8 137.839219 \n\" style=\"fill:#440154;\"/>\n    <path clip-path=\"url(#p908b3a8fb9)\" d=\"M 141.12 137.839219 \nL 163.44 137.839219 \nL 163.44 155.959219 \nL 141.12 155.959219 \nL 141.12 137.839219 \n\" style=\"fill:#440154;\"/>\n    <path clip-path=\"url(#p908b3a8fb9)\" d=\"M 163.44 137.839219 \nL 185.76 137.839219 \nL 185.76 155.959219 \nL 163.44 155.959219 \nL 163.44 137.839219 \n\" style=\"fill:#440154;\"/>\n    <path clip-path=\"url(#p908b3a8fb9)\" d=\"M 185.76 137.839219 \nL 208.08 137.839219 \nL 208.08 155.959219 \nL 185.76 155.959219 \nL 185.76 137.839219 \n\" style=\"fill:#440154;\"/>\n    <path clip-path=\"url(#p908b3a8fb9)\" d=\"M 208.08 137.839219 \nL 230.4 137.839219 \nL 230.4 155.959219 \nL 208.08 155.959219 \nL 208.08 137.839219 \n\" style=\"fill:#440154;\"/>\n    <path clip-path=\"url(#p908b3a8fb9)\" d=\"M 230.4 137.839219 \nL 252.72 137.839219 \nL 252.72 155.959219 \nL 230.4 155.959219 \nL 230.4 137.839219 \n\" style=\"fill:#440154;\"/>\n    <path clip-path=\"url(#p908b3a8fb9)\" d=\"M 252.72 137.839219 \nL 275.04 137.839219 \nL 275.04 155.959219 \nL 252.72 155.959219 \nL 252.72 137.839219 \n\" style=\"fill:#440154;\"/>\n    <path clip-path=\"url(#p908b3a8fb9)\" d=\"M 7.2 155.959219 \nL 29.52 155.959219 \nL 29.52 174.079219 \nL 7.2 174.079219 \nL 7.2 155.959219 \n\" style=\"fill:#440154;\"/>\n    <path clip-path=\"url(#p908b3a8fb9)\" d=\"M 29.52 155.959219 \nL 51.84 155.959219 \nL 51.84 174.079219 \nL 29.52 174.079219 \nL 29.52 155.959219 \n\" style=\"fill:#440154;\"/>\n    <path clip-path=\"url(#p908b3a8fb9)\" d=\"M 51.84 155.959219 \nL 74.16 155.959219 \nL 74.16 174.079219 \nL 51.84 174.079219 \nL 51.84 155.959219 \n\" style=\"fill:#440154;\"/>\n    <path clip-path=\"url(#p908b3a8fb9)\" d=\"M 74.16 155.959219 \nL 96.48 155.959219 \nL 96.48 174.079219 \nL 74.16 174.079219 \nL 74.16 155.959219 \n\" style=\"fill:#440154;\"/>\n    <path clip-path=\"url(#p908b3a8fb9)\" d=\"M 96.48 155.959219 \nL 118.8 155.959219 \nL 118.8 174.079219 \nL 96.48 174.079219 \nL 96.48 155.959219 \n\" style=\"fill:#440154;\"/>\n    <path clip-path=\"url(#p908b3a8fb9)\" d=\"M 118.8 155.959219 \nL 141.12 155.959219 \nL 141.12 174.079219 \nL 118.8 174.079219 \nL 118.8 155.959219 \n\" style=\"fill:#440154;\"/>\n    <path clip-path=\"url(#p908b3a8fb9)\" d=\"M 141.12 155.959219 \nL 163.44 155.959219 \nL 163.44 174.079219 \nL 141.12 174.079219 \nL 141.12 155.959219 \n\" style=\"fill:#440154;\"/>\n    <path clip-path=\"url(#p908b3a8fb9)\" d=\"M 163.44 155.959219 \nL 185.76 155.959219 \nL 185.76 174.079219 \nL 163.44 174.079219 \nL 163.44 155.959219 \n\" style=\"fill:#440154;\"/>\n    <path clip-path=\"url(#p908b3a8fb9)\" d=\"M 185.76 155.959219 \nL 208.08 155.959219 \nL 208.08 174.079219 \nL 185.76 174.079219 \nL 185.76 155.959219 \n\" style=\"fill:#440154;\"/>\n    <path clip-path=\"url(#p908b3a8fb9)\" d=\"M 208.08 155.959219 \nL 230.4 155.959219 \nL 230.4 174.079219 \nL 208.08 174.079219 \nL 208.08 155.959219 \n\" style=\"fill:#440154;\"/>\n    <path clip-path=\"url(#p908b3a8fb9)\" d=\"M 230.4 155.959219 \nL 252.72 155.959219 \nL 252.72 174.079219 \nL 230.4 174.079219 \nL 230.4 155.959219 \n\" style=\"fill:#440154;\"/>\n    <path clip-path=\"url(#p908b3a8fb9)\" d=\"M 252.72 155.959219 \nL 275.04 155.959219 \nL 275.04 174.079219 \nL 252.72 174.079219 \nL 252.72 155.959219 \n\" style=\"fill:#440154;\"/>\n    <path clip-path=\"url(#p908b3a8fb9)\" d=\"M 7.2 174.079219 \nL 29.52 174.079219 \nL 29.52 192.199219 \nL 7.2 192.199219 \nL 7.2 174.079219 \n\" style=\"fill:#440154;\"/>\n    <path clip-path=\"url(#p908b3a8fb9)\" d=\"M 29.52 174.079219 \nL 51.84 174.079219 \nL 51.84 192.199219 \nL 29.52 192.199219 \nL 29.52 174.079219 \n\" style=\"fill:#440154;\"/>\n    <path clip-path=\"url(#p908b3a8fb9)\" d=\"M 51.84 174.079219 \nL 74.16 174.079219 \nL 74.16 192.199219 \nL 51.84 192.199219 \nL 51.84 174.079219 \n\" style=\"fill:#fde725;\"/>\n    <path clip-path=\"url(#p908b3a8fb9)\" d=\"M 74.16 174.079219 \nL 96.48 174.079219 \nL 96.48 192.199219 \nL 74.16 192.199219 \nL 74.16 174.079219 \n\" style=\"fill:#440154;\"/>\n    <path clip-path=\"url(#p908b3a8fb9)\" d=\"M 96.48 174.079219 \nL 118.8 174.079219 \nL 118.8 192.199219 \nL 96.48 192.199219 \nL 96.48 174.079219 \n\" style=\"fill:#440154;\"/>\n    <path clip-path=\"url(#p908b3a8fb9)\" d=\"M 118.8 174.079219 \nL 141.12 174.079219 \nL 141.12 192.199219 \nL 118.8 192.199219 \nL 118.8 174.079219 \n\" style=\"fill:#440154;\"/>\n    <path clip-path=\"url(#p908b3a8fb9)\" d=\"M 141.12 174.079219 \nL 163.44 174.079219 \nL 163.44 192.199219 \nL 141.12 192.199219 \nL 141.12 174.079219 \n\" style=\"fill:#440154;\"/>\n    <path clip-path=\"url(#p908b3a8fb9)\" d=\"M 163.44 174.079219 \nL 185.76 174.079219 \nL 185.76 192.199219 \nL 163.44 192.199219 \nL 163.44 174.079219 \n\" style=\"fill:#440154;\"/>\n    <path clip-path=\"url(#p908b3a8fb9)\" d=\"M 185.76 174.079219 \nL 208.08 174.079219 \nL 208.08 192.199219 \nL 185.76 192.199219 \nL 185.76 174.079219 \n\" style=\"fill:#440154;\"/>\n    <path clip-path=\"url(#p908b3a8fb9)\" d=\"M 208.08 174.079219 \nL 230.4 174.079219 \nL 230.4 192.199219 \nL 208.08 192.199219 \nL 208.08 174.079219 \n\" style=\"fill:#440154;\"/>\n    <path clip-path=\"url(#p908b3a8fb9)\" d=\"M 230.4 174.079219 \nL 252.72 174.079219 \nL 252.72 192.199219 \nL 230.4 192.199219 \nL 230.4 174.079219 \n\" style=\"fill:#440154;\"/>\n    <path clip-path=\"url(#p908b3a8fb9)\" d=\"M 252.72 174.079219 \nL 275.04 174.079219 \nL 275.04 192.199219 \nL 252.72 192.199219 \nL 252.72 174.079219 \n\" style=\"fill:#440154;\"/>\n    <path clip-path=\"url(#p908b3a8fb9)\" d=\"M 7.2 192.199219 \nL 29.52 192.199219 \nL 29.52 210.319219 \nL 7.2 210.319219 \nL 7.2 192.199219 \n\" style=\"fill:#440154;\"/>\n    <path clip-path=\"url(#p908b3a8fb9)\" d=\"M 29.52 192.199219 \nL 51.84 192.199219 \nL 51.84 210.319219 \nL 29.52 210.319219 \nL 29.52 192.199219 \n\" style=\"fill:#440154;\"/>\n    <path clip-path=\"url(#p908b3a8fb9)\" d=\"M 51.84 192.199219 \nL 74.16 192.199219 \nL 74.16 210.319219 \nL 51.84 210.319219 \nL 51.84 192.199219 \n\" style=\"fill:#440154;\"/>\n    <path clip-path=\"url(#p908b3a8fb9)\" d=\"M 74.16 192.199219 \nL 96.48 192.199219 \nL 96.48 210.319219 \nL 74.16 210.319219 \nL 74.16 192.199219 \n\" style=\"fill:#fde725;\"/>\n    <path clip-path=\"url(#p908b3a8fb9)\" d=\"M 96.48 192.199219 \nL 118.8 192.199219 \nL 118.8 210.319219 \nL 96.48 210.319219 \nL 96.48 192.199219 \n\" style=\"fill:#440154;\"/>\n    <path clip-path=\"url(#p908b3a8fb9)\" d=\"M 118.8 192.199219 \nL 141.12 192.199219 \nL 141.12 210.319219 \nL 118.8 210.319219 \nL 118.8 192.199219 \n\" style=\"fill:#440154;\"/>\n    <path clip-path=\"url(#p908b3a8fb9)\" d=\"M 141.12 192.199219 \nL 163.44 192.199219 \nL 163.44 210.319219 \nL 141.12 210.319219 \nL 141.12 192.199219 \n\" style=\"fill:#440154;\"/>\n    <path clip-path=\"url(#p908b3a8fb9)\" d=\"M 163.44 192.199219 \nL 185.76 192.199219 \nL 185.76 210.319219 \nL 163.44 210.319219 \nL 163.44 192.199219 \n\" style=\"fill:#440154;\"/>\n    <path clip-path=\"url(#p908b3a8fb9)\" d=\"M 185.76 192.199219 \nL 208.08 192.199219 \nL 208.08 210.319219 \nL 185.76 210.319219 \nL 185.76 192.199219 \n\" style=\"fill:#440154;\"/>\n    <path clip-path=\"url(#p908b3a8fb9)\" d=\"M 208.08 192.199219 \nL 230.4 192.199219 \nL 230.4 210.319219 \nL 208.08 210.319219 \nL 208.08 192.199219 \n\" style=\"fill:#440154;\"/>\n    <path clip-path=\"url(#p908b3a8fb9)\" d=\"M 230.4 192.199219 \nL 252.72 192.199219 \nL 252.72 210.319219 \nL 230.4 210.319219 \nL 230.4 192.199219 \n\" style=\"fill:#440154;\"/>\n    <path clip-path=\"url(#p908b3a8fb9)\" d=\"M 252.72 192.199219 \nL 275.04 192.199219 \nL 275.04 210.319219 \nL 252.72 210.319219 \nL 252.72 192.199219 \n\" style=\"fill:#440154;\"/>\n    <path clip-path=\"url(#p908b3a8fb9)\" d=\"M 7.2 210.319219 \nL 29.52 210.319219 \nL 29.52 228.439219 \nL 7.2 228.439219 \nL 7.2 210.319219 \n\" style=\"fill:#440154;\"/>\n    <path clip-path=\"url(#p908b3a8fb9)\" d=\"M 29.52 210.319219 \nL 51.84 210.319219 \nL 51.84 228.439219 \nL 29.52 228.439219 \nL 29.52 210.319219 \n\" style=\"fill:#fde725;\"/>\n    <path clip-path=\"url(#p908b3a8fb9)\" d=\"M 51.84 210.319219 \nL 74.16 210.319219 \nL 74.16 228.439219 \nL 51.84 228.439219 \nL 51.84 210.319219 \n\" style=\"fill:#440154;\"/>\n    <path clip-path=\"url(#p908b3a8fb9)\" d=\"M 74.16 210.319219 \nL 96.48 210.319219 \nL 96.48 228.439219 \nL 74.16 228.439219 \nL 74.16 210.319219 \n\" style=\"fill:#440154;\"/>\n    <path clip-path=\"url(#p908b3a8fb9)\" d=\"M 96.48 210.319219 \nL 118.8 210.319219 \nL 118.8 228.439219 \nL 96.48 228.439219 \nL 96.48 210.319219 \n\" style=\"fill:#440154;\"/>\n    <path clip-path=\"url(#p908b3a8fb9)\" d=\"M 118.8 210.319219 \nL 141.12 210.319219 \nL 141.12 228.439219 \nL 118.8 228.439219 \nL 118.8 210.319219 \n\" style=\"fill:#440154;\"/>\n    <path clip-path=\"url(#p908b3a8fb9)\" d=\"M 141.12 210.319219 \nL 163.44 210.319219 \nL 163.44 228.439219 \nL 141.12 228.439219 \nL 141.12 210.319219 \n\" style=\"fill:#440154;\"/>\n    <path clip-path=\"url(#p908b3a8fb9)\" d=\"M 163.44 210.319219 \nL 185.76 210.319219 \nL 185.76 228.439219 \nL 163.44 228.439219 \nL 163.44 210.319219 \n\" style=\"fill:#440154;\"/>\n    <path clip-path=\"url(#p908b3a8fb9)\" d=\"M 185.76 210.319219 \nL 208.08 210.319219 \nL 208.08 228.439219 \nL 185.76 228.439219 \nL 185.76 210.319219 \n\" style=\"fill:#440154;\"/>\n    <path clip-path=\"url(#p908b3a8fb9)\" d=\"M 208.08 210.319219 \nL 230.4 210.319219 \nL 230.4 228.439219 \nL 208.08 228.439219 \nL 208.08 210.319219 \n\" style=\"fill:#440154;\"/>\n    <path clip-path=\"url(#p908b3a8fb9)\" d=\"M 230.4 210.319219 \nL 252.72 210.319219 \nL 252.72 228.439219 \nL 230.4 228.439219 \nL 230.4 210.319219 \n\" style=\"fill:#fde725;\"/>\n    <path clip-path=\"url(#p908b3a8fb9)\" d=\"M 252.72 210.319219 \nL 275.04 210.319219 \nL 275.04 228.439219 \nL 252.72 228.439219 \nL 252.72 210.319219 \n\" style=\"fill:#fde725;\"/>\n   </g>\n   <g id=\"matplotlib.axis_1\">\n    <g id=\"xtick_1\">\n     <g id=\"line2d_1\">\n      <defs>\n       <path d=\"M 0 0 \nL 0 3.5 \n\" id=\"med7616075a\" style=\"stroke:#000000;stroke-width:0.8;\"/>\n      </defs>\n      <g>\n       <use style=\"stroke:#000000;stroke-width:0.8;\" x=\"18.36\" xlink:href=\"#med7616075a\" y=\"228.439219\"/>\n      </g>\n     </g>\n     <g id=\"text_1\">\n      <!-- ID -->\n      <defs>\n       <path d=\"M 9.8125 72.90625 \nL 19.671875 72.90625 \nL 19.671875 0 \nL 9.8125 0 \nz\n\" id=\"DejaVuSans-73\"/>\n       <path d=\"M 19.671875 64.796875 \nL 19.671875 8.109375 \nL 31.59375 8.109375 \nQ 46.6875 8.109375 53.6875 14.9375 \nQ 60.6875 21.78125 60.6875 36.53125 \nQ 60.6875 51.171875 53.6875 57.984375 \nQ 46.6875 64.796875 31.59375 64.796875 \nz\nM 9.8125 72.90625 \nL 30.078125 72.90625 \nQ 51.265625 72.90625 61.171875 64.09375 \nQ 71.09375 55.28125 71.09375 36.53125 \nQ 71.09375 17.671875 61.125 8.828125 \nQ 51.171875 0 30.078125 0 \nL 9.8125 0 \nz\n\" id=\"DejaVuSans-68\"/>\n      </defs>\n      <g transform=\"translate(21.119375 246.089219)rotate(-90)scale(0.1 -0.1)\">\n       <use xlink:href=\"#DejaVuSans-73\"/>\n       <use x=\"29.492188\" xlink:href=\"#DejaVuSans-68\"/>\n      </g>\n     </g>\n    </g>\n    <g id=\"xtick_2\">\n     <g id=\"line2d_2\">\n      <g>\n       <use style=\"stroke:#000000;stroke-width:0.8;\" x=\"40.68\" xlink:href=\"#med7616075a\" y=\"228.439219\"/>\n      </g>\n     </g>\n     <g id=\"text_2\">\n      <!-- Name -->\n      <defs>\n       <path d=\"M 9.8125 72.90625 \nL 23.09375 72.90625 \nL 55.421875 11.921875 \nL 55.421875 72.90625 \nL 64.984375 72.90625 \nL 64.984375 0 \nL 51.703125 0 \nL 19.390625 60.984375 \nL 19.390625 0 \nL 9.8125 0 \nz\n\" id=\"DejaVuSans-78\"/>\n       <path d=\"M 34.28125 27.484375 \nQ 23.390625 27.484375 19.1875 25 \nQ 14.984375 22.515625 14.984375 16.5 \nQ 14.984375 11.71875 18.140625 8.90625 \nQ 21.296875 6.109375 26.703125 6.109375 \nQ 34.1875 6.109375 38.703125 11.40625 \nQ 43.21875 16.703125 43.21875 25.484375 \nL 43.21875 27.484375 \nz\nM 52.203125 31.203125 \nL 52.203125 0 \nL 43.21875 0 \nL 43.21875 8.296875 \nQ 40.140625 3.328125 35.546875 0.953125 \nQ 30.953125 -1.421875 24.3125 -1.421875 \nQ 15.921875 -1.421875 10.953125 3.296875 \nQ 6 8.015625 6 15.921875 \nQ 6 25.140625 12.171875 29.828125 \nQ 18.359375 34.515625 30.609375 34.515625 \nL 43.21875 34.515625 \nL 43.21875 35.40625 \nQ 43.21875 41.609375 39.140625 45 \nQ 35.0625 48.390625 27.6875 48.390625 \nQ 23 48.390625 18.546875 47.265625 \nQ 14.109375 46.140625 10.015625 43.890625 \nL 10.015625 52.203125 \nQ 14.9375 54.109375 19.578125 55.046875 \nQ 24.21875 56 28.609375 56 \nQ 40.484375 56 46.34375 49.84375 \nQ 52.203125 43.703125 52.203125 31.203125 \nz\n\" id=\"DejaVuSans-97\"/>\n       <path d=\"M 52 44.1875 \nQ 55.375 50.25 60.0625 53.125 \nQ 64.75 56 71.09375 56 \nQ 79.640625 56 84.28125 50.015625 \nQ 88.921875 44.046875 88.921875 33.015625 \nL 88.921875 0 \nL 79.890625 0 \nL 79.890625 32.71875 \nQ 79.890625 40.578125 77.09375 44.375 \nQ 74.3125 48.1875 68.609375 48.1875 \nQ 61.625 48.1875 57.5625 43.546875 \nQ 53.515625 38.921875 53.515625 30.90625 \nL 53.515625 0 \nL 44.484375 0 \nL 44.484375 32.71875 \nQ 44.484375 40.625 41.703125 44.40625 \nQ 38.921875 48.1875 33.109375 48.1875 \nQ 26.21875 48.1875 22.15625 43.53125 \nQ 18.109375 38.875 18.109375 30.90625 \nL 18.109375 0 \nL 9.078125 0 \nL 9.078125 54.6875 \nL 18.109375 54.6875 \nL 18.109375 46.1875 \nQ 21.1875 51.21875 25.484375 53.609375 \nQ 29.78125 56 35.6875 56 \nQ 41.65625 56 45.828125 52.96875 \nQ 50 49.953125 52 44.1875 \nz\n\" id=\"DejaVuSans-109\"/>\n       <path d=\"M 56.203125 29.59375 \nL 56.203125 25.203125 \nL 14.890625 25.203125 \nQ 15.484375 15.921875 20.484375 11.0625 \nQ 25.484375 6.203125 34.421875 6.203125 \nQ 39.59375 6.203125 44.453125 7.46875 \nQ 49.3125 8.734375 54.109375 11.28125 \nL 54.109375 2.78125 \nQ 49.265625 0.734375 44.1875 -0.34375 \nQ 39.109375 -1.421875 33.890625 -1.421875 \nQ 20.796875 -1.421875 13.15625 6.1875 \nQ 5.515625 13.8125 5.515625 26.8125 \nQ 5.515625 40.234375 12.765625 48.109375 \nQ 20.015625 56 32.328125 56 \nQ 43.359375 56 49.78125 48.890625 \nQ 56.203125 41.796875 56.203125 29.59375 \nz\nM 47.21875 32.234375 \nQ 47.125 39.59375 43.09375 43.984375 \nQ 39.0625 48.390625 32.421875 48.390625 \nQ 24.90625 48.390625 20.390625 44.140625 \nQ 15.875 39.890625 15.1875 32.171875 \nz\n\" id=\"DejaVuSans-101\"/>\n      </defs>\n      <g transform=\"translate(43.439375 264.942344)rotate(-90)scale(0.1 -0.1)\">\n       <use xlink:href=\"#DejaVuSans-78\"/>\n       <use x=\"74.804688\" xlink:href=\"#DejaVuSans-97\"/>\n       <use x=\"136.083984\" xlink:href=\"#DejaVuSans-109\"/>\n       <use x=\"233.496094\" xlink:href=\"#DejaVuSans-101\"/>\n      </g>\n     </g>\n    </g>\n    <g id=\"xtick_3\">\n     <g id=\"line2d_3\">\n      <g>\n       <use style=\"stroke:#000000;stroke-width:0.8;\" x=\"63\" xlink:href=\"#med7616075a\" y=\"228.439219\"/>\n      </g>\n     </g>\n     <g id=\"text_3\">\n      <!-- Age -->\n      <defs>\n       <path d=\"M 34.1875 63.1875 \nL 20.796875 26.90625 \nL 47.609375 26.90625 \nz\nM 28.609375 72.90625 \nL 39.796875 72.90625 \nL 67.578125 0 \nL 57.328125 0 \nL 50.6875 18.703125 \nL 17.828125 18.703125 \nL 11.1875 0 \nL 0.78125 0 \nz\n\" id=\"DejaVuSans-65\"/>\n       <path d=\"M 45.40625 27.984375 \nQ 45.40625 37.75 41.375 43.109375 \nQ 37.359375 48.484375 30.078125 48.484375 \nQ 22.859375 48.484375 18.828125 43.109375 \nQ 14.796875 37.75 14.796875 27.984375 \nQ 14.796875 18.265625 18.828125 12.890625 \nQ 22.859375 7.515625 30.078125 7.515625 \nQ 37.359375 7.515625 41.375 12.890625 \nQ 45.40625 18.265625 45.40625 27.984375 \nz\nM 54.390625 6.78125 \nQ 54.390625 -7.171875 48.1875 -13.984375 \nQ 42 -20.796875 29.203125 -20.796875 \nQ 24.46875 -20.796875 20.265625 -20.09375 \nQ 16.0625 -19.390625 12.109375 -17.921875 \nL 12.109375 -9.1875 \nQ 16.0625 -11.328125 19.921875 -12.34375 \nQ 23.78125 -13.375 27.78125 -13.375 \nQ 36.625 -13.375 41.015625 -8.765625 \nQ 45.40625 -4.15625 45.40625 5.171875 \nL 45.40625 9.625 \nQ 42.625 4.78125 38.28125 2.390625 \nQ 33.9375 0 27.875 0 \nQ 17.828125 0 11.671875 7.65625 \nQ 5.515625 15.328125 5.515625 27.984375 \nQ 5.515625 40.671875 11.671875 48.328125 \nQ 17.828125 56 27.875 56 \nQ 33.9375 56 38.28125 53.609375 \nQ 42.625 51.21875 45.40625 46.390625 \nL 45.40625 54.6875 \nL 54.390625 54.6875 \nz\n\" id=\"DejaVuSans-103\"/>\n      </defs>\n      <g transform=\"translate(65.759375 254.781406)rotate(-90)scale(0.1 -0.1)\">\n       <use xlink:href=\"#DejaVuSans-65\"/>\n       <use x=\"68.408203\" xlink:href=\"#DejaVuSans-103\"/>\n       <use x=\"131.884766\" xlink:href=\"#DejaVuSans-101\"/>\n      </g>\n     </g>\n    </g>\n    <g id=\"xtick_4\">\n     <g id=\"line2d_4\">\n      <g>\n       <use style=\"stroke:#000000;stroke-width:0.8;\" x=\"85.32\" xlink:href=\"#med7616075a\" y=\"228.439219\"/>\n      </g>\n     </g>\n     <g id=\"text_4\">\n      <!-- Weight -->\n      <defs>\n       <path d=\"M 3.328125 72.90625 \nL 13.28125 72.90625 \nL 28.609375 11.28125 \nL 43.890625 72.90625 \nL 54.984375 72.90625 \nL 70.3125 11.28125 \nL 85.59375 72.90625 \nL 95.609375 72.90625 \nL 77.296875 0 \nL 64.890625 0 \nL 49.515625 63.28125 \nL 33.984375 0 \nL 21.578125 0 \nz\n\" id=\"DejaVuSans-87\"/>\n       <path d=\"M 9.421875 54.6875 \nL 18.40625 54.6875 \nL 18.40625 0 \nL 9.421875 0 \nz\nM 9.421875 75.984375 \nL 18.40625 75.984375 \nL 18.40625 64.59375 \nL 9.421875 64.59375 \nz\n\" id=\"DejaVuSans-105\"/>\n       <path d=\"M 54.890625 33.015625 \nL 54.890625 0 \nL 45.90625 0 \nL 45.90625 32.71875 \nQ 45.90625 40.484375 42.875 44.328125 \nQ 39.84375 48.1875 33.796875 48.1875 \nQ 26.515625 48.1875 22.3125 43.546875 \nQ 18.109375 38.921875 18.109375 30.90625 \nL 18.109375 0 \nL 9.078125 0 \nL 9.078125 75.984375 \nL 18.109375 75.984375 \nL 18.109375 46.1875 \nQ 21.34375 51.125 25.703125 53.5625 \nQ 30.078125 56 35.796875 56 \nQ 45.21875 56 50.046875 50.171875 \nQ 54.890625 44.34375 54.890625 33.015625 \nz\n\" id=\"DejaVuSans-104\"/>\n       <path d=\"M 18.3125 70.21875 \nL 18.3125 54.6875 \nL 36.8125 54.6875 \nL 36.8125 47.703125 \nL 18.3125 47.703125 \nL 18.3125 18.015625 \nQ 18.3125 11.328125 20.140625 9.421875 \nQ 21.96875 7.515625 27.59375 7.515625 \nL 36.8125 7.515625 \nL 36.8125 0 \nL 27.59375 0 \nQ 17.1875 0 13.234375 3.875 \nQ 9.28125 7.765625 9.28125 18.015625 \nL 9.28125 47.703125 \nL 2.6875 47.703125 \nL 2.6875 54.6875 \nL 9.28125 54.6875 \nL 9.28125 70.21875 \nz\n\" id=\"DejaVuSans-116\"/>\n      </defs>\n      <g transform=\"translate(88.079375 270.276719)rotate(-90)scale(0.1 -0.1)\">\n       <use xlink:href=\"#DejaVuSans-87\"/>\n       <use x=\"93.001953\" xlink:href=\"#DejaVuSans-101\"/>\n       <use x=\"154.525391\" xlink:href=\"#DejaVuSans-105\"/>\n       <use x=\"182.308594\" xlink:href=\"#DejaVuSans-103\"/>\n       <use x=\"245.785156\" xlink:href=\"#DejaVuSans-104\"/>\n       <use x=\"309.164062\" xlink:href=\"#DejaVuSans-116\"/>\n      </g>\n     </g>\n    </g>\n    <g id=\"xtick_5\">\n     <g id=\"line2d_5\">\n      <g>\n       <use style=\"stroke:#000000;stroke-width:0.8;\" x=\"107.64\" xlink:href=\"#med7616075a\" y=\"228.439219\"/>\n      </g>\n     </g>\n     <g id=\"text_5\">\n      <!-- m0006 -->\n      <defs>\n       <path d=\"M 31.78125 66.40625 \nQ 24.171875 66.40625 20.328125 58.90625 \nQ 16.5 51.421875 16.5 36.375 \nQ 16.5 21.390625 20.328125 13.890625 \nQ 24.171875 6.390625 31.78125 6.390625 \nQ 39.453125 6.390625 43.28125 13.890625 \nQ 47.125 21.390625 47.125 36.375 \nQ 47.125 51.421875 43.28125 58.90625 \nQ 39.453125 66.40625 31.78125 66.40625 \nz\nM 31.78125 74.21875 \nQ 44.046875 74.21875 50.515625 64.515625 \nQ 56.984375 54.828125 56.984375 36.375 \nQ 56.984375 17.96875 50.515625 8.265625 \nQ 44.046875 -1.421875 31.78125 -1.421875 \nQ 19.53125 -1.421875 13.0625 8.265625 \nQ 6.59375 17.96875 6.59375 36.375 \nQ 6.59375 54.828125 13.0625 64.515625 \nQ 19.53125 74.21875 31.78125 74.21875 \nz\n\" id=\"DejaVuSans-48\"/>\n       <path d=\"M 33.015625 40.375 \nQ 26.375 40.375 22.484375 35.828125 \nQ 18.609375 31.296875 18.609375 23.390625 \nQ 18.609375 15.53125 22.484375 10.953125 \nQ 26.375 6.390625 33.015625 6.390625 \nQ 39.65625 6.390625 43.53125 10.953125 \nQ 47.40625 15.53125 47.40625 23.390625 \nQ 47.40625 31.296875 43.53125 35.828125 \nQ 39.65625 40.375 33.015625 40.375 \nz\nM 52.59375 71.296875 \nL 52.59375 62.3125 \nQ 48.875 64.0625 45.09375 64.984375 \nQ 41.3125 65.921875 37.59375 65.921875 \nQ 27.828125 65.921875 22.671875 59.328125 \nQ 17.53125 52.734375 16.796875 39.40625 \nQ 19.671875 43.65625 24.015625 45.921875 \nQ 28.375 48.1875 33.59375 48.1875 \nQ 44.578125 48.1875 50.953125 41.515625 \nQ 57.328125 34.859375 57.328125 23.390625 \nQ 57.328125 12.15625 50.6875 5.359375 \nQ 44.046875 -1.421875 33.015625 -1.421875 \nQ 20.359375 -1.421875 13.671875 8.265625 \nQ 6.984375 17.96875 6.984375 36.375 \nQ 6.984375 53.65625 15.1875 63.9375 \nQ 23.390625 74.21875 37.203125 74.21875 \nQ 40.921875 74.21875 44.703125 73.484375 \nQ 48.484375 72.75 52.59375 71.296875 \nz\n\" id=\"DejaVuSans-54\"/>\n      </defs>\n      <g transform=\"translate(110.399375 270.629844)rotate(-90)scale(0.1 -0.1)\">\n       <use xlink:href=\"#DejaVuSans-109\"/>\n       <use x=\"97.412109\" xlink:href=\"#DejaVuSans-48\"/>\n       <use x=\"161.035156\" xlink:href=\"#DejaVuSans-48\"/>\n       <use x=\"224.658203\" xlink:href=\"#DejaVuSans-48\"/>\n       <use x=\"288.28125\" xlink:href=\"#DejaVuSans-54\"/>\n      </g>\n     </g>\n    </g>\n    <g id=\"xtick_6\">\n     <g id=\"line2d_6\">\n      <g>\n       <use style=\"stroke:#000000;stroke-width:0.8;\" x=\"129.96\" xlink:href=\"#med7616075a\" y=\"228.439219\"/>\n      </g>\n     </g>\n     <g id=\"text_6\">\n      <!-- m0612 -->\n      <defs>\n       <path d=\"M 12.40625 8.296875 \nL 28.515625 8.296875 \nL 28.515625 63.921875 \nL 10.984375 60.40625 \nL 10.984375 69.390625 \nL 28.421875 72.90625 \nL 38.28125 72.90625 \nL 38.28125 8.296875 \nL 54.390625 8.296875 \nL 54.390625 0 \nL 12.40625 0 \nz\n\" id=\"DejaVuSans-49\"/>\n       <path d=\"M 19.1875 8.296875 \nL 53.609375 8.296875 \nL 53.609375 0 \nL 7.328125 0 \nL 7.328125 8.296875 \nQ 12.9375 14.109375 22.625 23.890625 \nQ 32.328125 33.6875 34.8125 36.53125 \nQ 39.546875 41.84375 41.421875 45.53125 \nQ 43.3125 49.21875 43.3125 52.78125 \nQ 43.3125 58.59375 39.234375 62.25 \nQ 35.15625 65.921875 28.609375 65.921875 \nQ 23.96875 65.921875 18.8125 64.3125 \nQ 13.671875 62.703125 7.8125 59.421875 \nL 7.8125 69.390625 \nQ 13.765625 71.78125 18.9375 73 \nQ 24.125 74.21875 28.421875 74.21875 \nQ 39.75 74.21875 46.484375 68.546875 \nQ 53.21875 62.890625 53.21875 53.421875 \nQ 53.21875 48.921875 51.53125 44.890625 \nQ 49.859375 40.875 45.40625 35.40625 \nQ 44.1875 33.984375 37.640625 27.21875 \nQ 31.109375 20.453125 19.1875 8.296875 \nz\n\" id=\"DejaVuSans-50\"/>\n      </defs>\n      <g transform=\"translate(132.719375 270.629844)rotate(-90)scale(0.1 -0.1)\">\n       <use xlink:href=\"#DejaVuSans-109\"/>\n       <use x=\"97.412109\" xlink:href=\"#DejaVuSans-48\"/>\n       <use x=\"161.035156\" xlink:href=\"#DejaVuSans-54\"/>\n       <use x=\"224.658203\" xlink:href=\"#DejaVuSans-49\"/>\n       <use x=\"288.28125\" xlink:href=\"#DejaVuSans-50\"/>\n      </g>\n     </g>\n    </g>\n    <g id=\"xtick_7\">\n     <g id=\"line2d_7\">\n      <g>\n       <use style=\"stroke:#000000;stroke-width:0.8;\" x=\"152.28\" xlink:href=\"#med7616075a\" y=\"228.439219\"/>\n      </g>\n     </g>\n     <g id=\"text_7\">\n      <!-- m1218 -->\n      <defs>\n       <path d=\"M 31.78125 34.625 \nQ 24.75 34.625 20.71875 30.859375 \nQ 16.703125 27.09375 16.703125 20.515625 \nQ 16.703125 13.921875 20.71875 10.15625 \nQ 24.75 6.390625 31.78125 6.390625 \nQ 38.8125 6.390625 42.859375 10.171875 \nQ 46.921875 13.96875 46.921875 20.515625 \nQ 46.921875 27.09375 42.890625 30.859375 \nQ 38.875 34.625 31.78125 34.625 \nz\nM 21.921875 38.8125 \nQ 15.578125 40.375 12.03125 44.71875 \nQ 8.5 49.078125 8.5 55.328125 \nQ 8.5 64.0625 14.71875 69.140625 \nQ 20.953125 74.21875 31.78125 74.21875 \nQ 42.671875 74.21875 48.875 69.140625 \nQ 55.078125 64.0625 55.078125 55.328125 \nQ 55.078125 49.078125 51.53125 44.71875 \nQ 48 40.375 41.703125 38.8125 \nQ 48.828125 37.15625 52.796875 32.3125 \nQ 56.78125 27.484375 56.78125 20.515625 \nQ 56.78125 9.90625 50.3125 4.234375 \nQ 43.84375 -1.421875 31.78125 -1.421875 \nQ 19.734375 -1.421875 13.25 4.234375 \nQ 6.78125 9.90625 6.78125 20.515625 \nQ 6.78125 27.484375 10.78125 32.3125 \nQ 14.796875 37.15625 21.921875 38.8125 \nz\nM 18.3125 54.390625 \nQ 18.3125 48.734375 21.84375 45.5625 \nQ 25.390625 42.390625 31.78125 42.390625 \nQ 38.140625 42.390625 41.71875 45.5625 \nQ 45.3125 48.734375 45.3125 54.390625 \nQ 45.3125 60.0625 41.71875 63.234375 \nQ 38.140625 66.40625 31.78125 66.40625 \nQ 25.390625 66.40625 21.84375 63.234375 \nQ 18.3125 60.0625 18.3125 54.390625 \nz\n\" id=\"DejaVuSans-56\"/>\n      </defs>\n      <g transform=\"translate(155.039375 270.629844)rotate(-90)scale(0.1 -0.1)\">\n       <use xlink:href=\"#DejaVuSans-109\"/>\n       <use x=\"97.412109\" xlink:href=\"#DejaVuSans-49\"/>\n       <use x=\"161.035156\" xlink:href=\"#DejaVuSans-50\"/>\n       <use x=\"224.658203\" xlink:href=\"#DejaVuSans-49\"/>\n       <use x=\"288.28125\" xlink:href=\"#DejaVuSans-56\"/>\n      </g>\n     </g>\n    </g>\n    <g id=\"xtick_8\">\n     <g id=\"line2d_8\">\n      <g>\n       <use style=\"stroke:#000000;stroke-width:0.8;\" x=\"174.6\" xlink:href=\"#med7616075a\" y=\"228.439219\"/>\n      </g>\n     </g>\n     <g id=\"text_8\">\n      <!-- f006 -->\n      <defs>\n       <path d=\"M 37.109375 75.984375 \nL 37.109375 68.5 \nL 28.515625 68.5 \nQ 23.6875 68.5 21.796875 66.546875 \nQ 19.921875 64.59375 19.921875 59.515625 \nL 19.921875 54.6875 \nL 34.71875 54.6875 \nL 34.71875 47.703125 \nL 19.921875 47.703125 \nL 19.921875 0 \nL 10.890625 0 \nL 10.890625 47.703125 \nL 2.296875 47.703125 \nL 2.296875 54.6875 \nL 10.890625 54.6875 \nL 10.890625 58.5 \nQ 10.890625 67.625 15.140625 71.796875 \nQ 19.390625 75.984375 28.609375 75.984375 \nz\n\" id=\"DejaVuSans-102\"/>\n      </defs>\n      <g transform=\"translate(177.359375 258.047031)rotate(-90)scale(0.1 -0.1)\">\n       <use xlink:href=\"#DejaVuSans-102\"/>\n       <use x=\"35.205078\" xlink:href=\"#DejaVuSans-48\"/>\n       <use x=\"98.828125\" xlink:href=\"#DejaVuSans-48\"/>\n       <use x=\"162.451172\" xlink:href=\"#DejaVuSans-54\"/>\n      </g>\n     </g>\n    </g>\n    <g id=\"xtick_9\">\n     <g id=\"line2d_9\">\n      <g>\n       <use style=\"stroke:#000000;stroke-width:0.8;\" x=\"196.92\" xlink:href=\"#med7616075a\" y=\"228.439219\"/>\n      </g>\n     </g>\n     <g id=\"text_9\">\n      <!-- f0612 -->\n      <g transform=\"translate(199.679375 264.409531)rotate(-90)scale(0.1 -0.1)\">\n       <use xlink:href=\"#DejaVuSans-102\"/>\n       <use x=\"35.205078\" xlink:href=\"#DejaVuSans-48\"/>\n       <use x=\"98.828125\" xlink:href=\"#DejaVuSans-54\"/>\n       <use x=\"162.451172\" xlink:href=\"#DejaVuSans-49\"/>\n       <use x=\"226.074219\" xlink:href=\"#DejaVuSans-50\"/>\n      </g>\n     </g>\n    </g>\n    <g id=\"xtick_10\">\n     <g id=\"line2d_10\">\n      <g>\n       <use style=\"stroke:#000000;stroke-width:0.8;\" x=\"219.24\" xlink:href=\"#med7616075a\" y=\"228.439219\"/>\n      </g>\n     </g>\n     <g id=\"text_10\">\n      <!-- f1218 -->\n      <g transform=\"translate(221.999375 264.409531)rotate(-90)scale(0.1 -0.1)\">\n       <use xlink:href=\"#DejaVuSans-102\"/>\n       <use x=\"35.205078\" xlink:href=\"#DejaVuSans-49\"/>\n       <use x=\"98.828125\" xlink:href=\"#DejaVuSans-50\"/>\n       <use x=\"162.451172\" xlink:href=\"#DejaVuSans-49\"/>\n       <use x=\"226.074219\" xlink:href=\"#DejaVuSans-56\"/>\n      </g>\n     </g>\n    </g>\n    <g id=\"xtick_11\">\n     <g id=\"line2d_11\">\n      <g>\n       <use style=\"stroke:#000000;stroke-width:0.8;\" x=\"241.56\" xlink:href=\"#med7616075a\" y=\"228.439219\"/>\n      </g>\n     </g>\n     <g id=\"text_11\">\n      <!-- Firstname -->\n      <defs>\n       <path d=\"M 9.8125 72.90625 \nL 51.703125 72.90625 \nL 51.703125 64.59375 \nL 19.671875 64.59375 \nL 19.671875 43.109375 \nL 48.578125 43.109375 \nL 48.578125 34.8125 \nL 19.671875 34.8125 \nL 19.671875 0 \nL 9.8125 0 \nz\n\" id=\"DejaVuSans-70\"/>\n       <path d=\"M 41.109375 46.296875 \nQ 39.59375 47.171875 37.8125 47.578125 \nQ 36.03125 48 33.890625 48 \nQ 26.265625 48 22.1875 43.046875 \nQ 18.109375 38.09375 18.109375 28.8125 \nL 18.109375 0 \nL 9.078125 0 \nL 9.078125 54.6875 \nL 18.109375 54.6875 \nL 18.109375 46.1875 \nQ 20.953125 51.171875 25.484375 53.578125 \nQ 30.03125 56 36.53125 56 \nQ 37.453125 56 38.578125 55.875 \nQ 39.703125 55.765625 41.0625 55.515625 \nz\n\" id=\"DejaVuSans-114\"/>\n       <path d=\"M 44.28125 53.078125 \nL 44.28125 44.578125 \nQ 40.484375 46.53125 36.375 47.5 \nQ 32.28125 48.484375 27.875 48.484375 \nQ 21.1875 48.484375 17.84375 46.4375 \nQ 14.5 44.390625 14.5 40.28125 \nQ 14.5 37.15625 16.890625 35.375 \nQ 19.28125 33.59375 26.515625 31.984375 \nL 29.59375 31.296875 \nQ 39.15625 29.25 43.1875 25.515625 \nQ 47.21875 21.78125 47.21875 15.09375 \nQ 47.21875 7.46875 41.1875 3.015625 \nQ 35.15625 -1.421875 24.609375 -1.421875 \nQ 20.21875 -1.421875 15.453125 -0.5625 \nQ 10.6875 0.296875 5.421875 2 \nL 5.421875 11.28125 \nQ 10.40625 8.6875 15.234375 7.390625 \nQ 20.0625 6.109375 24.8125 6.109375 \nQ 31.15625 6.109375 34.5625 8.28125 \nQ 37.984375 10.453125 37.984375 14.40625 \nQ 37.984375 18.0625 35.515625 20.015625 \nQ 33.0625 21.96875 24.703125 23.78125 \nL 21.578125 24.515625 \nQ 13.234375 26.265625 9.515625 29.90625 \nQ 5.8125 33.546875 5.8125 39.890625 \nQ 5.8125 47.609375 11.28125 51.796875 \nQ 16.75 56 26.8125 56 \nQ 31.78125 56 36.171875 55.265625 \nQ 40.578125 54.546875 44.28125 53.078125 \nz\n\" id=\"DejaVuSans-115\"/>\n       <path d=\"M 54.890625 33.015625 \nL 54.890625 0 \nL 45.90625 0 \nL 45.90625 32.71875 \nQ 45.90625 40.484375 42.875 44.328125 \nQ 39.84375 48.1875 33.796875 48.1875 \nQ 26.515625 48.1875 22.3125 43.546875 \nQ 18.109375 38.921875 18.109375 30.90625 \nL 18.109375 0 \nL 9.078125 0 \nL 9.078125 54.6875 \nL 18.109375 54.6875 \nL 18.109375 46.1875 \nQ 21.34375 51.125 25.703125 53.5625 \nQ 30.078125 56 35.796875 56 \nQ 45.21875 56 50.046875 50.171875 \nQ 54.890625 44.34375 54.890625 33.015625 \nz\n\" id=\"DejaVuSans-110\"/>\n      </defs>\n      <g transform=\"translate(244.319375 284.843906)rotate(-90)scale(0.1 -0.1)\">\n       <use xlink:href=\"#DejaVuSans-70\"/>\n       <use x=\"50.269531\" xlink:href=\"#DejaVuSans-105\"/>\n       <use x=\"78.052734\" xlink:href=\"#DejaVuSans-114\"/>\n       <use x=\"119.166016\" xlink:href=\"#DejaVuSans-115\"/>\n       <use x=\"171.265625\" xlink:href=\"#DejaVuSans-116\"/>\n       <use x=\"210.474609\" xlink:href=\"#DejaVuSans-110\"/>\n       <use x=\"273.853516\" xlink:href=\"#DejaVuSans-97\"/>\n       <use x=\"335.132812\" xlink:href=\"#DejaVuSans-109\"/>\n       <use x=\"432.544922\" xlink:href=\"#DejaVuSans-101\"/>\n      </g>\n     </g>\n    </g>\n    <g id=\"xtick_12\">\n     <g id=\"line2d_12\">\n      <g>\n       <use style=\"stroke:#000000;stroke-width:0.8;\" x=\"263.88\" xlink:href=\"#med7616075a\" y=\"228.439219\"/>\n      </g>\n     </g>\n     <g id=\"text_12\">\n      <!-- Lastname -->\n      <defs>\n       <path d=\"M 9.8125 72.90625 \nL 19.671875 72.90625 \nL 19.671875 8.296875 \nL 55.171875 8.296875 \nL 55.171875 0 \nL 9.8125 0 \nz\n\" id=\"DejaVuSans-76\"/>\n      </defs>\n      <g transform=\"translate(266.639375 284.628281)rotate(-90)scale(0.1 -0.1)\">\n       <use xlink:href=\"#DejaVuSans-76\"/>\n       <use x=\"55.712891\" xlink:href=\"#DejaVuSans-97\"/>\n       <use x=\"116.992188\" xlink:href=\"#DejaVuSans-115\"/>\n       <use x=\"169.091797\" xlink:href=\"#DejaVuSans-116\"/>\n       <use x=\"208.300781\" xlink:href=\"#DejaVuSans-110\"/>\n       <use x=\"271.679688\" xlink:href=\"#DejaVuSans-97\"/>\n       <use x=\"332.958984\" xlink:href=\"#DejaVuSans-109\"/>\n       <use x=\"430.371094\" xlink:href=\"#DejaVuSans-101\"/>\n      </g>\n     </g>\n    </g>\n   </g>\n   <g id=\"matplotlib.axis_2\"/>\n  </g>\n  <g id=\"axes_2\">\n   <g id=\"patch_3\">\n    <path clip-path=\"url(#p46fab14c7c)\" d=\"M 291.78 228.439219 \nL 291.78 227.589844 \nL 291.78 11.848594 \nL 291.78 10.999219 \nL 302.652 10.999219 \nL 302.652 11.848594 \nL 302.652 227.589844 \nL 302.652 228.439219 \nz\n\" style=\"fill:#ffffff;stroke:#ffffff;stroke-linejoin:miter;stroke-width:0.01;\"/>\n   </g>\n   <image height=\"217\" id=\"image249ed3faad\" transform=\"scale(1 -1)translate(0 -217)\" width=\"11\" x=\"292\" xlink:href=\"data:image/png;base64,\niVBORw0KGgoAAAANSUhEUgAAAAsAAADZCAYAAAD2WsoCAAAABHNCSVQICAgIfAhkiAAAAV5JREFUaIHd2tFthEAMhOFdG66y1JD+C0lyaWG/h5HM8WyNZn57DQL2V32/1+F17dqntetau86Ldzcomw0o3gWeSXnFAm7hnEMXpJGzkaMxJOAMGu+eEZA8G7rj2nUtWTJBG0Eaohz0nFJeokzDb5zJRoyGKRsNUR5CQ+Z5SlMIHQWccrqheAq6YMDYkrF2i/Knt3uK5/NafN54Ygc/v93PowG6zwwYnefz8402ZqyCKTSC7QbPQXSVsjGEBjwiJWmslQsYUxYaxlk8U0CygQGl+NwFB0zR6PqbYKNiNErOYMdmIxhQintDu0l5SrG0+5LhH+KZlK/6nWCjZOo62G6g0UYjNUhIA2zcW2Yjt2RoP4syBpQRjc1GSwepKa/9A8qxptCI0vATulto5M4gocOAsV0XDJi6Ab1WbNfRSbGAx7WofJsyfG6Qt3tXy4eMEhs3vM9SG6BMnlt+BBIb/6Y/gWhq+41lAAAAAElFTkSuQmCC\" y=\"-11\"/>\n   <g id=\"matplotlib.axis_3\"/>\n   <g id=\"matplotlib.axis_4\">\n    <g id=\"ytick_1\">\n     <g id=\"line2d_13\">\n      <defs>\n       <path d=\"M 0 0 \nL 3.5 0 \n\" id=\"m994f94c01c\" style=\"stroke:#000000;stroke-width:0.8;\"/>\n      </defs>\n      <g>\n       <use style=\"stroke:#000000;stroke-width:0.8;\" x=\"302.652\" xlink:href=\"#m994f94c01c\" y=\"228.439219\"/>\n      </g>\n     </g>\n     <g id=\"text_13\">\n      <!-- 0.0 -->\n      <defs>\n       <path d=\"M 10.6875 12.40625 \nL 21 12.40625 \nL 21 0 \nL 10.6875 0 \nz\n\" id=\"DejaVuSans-46\"/>\n      </defs>\n      <g transform=\"translate(309.652 232.238438)scale(0.1 -0.1)\">\n       <use xlink:href=\"#DejaVuSans-48\"/>\n       <use x=\"63.623047\" xlink:href=\"#DejaVuSans-46\"/>\n       <use x=\"95.410156\" xlink:href=\"#DejaVuSans-48\"/>\n      </g>\n     </g>\n    </g>\n    <g id=\"ytick_2\">\n     <g id=\"line2d_14\">\n      <g>\n       <use style=\"stroke:#000000;stroke-width:0.8;\" x=\"302.652\" xlink:href=\"#m994f94c01c\" y=\"184.951219\"/>\n      </g>\n     </g>\n     <g id=\"text_14\">\n      <!-- 0.2 -->\n      <g transform=\"translate(309.652 188.750437)scale(0.1 -0.1)\">\n       <use xlink:href=\"#DejaVuSans-48\"/>\n       <use x=\"63.623047\" xlink:href=\"#DejaVuSans-46\"/>\n       <use x=\"95.410156\" xlink:href=\"#DejaVuSans-50\"/>\n      </g>\n     </g>\n    </g>\n    <g id=\"ytick_3\">\n     <g id=\"line2d_15\">\n      <g>\n       <use style=\"stroke:#000000;stroke-width:0.8;\" x=\"302.652\" xlink:href=\"#m994f94c01c\" y=\"141.463219\"/>\n      </g>\n     </g>\n     <g id=\"text_15\">\n      <!-- 0.4 -->\n      <defs>\n       <path d=\"M 37.796875 64.3125 \nL 12.890625 25.390625 \nL 37.796875 25.390625 \nz\nM 35.203125 72.90625 \nL 47.609375 72.90625 \nL 47.609375 25.390625 \nL 58.015625 25.390625 \nL 58.015625 17.1875 \nL 47.609375 17.1875 \nL 47.609375 0 \nL 37.796875 0 \nL 37.796875 17.1875 \nL 4.890625 17.1875 \nL 4.890625 26.703125 \nz\n\" id=\"DejaVuSans-52\"/>\n      </defs>\n      <g transform=\"translate(309.652 145.262438)scale(0.1 -0.1)\">\n       <use xlink:href=\"#DejaVuSans-48\"/>\n       <use x=\"63.623047\" xlink:href=\"#DejaVuSans-46\"/>\n       <use x=\"95.410156\" xlink:href=\"#DejaVuSans-52\"/>\n      </g>\n     </g>\n    </g>\n    <g id=\"ytick_4\">\n     <g id=\"line2d_16\">\n      <g>\n       <use style=\"stroke:#000000;stroke-width:0.8;\" x=\"302.652\" xlink:href=\"#m994f94c01c\" y=\"97.975219\"/>\n      </g>\n     </g>\n     <g id=\"text_16\">\n      <!-- 0.6 -->\n      <g transform=\"translate(309.652 101.774437)scale(0.1 -0.1)\">\n       <use xlink:href=\"#DejaVuSans-48\"/>\n       <use x=\"63.623047\" xlink:href=\"#DejaVuSans-46\"/>\n       <use x=\"95.410156\" xlink:href=\"#DejaVuSans-54\"/>\n      </g>\n     </g>\n    </g>\n    <g id=\"ytick_5\">\n     <g id=\"line2d_17\">\n      <g>\n       <use style=\"stroke:#000000;stroke-width:0.8;\" x=\"302.652\" xlink:href=\"#m994f94c01c\" y=\"54.487219\"/>\n      </g>\n     </g>\n     <g id=\"text_17\">\n      <!-- 0.8 -->\n      <g transform=\"translate(309.652 58.286438)scale(0.1 -0.1)\">\n       <use xlink:href=\"#DejaVuSans-48\"/>\n       <use x=\"63.623047\" xlink:href=\"#DejaVuSans-46\"/>\n       <use x=\"95.410156\" xlink:href=\"#DejaVuSans-56\"/>\n      </g>\n     </g>\n    </g>\n    <g id=\"ytick_6\">\n     <g id=\"line2d_18\">\n      <g>\n       <use style=\"stroke:#000000;stroke-width:0.8;\" x=\"302.652\" xlink:href=\"#m994f94c01c\" y=\"10.999219\"/>\n      </g>\n     </g>\n     <g id=\"text_18\">\n      <!-- 1.0 -->\n      <g transform=\"translate(309.652 14.798438)scale(0.1 -0.1)\">\n       <use xlink:href=\"#DejaVuSans-49\"/>\n       <use x=\"63.623047\" xlink:href=\"#DejaVuSans-46\"/>\n       <use x=\"95.410156\" xlink:href=\"#DejaVuSans-48\"/>\n      </g>\n     </g>\n    </g>\n   </g>\n   <g id=\"patch_4\">\n    <path d=\"M 291.78 228.439219 \nL 291.78 227.589844 \nL 291.78 11.848594 \nL 291.78 10.999219 \nL 302.652 10.999219 \nL 302.652 11.848594 \nL 302.652 227.589844 \nL 302.652 228.439219 \nz\n\" style=\"fill:none;\"/>\n   </g>\n  </g>\n </g>\n <defs>\n  <clipPath id=\"p908b3a8fb9\">\n   <rect height=\"217.44\" width=\"267.84\" x=\"7.2\" y=\"10.999219\"/>\n  </clipPath>\n  <clipPath id=\"p46fab14c7c\">\n   <rect height=\"217.44\" width=\"10.872\" x=\"291.78\" y=\"10.999219\"/>\n  </clipPath>\n </defs>\n</svg>\n"
          },
          "metadata": {
            "needs_background": "light"
          }
        }
      ]
    },
    {
      "cell_type": "code",
      "metadata": {
        "colab": {
          "base_uri": "https://localhost:8080/"
        },
        "id": "oQixdg7nmROa",
        "outputId": "1d3fa6ba-8c2d-49e6-ad71-21f6adf7bc09"
      },
      "source": [
        "patientheartrate['Age'].fillna(patientheartrate['Age'].mean(), inplace =False)"
      ],
      "execution_count": 70,
      "outputs": [
        {
          "output_type": "execute_result",
          "data": {
            "text/plain": [
              "0     56.0\n",
              "1     34.0\n",
              "2     16.0\n",
              "3     36.1\n",
              "4     54.0\n",
              "5     52.0\n",
              "6     19.0\n",
              "7     32.0\n",
              "11    12.0\n",
              "12    36.1\n",
              "13    34.0\n",
              "16    52.0\n",
              "Name: Age, dtype: float64"
            ]
          },
          "metadata": {},
          "execution_count": 70
        }
      ]
    },
    {
      "cell_type": "markdown",
      "metadata": {
        "id": "3t9xgKt_mW7s"
      },
      "source": [
        "\n",
        "Vấn đề 8\n",
        "\n",
        "melt() function is useful to massage a DataFrame into a format where one or more columns are identifier variables, while all other columns, considered measured variables, are unpivoted to the row axis, leaving just two non-identifier columns, variable and value. (Tham khảo: https://www.geeksforgeeks.org/python-pandas-melt/)\n",
        "\n",
        "\n",
        "Ví dụ: patientheartrate là dataframe, trong đó các cột m006, m0612,m1218, f0612, f1218 xác định thông tin thuộc tính. Chẳng hạn, m1218, chứa được các thông tin gồm m: male, 1218 ~ 12-18 (mm-dd). Trong khi đó, giá trị hiện tại của cột là thông tin huyết áp (PluseRate) tương ứng.\n",
        "\n",
        "\n",
        "Ứng dụng melt() function để cập nhật là các columns trong dataframe trên bằng cách giữ lại các cột ID, Age, Weight, Firstname, Lastname. Chuyển các cột m0006, m0612, m1212, f0621, f1218 thành values của cột sex_and_time, giá trị hiện tại của các cột đó sẽ là giá trị của cột mới PluseRate"
      ]
    },
    {
      "cell_type": "code",
      "metadata": {
        "colab": {
          "base_uri": "https://localhost:8080/",
          "height": 418
        },
        "id": "LrB-pYqomZqc",
        "outputId": "e13f75d5-fb16-4af0-ee92-a8eb293d0aca"
      },
      "source": [
        "patientheartrate"
      ],
      "execution_count": 71,
      "outputs": [
        {
          "output_type": "execute_result",
          "data": {
            "text/html": [
              "<div>\n",
              "<style scoped>\n",
              "    .dataframe tbody tr th:only-of-type {\n",
              "        vertical-align: middle;\n",
              "    }\n",
              "\n",
              "    .dataframe tbody tr th {\n",
              "        vertical-align: top;\n",
              "    }\n",
              "\n",
              "    .dataframe thead th {\n",
              "        text-align: right;\n",
              "    }\n",
              "</style>\n",
              "<table border=\"1\" class=\"dataframe\">\n",
              "  <thead>\n",
              "    <tr style=\"text-align: right;\">\n",
              "      <th></th>\n",
              "      <th>ID</th>\n",
              "      <th>Name</th>\n",
              "      <th>Age</th>\n",
              "      <th>Weight</th>\n",
              "      <th>m0006</th>\n",
              "      <th>m0612</th>\n",
              "      <th>m1218</th>\n",
              "      <th>f006</th>\n",
              "      <th>f0612</th>\n",
              "      <th>f1218</th>\n",
              "      <th>Firstname</th>\n",
              "      <th>Lastname</th>\n",
              "    </tr>\n",
              "  </thead>\n",
              "  <tbody>\n",
              "    <tr>\n",
              "      <th>0</th>\n",
              "      <td>1.0</td>\n",
              "      <td>Mickéy Mousé</td>\n",
              "      <td>56.0</td>\n",
              "      <td>70kgs</td>\n",
              "      <td>72</td>\n",
              "      <td>69</td>\n",
              "      <td>71</td>\n",
              "      <td>-</td>\n",
              "      <td>-</td>\n",
              "      <td>-</td>\n",
              "      <td>Micky</td>\n",
              "      <td>Mousé</td>\n",
              "    </tr>\n",
              "    <tr>\n",
              "      <th>1</th>\n",
              "      <td>2.0</td>\n",
              "      <td>Donald Duck</td>\n",
              "      <td>34.0</td>\n",
              "      <td>70kgs</td>\n",
              "      <td>-</td>\n",
              "      <td>-</td>\n",
              "      <td>-</td>\n",
              "      <td>85</td>\n",
              "      <td>84</td>\n",
              "      <td>76</td>\n",
              "      <td>Donald</td>\n",
              "      <td>Duck</td>\n",
              "    </tr>\n",
              "    <tr>\n",
              "      <th>2</th>\n",
              "      <td>3.0</td>\n",
              "      <td>Mini Mouse</td>\n",
              "      <td>16.0</td>\n",
              "      <td>NaN</td>\n",
              "      <td>-</td>\n",
              "      <td>-</td>\n",
              "      <td>-</td>\n",
              "      <td>65</td>\n",
              "      <td>69</td>\n",
              "      <td>72</td>\n",
              "      <td>Mini</td>\n",
              "      <td>Mouse</td>\n",
              "    </tr>\n",
              "    <tr>\n",
              "      <th>3</th>\n",
              "      <td>4.0</td>\n",
              "      <td>Scrooge McDuck</td>\n",
              "      <td>NaN</td>\n",
              "      <td>78kgs</td>\n",
              "      <td>78</td>\n",
              "      <td>79</td>\n",
              "      <td>72</td>\n",
              "      <td>-</td>\n",
              "      <td>-</td>\n",
              "      <td>-</td>\n",
              "      <td>Scrooge</td>\n",
              "      <td>McDuck</td>\n",
              "    </tr>\n",
              "    <tr>\n",
              "      <th>4</th>\n",
              "      <td>5.0</td>\n",
              "      <td>Pink Panther</td>\n",
              "      <td>54.0</td>\n",
              "      <td>90kgs</td>\n",
              "      <td>-</td>\n",
              "      <td>-</td>\n",
              "      <td>-</td>\n",
              "      <td>69</td>\n",
              "      <td>NaN</td>\n",
              "      <td>75</td>\n",
              "      <td>Pink</td>\n",
              "      <td>Panther</td>\n",
              "    </tr>\n",
              "    <tr>\n",
              "      <th>5</th>\n",
              "      <td>6.0</td>\n",
              "      <td>Huey McDuck</td>\n",
              "      <td>52.0</td>\n",
              "      <td>85kgs</td>\n",
              "      <td>-</td>\n",
              "      <td>-</td>\n",
              "      <td>-</td>\n",
              "      <td>68</td>\n",
              "      <td>75</td>\n",
              "      <td>72</td>\n",
              "      <td>Huey</td>\n",
              "      <td>McDuck</td>\n",
              "    </tr>\n",
              "    <tr>\n",
              "      <th>6</th>\n",
              "      <td>7.0</td>\n",
              "      <td>Dewey McDuck</td>\n",
              "      <td>19.0</td>\n",
              "      <td>56kgs</td>\n",
              "      <td>-</td>\n",
              "      <td>-</td>\n",
              "      <td>-</td>\n",
              "      <td>71</td>\n",
              "      <td>78</td>\n",
              "      <td>75</td>\n",
              "      <td>Dewey</td>\n",
              "      <td>McDuck</td>\n",
              "    </tr>\n",
              "    <tr>\n",
              "      <th>7</th>\n",
              "      <td>8.0</td>\n",
              "      <td>Scööpy Doo</td>\n",
              "      <td>32.0</td>\n",
              "      <td>78kgs</td>\n",
              "      <td>78</td>\n",
              "      <td>76</td>\n",
              "      <td>75</td>\n",
              "      <td>-</td>\n",
              "      <td>-</td>\n",
              "      <td>-</td>\n",
              "      <td>Scpy</td>\n",
              "      <td>Doo</td>\n",
              "    </tr>\n",
              "    <tr>\n",
              "      <th>11</th>\n",
              "      <td>10.0</td>\n",
              "      <td>Louie McDuck</td>\n",
              "      <td>12.0</td>\n",
              "      <td>45kgs</td>\n",
              "      <td>-</td>\n",
              "      <td>-</td>\n",
              "      <td>-</td>\n",
              "      <td>92</td>\n",
              "      <td>95</td>\n",
              "      <td>87</td>\n",
              "      <td>Louie</td>\n",
              "      <td>McDuck</td>\n",
              "    </tr>\n",
              "    <tr>\n",
              "      <th>12</th>\n",
              "      <td>11.0</td>\n",
              "      <td>Henry Nam</td>\n",
              "      <td>NaN</td>\n",
              "      <td>60kgs</td>\n",
              "      <td>78</td>\n",
              "      <td>75</td>\n",
              "      <td>72</td>\n",
              "      <td>-</td>\n",
              "      <td>-</td>\n",
              "      <td>-</td>\n",
              "      <td>Henry</td>\n",
              "      <td>Nam</td>\n",
              "    </tr>\n",
              "    <tr>\n",
              "      <th>13</th>\n",
              "      <td>12.0</td>\n",
              "      <td>Michel Long</td>\n",
              "      <td>34.0</td>\n",
              "      <td>NaN</td>\n",
              "      <td>65</td>\n",
              "      <td>67</td>\n",
              "      <td>55</td>\n",
              "      <td>-</td>\n",
              "      <td>-</td>\n",
              "      <td>-</td>\n",
              "      <td>Michel</td>\n",
              "      <td>Long</td>\n",
              "    </tr>\n",
              "    <tr>\n",
              "      <th>16</th>\n",
              "      <td>15.0</td>\n",
              "      <td>NaN</td>\n",
              "      <td>52.0</td>\n",
              "      <td>81kgs</td>\n",
              "      <td>-</td>\n",
              "      <td>-</td>\n",
              "      <td>-</td>\n",
              "      <td>68</td>\n",
              "      <td>75</td>\n",
              "      <td>72</td>\n",
              "      <td>NaN</td>\n",
              "      <td>NaN</td>\n",
              "    </tr>\n",
              "  </tbody>\n",
              "</table>\n",
              "</div>"
            ],
            "text/plain": [
              "      ID            Name   Age Weight m0006  ... f006 f0612 f1218 Firstname Lastname\n",
              "0    1.0    Mickéy Mousé  56.0  70kgs    72  ...    -     -     -     Micky    Mousé\n",
              "1    2.0     Donald Duck  34.0  70kgs     -  ...   85    84    76    Donald     Duck\n",
              "2    3.0      Mini Mouse  16.0    NaN     -  ...   65    69    72      Mini    Mouse\n",
              "3    4.0  Scrooge McDuck   NaN  78kgs    78  ...    -     -     -   Scrooge   McDuck\n",
              "4    5.0    Pink Panther  54.0  90kgs     -  ...   69   NaN    75      Pink  Panther\n",
              "5    6.0     Huey McDuck  52.0  85kgs     -  ...   68    75    72      Huey   McDuck\n",
              "6    7.0    Dewey McDuck  19.0  56kgs     -  ...   71    78    75     Dewey   McDuck\n",
              "7    8.0      Scööpy Doo  32.0  78kgs    78  ...    -     -     -      Scpy      Doo\n",
              "11  10.0    Louie McDuck  12.0  45kgs     -  ...   92    95    87     Louie   McDuck\n",
              "12  11.0       Henry Nam   NaN  60kgs    78  ...    -     -     -     Henry      Nam\n",
              "13  12.0     Michel Long  34.0    NaN    65  ...    -     -     -    Michel     Long\n",
              "16  15.0             NaN  52.0  81kgs     -  ...   68    75    72       NaN      NaN\n",
              "\n",
              "[12 rows x 12 columns]"
            ]
          },
          "metadata": {},
          "execution_count": 71
        }
      ]
    },
    {
      "cell_type": "code",
      "metadata": {
        "id": "2FtR_A8Imb58"
      },
      "source": [
        "df = pd.melt(patientheartrate, id_vars=['ID', 'Age', 'Weight', 'Firstname', 'Lastname'], value_name=\"PulseRate\",var_name=\"sex_and_time\").sort_values(['ID', 'Age', 'Weight', 'Firstname', 'Lastname'])"
      ],
      "execution_count": 72,
      "outputs": []
    },
    {
      "cell_type": "code",
      "metadata": {
        "colab": {
          "base_uri": "https://localhost:8080/"
        },
        "id": "tJt1y__Lmdtl",
        "outputId": "52187370-402e-41dd-9b2d-8f751916c6c8"
      },
      "source": [
        "len(df['PulseRate'])"
      ],
      "execution_count": 73,
      "outputs": [
        {
          "output_type": "execute_result",
          "data": {
            "text/plain": [
              "84"
            ]
          },
          "metadata": {},
          "execution_count": 73
        }
      ]
    },
    {
      "cell_type": "code",
      "metadata": {
        "colab": {
          "base_uri": "https://localhost:8080/",
          "height": 357
        },
        "id": "jT9qlXv_mfGb",
        "outputId": "74b652e7-93bb-4714-8ab5-e68fb35149c1"
      },
      "source": [
        "df.head(10)"
      ],
      "execution_count": 74,
      "outputs": [
        {
          "output_type": "execute_result",
          "data": {
            "text/html": [
              "<div>\n",
              "<style scoped>\n",
              "    .dataframe tbody tr th:only-of-type {\n",
              "        vertical-align: middle;\n",
              "    }\n",
              "\n",
              "    .dataframe tbody tr th {\n",
              "        vertical-align: top;\n",
              "    }\n",
              "\n",
              "    .dataframe thead th {\n",
              "        text-align: right;\n",
              "    }\n",
              "</style>\n",
              "<table border=\"1\" class=\"dataframe\">\n",
              "  <thead>\n",
              "    <tr style=\"text-align: right;\">\n",
              "      <th></th>\n",
              "      <th>ID</th>\n",
              "      <th>Age</th>\n",
              "      <th>Weight</th>\n",
              "      <th>Firstname</th>\n",
              "      <th>Lastname</th>\n",
              "      <th>sex_and_time</th>\n",
              "      <th>PulseRate</th>\n",
              "    </tr>\n",
              "  </thead>\n",
              "  <tbody>\n",
              "    <tr>\n",
              "      <th>0</th>\n",
              "      <td>1.0</td>\n",
              "      <td>56.0</td>\n",
              "      <td>70kgs</td>\n",
              "      <td>Micky</td>\n",
              "      <td>Mousé</td>\n",
              "      <td>Name</td>\n",
              "      <td>Mickéy Mousé</td>\n",
              "    </tr>\n",
              "    <tr>\n",
              "      <th>12</th>\n",
              "      <td>1.0</td>\n",
              "      <td>56.0</td>\n",
              "      <td>70kgs</td>\n",
              "      <td>Micky</td>\n",
              "      <td>Mousé</td>\n",
              "      <td>m0006</td>\n",
              "      <td>72</td>\n",
              "    </tr>\n",
              "    <tr>\n",
              "      <th>24</th>\n",
              "      <td>1.0</td>\n",
              "      <td>56.0</td>\n",
              "      <td>70kgs</td>\n",
              "      <td>Micky</td>\n",
              "      <td>Mousé</td>\n",
              "      <td>m0612</td>\n",
              "      <td>69</td>\n",
              "    </tr>\n",
              "    <tr>\n",
              "      <th>36</th>\n",
              "      <td>1.0</td>\n",
              "      <td>56.0</td>\n",
              "      <td>70kgs</td>\n",
              "      <td>Micky</td>\n",
              "      <td>Mousé</td>\n",
              "      <td>m1218</td>\n",
              "      <td>71</td>\n",
              "    </tr>\n",
              "    <tr>\n",
              "      <th>48</th>\n",
              "      <td>1.0</td>\n",
              "      <td>56.0</td>\n",
              "      <td>70kgs</td>\n",
              "      <td>Micky</td>\n",
              "      <td>Mousé</td>\n",
              "      <td>f006</td>\n",
              "      <td>-</td>\n",
              "    </tr>\n",
              "    <tr>\n",
              "      <th>60</th>\n",
              "      <td>1.0</td>\n",
              "      <td>56.0</td>\n",
              "      <td>70kgs</td>\n",
              "      <td>Micky</td>\n",
              "      <td>Mousé</td>\n",
              "      <td>f0612</td>\n",
              "      <td>-</td>\n",
              "    </tr>\n",
              "    <tr>\n",
              "      <th>72</th>\n",
              "      <td>1.0</td>\n",
              "      <td>56.0</td>\n",
              "      <td>70kgs</td>\n",
              "      <td>Micky</td>\n",
              "      <td>Mousé</td>\n",
              "      <td>f1218</td>\n",
              "      <td>-</td>\n",
              "    </tr>\n",
              "    <tr>\n",
              "      <th>1</th>\n",
              "      <td>2.0</td>\n",
              "      <td>34.0</td>\n",
              "      <td>70kgs</td>\n",
              "      <td>Donald</td>\n",
              "      <td>Duck</td>\n",
              "      <td>Name</td>\n",
              "      <td>Donald Duck</td>\n",
              "    </tr>\n",
              "    <tr>\n",
              "      <th>13</th>\n",
              "      <td>2.0</td>\n",
              "      <td>34.0</td>\n",
              "      <td>70kgs</td>\n",
              "      <td>Donald</td>\n",
              "      <td>Duck</td>\n",
              "      <td>m0006</td>\n",
              "      <td>-</td>\n",
              "    </tr>\n",
              "    <tr>\n",
              "      <th>25</th>\n",
              "      <td>2.0</td>\n",
              "      <td>34.0</td>\n",
              "      <td>70kgs</td>\n",
              "      <td>Donald</td>\n",
              "      <td>Duck</td>\n",
              "      <td>m0612</td>\n",
              "      <td>-</td>\n",
              "    </tr>\n",
              "  </tbody>\n",
              "</table>\n",
              "</div>"
            ],
            "text/plain": [
              "     ID   Age Weight Firstname Lastname sex_and_time     PulseRate\n",
              "0   1.0  56.0  70kgs     Micky    Mousé         Name  Mickéy Mousé\n",
              "12  1.0  56.0  70kgs     Micky    Mousé        m0006            72\n",
              "24  1.0  56.0  70kgs     Micky    Mousé        m0612            69\n",
              "36  1.0  56.0  70kgs     Micky    Mousé        m1218            71\n",
              "48  1.0  56.0  70kgs     Micky    Mousé         f006             -\n",
              "60  1.0  56.0  70kgs     Micky    Mousé        f0612             -\n",
              "72  1.0  56.0  70kgs     Micky    Mousé        f1218             -\n",
              "1   2.0  34.0  70kgs    Donald     Duck         Name   Donald Duck\n",
              "13  2.0  34.0  70kgs    Donald     Duck        m0006             -\n",
              "25  2.0  34.0  70kgs    Donald     Duck        m0612             -"
            ]
          },
          "metadata": {},
          "execution_count": 74
        }
      ]
    },
    {
      "cell_type": "code",
      "metadata": {
        "id": "D7LxrsVlmgUL"
      },
      "source": [
        "#Extract sex, hour lower bound and hour upper dound group\n",
        "tmp_df= df[\"sex_and_time\"].str.extract(\"(\\D)(\\d+)(\\d{2})\", expand=True)"
      ],
      "execution_count": 75,
      "outputs": []
    },
    {
      "cell_type": "code",
      "metadata": {
        "id": "yoBQO9pwmhwb"
      },
      "source": [
        "#Name columns\n",
        "tmp_df.columns=[\"Sex\",\"hours_lower\",\"hours_upper\"]"
      ],
      "execution_count": 76,
      "outputs": []
    },
    {
      "cell_type": "code",
      "metadata": {
        "id": "opCrRF0imjEz"
      },
      "source": [
        "#Create Time column based on \"hours_lower\" and \"hours_upper\" columns\n",
        "tmp_df[\"Time\"]=tmp_df[\"hours_lower\"] + \"-\"+ tmp_df[\"hours_upper\"]"
      ],
      "execution_count": 77,
      "outputs": []
    },
    {
      "cell_type": "code",
      "metadata": {
        "id": "kkrFWZ1gmkJV"
      },
      "source": [
        "#Merge\n",
        "df =pd.concat([df, tmp_df], axis=1)"
      ],
      "execution_count": 78,
      "outputs": []
    },
    {
      "cell_type": "code",
      "metadata": {
        "id": "Zt0fu0fwmlL0"
      },
      "source": [
        "#Drop unnecessary columns and rows\n",
        "df = df.drop(['sex_and_time','hours_lower','hours_upper'], axis=1)\n",
        "df = df.dropna()"
      ],
      "execution_count": 79,
      "outputs": []
    },
    {
      "cell_type": "code",
      "metadata": {
        "colab": {
          "base_uri": "https://localhost:8080/"
        },
        "id": "2EEbcn6QmmTL",
        "outputId": "12c03325-d757-4013-e722-fe2a61dc275a"
      },
      "source": [
        "len(df['PulseRate'])"
      ],
      "execution_count": 80,
      "outputs": [
        {
          "output_type": "execute_result",
          "data": {
            "text/plain": [
              "41"
            ]
          },
          "metadata": {},
          "execution_count": 80
        }
      ]
    },
    {
      "cell_type": "code",
      "metadata": {
        "colab": {
          "base_uri": "https://localhost:8080/",
          "height": 357
        },
        "id": "WpvayWeWmnt7",
        "outputId": "c611bffb-f078-4258-8007-dc1ef93a1312"
      },
      "source": [
        "\n",
        "df.head(10)"
      ],
      "execution_count": 81,
      "outputs": [
        {
          "output_type": "execute_result",
          "data": {
            "text/html": [
              "<div>\n",
              "<style scoped>\n",
              "    .dataframe tbody tr th:only-of-type {\n",
              "        vertical-align: middle;\n",
              "    }\n",
              "\n",
              "    .dataframe tbody tr th {\n",
              "        vertical-align: top;\n",
              "    }\n",
              "\n",
              "    .dataframe thead th {\n",
              "        text-align: right;\n",
              "    }\n",
              "</style>\n",
              "<table border=\"1\" class=\"dataframe\">\n",
              "  <thead>\n",
              "    <tr style=\"text-align: right;\">\n",
              "      <th></th>\n",
              "      <th>ID</th>\n",
              "      <th>Age</th>\n",
              "      <th>Weight</th>\n",
              "      <th>Firstname</th>\n",
              "      <th>Lastname</th>\n",
              "      <th>PulseRate</th>\n",
              "      <th>Sex</th>\n",
              "      <th>Time</th>\n",
              "    </tr>\n",
              "  </thead>\n",
              "  <tbody>\n",
              "    <tr>\n",
              "      <th>12</th>\n",
              "      <td>1.0</td>\n",
              "      <td>56.0</td>\n",
              "      <td>70kgs</td>\n",
              "      <td>Micky</td>\n",
              "      <td>Mousé</td>\n",
              "      <td>72</td>\n",
              "      <td>m</td>\n",
              "      <td>00-06</td>\n",
              "    </tr>\n",
              "    <tr>\n",
              "      <th>24</th>\n",
              "      <td>1.0</td>\n",
              "      <td>56.0</td>\n",
              "      <td>70kgs</td>\n",
              "      <td>Micky</td>\n",
              "      <td>Mousé</td>\n",
              "      <td>69</td>\n",
              "      <td>m</td>\n",
              "      <td>06-12</td>\n",
              "    </tr>\n",
              "    <tr>\n",
              "      <th>36</th>\n",
              "      <td>1.0</td>\n",
              "      <td>56.0</td>\n",
              "      <td>70kgs</td>\n",
              "      <td>Micky</td>\n",
              "      <td>Mousé</td>\n",
              "      <td>71</td>\n",
              "      <td>m</td>\n",
              "      <td>12-18</td>\n",
              "    </tr>\n",
              "    <tr>\n",
              "      <th>48</th>\n",
              "      <td>1.0</td>\n",
              "      <td>56.0</td>\n",
              "      <td>70kgs</td>\n",
              "      <td>Micky</td>\n",
              "      <td>Mousé</td>\n",
              "      <td>-</td>\n",
              "      <td>f</td>\n",
              "      <td>0-06</td>\n",
              "    </tr>\n",
              "    <tr>\n",
              "      <th>60</th>\n",
              "      <td>1.0</td>\n",
              "      <td>56.0</td>\n",
              "      <td>70kgs</td>\n",
              "      <td>Micky</td>\n",
              "      <td>Mousé</td>\n",
              "      <td>-</td>\n",
              "      <td>f</td>\n",
              "      <td>06-12</td>\n",
              "    </tr>\n",
              "    <tr>\n",
              "      <th>72</th>\n",
              "      <td>1.0</td>\n",
              "      <td>56.0</td>\n",
              "      <td>70kgs</td>\n",
              "      <td>Micky</td>\n",
              "      <td>Mousé</td>\n",
              "      <td>-</td>\n",
              "      <td>f</td>\n",
              "      <td>12-18</td>\n",
              "    </tr>\n",
              "    <tr>\n",
              "      <th>13</th>\n",
              "      <td>2.0</td>\n",
              "      <td>34.0</td>\n",
              "      <td>70kgs</td>\n",
              "      <td>Donald</td>\n",
              "      <td>Duck</td>\n",
              "      <td>-</td>\n",
              "      <td>m</td>\n",
              "      <td>00-06</td>\n",
              "    </tr>\n",
              "    <tr>\n",
              "      <th>25</th>\n",
              "      <td>2.0</td>\n",
              "      <td>34.0</td>\n",
              "      <td>70kgs</td>\n",
              "      <td>Donald</td>\n",
              "      <td>Duck</td>\n",
              "      <td>-</td>\n",
              "      <td>m</td>\n",
              "      <td>06-12</td>\n",
              "    </tr>\n",
              "    <tr>\n",
              "      <th>37</th>\n",
              "      <td>2.0</td>\n",
              "      <td>34.0</td>\n",
              "      <td>70kgs</td>\n",
              "      <td>Donald</td>\n",
              "      <td>Duck</td>\n",
              "      <td>-</td>\n",
              "      <td>m</td>\n",
              "      <td>12-18</td>\n",
              "    </tr>\n",
              "    <tr>\n",
              "      <th>49</th>\n",
              "      <td>2.0</td>\n",
              "      <td>34.0</td>\n",
              "      <td>70kgs</td>\n",
              "      <td>Donald</td>\n",
              "      <td>Duck</td>\n",
              "      <td>85</td>\n",
              "      <td>f</td>\n",
              "      <td>0-06</td>\n",
              "    </tr>\n",
              "  </tbody>\n",
              "</table>\n",
              "</div>"
            ],
            "text/plain": [
              "     ID   Age Weight Firstname Lastname PulseRate Sex   Time\n",
              "12  1.0  56.0  70kgs     Micky    Mousé        72   m  00-06\n",
              "24  1.0  56.0  70kgs     Micky    Mousé        69   m  06-12\n",
              "36  1.0  56.0  70kgs     Micky    Mousé        71   m  12-18\n",
              "48  1.0  56.0  70kgs     Micky    Mousé         -   f   0-06\n",
              "60  1.0  56.0  70kgs     Micky    Mousé         -   f  06-12\n",
              "72  1.0  56.0  70kgs     Micky    Mousé         -   f  12-18\n",
              "13  2.0  34.0  70kgs    Donald     Duck         -   m  00-06\n",
              "25  2.0  34.0  70kgs    Donald     Duck         -   m  06-12\n",
              "37  2.0  34.0  70kgs    Donald     Duck         -   m  12-18\n",
              "49  2.0  34.0  70kgs    Donald     Duck        85   f   0-06"
            ]
          },
          "metadata": {},
          "execution_count": 81
        }
      ]
    },
    {
      "cell_type": "markdown",
      "metadata": {
        "id": "1rcGR92XmqMz"
      },
      "source": [
        "# **ĐỀ BÀI**\n",
        "\n",
        "***Hãy khảo sát tỉ lệ dữ liệu thiếu trên biến huyết áp. Dữ liệu bị thiếu thì hãy xử lý bằng phương pháp sau*** \n",
        "\n",
        "\n",
        "Thay thế bằng giá trị trung bình liền trước và liền sau của người đó. Nếu không được thì dùng 2)\n",
        "\n",
        "Thay thế bằng giá trị trung bình 2 giá liền trước của người đó. Nếu không được thì dùng 3)\n",
        "\n",
        "Thay thế bằng giá trị trung bình 2 giá liền sau của người đó. Nếu không được thì dùng 4)\n",
        "\n",
        "Trung bình của các giá trị huyết áp của người đó. Nếu không được thì dùng 5)\n",
        "\n",
        "Trung bình của các giá trị huyết áp của nhóm giới tính. Nếu không được thì dùng 6)\n",
        "\n",
        "Trung bình của các giá trị dữ liệu. Nếu không được thì thay bằng mức ổn định trong y học"
      ]
    },
    {
      "cell_type": "code",
      "metadata": {
        "colab": {
          "base_uri": "https://localhost:8080/",
          "height": 427
        },
        "id": "HdIMMM4UmvRS",
        "outputId": "566a2cb5-dc8c-44d2-ef32-e19257e3a042"
      },
      "source": [
        "import seaborn as sns\n",
        "%matplotlib inline\n",
        "%config InlineBackend.figure_format = 'svg'\n",
        "sns.heatmap(df.isna(), \n",
        "            yticklabels=False, \n",
        "            cbar=True, \n",
        "            cmap='viridis')"
      ],
      "execution_count": 82,
      "outputs": [
        {
          "output_type": "execute_result",
          "data": {
            "text/plain": [
              "<matplotlib.axes._subplots.AxesSubplot at 0x7f74ab265290>"
            ]
          },
          "metadata": {},
          "execution_count": 82
        },
        {
          "output_type": "display_data",
          "data": {
            "text/plain": [
              "<Figure size 432x288 with 2 Axes>"
            ],
            "image/svg+xml": "<?xml version=\"1.0\" encoding=\"utf-8\" standalone=\"no\"?>\n<!DOCTYPE svg PUBLIC \"-//W3C//DTD SVG 1.1//EN\"\n  \"http://www.w3.org/Graphics/SVG/1.1/DTD/svg11.dtd\">\n<!-- Created with matplotlib (https://matplotlib.org/) -->\n<svg height=\"292.043906pt\" version=\"1.1\" viewBox=\"0 0 353.859812 292.043906\" width=\"353.859812pt\" xmlns=\"http://www.w3.org/2000/svg\" xmlns:xlink=\"http://www.w3.org/1999/xlink\">\n <defs>\n  <style type=\"text/css\">\n*{stroke-linecap:butt;stroke-linejoin:round;}\n  </style>\n </defs>\n <g id=\"figure_1\">\n  <g id=\"patch_1\">\n   <path d=\"M 0 292.043906 \nL 353.859812 292.043906 \nL 353.859812 0 \nL 0 0 \nz\n\" style=\"fill:none;\"/>\n  </g>\n  <g id=\"axes_1\">\n   <g id=\"patch_2\">\n    <path d=\"M 7.2 228.439219 \nL 275.04 228.439219 \nL 275.04 10.999219 \nL 7.2 10.999219 \nz\n\" style=\"fill:#ffffff;\"/>\n   </g>\n   <g id=\"QuadMesh_1\">\n    <path clip-path=\"url(#pef45a4b300)\" d=\"M 7.2 10.999219 \nL 40.68 10.999219 \nL 40.68 16.302633 \nL 7.2 16.302633 \nL 7.2 10.999219 \n\" style=\"fill:#21918c;\"/>\n    <path clip-path=\"url(#pef45a4b300)\" d=\"M 40.68 10.999219 \nL 74.16 10.999219 \nL 74.16 16.302633 \nL 40.68 16.302633 \nL 40.68 10.999219 \n\" style=\"fill:#21918c;\"/>\n    <path clip-path=\"url(#pef45a4b300)\" d=\"M 74.16 10.999219 \nL 107.64 10.999219 \nL 107.64 16.302633 \nL 74.16 16.302633 \nL 74.16 10.999219 \n\" style=\"fill:#21918c;\"/>\n    <path clip-path=\"url(#pef45a4b300)\" d=\"M 107.64 10.999219 \nL 141.12 10.999219 \nL 141.12 16.302633 \nL 107.64 16.302633 \nL 107.64 10.999219 \n\" style=\"fill:#21918c;\"/>\n    <path clip-path=\"url(#pef45a4b300)\" d=\"M 141.12 10.999219 \nL 174.6 10.999219 \nL 174.6 16.302633 \nL 141.12 16.302633 \nL 141.12 10.999219 \n\" style=\"fill:#21918c;\"/>\n    <path clip-path=\"url(#pef45a4b300)\" d=\"M 174.6 10.999219 \nL 208.08 10.999219 \nL 208.08 16.302633 \nL 174.6 16.302633 \nL 174.6 10.999219 \n\" style=\"fill:#21918c;\"/>\n    <path clip-path=\"url(#pef45a4b300)\" d=\"M 208.08 10.999219 \nL 241.56 10.999219 \nL 241.56 16.302633 \nL 208.08 16.302633 \nL 208.08 10.999219 \n\" style=\"fill:#21918c;\"/>\n    <path clip-path=\"url(#pef45a4b300)\" d=\"M 241.56 10.999219 \nL 275.04 10.999219 \nL 275.04 16.302633 \nL 241.56 16.302633 \nL 241.56 10.999219 \n\" style=\"fill:#21918c;\"/>\n    <path clip-path=\"url(#pef45a4b300)\" d=\"M 7.2 16.302633 \nL 40.68 16.302633 \nL 40.68 21.606048 \nL 7.2 21.606048 \nL 7.2 16.302633 \n\" style=\"fill:#21918c;\"/>\n    <path clip-path=\"url(#pef45a4b300)\" d=\"M 40.68 16.302633 \nL 74.16 16.302633 \nL 74.16 21.606048 \nL 40.68 21.606048 \nL 40.68 16.302633 \n\" style=\"fill:#21918c;\"/>\n    <path clip-path=\"url(#pef45a4b300)\" d=\"M 74.16 16.302633 \nL 107.64 16.302633 \nL 107.64 21.606048 \nL 74.16 21.606048 \nL 74.16 16.302633 \n\" style=\"fill:#21918c;\"/>\n    <path clip-path=\"url(#pef45a4b300)\" d=\"M 107.64 16.302633 \nL 141.12 16.302633 \nL 141.12 21.606048 \nL 107.64 21.606048 \nL 107.64 16.302633 \n\" style=\"fill:#21918c;\"/>\n    <path clip-path=\"url(#pef45a4b300)\" d=\"M 141.12 16.302633 \nL 174.6 16.302633 \nL 174.6 21.606048 \nL 141.12 21.606048 \nL 141.12 16.302633 \n\" style=\"fill:#21918c;\"/>\n    <path clip-path=\"url(#pef45a4b300)\" d=\"M 174.6 16.302633 \nL 208.08 16.302633 \nL 208.08 21.606048 \nL 174.6 21.606048 \nL 174.6 16.302633 \n\" style=\"fill:#21918c;\"/>\n    <path clip-path=\"url(#pef45a4b300)\" d=\"M 208.08 16.302633 \nL 241.56 16.302633 \nL 241.56 21.606048 \nL 208.08 21.606048 \nL 208.08 16.302633 \n\" style=\"fill:#21918c;\"/>\n    <path clip-path=\"url(#pef45a4b300)\" d=\"M 241.56 16.302633 \nL 275.04 16.302633 \nL 275.04 21.606048 \nL 241.56 21.606048 \nL 241.56 16.302633 \n\" style=\"fill:#21918c;\"/>\n    <path clip-path=\"url(#pef45a4b300)\" d=\"M 7.2 21.606048 \nL 40.68 21.606048 \nL 40.68 26.909463 \nL 7.2 26.909463 \nL 7.2 21.606048 \n\" style=\"fill:#21918c;\"/>\n    <path clip-path=\"url(#pef45a4b300)\" d=\"M 40.68 21.606048 \nL 74.16 21.606048 \nL 74.16 26.909463 \nL 40.68 26.909463 \nL 40.68 21.606048 \n\" style=\"fill:#21918c;\"/>\n    <path clip-path=\"url(#pef45a4b300)\" d=\"M 74.16 21.606048 \nL 107.64 21.606048 \nL 107.64 26.909463 \nL 74.16 26.909463 \nL 74.16 21.606048 \n\" style=\"fill:#21918c;\"/>\n    <path clip-path=\"url(#pef45a4b300)\" d=\"M 107.64 21.606048 \nL 141.12 21.606048 \nL 141.12 26.909463 \nL 107.64 26.909463 \nL 107.64 21.606048 \n\" style=\"fill:#21918c;\"/>\n    <path clip-path=\"url(#pef45a4b300)\" d=\"M 141.12 21.606048 \nL 174.6 21.606048 \nL 174.6 26.909463 \nL 141.12 26.909463 \nL 141.12 21.606048 \n\" style=\"fill:#21918c;\"/>\n    <path clip-path=\"url(#pef45a4b300)\" d=\"M 174.6 21.606048 \nL 208.08 21.606048 \nL 208.08 26.909463 \nL 174.6 26.909463 \nL 174.6 21.606048 \n\" style=\"fill:#21918c;\"/>\n    <path clip-path=\"url(#pef45a4b300)\" d=\"M 208.08 21.606048 \nL 241.56 21.606048 \nL 241.56 26.909463 \nL 208.08 26.909463 \nL 208.08 21.606048 \n\" style=\"fill:#21918c;\"/>\n    <path clip-path=\"url(#pef45a4b300)\" d=\"M 241.56 21.606048 \nL 275.04 21.606048 \nL 275.04 26.909463 \nL 241.56 26.909463 \nL 241.56 21.606048 \n\" style=\"fill:#21918c;\"/>\n    <path clip-path=\"url(#pef45a4b300)\" d=\"M 7.2 26.909463 \nL 40.68 26.909463 \nL 40.68 32.212877 \nL 7.2 32.212877 \nL 7.2 26.909463 \n\" style=\"fill:#21918c;\"/>\n    <path clip-path=\"url(#pef45a4b300)\" d=\"M 40.68 26.909463 \nL 74.16 26.909463 \nL 74.16 32.212877 \nL 40.68 32.212877 \nL 40.68 26.909463 \n\" style=\"fill:#21918c;\"/>\n    <path clip-path=\"url(#pef45a4b300)\" d=\"M 74.16 26.909463 \nL 107.64 26.909463 \nL 107.64 32.212877 \nL 74.16 32.212877 \nL 74.16 26.909463 \n\" style=\"fill:#21918c;\"/>\n    <path clip-path=\"url(#pef45a4b300)\" d=\"M 107.64 26.909463 \nL 141.12 26.909463 \nL 141.12 32.212877 \nL 107.64 32.212877 \nL 107.64 26.909463 \n\" style=\"fill:#21918c;\"/>\n    <path clip-path=\"url(#pef45a4b300)\" d=\"M 141.12 26.909463 \nL 174.6 26.909463 \nL 174.6 32.212877 \nL 141.12 32.212877 \nL 141.12 26.909463 \n\" style=\"fill:#21918c;\"/>\n    <path clip-path=\"url(#pef45a4b300)\" d=\"M 174.6 26.909463 \nL 208.08 26.909463 \nL 208.08 32.212877 \nL 174.6 32.212877 \nL 174.6 26.909463 \n\" style=\"fill:#21918c;\"/>\n    <path clip-path=\"url(#pef45a4b300)\" d=\"M 208.08 26.909463 \nL 241.56 26.909463 \nL 241.56 32.212877 \nL 208.08 32.212877 \nL 208.08 26.909463 \n\" style=\"fill:#21918c;\"/>\n    <path clip-path=\"url(#pef45a4b300)\" d=\"M 241.56 26.909463 \nL 275.04 26.909463 \nL 275.04 32.212877 \nL 241.56 32.212877 \nL 241.56 26.909463 \n\" style=\"fill:#21918c;\"/>\n    <path clip-path=\"url(#pef45a4b300)\" d=\"M 7.2 32.212877 \nL 40.68 32.212877 \nL 40.68 37.516292 \nL 7.2 37.516292 \nL 7.2 32.212877 \n\" style=\"fill:#21918c;\"/>\n    <path clip-path=\"url(#pef45a4b300)\" d=\"M 40.68 32.212877 \nL 74.16 32.212877 \nL 74.16 37.516292 \nL 40.68 37.516292 \nL 40.68 32.212877 \n\" style=\"fill:#21918c;\"/>\n    <path clip-path=\"url(#pef45a4b300)\" d=\"M 74.16 32.212877 \nL 107.64 32.212877 \nL 107.64 37.516292 \nL 74.16 37.516292 \nL 74.16 32.212877 \n\" style=\"fill:#21918c;\"/>\n    <path clip-path=\"url(#pef45a4b300)\" d=\"M 107.64 32.212877 \nL 141.12 32.212877 \nL 141.12 37.516292 \nL 107.64 37.516292 \nL 107.64 32.212877 \n\" style=\"fill:#21918c;\"/>\n    <path clip-path=\"url(#pef45a4b300)\" d=\"M 141.12 32.212877 \nL 174.6 32.212877 \nL 174.6 37.516292 \nL 141.12 37.516292 \nL 141.12 32.212877 \n\" style=\"fill:#21918c;\"/>\n    <path clip-path=\"url(#pef45a4b300)\" d=\"M 174.6 32.212877 \nL 208.08 32.212877 \nL 208.08 37.516292 \nL 174.6 37.516292 \nL 174.6 32.212877 \n\" style=\"fill:#21918c;\"/>\n    <path clip-path=\"url(#pef45a4b300)\" d=\"M 208.08 32.212877 \nL 241.56 32.212877 \nL 241.56 37.516292 \nL 208.08 37.516292 \nL 208.08 32.212877 \n\" style=\"fill:#21918c;\"/>\n    <path clip-path=\"url(#pef45a4b300)\" d=\"M 241.56 32.212877 \nL 275.04 32.212877 \nL 275.04 37.516292 \nL 241.56 37.516292 \nL 241.56 32.212877 \n\" style=\"fill:#21918c;\"/>\n    <path clip-path=\"url(#pef45a4b300)\" d=\"M 7.2 37.516292 \nL 40.68 37.516292 \nL 40.68 42.819707 \nL 7.2 42.819707 \nL 7.2 37.516292 \n\" style=\"fill:#21918c;\"/>\n    <path clip-path=\"url(#pef45a4b300)\" d=\"M 40.68 37.516292 \nL 74.16 37.516292 \nL 74.16 42.819707 \nL 40.68 42.819707 \nL 40.68 37.516292 \n\" style=\"fill:#21918c;\"/>\n    <path clip-path=\"url(#pef45a4b300)\" d=\"M 74.16 37.516292 \nL 107.64 37.516292 \nL 107.64 42.819707 \nL 74.16 42.819707 \nL 74.16 37.516292 \n\" style=\"fill:#21918c;\"/>\n    <path clip-path=\"url(#pef45a4b300)\" d=\"M 107.64 37.516292 \nL 141.12 37.516292 \nL 141.12 42.819707 \nL 107.64 42.819707 \nL 107.64 37.516292 \n\" style=\"fill:#21918c;\"/>\n    <path clip-path=\"url(#pef45a4b300)\" d=\"M 141.12 37.516292 \nL 174.6 37.516292 \nL 174.6 42.819707 \nL 141.12 42.819707 \nL 141.12 37.516292 \n\" style=\"fill:#21918c;\"/>\n    <path clip-path=\"url(#pef45a4b300)\" d=\"M 174.6 37.516292 \nL 208.08 37.516292 \nL 208.08 42.819707 \nL 174.6 42.819707 \nL 174.6 37.516292 \n\" style=\"fill:#21918c;\"/>\n    <path clip-path=\"url(#pef45a4b300)\" d=\"M 208.08 37.516292 \nL 241.56 37.516292 \nL 241.56 42.819707 \nL 208.08 42.819707 \nL 208.08 37.516292 \n\" style=\"fill:#21918c;\"/>\n    <path clip-path=\"url(#pef45a4b300)\" d=\"M 241.56 37.516292 \nL 275.04 37.516292 \nL 275.04 42.819707 \nL 241.56 42.819707 \nL 241.56 37.516292 \n\" style=\"fill:#21918c;\"/>\n    <path clip-path=\"url(#pef45a4b300)\" d=\"M 7.2 42.819707 \nL 40.68 42.819707 \nL 40.68 48.123121 \nL 7.2 48.123121 \nL 7.2 42.819707 \n\" style=\"fill:#21918c;\"/>\n    <path clip-path=\"url(#pef45a4b300)\" d=\"M 40.68 42.819707 \nL 74.16 42.819707 \nL 74.16 48.123121 \nL 40.68 48.123121 \nL 40.68 42.819707 \n\" style=\"fill:#21918c;\"/>\n    <path clip-path=\"url(#pef45a4b300)\" d=\"M 74.16 42.819707 \nL 107.64 42.819707 \nL 107.64 48.123121 \nL 74.16 48.123121 \nL 74.16 42.819707 \n\" style=\"fill:#21918c;\"/>\n    <path clip-path=\"url(#pef45a4b300)\" d=\"M 107.64 42.819707 \nL 141.12 42.819707 \nL 141.12 48.123121 \nL 107.64 48.123121 \nL 107.64 42.819707 \n\" style=\"fill:#21918c;\"/>\n    <path clip-path=\"url(#pef45a4b300)\" d=\"M 141.12 42.819707 \nL 174.6 42.819707 \nL 174.6 48.123121 \nL 141.12 48.123121 \nL 141.12 42.819707 \n\" style=\"fill:#21918c;\"/>\n    <path clip-path=\"url(#pef45a4b300)\" d=\"M 174.6 42.819707 \nL 208.08 42.819707 \nL 208.08 48.123121 \nL 174.6 48.123121 \nL 174.6 42.819707 \n\" style=\"fill:#21918c;\"/>\n    <path clip-path=\"url(#pef45a4b300)\" d=\"M 208.08 42.819707 \nL 241.56 42.819707 \nL 241.56 48.123121 \nL 208.08 48.123121 \nL 208.08 42.819707 \n\" style=\"fill:#21918c;\"/>\n    <path clip-path=\"url(#pef45a4b300)\" d=\"M 241.56 42.819707 \nL 275.04 42.819707 \nL 275.04 48.123121 \nL 241.56 48.123121 \nL 241.56 42.819707 \n\" style=\"fill:#21918c;\"/>\n    <path clip-path=\"url(#pef45a4b300)\" d=\"M 7.2 48.123121 \nL 40.68 48.123121 \nL 40.68 53.426536 \nL 7.2 53.426536 \nL 7.2 48.123121 \n\" style=\"fill:#21918c;\"/>\n    <path clip-path=\"url(#pef45a4b300)\" d=\"M 40.68 48.123121 \nL 74.16 48.123121 \nL 74.16 53.426536 \nL 40.68 53.426536 \nL 40.68 48.123121 \n\" style=\"fill:#21918c;\"/>\n    <path clip-path=\"url(#pef45a4b300)\" d=\"M 74.16 48.123121 \nL 107.64 48.123121 \nL 107.64 53.426536 \nL 74.16 53.426536 \nL 74.16 48.123121 \n\" style=\"fill:#21918c;\"/>\n    <path clip-path=\"url(#pef45a4b300)\" d=\"M 107.64 48.123121 \nL 141.12 48.123121 \nL 141.12 53.426536 \nL 107.64 53.426536 \nL 107.64 48.123121 \n\" style=\"fill:#21918c;\"/>\n    <path clip-path=\"url(#pef45a4b300)\" d=\"M 141.12 48.123121 \nL 174.6 48.123121 \nL 174.6 53.426536 \nL 141.12 53.426536 \nL 141.12 48.123121 \n\" style=\"fill:#21918c;\"/>\n    <path clip-path=\"url(#pef45a4b300)\" d=\"M 174.6 48.123121 \nL 208.08 48.123121 \nL 208.08 53.426536 \nL 174.6 53.426536 \nL 174.6 48.123121 \n\" style=\"fill:#21918c;\"/>\n    <path clip-path=\"url(#pef45a4b300)\" d=\"M 208.08 48.123121 \nL 241.56 48.123121 \nL 241.56 53.426536 \nL 208.08 53.426536 \nL 208.08 48.123121 \n\" style=\"fill:#21918c;\"/>\n    <path clip-path=\"url(#pef45a4b300)\" d=\"M 241.56 48.123121 \nL 275.04 48.123121 \nL 275.04 53.426536 \nL 241.56 53.426536 \nL 241.56 48.123121 \n\" style=\"fill:#21918c;\"/>\n    <path clip-path=\"url(#pef45a4b300)\" d=\"M 7.2 53.426536 \nL 40.68 53.426536 \nL 40.68 58.72995 \nL 7.2 58.72995 \nL 7.2 53.426536 \n\" style=\"fill:#21918c;\"/>\n    <path clip-path=\"url(#pef45a4b300)\" d=\"M 40.68 53.426536 \nL 74.16 53.426536 \nL 74.16 58.72995 \nL 40.68 58.72995 \nL 40.68 53.426536 \n\" style=\"fill:#21918c;\"/>\n    <path clip-path=\"url(#pef45a4b300)\" d=\"M 74.16 53.426536 \nL 107.64 53.426536 \nL 107.64 58.72995 \nL 74.16 58.72995 \nL 74.16 53.426536 \n\" style=\"fill:#21918c;\"/>\n    <path clip-path=\"url(#pef45a4b300)\" d=\"M 107.64 53.426536 \nL 141.12 53.426536 \nL 141.12 58.72995 \nL 107.64 58.72995 \nL 107.64 53.426536 \n\" style=\"fill:#21918c;\"/>\n    <path clip-path=\"url(#pef45a4b300)\" d=\"M 141.12 53.426536 \nL 174.6 53.426536 \nL 174.6 58.72995 \nL 141.12 58.72995 \nL 141.12 53.426536 \n\" style=\"fill:#21918c;\"/>\n    <path clip-path=\"url(#pef45a4b300)\" d=\"M 174.6 53.426536 \nL 208.08 53.426536 \nL 208.08 58.72995 \nL 174.6 58.72995 \nL 174.6 53.426536 \n\" style=\"fill:#21918c;\"/>\n    <path clip-path=\"url(#pef45a4b300)\" d=\"M 208.08 53.426536 \nL 241.56 53.426536 \nL 241.56 58.72995 \nL 208.08 58.72995 \nL 208.08 53.426536 \n\" style=\"fill:#21918c;\"/>\n    <path clip-path=\"url(#pef45a4b300)\" d=\"M 241.56 53.426536 \nL 275.04 53.426536 \nL 275.04 58.72995 \nL 241.56 58.72995 \nL 241.56 53.426536 \n\" style=\"fill:#21918c;\"/>\n    <path clip-path=\"url(#pef45a4b300)\" d=\"M 7.2 58.72995 \nL 40.68 58.72995 \nL 40.68 64.033365 \nL 7.2 64.033365 \nL 7.2 58.72995 \n\" style=\"fill:#21918c;\"/>\n    <path clip-path=\"url(#pef45a4b300)\" d=\"M 40.68 58.72995 \nL 74.16 58.72995 \nL 74.16 64.033365 \nL 40.68 64.033365 \nL 40.68 58.72995 \n\" style=\"fill:#21918c;\"/>\n    <path clip-path=\"url(#pef45a4b300)\" d=\"M 74.16 58.72995 \nL 107.64 58.72995 \nL 107.64 64.033365 \nL 74.16 64.033365 \nL 74.16 58.72995 \n\" style=\"fill:#21918c;\"/>\n    <path clip-path=\"url(#pef45a4b300)\" d=\"M 107.64 58.72995 \nL 141.12 58.72995 \nL 141.12 64.033365 \nL 107.64 64.033365 \nL 107.64 58.72995 \n\" style=\"fill:#21918c;\"/>\n    <path clip-path=\"url(#pef45a4b300)\" d=\"M 141.12 58.72995 \nL 174.6 58.72995 \nL 174.6 64.033365 \nL 141.12 64.033365 \nL 141.12 58.72995 \n\" style=\"fill:#21918c;\"/>\n    <path clip-path=\"url(#pef45a4b300)\" d=\"M 174.6 58.72995 \nL 208.08 58.72995 \nL 208.08 64.033365 \nL 174.6 64.033365 \nL 174.6 58.72995 \n\" style=\"fill:#21918c;\"/>\n    <path clip-path=\"url(#pef45a4b300)\" d=\"M 208.08 58.72995 \nL 241.56 58.72995 \nL 241.56 64.033365 \nL 208.08 64.033365 \nL 208.08 58.72995 \n\" style=\"fill:#21918c;\"/>\n    <path clip-path=\"url(#pef45a4b300)\" d=\"M 241.56 58.72995 \nL 275.04 58.72995 \nL 275.04 64.033365 \nL 241.56 64.033365 \nL 241.56 58.72995 \n\" style=\"fill:#21918c;\"/>\n    <path clip-path=\"url(#pef45a4b300)\" d=\"M 7.2 64.033365 \nL 40.68 64.033365 \nL 40.68 69.33678 \nL 7.2 69.33678 \nL 7.2 64.033365 \n\" style=\"fill:#21918c;\"/>\n    <path clip-path=\"url(#pef45a4b300)\" d=\"M 40.68 64.033365 \nL 74.16 64.033365 \nL 74.16 69.33678 \nL 40.68 69.33678 \nL 40.68 64.033365 \n\" style=\"fill:#21918c;\"/>\n    <path clip-path=\"url(#pef45a4b300)\" d=\"M 74.16 64.033365 \nL 107.64 64.033365 \nL 107.64 69.33678 \nL 74.16 69.33678 \nL 74.16 64.033365 \n\" style=\"fill:#21918c;\"/>\n    <path clip-path=\"url(#pef45a4b300)\" d=\"M 107.64 64.033365 \nL 141.12 64.033365 \nL 141.12 69.33678 \nL 107.64 69.33678 \nL 107.64 64.033365 \n\" style=\"fill:#21918c;\"/>\n    <path clip-path=\"url(#pef45a4b300)\" d=\"M 141.12 64.033365 \nL 174.6 64.033365 \nL 174.6 69.33678 \nL 141.12 69.33678 \nL 141.12 64.033365 \n\" style=\"fill:#21918c;\"/>\n    <path clip-path=\"url(#pef45a4b300)\" d=\"M 174.6 64.033365 \nL 208.08 64.033365 \nL 208.08 69.33678 \nL 174.6 69.33678 \nL 174.6 64.033365 \n\" style=\"fill:#21918c;\"/>\n    <path clip-path=\"url(#pef45a4b300)\" d=\"M 208.08 64.033365 \nL 241.56 64.033365 \nL 241.56 69.33678 \nL 208.08 69.33678 \nL 208.08 64.033365 \n\" style=\"fill:#21918c;\"/>\n    <path clip-path=\"url(#pef45a4b300)\" d=\"M 241.56 64.033365 \nL 275.04 64.033365 \nL 275.04 69.33678 \nL 241.56 69.33678 \nL 241.56 64.033365 \n\" style=\"fill:#21918c;\"/>\n    <path clip-path=\"url(#pef45a4b300)\" d=\"M 7.2 69.33678 \nL 40.68 69.33678 \nL 40.68 74.640194 \nL 7.2 74.640194 \nL 7.2 69.33678 \n\" style=\"fill:#21918c;\"/>\n    <path clip-path=\"url(#pef45a4b300)\" d=\"M 40.68 69.33678 \nL 74.16 69.33678 \nL 74.16 74.640194 \nL 40.68 74.640194 \nL 40.68 69.33678 \n\" style=\"fill:#21918c;\"/>\n    <path clip-path=\"url(#pef45a4b300)\" d=\"M 74.16 69.33678 \nL 107.64 69.33678 \nL 107.64 74.640194 \nL 74.16 74.640194 \nL 74.16 69.33678 \n\" style=\"fill:#21918c;\"/>\n    <path clip-path=\"url(#pef45a4b300)\" d=\"M 107.64 69.33678 \nL 141.12 69.33678 \nL 141.12 74.640194 \nL 107.64 74.640194 \nL 107.64 69.33678 \n\" style=\"fill:#21918c;\"/>\n    <path clip-path=\"url(#pef45a4b300)\" d=\"M 141.12 69.33678 \nL 174.6 69.33678 \nL 174.6 74.640194 \nL 141.12 74.640194 \nL 141.12 69.33678 \n\" style=\"fill:#21918c;\"/>\n    <path clip-path=\"url(#pef45a4b300)\" d=\"M 174.6 69.33678 \nL 208.08 69.33678 \nL 208.08 74.640194 \nL 174.6 74.640194 \nL 174.6 69.33678 \n\" style=\"fill:#21918c;\"/>\n    <path clip-path=\"url(#pef45a4b300)\" d=\"M 208.08 69.33678 \nL 241.56 69.33678 \nL 241.56 74.640194 \nL 208.08 74.640194 \nL 208.08 69.33678 \n\" style=\"fill:#21918c;\"/>\n    <path clip-path=\"url(#pef45a4b300)\" d=\"M 241.56 69.33678 \nL 275.04 69.33678 \nL 275.04 74.640194 \nL 241.56 74.640194 \nL 241.56 69.33678 \n\" style=\"fill:#21918c;\"/>\n    <path clip-path=\"url(#pef45a4b300)\" d=\"M 7.2 74.640194 \nL 40.68 74.640194 \nL 40.68 79.943609 \nL 7.2 79.943609 \nL 7.2 74.640194 \n\" style=\"fill:#21918c;\"/>\n    <path clip-path=\"url(#pef45a4b300)\" d=\"M 40.68 74.640194 \nL 74.16 74.640194 \nL 74.16 79.943609 \nL 40.68 79.943609 \nL 40.68 74.640194 \n\" style=\"fill:#21918c;\"/>\n    <path clip-path=\"url(#pef45a4b300)\" d=\"M 74.16 74.640194 \nL 107.64 74.640194 \nL 107.64 79.943609 \nL 74.16 79.943609 \nL 74.16 74.640194 \n\" style=\"fill:#21918c;\"/>\n    <path clip-path=\"url(#pef45a4b300)\" d=\"M 107.64 74.640194 \nL 141.12 74.640194 \nL 141.12 79.943609 \nL 107.64 79.943609 \nL 107.64 74.640194 \n\" style=\"fill:#21918c;\"/>\n    <path clip-path=\"url(#pef45a4b300)\" d=\"M 141.12 74.640194 \nL 174.6 74.640194 \nL 174.6 79.943609 \nL 141.12 79.943609 \nL 141.12 74.640194 \n\" style=\"fill:#21918c;\"/>\n    <path clip-path=\"url(#pef45a4b300)\" d=\"M 174.6 74.640194 \nL 208.08 74.640194 \nL 208.08 79.943609 \nL 174.6 79.943609 \nL 174.6 74.640194 \n\" style=\"fill:#21918c;\"/>\n    <path clip-path=\"url(#pef45a4b300)\" d=\"M 208.08 74.640194 \nL 241.56 74.640194 \nL 241.56 79.943609 \nL 208.08 79.943609 \nL 208.08 74.640194 \n\" style=\"fill:#21918c;\"/>\n    <path clip-path=\"url(#pef45a4b300)\" d=\"M 241.56 74.640194 \nL 275.04 74.640194 \nL 275.04 79.943609 \nL 241.56 79.943609 \nL 241.56 74.640194 \n\" style=\"fill:#21918c;\"/>\n    <path clip-path=\"url(#pef45a4b300)\" d=\"M 7.2 79.943609 \nL 40.68 79.943609 \nL 40.68 85.247024 \nL 7.2 85.247024 \nL 7.2 79.943609 \n\" style=\"fill:#21918c;\"/>\n    <path clip-path=\"url(#pef45a4b300)\" d=\"M 40.68 79.943609 \nL 74.16 79.943609 \nL 74.16 85.247024 \nL 40.68 85.247024 \nL 40.68 79.943609 \n\" style=\"fill:#21918c;\"/>\n    <path clip-path=\"url(#pef45a4b300)\" d=\"M 74.16 79.943609 \nL 107.64 79.943609 \nL 107.64 85.247024 \nL 74.16 85.247024 \nL 74.16 79.943609 \n\" style=\"fill:#21918c;\"/>\n    <path clip-path=\"url(#pef45a4b300)\" d=\"M 107.64 79.943609 \nL 141.12 79.943609 \nL 141.12 85.247024 \nL 107.64 85.247024 \nL 107.64 79.943609 \n\" style=\"fill:#21918c;\"/>\n    <path clip-path=\"url(#pef45a4b300)\" d=\"M 141.12 79.943609 \nL 174.6 79.943609 \nL 174.6 85.247024 \nL 141.12 85.247024 \nL 141.12 79.943609 \n\" style=\"fill:#21918c;\"/>\n    <path clip-path=\"url(#pef45a4b300)\" d=\"M 174.6 79.943609 \nL 208.08 79.943609 \nL 208.08 85.247024 \nL 174.6 85.247024 \nL 174.6 79.943609 \n\" style=\"fill:#21918c;\"/>\n    <path clip-path=\"url(#pef45a4b300)\" d=\"M 208.08 79.943609 \nL 241.56 79.943609 \nL 241.56 85.247024 \nL 208.08 85.247024 \nL 208.08 79.943609 \n\" style=\"fill:#21918c;\"/>\n    <path clip-path=\"url(#pef45a4b300)\" d=\"M 241.56 79.943609 \nL 275.04 79.943609 \nL 275.04 85.247024 \nL 241.56 85.247024 \nL 241.56 79.943609 \n\" style=\"fill:#21918c;\"/>\n    <path clip-path=\"url(#pef45a4b300)\" d=\"M 7.2 85.247024 \nL 40.68 85.247024 \nL 40.68 90.550438 \nL 7.2 90.550438 \nL 7.2 85.247024 \n\" style=\"fill:#21918c;\"/>\n    <path clip-path=\"url(#pef45a4b300)\" d=\"M 40.68 85.247024 \nL 74.16 85.247024 \nL 74.16 90.550438 \nL 40.68 90.550438 \nL 40.68 85.247024 \n\" style=\"fill:#21918c;\"/>\n    <path clip-path=\"url(#pef45a4b300)\" d=\"M 74.16 85.247024 \nL 107.64 85.247024 \nL 107.64 90.550438 \nL 74.16 90.550438 \nL 74.16 85.247024 \n\" style=\"fill:#21918c;\"/>\n    <path clip-path=\"url(#pef45a4b300)\" d=\"M 107.64 85.247024 \nL 141.12 85.247024 \nL 141.12 90.550438 \nL 107.64 90.550438 \nL 107.64 85.247024 \n\" style=\"fill:#21918c;\"/>\n    <path clip-path=\"url(#pef45a4b300)\" d=\"M 141.12 85.247024 \nL 174.6 85.247024 \nL 174.6 90.550438 \nL 141.12 90.550438 \nL 141.12 85.247024 \n\" style=\"fill:#21918c;\"/>\n    <path clip-path=\"url(#pef45a4b300)\" d=\"M 174.6 85.247024 \nL 208.08 85.247024 \nL 208.08 90.550438 \nL 174.6 90.550438 \nL 174.6 85.247024 \n\" style=\"fill:#21918c;\"/>\n    <path clip-path=\"url(#pef45a4b300)\" d=\"M 208.08 85.247024 \nL 241.56 85.247024 \nL 241.56 90.550438 \nL 208.08 90.550438 \nL 208.08 85.247024 \n\" style=\"fill:#21918c;\"/>\n    <path clip-path=\"url(#pef45a4b300)\" d=\"M 241.56 85.247024 \nL 275.04 85.247024 \nL 275.04 90.550438 \nL 241.56 90.550438 \nL 241.56 85.247024 \n\" style=\"fill:#21918c;\"/>\n    <path clip-path=\"url(#pef45a4b300)\" d=\"M 7.2 90.550438 \nL 40.68 90.550438 \nL 40.68 95.853853 \nL 7.2 95.853853 \nL 7.2 90.550438 \n\" style=\"fill:#21918c;\"/>\n    <path clip-path=\"url(#pef45a4b300)\" d=\"M 40.68 90.550438 \nL 74.16 90.550438 \nL 74.16 95.853853 \nL 40.68 95.853853 \nL 40.68 90.550438 \n\" style=\"fill:#21918c;\"/>\n    <path clip-path=\"url(#pef45a4b300)\" d=\"M 74.16 90.550438 \nL 107.64 90.550438 \nL 107.64 95.853853 \nL 74.16 95.853853 \nL 74.16 90.550438 \n\" style=\"fill:#21918c;\"/>\n    <path clip-path=\"url(#pef45a4b300)\" d=\"M 107.64 90.550438 \nL 141.12 90.550438 \nL 141.12 95.853853 \nL 107.64 95.853853 \nL 107.64 90.550438 \n\" style=\"fill:#21918c;\"/>\n    <path clip-path=\"url(#pef45a4b300)\" d=\"M 141.12 90.550438 \nL 174.6 90.550438 \nL 174.6 95.853853 \nL 141.12 95.853853 \nL 141.12 90.550438 \n\" style=\"fill:#21918c;\"/>\n    <path clip-path=\"url(#pef45a4b300)\" d=\"M 174.6 90.550438 \nL 208.08 90.550438 \nL 208.08 95.853853 \nL 174.6 95.853853 \nL 174.6 90.550438 \n\" style=\"fill:#21918c;\"/>\n    <path clip-path=\"url(#pef45a4b300)\" d=\"M 208.08 90.550438 \nL 241.56 90.550438 \nL 241.56 95.853853 \nL 208.08 95.853853 \nL 208.08 90.550438 \n\" style=\"fill:#21918c;\"/>\n    <path clip-path=\"url(#pef45a4b300)\" d=\"M 241.56 90.550438 \nL 275.04 90.550438 \nL 275.04 95.853853 \nL 241.56 95.853853 \nL 241.56 90.550438 \n\" style=\"fill:#21918c;\"/>\n    <path clip-path=\"url(#pef45a4b300)\" d=\"M 7.2 95.853853 \nL 40.68 95.853853 \nL 40.68 101.157268 \nL 7.2 101.157268 \nL 7.2 95.853853 \n\" style=\"fill:#21918c;\"/>\n    <path clip-path=\"url(#pef45a4b300)\" d=\"M 40.68 95.853853 \nL 74.16 95.853853 \nL 74.16 101.157268 \nL 40.68 101.157268 \nL 40.68 95.853853 \n\" style=\"fill:#21918c;\"/>\n    <path clip-path=\"url(#pef45a4b300)\" d=\"M 74.16 95.853853 \nL 107.64 95.853853 \nL 107.64 101.157268 \nL 74.16 101.157268 \nL 74.16 95.853853 \n\" style=\"fill:#21918c;\"/>\n    <path clip-path=\"url(#pef45a4b300)\" d=\"M 107.64 95.853853 \nL 141.12 95.853853 \nL 141.12 101.157268 \nL 107.64 101.157268 \nL 107.64 95.853853 \n\" style=\"fill:#21918c;\"/>\n    <path clip-path=\"url(#pef45a4b300)\" d=\"M 141.12 95.853853 \nL 174.6 95.853853 \nL 174.6 101.157268 \nL 141.12 101.157268 \nL 141.12 95.853853 \n\" style=\"fill:#21918c;\"/>\n    <path clip-path=\"url(#pef45a4b300)\" d=\"M 174.6 95.853853 \nL 208.08 95.853853 \nL 208.08 101.157268 \nL 174.6 101.157268 \nL 174.6 95.853853 \n\" style=\"fill:#21918c;\"/>\n    <path clip-path=\"url(#pef45a4b300)\" d=\"M 208.08 95.853853 \nL 241.56 95.853853 \nL 241.56 101.157268 \nL 208.08 101.157268 \nL 208.08 95.853853 \n\" style=\"fill:#21918c;\"/>\n    <path clip-path=\"url(#pef45a4b300)\" d=\"M 241.56 95.853853 \nL 275.04 95.853853 \nL 275.04 101.157268 \nL 241.56 101.157268 \nL 241.56 95.853853 \n\" style=\"fill:#21918c;\"/>\n    <path clip-path=\"url(#pef45a4b300)\" d=\"M 7.2 101.157268 \nL 40.68 101.157268 \nL 40.68 106.460682 \nL 7.2 106.460682 \nL 7.2 101.157268 \n\" style=\"fill:#21918c;\"/>\n    <path clip-path=\"url(#pef45a4b300)\" d=\"M 40.68 101.157268 \nL 74.16 101.157268 \nL 74.16 106.460682 \nL 40.68 106.460682 \nL 40.68 101.157268 \n\" style=\"fill:#21918c;\"/>\n    <path clip-path=\"url(#pef45a4b300)\" d=\"M 74.16 101.157268 \nL 107.64 101.157268 \nL 107.64 106.460682 \nL 74.16 106.460682 \nL 74.16 101.157268 \n\" style=\"fill:#21918c;\"/>\n    <path clip-path=\"url(#pef45a4b300)\" d=\"M 107.64 101.157268 \nL 141.12 101.157268 \nL 141.12 106.460682 \nL 107.64 106.460682 \nL 107.64 101.157268 \n\" style=\"fill:#21918c;\"/>\n    <path clip-path=\"url(#pef45a4b300)\" d=\"M 141.12 101.157268 \nL 174.6 101.157268 \nL 174.6 106.460682 \nL 141.12 106.460682 \nL 141.12 101.157268 \n\" style=\"fill:#21918c;\"/>\n    <path clip-path=\"url(#pef45a4b300)\" d=\"M 174.6 101.157268 \nL 208.08 101.157268 \nL 208.08 106.460682 \nL 174.6 106.460682 \nL 174.6 101.157268 \n\" style=\"fill:#21918c;\"/>\n    <path clip-path=\"url(#pef45a4b300)\" d=\"M 208.08 101.157268 \nL 241.56 101.157268 \nL 241.56 106.460682 \nL 208.08 106.460682 \nL 208.08 101.157268 \n\" style=\"fill:#21918c;\"/>\n    <path clip-path=\"url(#pef45a4b300)\" d=\"M 241.56 101.157268 \nL 275.04 101.157268 \nL 275.04 106.460682 \nL 241.56 106.460682 \nL 241.56 101.157268 \n\" style=\"fill:#21918c;\"/>\n    <path clip-path=\"url(#pef45a4b300)\" d=\"M 7.2 106.460682 \nL 40.68 106.460682 \nL 40.68 111.764097 \nL 7.2 111.764097 \nL 7.2 106.460682 \n\" style=\"fill:#21918c;\"/>\n    <path clip-path=\"url(#pef45a4b300)\" d=\"M 40.68 106.460682 \nL 74.16 106.460682 \nL 74.16 111.764097 \nL 40.68 111.764097 \nL 40.68 106.460682 \n\" style=\"fill:#21918c;\"/>\n    <path clip-path=\"url(#pef45a4b300)\" d=\"M 74.16 106.460682 \nL 107.64 106.460682 \nL 107.64 111.764097 \nL 74.16 111.764097 \nL 74.16 106.460682 \n\" style=\"fill:#21918c;\"/>\n    <path clip-path=\"url(#pef45a4b300)\" d=\"M 107.64 106.460682 \nL 141.12 106.460682 \nL 141.12 111.764097 \nL 107.64 111.764097 \nL 107.64 106.460682 \n\" style=\"fill:#21918c;\"/>\n    <path clip-path=\"url(#pef45a4b300)\" d=\"M 141.12 106.460682 \nL 174.6 106.460682 \nL 174.6 111.764097 \nL 141.12 111.764097 \nL 141.12 106.460682 \n\" style=\"fill:#21918c;\"/>\n    <path clip-path=\"url(#pef45a4b300)\" d=\"M 174.6 106.460682 \nL 208.08 106.460682 \nL 208.08 111.764097 \nL 174.6 111.764097 \nL 174.6 106.460682 \n\" style=\"fill:#21918c;\"/>\n    <path clip-path=\"url(#pef45a4b300)\" d=\"M 208.08 106.460682 \nL 241.56 106.460682 \nL 241.56 111.764097 \nL 208.08 111.764097 \nL 208.08 106.460682 \n\" style=\"fill:#21918c;\"/>\n    <path clip-path=\"url(#pef45a4b300)\" d=\"M 241.56 106.460682 \nL 275.04 106.460682 \nL 275.04 111.764097 \nL 241.56 111.764097 \nL 241.56 106.460682 \n\" style=\"fill:#21918c;\"/>\n    <path clip-path=\"url(#pef45a4b300)\" d=\"M 7.2 111.764097 \nL 40.68 111.764097 \nL 40.68 117.067511 \nL 7.2 117.067511 \nL 7.2 111.764097 \n\" style=\"fill:#21918c;\"/>\n    <path clip-path=\"url(#pef45a4b300)\" d=\"M 40.68 111.764097 \nL 74.16 111.764097 \nL 74.16 117.067511 \nL 40.68 117.067511 \nL 40.68 111.764097 \n\" style=\"fill:#21918c;\"/>\n    <path clip-path=\"url(#pef45a4b300)\" d=\"M 74.16 111.764097 \nL 107.64 111.764097 \nL 107.64 117.067511 \nL 74.16 117.067511 \nL 74.16 111.764097 \n\" style=\"fill:#21918c;\"/>\n    <path clip-path=\"url(#pef45a4b300)\" d=\"M 107.64 111.764097 \nL 141.12 111.764097 \nL 141.12 117.067511 \nL 107.64 117.067511 \nL 107.64 111.764097 \n\" style=\"fill:#21918c;\"/>\n    <path clip-path=\"url(#pef45a4b300)\" d=\"M 141.12 111.764097 \nL 174.6 111.764097 \nL 174.6 117.067511 \nL 141.12 117.067511 \nL 141.12 111.764097 \n\" style=\"fill:#21918c;\"/>\n    <path clip-path=\"url(#pef45a4b300)\" d=\"M 174.6 111.764097 \nL 208.08 111.764097 \nL 208.08 117.067511 \nL 174.6 117.067511 \nL 174.6 111.764097 \n\" style=\"fill:#21918c;\"/>\n    <path clip-path=\"url(#pef45a4b300)\" d=\"M 208.08 111.764097 \nL 241.56 111.764097 \nL 241.56 117.067511 \nL 208.08 117.067511 \nL 208.08 111.764097 \n\" style=\"fill:#21918c;\"/>\n    <path clip-path=\"url(#pef45a4b300)\" d=\"M 241.56 111.764097 \nL 275.04 111.764097 \nL 275.04 117.067511 \nL 241.56 117.067511 \nL 241.56 111.764097 \n\" style=\"fill:#21918c;\"/>\n    <path clip-path=\"url(#pef45a4b300)\" d=\"M 7.2 117.067511 \nL 40.68 117.067511 \nL 40.68 122.370926 \nL 7.2 122.370926 \nL 7.2 117.067511 \n\" style=\"fill:#21918c;\"/>\n    <path clip-path=\"url(#pef45a4b300)\" d=\"M 40.68 117.067511 \nL 74.16 117.067511 \nL 74.16 122.370926 \nL 40.68 122.370926 \nL 40.68 117.067511 \n\" style=\"fill:#21918c;\"/>\n    <path clip-path=\"url(#pef45a4b300)\" d=\"M 74.16 117.067511 \nL 107.64 117.067511 \nL 107.64 122.370926 \nL 74.16 122.370926 \nL 74.16 117.067511 \n\" style=\"fill:#21918c;\"/>\n    <path clip-path=\"url(#pef45a4b300)\" d=\"M 107.64 117.067511 \nL 141.12 117.067511 \nL 141.12 122.370926 \nL 107.64 122.370926 \nL 107.64 117.067511 \n\" style=\"fill:#21918c;\"/>\n    <path clip-path=\"url(#pef45a4b300)\" d=\"M 141.12 117.067511 \nL 174.6 117.067511 \nL 174.6 122.370926 \nL 141.12 122.370926 \nL 141.12 117.067511 \n\" style=\"fill:#21918c;\"/>\n    <path clip-path=\"url(#pef45a4b300)\" d=\"M 174.6 117.067511 \nL 208.08 117.067511 \nL 208.08 122.370926 \nL 174.6 122.370926 \nL 174.6 117.067511 \n\" style=\"fill:#21918c;\"/>\n    <path clip-path=\"url(#pef45a4b300)\" d=\"M 208.08 117.067511 \nL 241.56 117.067511 \nL 241.56 122.370926 \nL 208.08 122.370926 \nL 208.08 117.067511 \n\" style=\"fill:#21918c;\"/>\n    <path clip-path=\"url(#pef45a4b300)\" d=\"M 241.56 117.067511 \nL 275.04 117.067511 \nL 275.04 122.370926 \nL 241.56 122.370926 \nL 241.56 117.067511 \n\" style=\"fill:#21918c;\"/>\n    <path clip-path=\"url(#pef45a4b300)\" d=\"M 7.2 122.370926 \nL 40.68 122.370926 \nL 40.68 127.674341 \nL 7.2 127.674341 \nL 7.2 122.370926 \n\" style=\"fill:#21918c;\"/>\n    <path clip-path=\"url(#pef45a4b300)\" d=\"M 40.68 122.370926 \nL 74.16 122.370926 \nL 74.16 127.674341 \nL 40.68 127.674341 \nL 40.68 122.370926 \n\" style=\"fill:#21918c;\"/>\n    <path clip-path=\"url(#pef45a4b300)\" d=\"M 74.16 122.370926 \nL 107.64 122.370926 \nL 107.64 127.674341 \nL 74.16 127.674341 \nL 74.16 122.370926 \n\" style=\"fill:#21918c;\"/>\n    <path clip-path=\"url(#pef45a4b300)\" d=\"M 107.64 122.370926 \nL 141.12 122.370926 \nL 141.12 127.674341 \nL 107.64 127.674341 \nL 107.64 122.370926 \n\" style=\"fill:#21918c;\"/>\n    <path clip-path=\"url(#pef45a4b300)\" d=\"M 141.12 122.370926 \nL 174.6 122.370926 \nL 174.6 127.674341 \nL 141.12 127.674341 \nL 141.12 122.370926 \n\" style=\"fill:#21918c;\"/>\n    <path clip-path=\"url(#pef45a4b300)\" d=\"M 174.6 122.370926 \nL 208.08 122.370926 \nL 208.08 127.674341 \nL 174.6 127.674341 \nL 174.6 122.370926 \n\" style=\"fill:#21918c;\"/>\n    <path clip-path=\"url(#pef45a4b300)\" d=\"M 208.08 122.370926 \nL 241.56 122.370926 \nL 241.56 127.674341 \nL 208.08 127.674341 \nL 208.08 122.370926 \n\" style=\"fill:#21918c;\"/>\n    <path clip-path=\"url(#pef45a4b300)\" d=\"M 241.56 122.370926 \nL 275.04 122.370926 \nL 275.04 127.674341 \nL 241.56 127.674341 \nL 241.56 122.370926 \n\" style=\"fill:#21918c;\"/>\n    <path clip-path=\"url(#pef45a4b300)\" d=\"M 7.2 127.674341 \nL 40.68 127.674341 \nL 40.68 132.977755 \nL 7.2 132.977755 \nL 7.2 127.674341 \n\" style=\"fill:#21918c;\"/>\n    <path clip-path=\"url(#pef45a4b300)\" d=\"M 40.68 127.674341 \nL 74.16 127.674341 \nL 74.16 132.977755 \nL 40.68 132.977755 \nL 40.68 127.674341 \n\" style=\"fill:#21918c;\"/>\n    <path clip-path=\"url(#pef45a4b300)\" d=\"M 74.16 127.674341 \nL 107.64 127.674341 \nL 107.64 132.977755 \nL 74.16 132.977755 \nL 74.16 127.674341 \n\" style=\"fill:#21918c;\"/>\n    <path clip-path=\"url(#pef45a4b300)\" d=\"M 107.64 127.674341 \nL 141.12 127.674341 \nL 141.12 132.977755 \nL 107.64 132.977755 \nL 107.64 127.674341 \n\" style=\"fill:#21918c;\"/>\n    <path clip-path=\"url(#pef45a4b300)\" d=\"M 141.12 127.674341 \nL 174.6 127.674341 \nL 174.6 132.977755 \nL 141.12 132.977755 \nL 141.12 127.674341 \n\" style=\"fill:#21918c;\"/>\n    <path clip-path=\"url(#pef45a4b300)\" d=\"M 174.6 127.674341 \nL 208.08 127.674341 \nL 208.08 132.977755 \nL 174.6 132.977755 \nL 174.6 127.674341 \n\" style=\"fill:#21918c;\"/>\n    <path clip-path=\"url(#pef45a4b300)\" d=\"M 208.08 127.674341 \nL 241.56 127.674341 \nL 241.56 132.977755 \nL 208.08 132.977755 \nL 208.08 127.674341 \n\" style=\"fill:#21918c;\"/>\n    <path clip-path=\"url(#pef45a4b300)\" d=\"M 241.56 127.674341 \nL 275.04 127.674341 \nL 275.04 132.977755 \nL 241.56 132.977755 \nL 241.56 127.674341 \n\" style=\"fill:#21918c;\"/>\n    <path clip-path=\"url(#pef45a4b300)\" d=\"M 7.2 132.977755 \nL 40.68 132.977755 \nL 40.68 138.28117 \nL 7.2 138.28117 \nL 7.2 132.977755 \n\" style=\"fill:#21918c;\"/>\n    <path clip-path=\"url(#pef45a4b300)\" d=\"M 40.68 132.977755 \nL 74.16 132.977755 \nL 74.16 138.28117 \nL 40.68 138.28117 \nL 40.68 132.977755 \n\" style=\"fill:#21918c;\"/>\n    <path clip-path=\"url(#pef45a4b300)\" d=\"M 74.16 132.977755 \nL 107.64 132.977755 \nL 107.64 138.28117 \nL 74.16 138.28117 \nL 74.16 132.977755 \n\" style=\"fill:#21918c;\"/>\n    <path clip-path=\"url(#pef45a4b300)\" d=\"M 107.64 132.977755 \nL 141.12 132.977755 \nL 141.12 138.28117 \nL 107.64 138.28117 \nL 107.64 132.977755 \n\" style=\"fill:#21918c;\"/>\n    <path clip-path=\"url(#pef45a4b300)\" d=\"M 141.12 132.977755 \nL 174.6 132.977755 \nL 174.6 138.28117 \nL 141.12 138.28117 \nL 141.12 132.977755 \n\" style=\"fill:#21918c;\"/>\n    <path clip-path=\"url(#pef45a4b300)\" d=\"M 174.6 132.977755 \nL 208.08 132.977755 \nL 208.08 138.28117 \nL 174.6 138.28117 \nL 174.6 132.977755 \n\" style=\"fill:#21918c;\"/>\n    <path clip-path=\"url(#pef45a4b300)\" d=\"M 208.08 132.977755 \nL 241.56 132.977755 \nL 241.56 138.28117 \nL 208.08 138.28117 \nL 208.08 132.977755 \n\" style=\"fill:#21918c;\"/>\n    <path clip-path=\"url(#pef45a4b300)\" d=\"M 241.56 132.977755 \nL 275.04 132.977755 \nL 275.04 138.28117 \nL 241.56 138.28117 \nL 241.56 132.977755 \n\" style=\"fill:#21918c;\"/>\n    <path clip-path=\"url(#pef45a4b300)\" d=\"M 7.2 138.28117 \nL 40.68 138.28117 \nL 40.68 143.584585 \nL 7.2 143.584585 \nL 7.2 138.28117 \n\" style=\"fill:#21918c;\"/>\n    <path clip-path=\"url(#pef45a4b300)\" d=\"M 40.68 138.28117 \nL 74.16 138.28117 \nL 74.16 143.584585 \nL 40.68 143.584585 \nL 40.68 138.28117 \n\" style=\"fill:#21918c;\"/>\n    <path clip-path=\"url(#pef45a4b300)\" d=\"M 74.16 138.28117 \nL 107.64 138.28117 \nL 107.64 143.584585 \nL 74.16 143.584585 \nL 74.16 138.28117 \n\" style=\"fill:#21918c;\"/>\n    <path clip-path=\"url(#pef45a4b300)\" d=\"M 107.64 138.28117 \nL 141.12 138.28117 \nL 141.12 143.584585 \nL 107.64 143.584585 \nL 107.64 138.28117 \n\" style=\"fill:#21918c;\"/>\n    <path clip-path=\"url(#pef45a4b300)\" d=\"M 141.12 138.28117 \nL 174.6 138.28117 \nL 174.6 143.584585 \nL 141.12 143.584585 \nL 141.12 138.28117 \n\" style=\"fill:#21918c;\"/>\n    <path clip-path=\"url(#pef45a4b300)\" d=\"M 174.6 138.28117 \nL 208.08 138.28117 \nL 208.08 143.584585 \nL 174.6 143.584585 \nL 174.6 138.28117 \n\" style=\"fill:#21918c;\"/>\n    <path clip-path=\"url(#pef45a4b300)\" d=\"M 208.08 138.28117 \nL 241.56 138.28117 \nL 241.56 143.584585 \nL 208.08 143.584585 \nL 208.08 138.28117 \n\" style=\"fill:#21918c;\"/>\n    <path clip-path=\"url(#pef45a4b300)\" d=\"M 241.56 138.28117 \nL 275.04 138.28117 \nL 275.04 143.584585 \nL 241.56 143.584585 \nL 241.56 138.28117 \n\" style=\"fill:#21918c;\"/>\n    <path clip-path=\"url(#pef45a4b300)\" d=\"M 7.2 143.584585 \nL 40.68 143.584585 \nL 40.68 148.887999 \nL 7.2 148.887999 \nL 7.2 143.584585 \n\" style=\"fill:#21918c;\"/>\n    <path clip-path=\"url(#pef45a4b300)\" d=\"M 40.68 143.584585 \nL 74.16 143.584585 \nL 74.16 148.887999 \nL 40.68 148.887999 \nL 40.68 143.584585 \n\" style=\"fill:#21918c;\"/>\n    <path clip-path=\"url(#pef45a4b300)\" d=\"M 74.16 143.584585 \nL 107.64 143.584585 \nL 107.64 148.887999 \nL 74.16 148.887999 \nL 74.16 143.584585 \n\" style=\"fill:#21918c;\"/>\n    <path clip-path=\"url(#pef45a4b300)\" d=\"M 107.64 143.584585 \nL 141.12 143.584585 \nL 141.12 148.887999 \nL 107.64 148.887999 \nL 107.64 143.584585 \n\" style=\"fill:#21918c;\"/>\n    <path clip-path=\"url(#pef45a4b300)\" d=\"M 141.12 143.584585 \nL 174.6 143.584585 \nL 174.6 148.887999 \nL 141.12 148.887999 \nL 141.12 143.584585 \n\" style=\"fill:#21918c;\"/>\n    <path clip-path=\"url(#pef45a4b300)\" d=\"M 174.6 143.584585 \nL 208.08 143.584585 \nL 208.08 148.887999 \nL 174.6 148.887999 \nL 174.6 143.584585 \n\" style=\"fill:#21918c;\"/>\n    <path clip-path=\"url(#pef45a4b300)\" d=\"M 208.08 143.584585 \nL 241.56 143.584585 \nL 241.56 148.887999 \nL 208.08 148.887999 \nL 208.08 143.584585 \n\" style=\"fill:#21918c;\"/>\n    <path clip-path=\"url(#pef45a4b300)\" d=\"M 241.56 143.584585 \nL 275.04 143.584585 \nL 275.04 148.887999 \nL 241.56 148.887999 \nL 241.56 143.584585 \n\" style=\"fill:#21918c;\"/>\n    <path clip-path=\"url(#pef45a4b300)\" d=\"M 7.2 148.887999 \nL 40.68 148.887999 \nL 40.68 154.191414 \nL 7.2 154.191414 \nL 7.2 148.887999 \n\" style=\"fill:#21918c;\"/>\n    <path clip-path=\"url(#pef45a4b300)\" d=\"M 40.68 148.887999 \nL 74.16 148.887999 \nL 74.16 154.191414 \nL 40.68 154.191414 \nL 40.68 148.887999 \n\" style=\"fill:#21918c;\"/>\n    <path clip-path=\"url(#pef45a4b300)\" d=\"M 74.16 148.887999 \nL 107.64 148.887999 \nL 107.64 154.191414 \nL 74.16 154.191414 \nL 74.16 148.887999 \n\" style=\"fill:#21918c;\"/>\n    <path clip-path=\"url(#pef45a4b300)\" d=\"M 107.64 148.887999 \nL 141.12 148.887999 \nL 141.12 154.191414 \nL 107.64 154.191414 \nL 107.64 148.887999 \n\" style=\"fill:#21918c;\"/>\n    <path clip-path=\"url(#pef45a4b300)\" d=\"M 141.12 148.887999 \nL 174.6 148.887999 \nL 174.6 154.191414 \nL 141.12 154.191414 \nL 141.12 148.887999 \n\" style=\"fill:#21918c;\"/>\n    <path clip-path=\"url(#pef45a4b300)\" d=\"M 174.6 148.887999 \nL 208.08 148.887999 \nL 208.08 154.191414 \nL 174.6 154.191414 \nL 174.6 148.887999 \n\" style=\"fill:#21918c;\"/>\n    <path clip-path=\"url(#pef45a4b300)\" d=\"M 208.08 148.887999 \nL 241.56 148.887999 \nL 241.56 154.191414 \nL 208.08 154.191414 \nL 208.08 148.887999 \n\" style=\"fill:#21918c;\"/>\n    <path clip-path=\"url(#pef45a4b300)\" d=\"M 241.56 148.887999 \nL 275.04 148.887999 \nL 275.04 154.191414 \nL 241.56 154.191414 \nL 241.56 148.887999 \n\" style=\"fill:#21918c;\"/>\n    <path clip-path=\"url(#pef45a4b300)\" d=\"M 7.2 154.191414 \nL 40.68 154.191414 \nL 40.68 159.494829 \nL 7.2 159.494829 \nL 7.2 154.191414 \n\" style=\"fill:#21918c;\"/>\n    <path clip-path=\"url(#pef45a4b300)\" d=\"M 40.68 154.191414 \nL 74.16 154.191414 \nL 74.16 159.494829 \nL 40.68 159.494829 \nL 40.68 154.191414 \n\" style=\"fill:#21918c;\"/>\n    <path clip-path=\"url(#pef45a4b300)\" d=\"M 74.16 154.191414 \nL 107.64 154.191414 \nL 107.64 159.494829 \nL 74.16 159.494829 \nL 74.16 154.191414 \n\" style=\"fill:#21918c;\"/>\n    <path clip-path=\"url(#pef45a4b300)\" d=\"M 107.64 154.191414 \nL 141.12 154.191414 \nL 141.12 159.494829 \nL 107.64 159.494829 \nL 107.64 154.191414 \n\" style=\"fill:#21918c;\"/>\n    <path clip-path=\"url(#pef45a4b300)\" d=\"M 141.12 154.191414 \nL 174.6 154.191414 \nL 174.6 159.494829 \nL 141.12 159.494829 \nL 141.12 154.191414 \n\" style=\"fill:#21918c;\"/>\n    <path clip-path=\"url(#pef45a4b300)\" d=\"M 174.6 154.191414 \nL 208.08 154.191414 \nL 208.08 159.494829 \nL 174.6 159.494829 \nL 174.6 154.191414 \n\" style=\"fill:#21918c;\"/>\n    <path clip-path=\"url(#pef45a4b300)\" d=\"M 208.08 154.191414 \nL 241.56 154.191414 \nL 241.56 159.494829 \nL 208.08 159.494829 \nL 208.08 154.191414 \n\" style=\"fill:#21918c;\"/>\n    <path clip-path=\"url(#pef45a4b300)\" d=\"M 241.56 154.191414 \nL 275.04 154.191414 \nL 275.04 159.494829 \nL 241.56 159.494829 \nL 241.56 154.191414 \n\" style=\"fill:#21918c;\"/>\n    <path clip-path=\"url(#pef45a4b300)\" d=\"M 7.2 159.494829 \nL 40.68 159.494829 \nL 40.68 164.798243 \nL 7.2 164.798243 \nL 7.2 159.494829 \n\" style=\"fill:#21918c;\"/>\n    <path clip-path=\"url(#pef45a4b300)\" d=\"M 40.68 159.494829 \nL 74.16 159.494829 \nL 74.16 164.798243 \nL 40.68 164.798243 \nL 40.68 159.494829 \n\" style=\"fill:#21918c;\"/>\n    <path clip-path=\"url(#pef45a4b300)\" d=\"M 74.16 159.494829 \nL 107.64 159.494829 \nL 107.64 164.798243 \nL 74.16 164.798243 \nL 74.16 159.494829 \n\" style=\"fill:#21918c;\"/>\n    <path clip-path=\"url(#pef45a4b300)\" d=\"M 107.64 159.494829 \nL 141.12 159.494829 \nL 141.12 164.798243 \nL 107.64 164.798243 \nL 107.64 159.494829 \n\" style=\"fill:#21918c;\"/>\n    <path clip-path=\"url(#pef45a4b300)\" d=\"M 141.12 159.494829 \nL 174.6 159.494829 \nL 174.6 164.798243 \nL 141.12 164.798243 \nL 141.12 159.494829 \n\" style=\"fill:#21918c;\"/>\n    <path clip-path=\"url(#pef45a4b300)\" d=\"M 174.6 159.494829 \nL 208.08 159.494829 \nL 208.08 164.798243 \nL 174.6 164.798243 \nL 174.6 159.494829 \n\" style=\"fill:#21918c;\"/>\n    <path clip-path=\"url(#pef45a4b300)\" d=\"M 208.08 159.494829 \nL 241.56 159.494829 \nL 241.56 164.798243 \nL 208.08 164.798243 \nL 208.08 159.494829 \n\" style=\"fill:#21918c;\"/>\n    <path clip-path=\"url(#pef45a4b300)\" d=\"M 241.56 159.494829 \nL 275.04 159.494829 \nL 275.04 164.798243 \nL 241.56 164.798243 \nL 241.56 159.494829 \n\" style=\"fill:#21918c;\"/>\n    <path clip-path=\"url(#pef45a4b300)\" d=\"M 7.2 164.798243 \nL 40.68 164.798243 \nL 40.68 170.101658 \nL 7.2 170.101658 \nL 7.2 164.798243 \n\" style=\"fill:#21918c;\"/>\n    <path clip-path=\"url(#pef45a4b300)\" d=\"M 40.68 164.798243 \nL 74.16 164.798243 \nL 74.16 170.101658 \nL 40.68 170.101658 \nL 40.68 164.798243 \n\" style=\"fill:#21918c;\"/>\n    <path clip-path=\"url(#pef45a4b300)\" d=\"M 74.16 164.798243 \nL 107.64 164.798243 \nL 107.64 170.101658 \nL 74.16 170.101658 \nL 74.16 164.798243 \n\" style=\"fill:#21918c;\"/>\n    <path clip-path=\"url(#pef45a4b300)\" d=\"M 107.64 164.798243 \nL 141.12 164.798243 \nL 141.12 170.101658 \nL 107.64 170.101658 \nL 107.64 164.798243 \n\" style=\"fill:#21918c;\"/>\n    <path clip-path=\"url(#pef45a4b300)\" d=\"M 141.12 164.798243 \nL 174.6 164.798243 \nL 174.6 170.101658 \nL 141.12 170.101658 \nL 141.12 164.798243 \n\" style=\"fill:#21918c;\"/>\n    <path clip-path=\"url(#pef45a4b300)\" d=\"M 174.6 164.798243 \nL 208.08 164.798243 \nL 208.08 170.101658 \nL 174.6 170.101658 \nL 174.6 164.798243 \n\" style=\"fill:#21918c;\"/>\n    <path clip-path=\"url(#pef45a4b300)\" d=\"M 208.08 164.798243 \nL 241.56 164.798243 \nL 241.56 170.101658 \nL 208.08 170.101658 \nL 208.08 164.798243 \n\" style=\"fill:#21918c;\"/>\n    <path clip-path=\"url(#pef45a4b300)\" d=\"M 241.56 164.798243 \nL 275.04 164.798243 \nL 275.04 170.101658 \nL 241.56 170.101658 \nL 241.56 164.798243 \n\" style=\"fill:#21918c;\"/>\n    <path clip-path=\"url(#pef45a4b300)\" d=\"M 7.2 170.101658 \nL 40.68 170.101658 \nL 40.68 175.405072 \nL 7.2 175.405072 \nL 7.2 170.101658 \n\" style=\"fill:#21918c;\"/>\n    <path clip-path=\"url(#pef45a4b300)\" d=\"M 40.68 170.101658 \nL 74.16 170.101658 \nL 74.16 175.405072 \nL 40.68 175.405072 \nL 40.68 170.101658 \n\" style=\"fill:#21918c;\"/>\n    <path clip-path=\"url(#pef45a4b300)\" d=\"M 74.16 170.101658 \nL 107.64 170.101658 \nL 107.64 175.405072 \nL 74.16 175.405072 \nL 74.16 170.101658 \n\" style=\"fill:#21918c;\"/>\n    <path clip-path=\"url(#pef45a4b300)\" d=\"M 107.64 170.101658 \nL 141.12 170.101658 \nL 141.12 175.405072 \nL 107.64 175.405072 \nL 107.64 170.101658 \n\" style=\"fill:#21918c;\"/>\n    <path clip-path=\"url(#pef45a4b300)\" d=\"M 141.12 170.101658 \nL 174.6 170.101658 \nL 174.6 175.405072 \nL 141.12 175.405072 \nL 141.12 170.101658 \n\" style=\"fill:#21918c;\"/>\n    <path clip-path=\"url(#pef45a4b300)\" d=\"M 174.6 170.101658 \nL 208.08 170.101658 \nL 208.08 175.405072 \nL 174.6 175.405072 \nL 174.6 170.101658 \n\" style=\"fill:#21918c;\"/>\n    <path clip-path=\"url(#pef45a4b300)\" d=\"M 208.08 170.101658 \nL 241.56 170.101658 \nL 241.56 175.405072 \nL 208.08 175.405072 \nL 208.08 170.101658 \n\" style=\"fill:#21918c;\"/>\n    <path clip-path=\"url(#pef45a4b300)\" d=\"M 241.56 170.101658 \nL 275.04 170.101658 \nL 275.04 175.405072 \nL 241.56 175.405072 \nL 241.56 170.101658 \n\" style=\"fill:#21918c;\"/>\n    <path clip-path=\"url(#pef45a4b300)\" d=\"M 7.2 175.405072 \nL 40.68 175.405072 \nL 40.68 180.708487 \nL 7.2 180.708487 \nL 7.2 175.405072 \n\" style=\"fill:#21918c;\"/>\n    <path clip-path=\"url(#pef45a4b300)\" d=\"M 40.68 175.405072 \nL 74.16 175.405072 \nL 74.16 180.708487 \nL 40.68 180.708487 \nL 40.68 175.405072 \n\" style=\"fill:#21918c;\"/>\n    <path clip-path=\"url(#pef45a4b300)\" d=\"M 74.16 175.405072 \nL 107.64 175.405072 \nL 107.64 180.708487 \nL 74.16 180.708487 \nL 74.16 175.405072 \n\" style=\"fill:#21918c;\"/>\n    <path clip-path=\"url(#pef45a4b300)\" d=\"M 107.64 175.405072 \nL 141.12 175.405072 \nL 141.12 180.708487 \nL 107.64 180.708487 \nL 107.64 175.405072 \n\" style=\"fill:#21918c;\"/>\n    <path clip-path=\"url(#pef45a4b300)\" d=\"M 141.12 175.405072 \nL 174.6 175.405072 \nL 174.6 180.708487 \nL 141.12 180.708487 \nL 141.12 175.405072 \n\" style=\"fill:#21918c;\"/>\n    <path clip-path=\"url(#pef45a4b300)\" d=\"M 174.6 175.405072 \nL 208.08 175.405072 \nL 208.08 180.708487 \nL 174.6 180.708487 \nL 174.6 175.405072 \n\" style=\"fill:#21918c;\"/>\n    <path clip-path=\"url(#pef45a4b300)\" d=\"M 208.08 175.405072 \nL 241.56 175.405072 \nL 241.56 180.708487 \nL 208.08 180.708487 \nL 208.08 175.405072 \n\" style=\"fill:#21918c;\"/>\n    <path clip-path=\"url(#pef45a4b300)\" d=\"M 241.56 175.405072 \nL 275.04 175.405072 \nL 275.04 180.708487 \nL 241.56 180.708487 \nL 241.56 175.405072 \n\" style=\"fill:#21918c;\"/>\n    <path clip-path=\"url(#pef45a4b300)\" d=\"M 7.2 180.708487 \nL 40.68 180.708487 \nL 40.68 186.011902 \nL 7.2 186.011902 \nL 7.2 180.708487 \n\" style=\"fill:#21918c;\"/>\n    <path clip-path=\"url(#pef45a4b300)\" d=\"M 40.68 180.708487 \nL 74.16 180.708487 \nL 74.16 186.011902 \nL 40.68 186.011902 \nL 40.68 180.708487 \n\" style=\"fill:#21918c;\"/>\n    <path clip-path=\"url(#pef45a4b300)\" d=\"M 74.16 180.708487 \nL 107.64 180.708487 \nL 107.64 186.011902 \nL 74.16 186.011902 \nL 74.16 180.708487 \n\" style=\"fill:#21918c;\"/>\n    <path clip-path=\"url(#pef45a4b300)\" d=\"M 107.64 180.708487 \nL 141.12 180.708487 \nL 141.12 186.011902 \nL 107.64 186.011902 \nL 107.64 180.708487 \n\" style=\"fill:#21918c;\"/>\n    <path clip-path=\"url(#pef45a4b300)\" d=\"M 141.12 180.708487 \nL 174.6 180.708487 \nL 174.6 186.011902 \nL 141.12 186.011902 \nL 141.12 180.708487 \n\" style=\"fill:#21918c;\"/>\n    <path clip-path=\"url(#pef45a4b300)\" d=\"M 174.6 180.708487 \nL 208.08 180.708487 \nL 208.08 186.011902 \nL 174.6 186.011902 \nL 174.6 180.708487 \n\" style=\"fill:#21918c;\"/>\n    <path clip-path=\"url(#pef45a4b300)\" d=\"M 208.08 180.708487 \nL 241.56 180.708487 \nL 241.56 186.011902 \nL 208.08 186.011902 \nL 208.08 180.708487 \n\" style=\"fill:#21918c;\"/>\n    <path clip-path=\"url(#pef45a4b300)\" d=\"M 241.56 180.708487 \nL 275.04 180.708487 \nL 275.04 186.011902 \nL 241.56 186.011902 \nL 241.56 180.708487 \n\" style=\"fill:#21918c;\"/>\n    <path clip-path=\"url(#pef45a4b300)\" d=\"M 7.2 186.011902 \nL 40.68 186.011902 \nL 40.68 191.315316 \nL 7.2 191.315316 \nL 7.2 186.011902 \n\" style=\"fill:#21918c;\"/>\n    <path clip-path=\"url(#pef45a4b300)\" d=\"M 40.68 186.011902 \nL 74.16 186.011902 \nL 74.16 191.315316 \nL 40.68 191.315316 \nL 40.68 186.011902 \n\" style=\"fill:#21918c;\"/>\n    <path clip-path=\"url(#pef45a4b300)\" d=\"M 74.16 186.011902 \nL 107.64 186.011902 \nL 107.64 191.315316 \nL 74.16 191.315316 \nL 74.16 186.011902 \n\" style=\"fill:#21918c;\"/>\n    <path clip-path=\"url(#pef45a4b300)\" d=\"M 107.64 186.011902 \nL 141.12 186.011902 \nL 141.12 191.315316 \nL 107.64 191.315316 \nL 107.64 186.011902 \n\" style=\"fill:#21918c;\"/>\n    <path clip-path=\"url(#pef45a4b300)\" d=\"M 141.12 186.011902 \nL 174.6 186.011902 \nL 174.6 191.315316 \nL 141.12 191.315316 \nL 141.12 186.011902 \n\" style=\"fill:#21918c;\"/>\n    <path clip-path=\"url(#pef45a4b300)\" d=\"M 174.6 186.011902 \nL 208.08 186.011902 \nL 208.08 191.315316 \nL 174.6 191.315316 \nL 174.6 186.011902 \n\" style=\"fill:#21918c;\"/>\n    <path clip-path=\"url(#pef45a4b300)\" d=\"M 208.08 186.011902 \nL 241.56 186.011902 \nL 241.56 191.315316 \nL 208.08 191.315316 \nL 208.08 186.011902 \n\" style=\"fill:#21918c;\"/>\n    <path clip-path=\"url(#pef45a4b300)\" d=\"M 241.56 186.011902 \nL 275.04 186.011902 \nL 275.04 191.315316 \nL 241.56 191.315316 \nL 241.56 186.011902 \n\" style=\"fill:#21918c;\"/>\n    <path clip-path=\"url(#pef45a4b300)\" d=\"M 7.2 191.315316 \nL 40.68 191.315316 \nL 40.68 196.618731 \nL 7.2 196.618731 \nL 7.2 191.315316 \n\" style=\"fill:#21918c;\"/>\n    <path clip-path=\"url(#pef45a4b300)\" d=\"M 40.68 191.315316 \nL 74.16 191.315316 \nL 74.16 196.618731 \nL 40.68 196.618731 \nL 40.68 191.315316 \n\" style=\"fill:#21918c;\"/>\n    <path clip-path=\"url(#pef45a4b300)\" d=\"M 74.16 191.315316 \nL 107.64 191.315316 \nL 107.64 196.618731 \nL 74.16 196.618731 \nL 74.16 191.315316 \n\" style=\"fill:#21918c;\"/>\n    <path clip-path=\"url(#pef45a4b300)\" d=\"M 107.64 191.315316 \nL 141.12 191.315316 \nL 141.12 196.618731 \nL 107.64 196.618731 \nL 107.64 191.315316 \n\" style=\"fill:#21918c;\"/>\n    <path clip-path=\"url(#pef45a4b300)\" d=\"M 141.12 191.315316 \nL 174.6 191.315316 \nL 174.6 196.618731 \nL 141.12 196.618731 \nL 141.12 191.315316 \n\" style=\"fill:#21918c;\"/>\n    <path clip-path=\"url(#pef45a4b300)\" d=\"M 174.6 191.315316 \nL 208.08 191.315316 \nL 208.08 196.618731 \nL 174.6 196.618731 \nL 174.6 191.315316 \n\" style=\"fill:#21918c;\"/>\n    <path clip-path=\"url(#pef45a4b300)\" d=\"M 208.08 191.315316 \nL 241.56 191.315316 \nL 241.56 196.618731 \nL 208.08 196.618731 \nL 208.08 191.315316 \n\" style=\"fill:#21918c;\"/>\n    <path clip-path=\"url(#pef45a4b300)\" d=\"M 241.56 191.315316 \nL 275.04 191.315316 \nL 275.04 196.618731 \nL 241.56 196.618731 \nL 241.56 191.315316 \n\" style=\"fill:#21918c;\"/>\n    <path clip-path=\"url(#pef45a4b300)\" d=\"M 7.2 196.618731 \nL 40.68 196.618731 \nL 40.68 201.922146 \nL 7.2 201.922146 \nL 7.2 196.618731 \n\" style=\"fill:#21918c;\"/>\n    <path clip-path=\"url(#pef45a4b300)\" d=\"M 40.68 196.618731 \nL 74.16 196.618731 \nL 74.16 201.922146 \nL 40.68 201.922146 \nL 40.68 196.618731 \n\" style=\"fill:#21918c;\"/>\n    <path clip-path=\"url(#pef45a4b300)\" d=\"M 74.16 196.618731 \nL 107.64 196.618731 \nL 107.64 201.922146 \nL 74.16 201.922146 \nL 74.16 196.618731 \n\" style=\"fill:#21918c;\"/>\n    <path clip-path=\"url(#pef45a4b300)\" d=\"M 107.64 196.618731 \nL 141.12 196.618731 \nL 141.12 201.922146 \nL 107.64 201.922146 \nL 107.64 196.618731 \n\" style=\"fill:#21918c;\"/>\n    <path clip-path=\"url(#pef45a4b300)\" d=\"M 141.12 196.618731 \nL 174.6 196.618731 \nL 174.6 201.922146 \nL 141.12 201.922146 \nL 141.12 196.618731 \n\" style=\"fill:#21918c;\"/>\n    <path clip-path=\"url(#pef45a4b300)\" d=\"M 174.6 196.618731 \nL 208.08 196.618731 \nL 208.08 201.922146 \nL 174.6 201.922146 \nL 174.6 196.618731 \n\" style=\"fill:#21918c;\"/>\n    <path clip-path=\"url(#pef45a4b300)\" d=\"M 208.08 196.618731 \nL 241.56 196.618731 \nL 241.56 201.922146 \nL 208.08 201.922146 \nL 208.08 196.618731 \n\" style=\"fill:#21918c;\"/>\n    <path clip-path=\"url(#pef45a4b300)\" d=\"M 241.56 196.618731 \nL 275.04 196.618731 \nL 275.04 201.922146 \nL 241.56 201.922146 \nL 241.56 196.618731 \n\" style=\"fill:#21918c;\"/>\n    <path clip-path=\"url(#pef45a4b300)\" d=\"M 7.2 201.922146 \nL 40.68 201.922146 \nL 40.68 207.22556 \nL 7.2 207.22556 \nL 7.2 201.922146 \n\" style=\"fill:#21918c;\"/>\n    <path clip-path=\"url(#pef45a4b300)\" d=\"M 40.68 201.922146 \nL 74.16 201.922146 \nL 74.16 207.22556 \nL 40.68 207.22556 \nL 40.68 201.922146 \n\" style=\"fill:#21918c;\"/>\n    <path clip-path=\"url(#pef45a4b300)\" d=\"M 74.16 201.922146 \nL 107.64 201.922146 \nL 107.64 207.22556 \nL 74.16 207.22556 \nL 74.16 201.922146 \n\" style=\"fill:#21918c;\"/>\n    <path clip-path=\"url(#pef45a4b300)\" d=\"M 107.64 201.922146 \nL 141.12 201.922146 \nL 141.12 207.22556 \nL 107.64 207.22556 \nL 107.64 201.922146 \n\" style=\"fill:#21918c;\"/>\n    <path clip-path=\"url(#pef45a4b300)\" d=\"M 141.12 201.922146 \nL 174.6 201.922146 \nL 174.6 207.22556 \nL 141.12 207.22556 \nL 141.12 201.922146 \n\" style=\"fill:#21918c;\"/>\n    <path clip-path=\"url(#pef45a4b300)\" d=\"M 174.6 201.922146 \nL 208.08 201.922146 \nL 208.08 207.22556 \nL 174.6 207.22556 \nL 174.6 201.922146 \n\" style=\"fill:#21918c;\"/>\n    <path clip-path=\"url(#pef45a4b300)\" d=\"M 208.08 201.922146 \nL 241.56 201.922146 \nL 241.56 207.22556 \nL 208.08 207.22556 \nL 208.08 201.922146 \n\" style=\"fill:#21918c;\"/>\n    <path clip-path=\"url(#pef45a4b300)\" d=\"M 241.56 201.922146 \nL 275.04 201.922146 \nL 275.04 207.22556 \nL 241.56 207.22556 \nL 241.56 201.922146 \n\" style=\"fill:#21918c;\"/>\n    <path clip-path=\"url(#pef45a4b300)\" d=\"M 7.2 207.22556 \nL 40.68 207.22556 \nL 40.68 212.528975 \nL 7.2 212.528975 \nL 7.2 207.22556 \n\" style=\"fill:#21918c;\"/>\n    <path clip-path=\"url(#pef45a4b300)\" d=\"M 40.68 207.22556 \nL 74.16 207.22556 \nL 74.16 212.528975 \nL 40.68 212.528975 \nL 40.68 207.22556 \n\" style=\"fill:#21918c;\"/>\n    <path clip-path=\"url(#pef45a4b300)\" d=\"M 74.16 207.22556 \nL 107.64 207.22556 \nL 107.64 212.528975 \nL 74.16 212.528975 \nL 74.16 207.22556 \n\" style=\"fill:#21918c;\"/>\n    <path clip-path=\"url(#pef45a4b300)\" d=\"M 107.64 207.22556 \nL 141.12 207.22556 \nL 141.12 212.528975 \nL 107.64 212.528975 \nL 107.64 207.22556 \n\" style=\"fill:#21918c;\"/>\n    <path clip-path=\"url(#pef45a4b300)\" d=\"M 141.12 207.22556 \nL 174.6 207.22556 \nL 174.6 212.528975 \nL 141.12 212.528975 \nL 141.12 207.22556 \n\" style=\"fill:#21918c;\"/>\n    <path clip-path=\"url(#pef45a4b300)\" d=\"M 174.6 207.22556 \nL 208.08 207.22556 \nL 208.08 212.528975 \nL 174.6 212.528975 \nL 174.6 207.22556 \n\" style=\"fill:#21918c;\"/>\n    <path clip-path=\"url(#pef45a4b300)\" d=\"M 208.08 207.22556 \nL 241.56 207.22556 \nL 241.56 212.528975 \nL 208.08 212.528975 \nL 208.08 207.22556 \n\" style=\"fill:#21918c;\"/>\n    <path clip-path=\"url(#pef45a4b300)\" d=\"M 241.56 207.22556 \nL 275.04 207.22556 \nL 275.04 212.528975 \nL 241.56 212.528975 \nL 241.56 207.22556 \n\" style=\"fill:#21918c;\"/>\n    <path clip-path=\"url(#pef45a4b300)\" d=\"M 7.2 212.528975 \nL 40.68 212.528975 \nL 40.68 217.832389 \nL 7.2 217.832389 \nL 7.2 212.528975 \n\" style=\"fill:#21918c;\"/>\n    <path clip-path=\"url(#pef45a4b300)\" d=\"M 40.68 212.528975 \nL 74.16 212.528975 \nL 74.16 217.832389 \nL 40.68 217.832389 \nL 40.68 212.528975 \n\" style=\"fill:#21918c;\"/>\n    <path clip-path=\"url(#pef45a4b300)\" d=\"M 74.16 212.528975 \nL 107.64 212.528975 \nL 107.64 217.832389 \nL 74.16 217.832389 \nL 74.16 212.528975 \n\" style=\"fill:#21918c;\"/>\n    <path clip-path=\"url(#pef45a4b300)\" d=\"M 107.64 212.528975 \nL 141.12 212.528975 \nL 141.12 217.832389 \nL 107.64 217.832389 \nL 107.64 212.528975 \n\" style=\"fill:#21918c;\"/>\n    <path clip-path=\"url(#pef45a4b300)\" d=\"M 141.12 212.528975 \nL 174.6 212.528975 \nL 174.6 217.832389 \nL 141.12 217.832389 \nL 141.12 212.528975 \n\" style=\"fill:#21918c;\"/>\n    <path clip-path=\"url(#pef45a4b300)\" d=\"M 174.6 212.528975 \nL 208.08 212.528975 \nL 208.08 217.832389 \nL 174.6 217.832389 \nL 174.6 212.528975 \n\" style=\"fill:#21918c;\"/>\n    <path clip-path=\"url(#pef45a4b300)\" d=\"M 208.08 212.528975 \nL 241.56 212.528975 \nL 241.56 217.832389 \nL 208.08 217.832389 \nL 208.08 212.528975 \n\" style=\"fill:#21918c;\"/>\n    <path clip-path=\"url(#pef45a4b300)\" d=\"M 241.56 212.528975 \nL 275.04 212.528975 \nL 275.04 217.832389 \nL 241.56 217.832389 \nL 241.56 212.528975 \n\" style=\"fill:#21918c;\"/>\n    <path clip-path=\"url(#pef45a4b300)\" d=\"M 7.2 217.832389 \nL 40.68 217.832389 \nL 40.68 223.135804 \nL 7.2 223.135804 \nL 7.2 217.832389 \n\" style=\"fill:#21918c;\"/>\n    <path clip-path=\"url(#pef45a4b300)\" d=\"M 40.68 217.832389 \nL 74.16 217.832389 \nL 74.16 223.135804 \nL 40.68 223.135804 \nL 40.68 217.832389 \n\" style=\"fill:#21918c;\"/>\n    <path clip-path=\"url(#pef45a4b300)\" d=\"M 74.16 217.832389 \nL 107.64 217.832389 \nL 107.64 223.135804 \nL 74.16 223.135804 \nL 74.16 217.832389 \n\" style=\"fill:#21918c;\"/>\n    <path clip-path=\"url(#pef45a4b300)\" d=\"M 107.64 217.832389 \nL 141.12 217.832389 \nL 141.12 223.135804 \nL 107.64 223.135804 \nL 107.64 217.832389 \n\" style=\"fill:#21918c;\"/>\n    <path clip-path=\"url(#pef45a4b300)\" d=\"M 141.12 217.832389 \nL 174.6 217.832389 \nL 174.6 223.135804 \nL 141.12 223.135804 \nL 141.12 217.832389 \n\" style=\"fill:#21918c;\"/>\n    <path clip-path=\"url(#pef45a4b300)\" d=\"M 174.6 217.832389 \nL 208.08 217.832389 \nL 208.08 223.135804 \nL 174.6 223.135804 \nL 174.6 217.832389 \n\" style=\"fill:#21918c;\"/>\n    <path clip-path=\"url(#pef45a4b300)\" d=\"M 208.08 217.832389 \nL 241.56 217.832389 \nL 241.56 223.135804 \nL 208.08 223.135804 \nL 208.08 217.832389 \n\" style=\"fill:#21918c;\"/>\n    <path clip-path=\"url(#pef45a4b300)\" d=\"M 241.56 217.832389 \nL 275.04 217.832389 \nL 275.04 223.135804 \nL 241.56 223.135804 \nL 241.56 217.832389 \n\" style=\"fill:#21918c;\"/>\n    <path clip-path=\"url(#pef45a4b300)\" d=\"M 7.2 223.135804 \nL 40.68 223.135804 \nL 40.68 228.439219 \nL 7.2 228.439219 \nL 7.2 223.135804 \n\" style=\"fill:#21918c;\"/>\n    <path clip-path=\"url(#pef45a4b300)\" d=\"M 40.68 223.135804 \nL 74.16 223.135804 \nL 74.16 228.439219 \nL 40.68 228.439219 \nL 40.68 223.135804 \n\" style=\"fill:#21918c;\"/>\n    <path clip-path=\"url(#pef45a4b300)\" d=\"M 74.16 223.135804 \nL 107.64 223.135804 \nL 107.64 228.439219 \nL 74.16 228.439219 \nL 74.16 223.135804 \n\" style=\"fill:#21918c;\"/>\n    <path clip-path=\"url(#pef45a4b300)\" d=\"M 107.64 223.135804 \nL 141.12 223.135804 \nL 141.12 228.439219 \nL 107.64 228.439219 \nL 107.64 223.135804 \n\" style=\"fill:#21918c;\"/>\n    <path clip-path=\"url(#pef45a4b300)\" d=\"M 141.12 223.135804 \nL 174.6 223.135804 \nL 174.6 228.439219 \nL 141.12 228.439219 \nL 141.12 223.135804 \n\" style=\"fill:#21918c;\"/>\n    <path clip-path=\"url(#pef45a4b300)\" d=\"M 174.6 223.135804 \nL 208.08 223.135804 \nL 208.08 228.439219 \nL 174.6 228.439219 \nL 174.6 223.135804 \n\" style=\"fill:#21918c;\"/>\n    <path clip-path=\"url(#pef45a4b300)\" d=\"M 208.08 223.135804 \nL 241.56 223.135804 \nL 241.56 228.439219 \nL 208.08 228.439219 \nL 208.08 223.135804 \n\" style=\"fill:#21918c;\"/>\n    <path clip-path=\"url(#pef45a4b300)\" d=\"M 241.56 223.135804 \nL 275.04 223.135804 \nL 275.04 228.439219 \nL 241.56 228.439219 \nL 241.56 223.135804 \n\" style=\"fill:#21918c;\"/>\n   </g>\n   <g id=\"matplotlib.axis_1\">\n    <g id=\"xtick_1\">\n     <g id=\"line2d_1\">\n      <defs>\n       <path d=\"M 0 0 \nL 0 3.5 \n\" id=\"m0c2be8b3b3\" style=\"stroke:#000000;stroke-width:0.8;\"/>\n      </defs>\n      <g>\n       <use style=\"stroke:#000000;stroke-width:0.8;\" x=\"23.94\" xlink:href=\"#m0c2be8b3b3\" y=\"228.439219\"/>\n      </g>\n     </g>\n     <g id=\"text_1\">\n      <!-- ID -->\n      <defs>\n       <path d=\"M 9.8125 72.90625 \nL 19.671875 72.90625 \nL 19.671875 0 \nL 9.8125 0 \nz\n\" id=\"DejaVuSans-73\"/>\n       <path d=\"M 19.671875 64.796875 \nL 19.671875 8.109375 \nL 31.59375 8.109375 \nQ 46.6875 8.109375 53.6875 14.9375 \nQ 60.6875 21.78125 60.6875 36.53125 \nQ 60.6875 51.171875 53.6875 57.984375 \nQ 46.6875 64.796875 31.59375 64.796875 \nz\nM 9.8125 72.90625 \nL 30.078125 72.90625 \nQ 51.265625 72.90625 61.171875 64.09375 \nQ 71.09375 55.28125 71.09375 36.53125 \nQ 71.09375 17.671875 61.125 8.828125 \nQ 51.171875 0 30.078125 0 \nL 9.8125 0 \nz\n\" id=\"DejaVuSans-68\"/>\n      </defs>\n      <g transform=\"translate(26.699375 246.089219)rotate(-90)scale(0.1 -0.1)\">\n       <use xlink:href=\"#DejaVuSans-73\"/>\n       <use x=\"29.492188\" xlink:href=\"#DejaVuSans-68\"/>\n      </g>\n     </g>\n    </g>\n    <g id=\"xtick_2\">\n     <g id=\"line2d_2\">\n      <g>\n       <use style=\"stroke:#000000;stroke-width:0.8;\" x=\"57.42\" xlink:href=\"#m0c2be8b3b3\" y=\"228.439219\"/>\n      </g>\n     </g>\n     <g id=\"text_2\">\n      <!-- Age -->\n      <defs>\n       <path d=\"M 34.1875 63.1875 \nL 20.796875 26.90625 \nL 47.609375 26.90625 \nz\nM 28.609375 72.90625 \nL 39.796875 72.90625 \nL 67.578125 0 \nL 57.328125 0 \nL 50.6875 18.703125 \nL 17.828125 18.703125 \nL 11.1875 0 \nL 0.78125 0 \nz\n\" id=\"DejaVuSans-65\"/>\n       <path d=\"M 45.40625 27.984375 \nQ 45.40625 37.75 41.375 43.109375 \nQ 37.359375 48.484375 30.078125 48.484375 \nQ 22.859375 48.484375 18.828125 43.109375 \nQ 14.796875 37.75 14.796875 27.984375 \nQ 14.796875 18.265625 18.828125 12.890625 \nQ 22.859375 7.515625 30.078125 7.515625 \nQ 37.359375 7.515625 41.375 12.890625 \nQ 45.40625 18.265625 45.40625 27.984375 \nz\nM 54.390625 6.78125 \nQ 54.390625 -7.171875 48.1875 -13.984375 \nQ 42 -20.796875 29.203125 -20.796875 \nQ 24.46875 -20.796875 20.265625 -20.09375 \nQ 16.0625 -19.390625 12.109375 -17.921875 \nL 12.109375 -9.1875 \nQ 16.0625 -11.328125 19.921875 -12.34375 \nQ 23.78125 -13.375 27.78125 -13.375 \nQ 36.625 -13.375 41.015625 -8.765625 \nQ 45.40625 -4.15625 45.40625 5.171875 \nL 45.40625 9.625 \nQ 42.625 4.78125 38.28125 2.390625 \nQ 33.9375 0 27.875 0 \nQ 17.828125 0 11.671875 7.65625 \nQ 5.515625 15.328125 5.515625 27.984375 \nQ 5.515625 40.671875 11.671875 48.328125 \nQ 17.828125 56 27.875 56 \nQ 33.9375 56 38.28125 53.609375 \nQ 42.625 51.21875 45.40625 46.390625 \nL 45.40625 54.6875 \nL 54.390625 54.6875 \nz\n\" id=\"DejaVuSans-103\"/>\n       <path d=\"M 56.203125 29.59375 \nL 56.203125 25.203125 \nL 14.890625 25.203125 \nQ 15.484375 15.921875 20.484375 11.0625 \nQ 25.484375 6.203125 34.421875 6.203125 \nQ 39.59375 6.203125 44.453125 7.46875 \nQ 49.3125 8.734375 54.109375 11.28125 \nL 54.109375 2.78125 \nQ 49.265625 0.734375 44.1875 -0.34375 \nQ 39.109375 -1.421875 33.890625 -1.421875 \nQ 20.796875 -1.421875 13.15625 6.1875 \nQ 5.515625 13.8125 5.515625 26.8125 \nQ 5.515625 40.234375 12.765625 48.109375 \nQ 20.015625 56 32.328125 56 \nQ 43.359375 56 49.78125 48.890625 \nQ 56.203125 41.796875 56.203125 29.59375 \nz\nM 47.21875 32.234375 \nQ 47.125 39.59375 43.09375 43.984375 \nQ 39.0625 48.390625 32.421875 48.390625 \nQ 24.90625 48.390625 20.390625 44.140625 \nQ 15.875 39.890625 15.1875 32.171875 \nz\n\" id=\"DejaVuSans-101\"/>\n      </defs>\n      <g transform=\"translate(60.179375 254.781406)rotate(-90)scale(0.1 -0.1)\">\n       <use xlink:href=\"#DejaVuSans-65\"/>\n       <use x=\"68.408203\" xlink:href=\"#DejaVuSans-103\"/>\n       <use x=\"131.884766\" xlink:href=\"#DejaVuSans-101\"/>\n      </g>\n     </g>\n    </g>\n    <g id=\"xtick_3\">\n     <g id=\"line2d_3\">\n      <g>\n       <use style=\"stroke:#000000;stroke-width:0.8;\" x=\"90.9\" xlink:href=\"#m0c2be8b3b3\" y=\"228.439219\"/>\n      </g>\n     </g>\n     <g id=\"text_3\">\n      <!-- Weight -->\n      <defs>\n       <path d=\"M 3.328125 72.90625 \nL 13.28125 72.90625 \nL 28.609375 11.28125 \nL 43.890625 72.90625 \nL 54.984375 72.90625 \nL 70.3125 11.28125 \nL 85.59375 72.90625 \nL 95.609375 72.90625 \nL 77.296875 0 \nL 64.890625 0 \nL 49.515625 63.28125 \nL 33.984375 0 \nL 21.578125 0 \nz\n\" id=\"DejaVuSans-87\"/>\n       <path d=\"M 9.421875 54.6875 \nL 18.40625 54.6875 \nL 18.40625 0 \nL 9.421875 0 \nz\nM 9.421875 75.984375 \nL 18.40625 75.984375 \nL 18.40625 64.59375 \nL 9.421875 64.59375 \nz\n\" id=\"DejaVuSans-105\"/>\n       <path d=\"M 54.890625 33.015625 \nL 54.890625 0 \nL 45.90625 0 \nL 45.90625 32.71875 \nQ 45.90625 40.484375 42.875 44.328125 \nQ 39.84375 48.1875 33.796875 48.1875 \nQ 26.515625 48.1875 22.3125 43.546875 \nQ 18.109375 38.921875 18.109375 30.90625 \nL 18.109375 0 \nL 9.078125 0 \nL 9.078125 75.984375 \nL 18.109375 75.984375 \nL 18.109375 46.1875 \nQ 21.34375 51.125 25.703125 53.5625 \nQ 30.078125 56 35.796875 56 \nQ 45.21875 56 50.046875 50.171875 \nQ 54.890625 44.34375 54.890625 33.015625 \nz\n\" id=\"DejaVuSans-104\"/>\n       <path d=\"M 18.3125 70.21875 \nL 18.3125 54.6875 \nL 36.8125 54.6875 \nL 36.8125 47.703125 \nL 18.3125 47.703125 \nL 18.3125 18.015625 \nQ 18.3125 11.328125 20.140625 9.421875 \nQ 21.96875 7.515625 27.59375 7.515625 \nL 36.8125 7.515625 \nL 36.8125 0 \nL 27.59375 0 \nQ 17.1875 0 13.234375 3.875 \nQ 9.28125 7.765625 9.28125 18.015625 \nL 9.28125 47.703125 \nL 2.6875 47.703125 \nL 2.6875 54.6875 \nL 9.28125 54.6875 \nL 9.28125 70.21875 \nz\n\" id=\"DejaVuSans-116\"/>\n      </defs>\n      <g transform=\"translate(93.659375 270.276719)rotate(-90)scale(0.1 -0.1)\">\n       <use xlink:href=\"#DejaVuSans-87\"/>\n       <use x=\"93.001953\" xlink:href=\"#DejaVuSans-101\"/>\n       <use x=\"154.525391\" xlink:href=\"#DejaVuSans-105\"/>\n       <use x=\"182.308594\" xlink:href=\"#DejaVuSans-103\"/>\n       <use x=\"245.785156\" xlink:href=\"#DejaVuSans-104\"/>\n       <use x=\"309.164062\" xlink:href=\"#DejaVuSans-116\"/>\n      </g>\n     </g>\n    </g>\n    <g id=\"xtick_4\">\n     <g id=\"line2d_4\">\n      <g>\n       <use style=\"stroke:#000000;stroke-width:0.8;\" x=\"124.38\" xlink:href=\"#m0c2be8b3b3\" y=\"228.439219\"/>\n      </g>\n     </g>\n     <g id=\"text_4\">\n      <!-- Firstname -->\n      <defs>\n       <path d=\"M 9.8125 72.90625 \nL 51.703125 72.90625 \nL 51.703125 64.59375 \nL 19.671875 64.59375 \nL 19.671875 43.109375 \nL 48.578125 43.109375 \nL 48.578125 34.8125 \nL 19.671875 34.8125 \nL 19.671875 0 \nL 9.8125 0 \nz\n\" id=\"DejaVuSans-70\"/>\n       <path d=\"M 41.109375 46.296875 \nQ 39.59375 47.171875 37.8125 47.578125 \nQ 36.03125 48 33.890625 48 \nQ 26.265625 48 22.1875 43.046875 \nQ 18.109375 38.09375 18.109375 28.8125 \nL 18.109375 0 \nL 9.078125 0 \nL 9.078125 54.6875 \nL 18.109375 54.6875 \nL 18.109375 46.1875 \nQ 20.953125 51.171875 25.484375 53.578125 \nQ 30.03125 56 36.53125 56 \nQ 37.453125 56 38.578125 55.875 \nQ 39.703125 55.765625 41.0625 55.515625 \nz\n\" id=\"DejaVuSans-114\"/>\n       <path d=\"M 44.28125 53.078125 \nL 44.28125 44.578125 \nQ 40.484375 46.53125 36.375 47.5 \nQ 32.28125 48.484375 27.875 48.484375 \nQ 21.1875 48.484375 17.84375 46.4375 \nQ 14.5 44.390625 14.5 40.28125 \nQ 14.5 37.15625 16.890625 35.375 \nQ 19.28125 33.59375 26.515625 31.984375 \nL 29.59375 31.296875 \nQ 39.15625 29.25 43.1875 25.515625 \nQ 47.21875 21.78125 47.21875 15.09375 \nQ 47.21875 7.46875 41.1875 3.015625 \nQ 35.15625 -1.421875 24.609375 -1.421875 \nQ 20.21875 -1.421875 15.453125 -0.5625 \nQ 10.6875 0.296875 5.421875 2 \nL 5.421875 11.28125 \nQ 10.40625 8.6875 15.234375 7.390625 \nQ 20.0625 6.109375 24.8125 6.109375 \nQ 31.15625 6.109375 34.5625 8.28125 \nQ 37.984375 10.453125 37.984375 14.40625 \nQ 37.984375 18.0625 35.515625 20.015625 \nQ 33.0625 21.96875 24.703125 23.78125 \nL 21.578125 24.515625 \nQ 13.234375 26.265625 9.515625 29.90625 \nQ 5.8125 33.546875 5.8125 39.890625 \nQ 5.8125 47.609375 11.28125 51.796875 \nQ 16.75 56 26.8125 56 \nQ 31.78125 56 36.171875 55.265625 \nQ 40.578125 54.546875 44.28125 53.078125 \nz\n\" id=\"DejaVuSans-115\"/>\n       <path d=\"M 54.890625 33.015625 \nL 54.890625 0 \nL 45.90625 0 \nL 45.90625 32.71875 \nQ 45.90625 40.484375 42.875 44.328125 \nQ 39.84375 48.1875 33.796875 48.1875 \nQ 26.515625 48.1875 22.3125 43.546875 \nQ 18.109375 38.921875 18.109375 30.90625 \nL 18.109375 0 \nL 9.078125 0 \nL 9.078125 54.6875 \nL 18.109375 54.6875 \nL 18.109375 46.1875 \nQ 21.34375 51.125 25.703125 53.5625 \nQ 30.078125 56 35.796875 56 \nQ 45.21875 56 50.046875 50.171875 \nQ 54.890625 44.34375 54.890625 33.015625 \nz\n\" id=\"DejaVuSans-110\"/>\n       <path d=\"M 34.28125 27.484375 \nQ 23.390625 27.484375 19.1875 25 \nQ 14.984375 22.515625 14.984375 16.5 \nQ 14.984375 11.71875 18.140625 8.90625 \nQ 21.296875 6.109375 26.703125 6.109375 \nQ 34.1875 6.109375 38.703125 11.40625 \nQ 43.21875 16.703125 43.21875 25.484375 \nL 43.21875 27.484375 \nz\nM 52.203125 31.203125 \nL 52.203125 0 \nL 43.21875 0 \nL 43.21875 8.296875 \nQ 40.140625 3.328125 35.546875 0.953125 \nQ 30.953125 -1.421875 24.3125 -1.421875 \nQ 15.921875 -1.421875 10.953125 3.296875 \nQ 6 8.015625 6 15.921875 \nQ 6 25.140625 12.171875 29.828125 \nQ 18.359375 34.515625 30.609375 34.515625 \nL 43.21875 34.515625 \nL 43.21875 35.40625 \nQ 43.21875 41.609375 39.140625 45 \nQ 35.0625 48.390625 27.6875 48.390625 \nQ 23 48.390625 18.546875 47.265625 \nQ 14.109375 46.140625 10.015625 43.890625 \nL 10.015625 52.203125 \nQ 14.9375 54.109375 19.578125 55.046875 \nQ 24.21875 56 28.609375 56 \nQ 40.484375 56 46.34375 49.84375 \nQ 52.203125 43.703125 52.203125 31.203125 \nz\n\" id=\"DejaVuSans-97\"/>\n       <path d=\"M 52 44.1875 \nQ 55.375 50.25 60.0625 53.125 \nQ 64.75 56 71.09375 56 \nQ 79.640625 56 84.28125 50.015625 \nQ 88.921875 44.046875 88.921875 33.015625 \nL 88.921875 0 \nL 79.890625 0 \nL 79.890625 32.71875 \nQ 79.890625 40.578125 77.09375 44.375 \nQ 74.3125 48.1875 68.609375 48.1875 \nQ 61.625 48.1875 57.5625 43.546875 \nQ 53.515625 38.921875 53.515625 30.90625 \nL 53.515625 0 \nL 44.484375 0 \nL 44.484375 32.71875 \nQ 44.484375 40.625 41.703125 44.40625 \nQ 38.921875 48.1875 33.109375 48.1875 \nQ 26.21875 48.1875 22.15625 43.53125 \nQ 18.109375 38.875 18.109375 30.90625 \nL 18.109375 0 \nL 9.078125 0 \nL 9.078125 54.6875 \nL 18.109375 54.6875 \nL 18.109375 46.1875 \nQ 21.1875 51.21875 25.484375 53.609375 \nQ 29.78125 56 35.6875 56 \nQ 41.65625 56 45.828125 52.96875 \nQ 50 49.953125 52 44.1875 \nz\n\" id=\"DejaVuSans-109\"/>\n      </defs>\n      <g transform=\"translate(127.139375 284.843906)rotate(-90)scale(0.1 -0.1)\">\n       <use xlink:href=\"#DejaVuSans-70\"/>\n       <use x=\"50.269531\" xlink:href=\"#DejaVuSans-105\"/>\n       <use x=\"78.052734\" xlink:href=\"#DejaVuSans-114\"/>\n       <use x=\"119.166016\" xlink:href=\"#DejaVuSans-115\"/>\n       <use x=\"171.265625\" xlink:href=\"#DejaVuSans-116\"/>\n       <use x=\"210.474609\" xlink:href=\"#DejaVuSans-110\"/>\n       <use x=\"273.853516\" xlink:href=\"#DejaVuSans-97\"/>\n       <use x=\"335.132812\" xlink:href=\"#DejaVuSans-109\"/>\n       <use x=\"432.544922\" xlink:href=\"#DejaVuSans-101\"/>\n      </g>\n     </g>\n    </g>\n    <g id=\"xtick_5\">\n     <g id=\"line2d_5\">\n      <g>\n       <use style=\"stroke:#000000;stroke-width:0.8;\" x=\"157.86\" xlink:href=\"#m0c2be8b3b3\" y=\"228.439219\"/>\n      </g>\n     </g>\n     <g id=\"text_5\">\n      <!-- Lastname -->\n      <defs>\n       <path d=\"M 9.8125 72.90625 \nL 19.671875 72.90625 \nL 19.671875 8.296875 \nL 55.171875 8.296875 \nL 55.171875 0 \nL 9.8125 0 \nz\n\" id=\"DejaVuSans-76\"/>\n      </defs>\n      <g transform=\"translate(160.619375 284.628281)rotate(-90)scale(0.1 -0.1)\">\n       <use xlink:href=\"#DejaVuSans-76\"/>\n       <use x=\"55.712891\" xlink:href=\"#DejaVuSans-97\"/>\n       <use x=\"116.992188\" xlink:href=\"#DejaVuSans-115\"/>\n       <use x=\"169.091797\" xlink:href=\"#DejaVuSans-116\"/>\n       <use x=\"208.300781\" xlink:href=\"#DejaVuSans-110\"/>\n       <use x=\"271.679688\" xlink:href=\"#DejaVuSans-97\"/>\n       <use x=\"332.958984\" xlink:href=\"#DejaVuSans-109\"/>\n       <use x=\"430.371094\" xlink:href=\"#DejaVuSans-101\"/>\n      </g>\n     </g>\n    </g>\n    <g id=\"xtick_6\">\n     <g id=\"line2d_6\">\n      <g>\n       <use style=\"stroke:#000000;stroke-width:0.8;\" x=\"191.34\" xlink:href=\"#m0c2be8b3b3\" y=\"228.439219\"/>\n      </g>\n     </g>\n     <g id=\"text_6\">\n      <!-- PulseRate -->\n      <defs>\n       <path d=\"M 19.671875 64.796875 \nL 19.671875 37.40625 \nL 32.078125 37.40625 \nQ 38.96875 37.40625 42.71875 40.96875 \nQ 46.484375 44.53125 46.484375 51.125 \nQ 46.484375 57.671875 42.71875 61.234375 \nQ 38.96875 64.796875 32.078125 64.796875 \nz\nM 9.8125 72.90625 \nL 32.078125 72.90625 \nQ 44.34375 72.90625 50.609375 67.359375 \nQ 56.890625 61.8125 56.890625 51.125 \nQ 56.890625 40.328125 50.609375 34.8125 \nQ 44.34375 29.296875 32.078125 29.296875 \nL 19.671875 29.296875 \nL 19.671875 0 \nL 9.8125 0 \nz\n\" id=\"DejaVuSans-80\"/>\n       <path d=\"M 8.5 21.578125 \nL 8.5 54.6875 \nL 17.484375 54.6875 \nL 17.484375 21.921875 \nQ 17.484375 14.15625 20.5 10.265625 \nQ 23.53125 6.390625 29.59375 6.390625 \nQ 36.859375 6.390625 41.078125 11.03125 \nQ 45.3125 15.671875 45.3125 23.6875 \nL 45.3125 54.6875 \nL 54.296875 54.6875 \nL 54.296875 0 \nL 45.3125 0 \nL 45.3125 8.40625 \nQ 42.046875 3.421875 37.71875 1 \nQ 33.40625 -1.421875 27.6875 -1.421875 \nQ 18.265625 -1.421875 13.375 4.4375 \nQ 8.5 10.296875 8.5 21.578125 \nz\nM 31.109375 56 \nz\n\" id=\"DejaVuSans-117\"/>\n       <path d=\"M 9.421875 75.984375 \nL 18.40625 75.984375 \nL 18.40625 0 \nL 9.421875 0 \nz\n\" id=\"DejaVuSans-108\"/>\n       <path d=\"M 44.390625 34.1875 \nQ 47.5625 33.109375 50.5625 29.59375 \nQ 53.5625 26.078125 56.59375 19.921875 \nL 66.609375 0 \nL 56 0 \nL 46.6875 18.703125 \nQ 43.0625 26.03125 39.671875 28.421875 \nQ 36.28125 30.8125 30.421875 30.8125 \nL 19.671875 30.8125 \nL 19.671875 0 \nL 9.8125 0 \nL 9.8125 72.90625 \nL 32.078125 72.90625 \nQ 44.578125 72.90625 50.734375 67.671875 \nQ 56.890625 62.453125 56.890625 51.90625 \nQ 56.890625 45.015625 53.6875 40.46875 \nQ 50.484375 35.9375 44.390625 34.1875 \nz\nM 19.671875 64.796875 \nL 19.671875 38.921875 \nL 32.078125 38.921875 \nQ 39.203125 38.921875 42.84375 42.21875 \nQ 46.484375 45.515625 46.484375 51.90625 \nQ 46.484375 58.296875 42.84375 61.546875 \nQ 39.203125 64.796875 32.078125 64.796875 \nz\n\" id=\"DejaVuSans-82\"/>\n      </defs>\n      <g transform=\"translate(194.099375 284.697031)rotate(-90)scale(0.1 -0.1)\">\n       <use xlink:href=\"#DejaVuSans-80\"/>\n       <use x=\"58.552734\" xlink:href=\"#DejaVuSans-117\"/>\n       <use x=\"121.931641\" xlink:href=\"#DejaVuSans-108\"/>\n       <use x=\"149.714844\" xlink:href=\"#DejaVuSans-115\"/>\n       <use x=\"201.814453\" xlink:href=\"#DejaVuSans-101\"/>\n       <use x=\"263.337891\" xlink:href=\"#DejaVuSans-82\"/>\n       <use x=\"330.570312\" xlink:href=\"#DejaVuSans-97\"/>\n       <use x=\"391.849609\" xlink:href=\"#DejaVuSans-116\"/>\n       <use x=\"431.058594\" xlink:href=\"#DejaVuSans-101\"/>\n      </g>\n     </g>\n    </g>\n    <g id=\"xtick_7\">\n     <g id=\"line2d_7\">\n      <g>\n       <use style=\"stroke:#000000;stroke-width:0.8;\" x=\"224.82\" xlink:href=\"#m0c2be8b3b3\" y=\"228.439219\"/>\n      </g>\n     </g>\n     <g id=\"text_7\">\n      <!-- Sex -->\n      <defs>\n       <path d=\"M 53.515625 70.515625 \nL 53.515625 60.890625 \nQ 47.90625 63.578125 42.921875 64.890625 \nQ 37.9375 66.21875 33.296875 66.21875 \nQ 25.25 66.21875 20.875 63.09375 \nQ 16.5 59.96875 16.5 54.203125 \nQ 16.5 49.359375 19.40625 46.890625 \nQ 22.3125 44.4375 30.421875 42.921875 \nL 36.375 41.703125 \nQ 47.40625 39.59375 52.65625 34.296875 \nQ 57.90625 29 57.90625 20.125 \nQ 57.90625 9.515625 50.796875 4.046875 \nQ 43.703125 -1.421875 29.984375 -1.421875 \nQ 24.8125 -1.421875 18.96875 -0.25 \nQ 13.140625 0.921875 6.890625 3.21875 \nL 6.890625 13.375 \nQ 12.890625 10.015625 18.65625 8.296875 \nQ 24.421875 6.59375 29.984375 6.59375 \nQ 38.421875 6.59375 43.015625 9.90625 \nQ 47.609375 13.234375 47.609375 19.390625 \nQ 47.609375 24.75 44.3125 27.78125 \nQ 41.015625 30.8125 33.5 32.328125 \nL 27.484375 33.5 \nQ 16.453125 35.6875 11.515625 40.375 \nQ 6.59375 45.0625 6.59375 53.421875 \nQ 6.59375 63.09375 13.40625 68.65625 \nQ 20.21875 74.21875 32.171875 74.21875 \nQ 37.3125 74.21875 42.625 73.28125 \nQ 47.953125 72.359375 53.515625 70.515625 \nz\n\" id=\"DejaVuSans-83\"/>\n       <path d=\"M 54.890625 54.6875 \nL 35.109375 28.078125 \nL 55.90625 0 \nL 45.3125 0 \nL 29.390625 21.484375 \nL 13.484375 0 \nL 2.875 0 \nL 24.125 28.609375 \nL 4.6875 54.6875 \nL 15.28125 54.6875 \nL 29.78125 35.203125 \nL 44.28125 54.6875 \nz\n\" id=\"DejaVuSans-120\"/>\n      </defs>\n      <g transform=\"translate(227.579375 253.684531)rotate(-90)scale(0.1 -0.1)\">\n       <use xlink:href=\"#DejaVuSans-83\"/>\n       <use x=\"63.476562\" xlink:href=\"#DejaVuSans-101\"/>\n       <use x=\"123.25\" xlink:href=\"#DejaVuSans-120\"/>\n      </g>\n     </g>\n    </g>\n    <g id=\"xtick_8\">\n     <g id=\"line2d_8\">\n      <g>\n       <use style=\"stroke:#000000;stroke-width:0.8;\" x=\"258.3\" xlink:href=\"#m0c2be8b3b3\" y=\"228.439219\"/>\n      </g>\n     </g>\n     <g id=\"text_8\">\n      <!-- Time -->\n      <defs>\n       <path d=\"M -0.296875 72.90625 \nL 61.375 72.90625 \nL 61.375 64.59375 \nL 35.5 64.59375 \nL 35.5 0 \nL 25.59375 0 \nL 25.59375 64.59375 \nL -0.296875 64.59375 \nz\n\" id=\"DejaVuSans-84\"/>\n      </defs>\n      <g transform=\"translate(261.059375 259.906406)rotate(-90)scale(0.1 -0.1)\">\n       <use xlink:href=\"#DejaVuSans-84\"/>\n       <use x=\"57.958984\" xlink:href=\"#DejaVuSans-105\"/>\n       <use x=\"85.742188\" xlink:href=\"#DejaVuSans-109\"/>\n       <use x=\"183.154297\" xlink:href=\"#DejaVuSans-101\"/>\n      </g>\n     </g>\n    </g>\n   </g>\n   <g id=\"matplotlib.axis_2\"/>\n  </g>\n  <g id=\"axes_2\">\n   <g id=\"patch_3\">\n    <path clip-path=\"url(#p7c2d0cd802)\" d=\"M 291.78 228.439219 \nL 291.78 227.589844 \nL 291.78 11.848594 \nL 291.78 10.999219 \nL 302.652 10.999219 \nL 302.652 11.848594 \nL 302.652 227.589844 \nL 302.652 228.439219 \nz\n\" style=\"fill:#ffffff;stroke:#ffffff;stroke-linejoin:miter;stroke-width:0.01;\"/>\n   </g>\n   <image height=\"217\" id=\"image503fd2b972\" transform=\"scale(1 -1)translate(0 -217)\" width=\"11\" x=\"292\" xlink:href=\"data:image/png;base64,\niVBORw0KGgoAAAANSUhEUgAAAAsAAADZCAYAAAD2WsoCAAAABHNCSVQICAgIfAhkiAAAAV5JREFUaIHd2tFthEAMhOFdG66y1JD+C0lyaWG/h5HM8WyNZn57DQL2V32/1+F17dqntetau86Ldzcomw0o3gWeSXnFAm7hnEMXpJGzkaMxJOAMGu+eEZA8G7rj2nUtWTJBG0Eaohz0nFJeokzDb5zJRoyGKRsNUR5CQ+Z5SlMIHQWccrqheAq6YMDYkrF2i/Knt3uK5/NafN54Ygc/v93PowG6zwwYnefz8402ZqyCKTSC7QbPQXSVsjGEBjwiJWmslQsYUxYaxlk8U0CygQGl+NwFB0zR6PqbYKNiNErOYMdmIxhQintDu0l5SrG0+5LhH+KZlK/6nWCjZOo62G6g0UYjNUhIA2zcW2Yjt2RoP4syBpQRjc1GSwepKa/9A8qxptCI0vATulto5M4gocOAsV0XDJi6Ab1WbNfRSbGAx7WofJsyfG6Qt3tXy4eMEhs3vM9SG6BMnlt+BBIb/6Y/gWhq+41lAAAAAElFTkSuQmCC\" y=\"-11\"/>\n   <g id=\"matplotlib.axis_3\"/>\n   <g id=\"matplotlib.axis_4\">\n    <g id=\"ytick_1\">\n     <g id=\"line2d_9\">\n      <defs>\n       <path d=\"M 0 0 \nL 3.5 0 \n\" id=\"mcc1e70c902\" style=\"stroke:#000000;stroke-width:0.8;\"/>\n      </defs>\n      <g>\n       <use style=\"stroke:#000000;stroke-width:0.8;\" x=\"302.652\" xlink:href=\"#mcc1e70c902\" y=\"228.439219\"/>\n      </g>\n     </g>\n     <g id=\"text_9\">\n      <!-- −0.100 -->\n      <defs>\n       <path d=\"M 10.59375 35.5 \nL 73.1875 35.5 \nL 73.1875 27.203125 \nL 10.59375 27.203125 \nz\n\" id=\"DejaVuSans-8722\"/>\n       <path d=\"M 31.78125 66.40625 \nQ 24.171875 66.40625 20.328125 58.90625 \nQ 16.5 51.421875 16.5 36.375 \nQ 16.5 21.390625 20.328125 13.890625 \nQ 24.171875 6.390625 31.78125 6.390625 \nQ 39.453125 6.390625 43.28125 13.890625 \nQ 47.125 21.390625 47.125 36.375 \nQ 47.125 51.421875 43.28125 58.90625 \nQ 39.453125 66.40625 31.78125 66.40625 \nz\nM 31.78125 74.21875 \nQ 44.046875 74.21875 50.515625 64.515625 \nQ 56.984375 54.828125 56.984375 36.375 \nQ 56.984375 17.96875 50.515625 8.265625 \nQ 44.046875 -1.421875 31.78125 -1.421875 \nQ 19.53125 -1.421875 13.0625 8.265625 \nQ 6.59375 17.96875 6.59375 36.375 \nQ 6.59375 54.828125 13.0625 64.515625 \nQ 19.53125 74.21875 31.78125 74.21875 \nz\n\" id=\"DejaVuSans-48\"/>\n       <path d=\"M 10.6875 12.40625 \nL 21 12.40625 \nL 21 0 \nL 10.6875 0 \nz\n\" id=\"DejaVuSans-46\"/>\n       <path d=\"M 12.40625 8.296875 \nL 28.515625 8.296875 \nL 28.515625 63.921875 \nL 10.984375 60.40625 \nL 10.984375 69.390625 \nL 28.421875 72.90625 \nL 38.28125 72.90625 \nL 38.28125 8.296875 \nL 54.390625 8.296875 \nL 54.390625 0 \nL 12.40625 0 \nz\n\" id=\"DejaVuSans-49\"/>\n      </defs>\n      <g transform=\"translate(309.652 232.238438)scale(0.1 -0.1)\">\n       <use xlink:href=\"#DejaVuSans-8722\"/>\n       <use x=\"83.789062\" xlink:href=\"#DejaVuSans-48\"/>\n       <use x=\"147.412109\" xlink:href=\"#DejaVuSans-46\"/>\n       <use x=\"179.199219\" xlink:href=\"#DejaVuSans-49\"/>\n       <use x=\"242.822266\" xlink:href=\"#DejaVuSans-48\"/>\n       <use x=\"306.445312\" xlink:href=\"#DejaVuSans-48\"/>\n      </g>\n     </g>\n    </g>\n    <g id=\"ytick_2\">\n     <g id=\"line2d_10\">\n      <g>\n       <use style=\"stroke:#000000;stroke-width:0.8;\" x=\"302.652\" xlink:href=\"#mcc1e70c902\" y=\"201.259219\"/>\n      </g>\n     </g>\n     <g id=\"text_10\">\n      <!-- −0.075 -->\n      <defs>\n       <path d=\"M 8.203125 72.90625 \nL 55.078125 72.90625 \nL 55.078125 68.703125 \nL 28.609375 0 \nL 18.3125 0 \nL 43.21875 64.59375 \nL 8.203125 64.59375 \nz\n\" id=\"DejaVuSans-55\"/>\n       <path d=\"M 10.796875 72.90625 \nL 49.515625 72.90625 \nL 49.515625 64.59375 \nL 19.828125 64.59375 \nL 19.828125 46.734375 \nQ 21.96875 47.46875 24.109375 47.828125 \nQ 26.265625 48.1875 28.421875 48.1875 \nQ 40.625 48.1875 47.75 41.5 \nQ 54.890625 34.8125 54.890625 23.390625 \nQ 54.890625 11.625 47.5625 5.09375 \nQ 40.234375 -1.421875 26.90625 -1.421875 \nQ 22.3125 -1.421875 17.546875 -0.640625 \nQ 12.796875 0.140625 7.71875 1.703125 \nL 7.71875 11.625 \nQ 12.109375 9.234375 16.796875 8.0625 \nQ 21.484375 6.890625 26.703125 6.890625 \nQ 35.15625 6.890625 40.078125 11.328125 \nQ 45.015625 15.765625 45.015625 23.390625 \nQ 45.015625 31 40.078125 35.4375 \nQ 35.15625 39.890625 26.703125 39.890625 \nQ 22.75 39.890625 18.8125 39.015625 \nQ 14.890625 38.140625 10.796875 36.28125 \nz\n\" id=\"DejaVuSans-53\"/>\n      </defs>\n      <g transform=\"translate(309.652 205.058437)scale(0.1 -0.1)\">\n       <use xlink:href=\"#DejaVuSans-8722\"/>\n       <use x=\"83.789062\" xlink:href=\"#DejaVuSans-48\"/>\n       <use x=\"147.412109\" xlink:href=\"#DejaVuSans-46\"/>\n       <use x=\"179.199219\" xlink:href=\"#DejaVuSans-48\"/>\n       <use x=\"242.822266\" xlink:href=\"#DejaVuSans-55\"/>\n       <use x=\"306.445312\" xlink:href=\"#DejaVuSans-53\"/>\n      </g>\n     </g>\n    </g>\n    <g id=\"ytick_3\">\n     <g id=\"line2d_11\">\n      <g>\n       <use style=\"stroke:#000000;stroke-width:0.8;\" x=\"302.652\" xlink:href=\"#mcc1e70c902\" y=\"174.079219\"/>\n      </g>\n     </g>\n     <g id=\"text_11\">\n      <!-- −0.050 -->\n      <g transform=\"translate(309.652 177.878437)scale(0.1 -0.1)\">\n       <use xlink:href=\"#DejaVuSans-8722\"/>\n       <use x=\"83.789062\" xlink:href=\"#DejaVuSans-48\"/>\n       <use x=\"147.412109\" xlink:href=\"#DejaVuSans-46\"/>\n       <use x=\"179.199219\" xlink:href=\"#DejaVuSans-48\"/>\n       <use x=\"242.822266\" xlink:href=\"#DejaVuSans-53\"/>\n       <use x=\"306.445312\" xlink:href=\"#DejaVuSans-48\"/>\n      </g>\n     </g>\n    </g>\n    <g id=\"ytick_4\">\n     <g id=\"line2d_12\">\n      <g>\n       <use style=\"stroke:#000000;stroke-width:0.8;\" x=\"302.652\" xlink:href=\"#mcc1e70c902\" y=\"146.899219\"/>\n      </g>\n     </g>\n     <g id=\"text_12\">\n      <!-- −0.025 -->\n      <defs>\n       <path d=\"M 19.1875 8.296875 \nL 53.609375 8.296875 \nL 53.609375 0 \nL 7.328125 0 \nL 7.328125 8.296875 \nQ 12.9375 14.109375 22.625 23.890625 \nQ 32.328125 33.6875 34.8125 36.53125 \nQ 39.546875 41.84375 41.421875 45.53125 \nQ 43.3125 49.21875 43.3125 52.78125 \nQ 43.3125 58.59375 39.234375 62.25 \nQ 35.15625 65.921875 28.609375 65.921875 \nQ 23.96875 65.921875 18.8125 64.3125 \nQ 13.671875 62.703125 7.8125 59.421875 \nL 7.8125 69.390625 \nQ 13.765625 71.78125 18.9375 73 \nQ 24.125 74.21875 28.421875 74.21875 \nQ 39.75 74.21875 46.484375 68.546875 \nQ 53.21875 62.890625 53.21875 53.421875 \nQ 53.21875 48.921875 51.53125 44.890625 \nQ 49.859375 40.875 45.40625 35.40625 \nQ 44.1875 33.984375 37.640625 27.21875 \nQ 31.109375 20.453125 19.1875 8.296875 \nz\n\" id=\"DejaVuSans-50\"/>\n      </defs>\n      <g transform=\"translate(309.652 150.698437)scale(0.1 -0.1)\">\n       <use xlink:href=\"#DejaVuSans-8722\"/>\n       <use x=\"83.789062\" xlink:href=\"#DejaVuSans-48\"/>\n       <use x=\"147.412109\" xlink:href=\"#DejaVuSans-46\"/>\n       <use x=\"179.199219\" xlink:href=\"#DejaVuSans-48\"/>\n       <use x=\"242.822266\" xlink:href=\"#DejaVuSans-50\"/>\n       <use x=\"306.445312\" xlink:href=\"#DejaVuSans-53\"/>\n      </g>\n     </g>\n    </g>\n    <g id=\"ytick_5\">\n     <g id=\"line2d_13\">\n      <g>\n       <use style=\"stroke:#000000;stroke-width:0.8;\" x=\"302.652\" xlink:href=\"#mcc1e70c902\" y=\"119.719219\"/>\n      </g>\n     </g>\n     <g id=\"text_13\">\n      <!-- 0.000 -->\n      <g transform=\"translate(309.652 123.518437)scale(0.1 -0.1)\">\n       <use xlink:href=\"#DejaVuSans-48\"/>\n       <use x=\"63.623047\" xlink:href=\"#DejaVuSans-46\"/>\n       <use x=\"95.410156\" xlink:href=\"#DejaVuSans-48\"/>\n       <use x=\"159.033203\" xlink:href=\"#DejaVuSans-48\"/>\n       <use x=\"222.65625\" xlink:href=\"#DejaVuSans-48\"/>\n      </g>\n     </g>\n    </g>\n    <g id=\"ytick_6\">\n     <g id=\"line2d_14\">\n      <g>\n       <use style=\"stroke:#000000;stroke-width:0.8;\" x=\"302.652\" xlink:href=\"#mcc1e70c902\" y=\"92.539219\"/>\n      </g>\n     </g>\n     <g id=\"text_14\">\n      <!-- 0.025 -->\n      <g transform=\"translate(309.652 96.338437)scale(0.1 -0.1)\">\n       <use xlink:href=\"#DejaVuSans-48\"/>\n       <use x=\"63.623047\" xlink:href=\"#DejaVuSans-46\"/>\n       <use x=\"95.410156\" xlink:href=\"#DejaVuSans-48\"/>\n       <use x=\"159.033203\" xlink:href=\"#DejaVuSans-50\"/>\n       <use x=\"222.65625\" xlink:href=\"#DejaVuSans-53\"/>\n      </g>\n     </g>\n    </g>\n    <g id=\"ytick_7\">\n     <g id=\"line2d_15\">\n      <g>\n       <use style=\"stroke:#000000;stroke-width:0.8;\" x=\"302.652\" xlink:href=\"#mcc1e70c902\" y=\"65.359219\"/>\n      </g>\n     </g>\n     <g id=\"text_15\">\n      <!-- 0.050 -->\n      <g transform=\"translate(309.652 69.158437)scale(0.1 -0.1)\">\n       <use xlink:href=\"#DejaVuSans-48\"/>\n       <use x=\"63.623047\" xlink:href=\"#DejaVuSans-46\"/>\n       <use x=\"95.410156\" xlink:href=\"#DejaVuSans-48\"/>\n       <use x=\"159.033203\" xlink:href=\"#DejaVuSans-53\"/>\n       <use x=\"222.65625\" xlink:href=\"#DejaVuSans-48\"/>\n      </g>\n     </g>\n    </g>\n    <g id=\"ytick_8\">\n     <g id=\"line2d_16\">\n      <g>\n       <use style=\"stroke:#000000;stroke-width:0.8;\" x=\"302.652\" xlink:href=\"#mcc1e70c902\" y=\"38.179219\"/>\n      </g>\n     </g>\n     <g id=\"text_16\">\n      <!-- 0.075 -->\n      <g transform=\"translate(309.652 41.978437)scale(0.1 -0.1)\">\n       <use xlink:href=\"#DejaVuSans-48\"/>\n       <use x=\"63.623047\" xlink:href=\"#DejaVuSans-46\"/>\n       <use x=\"95.410156\" xlink:href=\"#DejaVuSans-48\"/>\n       <use x=\"159.033203\" xlink:href=\"#DejaVuSans-55\"/>\n       <use x=\"222.65625\" xlink:href=\"#DejaVuSans-53\"/>\n      </g>\n     </g>\n    </g>\n    <g id=\"ytick_9\">\n     <g id=\"line2d_17\">\n      <g>\n       <use style=\"stroke:#000000;stroke-width:0.8;\" x=\"302.652\" xlink:href=\"#mcc1e70c902\" y=\"10.999219\"/>\n      </g>\n     </g>\n     <g id=\"text_17\">\n      <!-- 0.100 -->\n      <g transform=\"translate(309.652 14.798437)scale(0.1 -0.1)\">\n       <use xlink:href=\"#DejaVuSans-48\"/>\n       <use x=\"63.623047\" xlink:href=\"#DejaVuSans-46\"/>\n       <use x=\"95.410156\" xlink:href=\"#DejaVuSans-49\"/>\n       <use x=\"159.033203\" xlink:href=\"#DejaVuSans-48\"/>\n       <use x=\"222.65625\" xlink:href=\"#DejaVuSans-48\"/>\n      </g>\n     </g>\n    </g>\n   </g>\n   <g id=\"patch_4\">\n    <path d=\"M 291.78 228.439219 \nL 291.78 227.589844 \nL 291.78 11.848594 \nL 291.78 10.999219 \nL 302.652 10.999219 \nL 302.652 11.848594 \nL 302.652 227.589844 \nL 302.652 228.439219 \nz\n\" style=\"fill:none;\"/>\n   </g>\n  </g>\n </g>\n <defs>\n  <clipPath id=\"pef45a4b300\">\n   <rect height=\"217.44\" width=\"267.84\" x=\"7.2\" y=\"10.999219\"/>\n  </clipPath>\n  <clipPath id=\"p7c2d0cd802\">\n   <rect height=\"217.44\" width=\"10.872\" x=\"291.78\" y=\"10.999219\"/>\n  </clipPath>\n </defs>\n</svg>\n"
          },
          "metadata": {
            "needs_background": "light"
          }
        }
      ]
    },
    {
      "cell_type": "code",
      "metadata": {
        "colab": {
          "base_uri": "https://localhost:8080/"
        },
        "id": "OEMnaqWmmxDa",
        "outputId": "c42f385f-99d8-4379-dfc8-85baf618bc51"
      },
      "source": [
        "df['PulseRate']= df['PulseRate'].replace({'-' : '0'}, regex=True)\n",
        "df[\"PulseRate\"].fillna('0', inplace =True)\n",
        "len(df[\"PulseRate\"])"
      ],
      "execution_count": 83,
      "outputs": [
        {
          "output_type": "execute_result",
          "data": {
            "text/plain": [
              "41"
            ]
          },
          "metadata": {},
          "execution_count": 83
        }
      ]
    },
    {
      "cell_type": "code",
      "metadata": {
        "id": "X2pziQCOmyVd"
      },
      "source": [
        "def avgPulserate(df, firstname):\n",
        "  sumPulserate = 0\n",
        "  nsumPulserate = 0\n",
        "  for i, value in enumerate(df['Firstname']):\n",
        "    if value == firstname:\n",
        "      try:\n",
        "        if df['PulseRate'][i] !='0':\n",
        "          sumPulserate += int(df['PulseRate'].values[i])\n",
        "          nsumPulserate += 1\n",
        "      except:\n",
        "        pass\n",
        "  if nsumPulserate > 0:\n",
        "    return str(sumPulserate/nsumPulserate)\n",
        "  else:\n",
        "    return 0"
      ],
      "execution_count": 84,
      "outputs": []
    },
    {
      "cell_type": "code",
      "metadata": {
        "id": "iXSTzkJsmzfc"
      },
      "source": [
        "def isValidIndex1(index, nrows):\n",
        "  return index - 1 > 0 & index + 1 < nrows"
      ],
      "execution_count": 85,
      "outputs": []
    },
    {
      "cell_type": "code",
      "metadata": {
        "id": "D6YkK1fpm0vE"
      },
      "source": [
        "def isValidIndex2(index, nrows):\n",
        "  return index + 1 < nrows & index + 2 < nrows"
      ],
      "execution_count": 86,
      "outputs": []
    },
    {
      "cell_type": "code",
      "metadata": {
        "id": "pyklgGnkm1t7"
      },
      "source": [
        "def isPulseRateNotNull1(index, df):\n",
        "  return str(df['PulseRate'].values[index-1])!= '0' and str(df['PulseRate'].values[index+1])!= '0'"
      ],
      "execution_count": 87,
      "outputs": []
    },
    {
      "cell_type": "code",
      "metadata": {
        "id": "c7cin4ICm227"
      },
      "source": [
        "def isPulseRateNotNull2(index, df):\n",
        "  return str(df['PulseRate'].values[index+1])!= '0' and str(df['PulseRate'].values[index +2])!= '0'"
      ],
      "execution_count": 88,
      "outputs": []
    },
    {
      "cell_type": "code",
      "metadata": {
        "id": "H74gGcgZm7JL"
      },
      "source": [
        "def isInGroup1(df, index, firstname):\n",
        "  return df['Firstname'].values[index-1]== firstname and df['Firstname'].values[index +1]== firstname"
      ],
      "execution_count": 89,
      "outputs": []
    },
    {
      "cell_type": "code",
      "metadata": {
        "id": "04CDilIBm8ri"
      },
      "source": [
        "def isInGroup2(df, index, firstname):\n",
        "  return df['Firstname'].values[index+1]== firstname and df['Firstname'].values[index +2]== firstname"
      ],
      "execution_count": 90,
      "outputs": []
    },
    {
      "cell_type": "code",
      "metadata": {
        "id": "DYd0sDT3m-lr"
      },
      "source": [
        "def updatePulseRatena (index, df):\n",
        "  nrows = len(df['PulseRate']) -2\n",
        "  newvalue = ''\n",
        "  firstname = df['Firstname'].values[index]\n",
        "  try:\n",
        "    if isValidIndex1(index,nrows) & isPulseRateNotNull1(index, df) & isInGroup1(df, index, firstname):\n",
        "      try: \n",
        "        newvalue = (int(df['PulseRate'].values[index-1]) + int(df['PulseRate'].values[index+1]))/2\n",
        "      except:\n",
        "        newvalue = '0'\n",
        "    elif isValidIndex2(index,nrows) & isPulseRateNotNull2(index, df) & isInGroup2(df, index, firstname):\n",
        "      try:\n",
        "        newvalue = (int(df['PulseRate'].values[index-1]) + int(df['PulseRate'].values[index+1]))/2\n",
        "      except:\n",
        "        newvalue ='0'\n",
        "    else:\n",
        "      newvalue = avgPulserate(df, firstname)\n",
        "  except:\n",
        "      newvalue = avgPulserate(df, firstname)\n",
        "  finally:\n",
        "    pass\n",
        "  return newvalue"
      ],
      "execution_count": 91,
      "outputs": []
    },
    {
      "cell_type": "code",
      "metadata": {
        "colab": {
          "base_uri": "https://localhost:8080/"
        },
        "id": "NfKLAjMpm_Kb",
        "outputId": "c30d8f97-ec43-4ad7-fa6c-7b3c154ba250"
      },
      "source": [
        "len(df[\"PulseRate\"])"
      ],
      "execution_count": 92,
      "outputs": [
        {
          "output_type": "execute_result",
          "data": {
            "text/plain": [
              "41"
            ]
          },
          "metadata": {},
          "execution_count": 92
        }
      ]
    },
    {
      "cell_type": "code",
      "metadata": {
        "id": "X-Jy8ieZnApt"
      },
      "source": [
        "pulserateupdate = []\n",
        "for index, value in enumerate(df[\"PulseRate\"]):\n",
        "  if value =='0' or value == '':\n",
        "    newvalue = updatePulseRatena(index,df)\n",
        "    pulserateupdate.append(newvalue)\n",
        "  else:\n",
        "    pulserateupdate.append(value)"
      ],
      "execution_count": 93,
      "outputs": []
    },
    {
      "cell_type": "code",
      "metadata": {
        "id": "xNPhuuO0nCIM"
      },
      "source": [
        "\n",
        "df[\"PulseRateUpdate\"] = pulserateupdate"
      ],
      "execution_count": 94,
      "outputs": []
    },
    {
      "cell_type": "code",
      "metadata": {
        "colab": {
          "base_uri": "https://localhost:8080/"
        },
        "id": "uxjmiU0GnEPk",
        "outputId": "03ed1565-8493-4199-e05e-f8d96fde7d74"
      },
      "source": [
        "len(df[\"PulseRateUpdate\"])"
      ],
      "execution_count": 95,
      "outputs": [
        {
          "output_type": "execute_result",
          "data": {
            "text/plain": [
              "41"
            ]
          },
          "metadata": {},
          "execution_count": 95
        }
      ]
    },
    {
      "cell_type": "code",
      "metadata": {
        "colab": {
          "base_uri": "https://localhost:8080/",
          "height": 1000
        },
        "id": "nqrAteAinFP8",
        "outputId": "1ef7ee35-6fd0-4ddd-a1ba-3989f74a97c5"
      },
      "source": [
        "df"
      ],
      "execution_count": 96,
      "outputs": [
        {
          "output_type": "execute_result",
          "data": {
            "text/html": [
              "<div>\n",
              "<style scoped>\n",
              "    .dataframe tbody tr th:only-of-type {\n",
              "        vertical-align: middle;\n",
              "    }\n",
              "\n",
              "    .dataframe tbody tr th {\n",
              "        vertical-align: top;\n",
              "    }\n",
              "\n",
              "    .dataframe thead th {\n",
              "        text-align: right;\n",
              "    }\n",
              "</style>\n",
              "<table border=\"1\" class=\"dataframe\">\n",
              "  <thead>\n",
              "    <tr style=\"text-align: right;\">\n",
              "      <th></th>\n",
              "      <th>ID</th>\n",
              "      <th>Age</th>\n",
              "      <th>Weight</th>\n",
              "      <th>Firstname</th>\n",
              "      <th>Lastname</th>\n",
              "      <th>PulseRate</th>\n",
              "      <th>Sex</th>\n",
              "      <th>Time</th>\n",
              "      <th>PulseRateUpdate</th>\n",
              "    </tr>\n",
              "  </thead>\n",
              "  <tbody>\n",
              "    <tr>\n",
              "      <th>12</th>\n",
              "      <td>1.0</td>\n",
              "      <td>56.0</td>\n",
              "      <td>70kgs</td>\n",
              "      <td>Micky</td>\n",
              "      <td>Mousé</td>\n",
              "      <td>72</td>\n",
              "      <td>m</td>\n",
              "      <td>00-06</td>\n",
              "      <td>72</td>\n",
              "    </tr>\n",
              "    <tr>\n",
              "      <th>24</th>\n",
              "      <td>1.0</td>\n",
              "      <td>56.0</td>\n",
              "      <td>70kgs</td>\n",
              "      <td>Micky</td>\n",
              "      <td>Mousé</td>\n",
              "      <td>69</td>\n",
              "      <td>m</td>\n",
              "      <td>06-12</td>\n",
              "      <td>69</td>\n",
              "    </tr>\n",
              "    <tr>\n",
              "      <th>36</th>\n",
              "      <td>1.0</td>\n",
              "      <td>56.0</td>\n",
              "      <td>70kgs</td>\n",
              "      <td>Micky</td>\n",
              "      <td>Mousé</td>\n",
              "      <td>71</td>\n",
              "      <td>m</td>\n",
              "      <td>12-18</td>\n",
              "      <td>71</td>\n",
              "    </tr>\n",
              "    <tr>\n",
              "      <th>48</th>\n",
              "      <td>1.0</td>\n",
              "      <td>56.0</td>\n",
              "      <td>70kgs</td>\n",
              "      <td>Micky</td>\n",
              "      <td>Mousé</td>\n",
              "      <td>0</td>\n",
              "      <td>f</td>\n",
              "      <td>0-06</td>\n",
              "      <td>0</td>\n",
              "    </tr>\n",
              "    <tr>\n",
              "      <th>60</th>\n",
              "      <td>1.0</td>\n",
              "      <td>56.0</td>\n",
              "      <td>70kgs</td>\n",
              "      <td>Micky</td>\n",
              "      <td>Mousé</td>\n",
              "      <td>0</td>\n",
              "      <td>f</td>\n",
              "      <td>06-12</td>\n",
              "      <td>0</td>\n",
              "    </tr>\n",
              "    <tr>\n",
              "      <th>72</th>\n",
              "      <td>1.0</td>\n",
              "      <td>56.0</td>\n",
              "      <td>70kgs</td>\n",
              "      <td>Micky</td>\n",
              "      <td>Mousé</td>\n",
              "      <td>0</td>\n",
              "      <td>f</td>\n",
              "      <td>12-18</td>\n",
              "      <td>0</td>\n",
              "    </tr>\n",
              "    <tr>\n",
              "      <th>13</th>\n",
              "      <td>2.0</td>\n",
              "      <td>34.0</td>\n",
              "      <td>70kgs</td>\n",
              "      <td>Donald</td>\n",
              "      <td>Duck</td>\n",
              "      <td>0</td>\n",
              "      <td>m</td>\n",
              "      <td>00-06</td>\n",
              "      <td>0</td>\n",
              "    </tr>\n",
              "    <tr>\n",
              "      <th>25</th>\n",
              "      <td>2.0</td>\n",
              "      <td>34.0</td>\n",
              "      <td>70kgs</td>\n",
              "      <td>Donald</td>\n",
              "      <td>Duck</td>\n",
              "      <td>0</td>\n",
              "      <td>m</td>\n",
              "      <td>06-12</td>\n",
              "      <td>0</td>\n",
              "    </tr>\n",
              "    <tr>\n",
              "      <th>37</th>\n",
              "      <td>2.0</td>\n",
              "      <td>34.0</td>\n",
              "      <td>70kgs</td>\n",
              "      <td>Donald</td>\n",
              "      <td>Duck</td>\n",
              "      <td>0</td>\n",
              "      <td>m</td>\n",
              "      <td>12-18</td>\n",
              "      <td>0</td>\n",
              "    </tr>\n",
              "    <tr>\n",
              "      <th>49</th>\n",
              "      <td>2.0</td>\n",
              "      <td>34.0</td>\n",
              "      <td>70kgs</td>\n",
              "      <td>Donald</td>\n",
              "      <td>Duck</td>\n",
              "      <td>85</td>\n",
              "      <td>f</td>\n",
              "      <td>0-06</td>\n",
              "      <td>85</td>\n",
              "    </tr>\n",
              "    <tr>\n",
              "      <th>61</th>\n",
              "      <td>2.0</td>\n",
              "      <td>34.0</td>\n",
              "      <td>70kgs</td>\n",
              "      <td>Donald</td>\n",
              "      <td>Duck</td>\n",
              "      <td>84</td>\n",
              "      <td>f</td>\n",
              "      <td>06-12</td>\n",
              "      <td>84</td>\n",
              "    </tr>\n",
              "    <tr>\n",
              "      <th>73</th>\n",
              "      <td>2.0</td>\n",
              "      <td>34.0</td>\n",
              "      <td>70kgs</td>\n",
              "      <td>Donald</td>\n",
              "      <td>Duck</td>\n",
              "      <td>76</td>\n",
              "      <td>f</td>\n",
              "      <td>12-18</td>\n",
              "      <td>76</td>\n",
              "    </tr>\n",
              "    <tr>\n",
              "      <th>16</th>\n",
              "      <td>5.0</td>\n",
              "      <td>54.0</td>\n",
              "      <td>90kgs</td>\n",
              "      <td>Pink</td>\n",
              "      <td>Panther</td>\n",
              "      <td>0</td>\n",
              "      <td>m</td>\n",
              "      <td>00-06</td>\n",
              "      <td>0.0</td>\n",
              "    </tr>\n",
              "    <tr>\n",
              "      <th>28</th>\n",
              "      <td>5.0</td>\n",
              "      <td>54.0</td>\n",
              "      <td>90kgs</td>\n",
              "      <td>Pink</td>\n",
              "      <td>Panther</td>\n",
              "      <td>0</td>\n",
              "      <td>m</td>\n",
              "      <td>06-12</td>\n",
              "      <td>0.0</td>\n",
              "    </tr>\n",
              "    <tr>\n",
              "      <th>40</th>\n",
              "      <td>5.0</td>\n",
              "      <td>54.0</td>\n",
              "      <td>90kgs</td>\n",
              "      <td>Pink</td>\n",
              "      <td>Panther</td>\n",
              "      <td>0</td>\n",
              "      <td>m</td>\n",
              "      <td>12-18</td>\n",
              "      <td>0.0</td>\n",
              "    </tr>\n",
              "    <tr>\n",
              "      <th>52</th>\n",
              "      <td>5.0</td>\n",
              "      <td>54.0</td>\n",
              "      <td>90kgs</td>\n",
              "      <td>Pink</td>\n",
              "      <td>Panther</td>\n",
              "      <td>69</td>\n",
              "      <td>f</td>\n",
              "      <td>0-06</td>\n",
              "      <td>69</td>\n",
              "    </tr>\n",
              "    <tr>\n",
              "      <th>76</th>\n",
              "      <td>5.0</td>\n",
              "      <td>54.0</td>\n",
              "      <td>90kgs</td>\n",
              "      <td>Pink</td>\n",
              "      <td>Panther</td>\n",
              "      <td>75</td>\n",
              "      <td>f</td>\n",
              "      <td>12-18</td>\n",
              "      <td>75</td>\n",
              "    </tr>\n",
              "    <tr>\n",
              "      <th>17</th>\n",
              "      <td>6.0</td>\n",
              "      <td>52.0</td>\n",
              "      <td>85kgs</td>\n",
              "      <td>Huey</td>\n",
              "      <td>McDuck</td>\n",
              "      <td>0</td>\n",
              "      <td>m</td>\n",
              "      <td>00-06</td>\n",
              "      <td>0.0</td>\n",
              "    </tr>\n",
              "    <tr>\n",
              "      <th>29</th>\n",
              "      <td>6.0</td>\n",
              "      <td>52.0</td>\n",
              "      <td>85kgs</td>\n",
              "      <td>Huey</td>\n",
              "      <td>McDuck</td>\n",
              "      <td>0</td>\n",
              "      <td>m</td>\n",
              "      <td>06-12</td>\n",
              "      <td>0.0</td>\n",
              "    </tr>\n",
              "    <tr>\n",
              "      <th>41</th>\n",
              "      <td>6.0</td>\n",
              "      <td>52.0</td>\n",
              "      <td>85kgs</td>\n",
              "      <td>Huey</td>\n",
              "      <td>McDuck</td>\n",
              "      <td>0</td>\n",
              "      <td>m</td>\n",
              "      <td>12-18</td>\n",
              "      <td>0.0</td>\n",
              "    </tr>\n",
              "    <tr>\n",
              "      <th>53</th>\n",
              "      <td>6.0</td>\n",
              "      <td>52.0</td>\n",
              "      <td>85kgs</td>\n",
              "      <td>Huey</td>\n",
              "      <td>McDuck</td>\n",
              "      <td>68</td>\n",
              "      <td>f</td>\n",
              "      <td>0-06</td>\n",
              "      <td>68</td>\n",
              "    </tr>\n",
              "    <tr>\n",
              "      <th>65</th>\n",
              "      <td>6.0</td>\n",
              "      <td>52.0</td>\n",
              "      <td>85kgs</td>\n",
              "      <td>Huey</td>\n",
              "      <td>McDuck</td>\n",
              "      <td>75</td>\n",
              "      <td>f</td>\n",
              "      <td>06-12</td>\n",
              "      <td>75</td>\n",
              "    </tr>\n",
              "    <tr>\n",
              "      <th>77</th>\n",
              "      <td>6.0</td>\n",
              "      <td>52.0</td>\n",
              "      <td>85kgs</td>\n",
              "      <td>Huey</td>\n",
              "      <td>McDuck</td>\n",
              "      <td>72</td>\n",
              "      <td>f</td>\n",
              "      <td>12-18</td>\n",
              "      <td>72</td>\n",
              "    </tr>\n",
              "    <tr>\n",
              "      <th>18</th>\n",
              "      <td>7.0</td>\n",
              "      <td>19.0</td>\n",
              "      <td>56kgs</td>\n",
              "      <td>Dewey</td>\n",
              "      <td>McDuck</td>\n",
              "      <td>0</td>\n",
              "      <td>m</td>\n",
              "      <td>00-06</td>\n",
              "      <td>0.0</td>\n",
              "    </tr>\n",
              "    <tr>\n",
              "      <th>30</th>\n",
              "      <td>7.0</td>\n",
              "      <td>19.0</td>\n",
              "      <td>56kgs</td>\n",
              "      <td>Dewey</td>\n",
              "      <td>McDuck</td>\n",
              "      <td>0</td>\n",
              "      <td>m</td>\n",
              "      <td>06-12</td>\n",
              "      <td>0.0</td>\n",
              "    </tr>\n",
              "    <tr>\n",
              "      <th>42</th>\n",
              "      <td>7.0</td>\n",
              "      <td>19.0</td>\n",
              "      <td>56kgs</td>\n",
              "      <td>Dewey</td>\n",
              "      <td>McDuck</td>\n",
              "      <td>0</td>\n",
              "      <td>m</td>\n",
              "      <td>12-18</td>\n",
              "      <td>0.0</td>\n",
              "    </tr>\n",
              "    <tr>\n",
              "      <th>54</th>\n",
              "      <td>7.0</td>\n",
              "      <td>19.0</td>\n",
              "      <td>56kgs</td>\n",
              "      <td>Dewey</td>\n",
              "      <td>McDuck</td>\n",
              "      <td>71</td>\n",
              "      <td>f</td>\n",
              "      <td>0-06</td>\n",
              "      <td>71</td>\n",
              "    </tr>\n",
              "    <tr>\n",
              "      <th>66</th>\n",
              "      <td>7.0</td>\n",
              "      <td>19.0</td>\n",
              "      <td>56kgs</td>\n",
              "      <td>Dewey</td>\n",
              "      <td>McDuck</td>\n",
              "      <td>78</td>\n",
              "      <td>f</td>\n",
              "      <td>06-12</td>\n",
              "      <td>78</td>\n",
              "    </tr>\n",
              "    <tr>\n",
              "      <th>78</th>\n",
              "      <td>7.0</td>\n",
              "      <td>19.0</td>\n",
              "      <td>56kgs</td>\n",
              "      <td>Dewey</td>\n",
              "      <td>McDuck</td>\n",
              "      <td>75</td>\n",
              "      <td>f</td>\n",
              "      <td>12-18</td>\n",
              "      <td>75</td>\n",
              "    </tr>\n",
              "    <tr>\n",
              "      <th>19</th>\n",
              "      <td>8.0</td>\n",
              "      <td>32.0</td>\n",
              "      <td>78kgs</td>\n",
              "      <td>Scpy</td>\n",
              "      <td>Doo</td>\n",
              "      <td>78</td>\n",
              "      <td>m</td>\n",
              "      <td>00-06</td>\n",
              "      <td>78</td>\n",
              "    </tr>\n",
              "    <tr>\n",
              "      <th>31</th>\n",
              "      <td>8.0</td>\n",
              "      <td>32.0</td>\n",
              "      <td>78kgs</td>\n",
              "      <td>Scpy</td>\n",
              "      <td>Doo</td>\n",
              "      <td>76</td>\n",
              "      <td>m</td>\n",
              "      <td>06-12</td>\n",
              "      <td>76</td>\n",
              "    </tr>\n",
              "    <tr>\n",
              "      <th>43</th>\n",
              "      <td>8.0</td>\n",
              "      <td>32.0</td>\n",
              "      <td>78kgs</td>\n",
              "      <td>Scpy</td>\n",
              "      <td>Doo</td>\n",
              "      <td>75</td>\n",
              "      <td>m</td>\n",
              "      <td>12-18</td>\n",
              "      <td>75</td>\n",
              "    </tr>\n",
              "    <tr>\n",
              "      <th>55</th>\n",
              "      <td>8.0</td>\n",
              "      <td>32.0</td>\n",
              "      <td>78kgs</td>\n",
              "      <td>Scpy</td>\n",
              "      <td>Doo</td>\n",
              "      <td>0</td>\n",
              "      <td>f</td>\n",
              "      <td>0-06</td>\n",
              "      <td>75.0</td>\n",
              "    </tr>\n",
              "    <tr>\n",
              "      <th>67</th>\n",
              "      <td>8.0</td>\n",
              "      <td>32.0</td>\n",
              "      <td>78kgs</td>\n",
              "      <td>Scpy</td>\n",
              "      <td>Doo</td>\n",
              "      <td>0</td>\n",
              "      <td>f</td>\n",
              "      <td>06-12</td>\n",
              "      <td>75.0</td>\n",
              "    </tr>\n",
              "    <tr>\n",
              "      <th>79</th>\n",
              "      <td>8.0</td>\n",
              "      <td>32.0</td>\n",
              "      <td>78kgs</td>\n",
              "      <td>Scpy</td>\n",
              "      <td>Doo</td>\n",
              "      <td>0</td>\n",
              "      <td>f</td>\n",
              "      <td>12-18</td>\n",
              "      <td>75.0</td>\n",
              "    </tr>\n",
              "    <tr>\n",
              "      <th>20</th>\n",
              "      <td>10.0</td>\n",
              "      <td>12.0</td>\n",
              "      <td>45kgs</td>\n",
              "      <td>Louie</td>\n",
              "      <td>McDuck</td>\n",
              "      <td>0</td>\n",
              "      <td>m</td>\n",
              "      <td>00-06</td>\n",
              "      <td>0.0</td>\n",
              "    </tr>\n",
              "    <tr>\n",
              "      <th>32</th>\n",
              "      <td>10.0</td>\n",
              "      <td>12.0</td>\n",
              "      <td>45kgs</td>\n",
              "      <td>Louie</td>\n",
              "      <td>McDuck</td>\n",
              "      <td>0</td>\n",
              "      <td>m</td>\n",
              "      <td>06-12</td>\n",
              "      <td>0.0</td>\n",
              "    </tr>\n",
              "    <tr>\n",
              "      <th>44</th>\n",
              "      <td>10.0</td>\n",
              "      <td>12.0</td>\n",
              "      <td>45kgs</td>\n",
              "      <td>Louie</td>\n",
              "      <td>McDuck</td>\n",
              "      <td>0</td>\n",
              "      <td>m</td>\n",
              "      <td>12-18</td>\n",
              "      <td>0.0</td>\n",
              "    </tr>\n",
              "    <tr>\n",
              "      <th>56</th>\n",
              "      <td>10.0</td>\n",
              "      <td>12.0</td>\n",
              "      <td>45kgs</td>\n",
              "      <td>Louie</td>\n",
              "      <td>McDuck</td>\n",
              "      <td>92</td>\n",
              "      <td>f</td>\n",
              "      <td>0-06</td>\n",
              "      <td>92</td>\n",
              "    </tr>\n",
              "    <tr>\n",
              "      <th>68</th>\n",
              "      <td>10.0</td>\n",
              "      <td>12.0</td>\n",
              "      <td>45kgs</td>\n",
              "      <td>Louie</td>\n",
              "      <td>McDuck</td>\n",
              "      <td>95</td>\n",
              "      <td>f</td>\n",
              "      <td>06-12</td>\n",
              "      <td>95</td>\n",
              "    </tr>\n",
              "    <tr>\n",
              "      <th>80</th>\n",
              "      <td>10.0</td>\n",
              "      <td>12.0</td>\n",
              "      <td>45kgs</td>\n",
              "      <td>Louie</td>\n",
              "      <td>McDuck</td>\n",
              "      <td>87</td>\n",
              "      <td>f</td>\n",
              "      <td>12-18</td>\n",
              "      <td>87</td>\n",
              "    </tr>\n",
              "  </tbody>\n",
              "</table>\n",
              "</div>"
            ],
            "text/plain": [
              "      ID   Age Weight Firstname Lastname PulseRate Sex   Time PulseRateUpdate\n",
              "12   1.0  56.0  70kgs     Micky    Mousé        72   m  00-06              72\n",
              "24   1.0  56.0  70kgs     Micky    Mousé        69   m  06-12              69\n",
              "36   1.0  56.0  70kgs     Micky    Mousé        71   m  12-18              71\n",
              "48   1.0  56.0  70kgs     Micky    Mousé         0   f   0-06               0\n",
              "60   1.0  56.0  70kgs     Micky    Mousé         0   f  06-12               0\n",
              "72   1.0  56.0  70kgs     Micky    Mousé         0   f  12-18               0\n",
              "13   2.0  34.0  70kgs    Donald     Duck         0   m  00-06               0\n",
              "25   2.0  34.0  70kgs    Donald     Duck         0   m  06-12               0\n",
              "37   2.0  34.0  70kgs    Donald     Duck         0   m  12-18               0\n",
              "49   2.0  34.0  70kgs    Donald     Duck        85   f   0-06              85\n",
              "61   2.0  34.0  70kgs    Donald     Duck        84   f  06-12              84\n",
              "73   2.0  34.0  70kgs    Donald     Duck        76   f  12-18              76\n",
              "16   5.0  54.0  90kgs      Pink  Panther         0   m  00-06             0.0\n",
              "28   5.0  54.0  90kgs      Pink  Panther         0   m  06-12             0.0\n",
              "40   5.0  54.0  90kgs      Pink  Panther         0   m  12-18             0.0\n",
              "52   5.0  54.0  90kgs      Pink  Panther        69   f   0-06              69\n",
              "76   5.0  54.0  90kgs      Pink  Panther        75   f  12-18              75\n",
              "17   6.0  52.0  85kgs      Huey   McDuck         0   m  00-06             0.0\n",
              "29   6.0  52.0  85kgs      Huey   McDuck         0   m  06-12             0.0\n",
              "41   6.0  52.0  85kgs      Huey   McDuck         0   m  12-18             0.0\n",
              "53   6.0  52.0  85kgs      Huey   McDuck        68   f   0-06              68\n",
              "65   6.0  52.0  85kgs      Huey   McDuck        75   f  06-12              75\n",
              "77   6.0  52.0  85kgs      Huey   McDuck        72   f  12-18              72\n",
              "18   7.0  19.0  56kgs     Dewey   McDuck         0   m  00-06             0.0\n",
              "30   7.0  19.0  56kgs     Dewey   McDuck         0   m  06-12             0.0\n",
              "42   7.0  19.0  56kgs     Dewey   McDuck         0   m  12-18             0.0\n",
              "54   7.0  19.0  56kgs     Dewey   McDuck        71   f   0-06              71\n",
              "66   7.0  19.0  56kgs     Dewey   McDuck        78   f  06-12              78\n",
              "78   7.0  19.0  56kgs     Dewey   McDuck        75   f  12-18              75\n",
              "19   8.0  32.0  78kgs      Scpy      Doo        78   m  00-06              78\n",
              "31   8.0  32.0  78kgs      Scpy      Doo        76   m  06-12              76\n",
              "43   8.0  32.0  78kgs      Scpy      Doo        75   m  12-18              75\n",
              "55   8.0  32.0  78kgs      Scpy      Doo         0   f   0-06            75.0\n",
              "67   8.0  32.0  78kgs      Scpy      Doo         0   f  06-12            75.0\n",
              "79   8.0  32.0  78kgs      Scpy      Doo         0   f  12-18            75.0\n",
              "20  10.0  12.0  45kgs     Louie   McDuck         0   m  00-06             0.0\n",
              "32  10.0  12.0  45kgs     Louie   McDuck         0   m  06-12             0.0\n",
              "44  10.0  12.0  45kgs     Louie   McDuck         0   m  12-18             0.0\n",
              "56  10.0  12.0  45kgs     Louie   McDuck        92   f   0-06              92\n",
              "68  10.0  12.0  45kgs     Louie   McDuck        95   f  06-12              95\n",
              "80  10.0  12.0  45kgs     Louie   McDuck        87   f  12-18              87"
            ]
          },
          "metadata": {},
          "execution_count": 96
        }
      ]
    }
  ]
}